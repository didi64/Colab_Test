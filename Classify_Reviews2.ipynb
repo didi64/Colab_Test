{
  "nbformat": 4,
  "nbformat_minor": 0,
  "metadata": {
    "colab": {
      "provenance": [],
      "gpuType": "T4",
      "authorship_tag": "ABX9TyP1ap2J1cAtEu/JoLK08Xyp",
      "include_colab_link": true
    },
    "kernelspec": {
      "name": "python3",
      "display_name": "Python 3"
    },
    "language_info": {
      "name": "python"
    },
    "accelerator": "GPU"
  },
  "cells": [
    {
      "cell_type": "markdown",
      "metadata": {
        "id": "view-in-github",
        "colab_type": "text"
      },
      "source": [
        "<a href=\"https://colab.research.google.com/github/didi64/Colab_Test/blob/main/Classify_Reviews2.ipynb\" target=\"_parent\"><img src=\"https://colab.research.google.com/assets/colab-badge.svg\" alt=\"Open In Colab\"/></a>"
      ]
    },
    {
      "cell_type": "markdown",
      "source": [
        "### Load the cleaned reviews and train an LSTM-model"
      ],
      "metadata": {
        "id": "8LMKuWsqK3nt"
      }
    },
    {
      "cell_type": "code",
      "execution_count": 1,
      "metadata": {
        "colab": {
          "base_uri": "https://localhost:8080/"
        },
        "id": "9dXRgHF-nNaJ",
        "outputId": "69ea50e6-1a6c-49b9-e24d-72b675180973"
      },
      "outputs": [
        {
          "output_type": "stream",
          "name": "stdout",
          "text": [
            "Mounted at /content/drive\n"
          ]
        }
      ],
      "source": [
        "import os, sys\n",
        "from google.colab import drive\n",
        "ROOT = '/content/drive/MyDrive/CAS_Gregi/'\n",
        "MODULE_PATH = 'CO_modules/'\n",
        "MODEL_PATH  = 'My_Models/'\n",
        "\n",
        "IMPORT_PATH_SYMLINK = {'link': '/content/modules', 'target': ROOT + MODULE_PATH}\n",
        "\n",
        "drive.mount('/content/drive', force_remount=False)\n",
        "if not os.path.exists(IMPORT_PATH_SYMLINK['link']):\n",
        "    os.symlink(IMPORT_PATH_SYMLINK['target'], IMPORT_PATH_SYMLINK['link'])\n",
        "if IMPORT_PATH_SYMLINK['link'] not in sys.path:\n",
        "    sys.path.insert(0, IMPORT_PATH_SYMLINK['link'])"
      ]
    },
    {
      "cell_type": "code",
      "source": [
        "2!ls -l {IMPORT_PATH_SYMLINK['link']}\n",
        "!ls /content $ROOT /content/drive {IMPORT_PATH_SYMLINK['link']}"
      ],
      "metadata": {
        "id": "iRED4e1XBIDY"
      },
      "execution_count": null,
      "outputs": []
    },
    {
      "cell_type": "code",
      "source": [
        "import pickle\n",
        "with open(ROOT + 'data/hotelreviews_cleaned_train_test_spell.pkl','rb') as f:\n",
        "    data_train, data_test = pickle.load(f)"
      ],
      "metadata": {
        "id": "1vIHgPwxnWNA"
      },
      "execution_count": 2,
      "outputs": []
    },
    {
      "cell_type": "code",
      "source": [
        "import random\n",
        "import numpy as np\n",
        "import tensorflow as tf\n",
        "from functools import reduce"
      ],
      "metadata": {
        "id": "CG5uUG2knoQC"
      },
      "execution_count": 3,
      "outputs": []
    },
    {
      "cell_type": "code",
      "source": [
        "def fix_shape(text):\n",
        "    return tf.constant(text, shape = (1,))\n",
        "\n",
        "def get_dataset(d):\n",
        "    ''' get dataset from dict {score: list_of_revies,...}'''\n",
        "    # list of tuples [(score, review),...]\n",
        "    all_reviews = reduce(lambda x,y: x + y, [[(r, k) for k,v in d.items() for r in v]])\n",
        "    random.shuffle(all_reviews)\n",
        "    reviews = tf.constant([r for r,_ in all_reviews], shape=(len(all_reviews), 1))\n",
        "    gpt_scores  = tf.constant([s - 1 for _, s in all_reviews])\n",
        "\n",
        "    n = len(reviews)\n",
        "    ds = tf.data.Dataset.from_tensor_slices((reviews[:n], gpt_scores[:n]))\n",
        "    return ds\n",
        "\n",
        "def batch(ds, batch_size = 32):\n",
        "    xs, ys =  next(iter(ds))\n",
        "    if xs.shape == () or xs.shape[0] == 1:\n",
        "        ds = ds.batch(batch_size)\n",
        "    return ds\n",
        "\n",
        "def test_model(model, ds):\n",
        "    i = 0\n",
        "    for xs, _ in iter(ds):\n",
        "        i += 1\n",
        "        if (i %10) ==0:\n",
        "            print(i, end = ', ')\n",
        "        model(xs)"
      ],
      "metadata": {
        "id": "pcfrpwo-oBSa"
      },
      "execution_count": 4,
      "outputs": []
    },
    {
      "cell_type": "code",
      "source": [
        "ds_train = batch(get_dataset(data_train))\n",
        "ds_test  = batch(get_dataset(data_test))"
      ],
      "metadata": {
        "id": "90g9QwfIp1pC"
      },
      "execution_count": 5,
      "outputs": []
    },
    {
      "cell_type": "code",
      "source": [
        "all_reviews = reduce(lambda x,y: x + y, [[(r, k) for d in (data_train, data_test) for k,v in d.items() for r in v]])\n",
        "WORDS = reduce(lambda x,y:x|y, [set(x[0].split()) for x in all_reviews])"
      ],
      "metadata": {
        "id": "f31svtLJqCgy"
      },
      "execution_count": 6,
      "outputs": []
    },
    {
      "cell_type": "code",
      "source": [
        "# Vocab Size, number of review, fraction of reviews with more than 200 words\n",
        "len(WORDS), len(all_reviews), len([nwords for x in all_reviews if (nwords := len(x[0].split())) > 200])/len(all_reviews)"
      ],
      "metadata": {
        "colab": {
          "base_uri": "https://localhost:8080/"
        },
        "id": "RPcDw3KGqfz0",
        "outputId": "dc9343d1-6d60-41fd-f66c-65688bd2121d"
      },
      "execution_count": 7,
      "outputs": [
        {
          "output_type": "execute_result",
          "data": {
            "text/plain": [
              "(9033, 6000, 0.029)"
            ]
          },
          "metadata": {},
          "execution_count": 7
        }
      ]
    },
    {
      "cell_type": "code",
      "source": [],
      "metadata": {
        "id": "B97JfqHQQSJd"
      },
      "execution_count": 7,
      "outputs": []
    },
    {
      "cell_type": "code",
      "source": [
        "# standardization: one element of  standardizations or a callable mapping strings to strings\n",
        "standardizations = [None, \"lower_and_strip_punctuation\", \"lower\", \"strip_punctuation\"]\n",
        "max_tokens = len(WORDS) + 2 # number of words plus the tokens '' and '[UNK]'\n",
        "ngrams = None\n",
        "sequence_length = 200\n",
        "\n",
        "tv_layer = tf.keras.layers.TextVectorization(\n",
        "    max_tokens = max_tokens,\n",
        "    standardize = standardizations[0],\n",
        "    ngrams=ngrams,\n",
        "    output_mode='int',\n",
        "    output_sequence_length = sequence_length,\n",
        "    pad_to_max_tokens=True,\n",
        ")"
      ],
      "metadata": {
        "id": "JoS_4NYuq2Gz"
      },
      "execution_count": 8,
      "outputs": []
    },
    {
      "cell_type": "code",
      "source": [
        "tv_layer.adapt([r[0] for r in all_reviews])\n",
        "vocab = tv_layer.get_vocabulary()\n",
        "len(vocab),  vocab[:5]# max_tokens"
      ],
      "metadata": {
        "colab": {
          "base_uri": "https://localhost:8080/"
        },
        "id": "0BYO96FPrnf1",
        "outputId": "ddaef0da-bb92-41fc-85a0-0e11a89c03ba"
      },
      "execution_count": 9,
      "outputs": [
        {
          "output_type": "execute_result",
          "data": {
            "text/plain": [
              "(9035, ['', '[UNK]', 'the', 'and', 'was'])"
            ]
          },
          "metadata": {},
          "execution_count": 9
        }
      ]
    },
    {
      "cell_type": "code",
      "source": [
        "tv_layer(data_train[3][30])"
      ],
      "metadata": {
        "colab": {
          "base_uri": "https://localhost:8080/"
        },
        "id": "QhyvW7rFr3k1",
        "outputId": "80dda38c-f3f7-40e4-ed01-7b96fe7effbb"
      },
      "execution_count": 10,
      "outputs": [
        {
          "output_type": "execute_result",
          "data": {
            "text/plain": [
              "<tf.Tensor: shape=(200,), dtype=int64, numpy=\n",
              "array([  16,    8,  436,   82,  163,    5,  365,  222,   37,   21,    2,\n",
              "        377,  259,   36,   20,    5,  276,   10,  104, 2640,   21,    2,\n",
              "        377,  466,   16,   20,  528,    2,  207,   55,    5,  118,  275,\n",
              "          3,   44,  105,  210,  192, 1695,    6,  316,    8,    2,  115,\n",
              "          7,   13,    2,   94,   25,   65,  264,   42,  367,    3,  586,\n",
              "          5,  664,    4,  392,    8,    2,    7,   36,   14,   40, 1155,\n",
              "        107,  316,   17,  429,   29,  296,    5,  531,    3,    5,  357,\n",
              "        113,   28,   89,   28,  291,  398,    6, 4099,    5, 1109, 3744,\n",
              "          2,    7,    4,   52,    3,  722,    3,    2,   41,    4,   98,\n",
              "         30,  106,  544,    8,    2,   67,    3,  738,  585, 1656,    0,\n",
              "          0,    0,    0,    0,    0,    0,    0,    0,    0,    0,    0,\n",
              "          0,    0,    0,    0,    0,    0,    0,    0,    0,    0,    0,\n",
              "          0,    0,    0,    0,    0,    0,    0,    0,    0,    0,    0,\n",
              "          0,    0,    0,    0,    0,    0,    0,    0,    0,    0,    0,\n",
              "          0,    0,    0,    0,    0,    0,    0,    0,    0,    0,    0,\n",
              "          0,    0,    0,    0,    0,    0,    0,    0,    0,    0,    0,\n",
              "          0,    0,    0,    0,    0,    0,    0,    0,    0,    0,    0,\n",
              "          0,    0,    0,    0,    0,    0,    0,    0,    0,    0,    0,\n",
              "          0,    0])>"
            ]
          },
          "metadata": {},
          "execution_count": 10
        }
      ]
    },
    {
      "cell_type": "code",
      "source": [
        "vocab[16], vocab[8], vocab[436], data_train[3][30].split()[:3]"
      ],
      "metadata": {
        "colab": {
          "base_uri": "https://localhost:8080/"
        },
        "id": "rV9vWRafSjjj",
        "outputId": "cd2ea486-9b77-4f3c-e909-98dfad7d63c5"
      },
      "execution_count": 11,
      "outputs": [
        {
          "output_type": "execute_result",
          "data": {
            "text/plain": [
              "('it', 'in', 'located', ['it', 'in', 'located'])"
            ]
          },
          "metadata": {},
          "execution_count": 11
        }
      ]
    },
    {
      "cell_type": "code",
      "source": [
        "output_dim =  16\n",
        "em_layer = tf.keras.layers.Embedding(input_dim = max_tokens + 1, output_dim= output_dim)\n",
        "em_layer(tv_layer('what a hotel'))"
      ],
      "metadata": {
        "colab": {
          "base_uri": "https://localhost:8080/"
        },
        "id": "gOJlXkTIsHa0",
        "outputId": "aa359ff9-7b60-4a56-e9a2-0d87f89ce1c7"
      },
      "execution_count": 12,
      "outputs": [
        {
          "output_type": "execute_result",
          "data": {
            "text/plain": [
              "<tf.Tensor: shape=(200, 16), dtype=float32, numpy=\n",
              "array([[ 0.04440754,  0.02392682, -0.01466876, ...,  0.03683814,\n",
              "         0.01358436,  0.03030736],\n",
              "       [ 0.0405605 ,  0.02802445, -0.04899242, ...,  0.00619482,\n",
              "         0.03192169,  0.02515126],\n",
              "       [-0.02941049, -0.02947937,  0.03633921, ..., -0.0321173 ,\n",
              "         0.03721592, -0.00445818],\n",
              "       ...,\n",
              "       [-0.00935967, -0.02654995, -0.02797369, ...,  0.04378435,\n",
              "        -0.02251643, -0.02020776],\n",
              "       [-0.00935967, -0.02654995, -0.02797369, ...,  0.04378435,\n",
              "        -0.02251643, -0.02020776],\n",
              "       [-0.00935967, -0.02654995, -0.02797369, ...,  0.04378435,\n",
              "        -0.02251643, -0.02020776]], dtype=float32)>"
            ]
          },
          "metadata": {},
          "execution_count": 12
        }
      ]
    },
    {
      "cell_type": "code",
      "source": [
        "lstm = tf.keras.layers.LSTM(10)\n",
        "lstm_bi = tf.keras.layers.Bidirectional(lstm, merge_mode='concat')\n",
        "\n",
        "model = tf.keras.Sequential([\n",
        "    tv_layer,\n",
        "    em_layer,\n",
        "    tf.keras.layers.Dropout(0.2),\n",
        "    lstm_bi,\n",
        "    tf.keras.layers.Dropout(0.2),\n",
        "    tf.keras.layers.Flatten(),\n",
        "    tf.keras.layers.Dropout(0.2),\n",
        "    tf.keras.layers.Dense(1, activation = 'relu')], name = 'lstm_bi10')\n",
        "model.summary()"
      ],
      "metadata": {
        "colab": {
          "base_uri": "https://localhost:8080/"
        },
        "id": "AV6yrvt2sLm0",
        "outputId": "f9a22c84-b2b6-48c9-d57d-9b9a323afe84"
      },
      "execution_count": 13,
      "outputs": [
        {
          "output_type": "stream",
          "name": "stdout",
          "text": [
            "Model: \"lstm_bi10\"\n",
            "_________________________________________________________________\n",
            " Layer (type)                Output Shape              Param #   \n",
            "=================================================================\n",
            " text_vectorization (TextVec  (None, 200)              0         \n",
            " torization)                                                     \n",
            "                                                                 \n",
            " embedding (Embedding)       (None, 200, 16)           144576    \n",
            "                                                                 \n",
            " dropout (Dropout)           (None, 200, 16)           0         \n",
            "                                                                 \n",
            " bidirectional (Bidirectiona  (None, 20)               2160      \n",
            " l)                                                              \n",
            "                                                                 \n",
            " dropout_1 (Dropout)         (None, 20)                0         \n",
            "                                                                 \n",
            " flatten (Flatten)           (None, 20)                0         \n",
            "                                                                 \n",
            " dropout_2 (Dropout)         (None, 20)                0         \n",
            "                                                                 \n",
            " dense (Dense)               (None, 1)                 21        \n",
            "                                                                 \n",
            "=================================================================\n",
            "Total params: 146,757\n",
            "Trainable params: 146,757\n",
            "Non-trainable params: 0\n",
            "_________________________________________________________________\n"
          ]
        }
      ]
    },
    {
      "cell_type": "code",
      "source": [
        "conv1d_1f = tf.keras.layers.Conv1D(\n",
        "    filters = 1,\n",
        "    kernel_size = 8,\n",
        "    strides=1,\n",
        "    padding='same',\n",
        "    data_format='channels_last',\n",
        "    dilation_rate=1,\n",
        "    groups=1,\n",
        "    activation='relu',\n",
        "    use_bias=True,\n",
        "    kernel_initializer='glorot_uniform',\n",
        "    bias_initializer='zeros',\n",
        "    kernel_regularizer=None,\n",
        "    bias_regularizer=None,\n",
        "    activity_regularizer=None,\n",
        "    kernel_constraint=None,\n",
        "    bias_constraint=None,\n",
        ")\n",
        "\n",
        "model_conv_1f = tf.keras.Sequential([\n",
        "    tv_layer,\n",
        "    em_layer,\n",
        "    tf.keras.layers.Dropout(0.2),\n",
        "    conv1d_1f,\n",
        "    tf.keras.layers.Dropout(0.2),\n",
        "    tf.keras.layers.Flatten(),\n",
        "    tf.keras.layers.Dropout(0.2),\n",
        "    tf.keras.layers.Dense(1, activation = 'relu')], name = 'conv1d_1f')\n",
        "model_conv_1f.summary()"
      ],
      "metadata": {
        "colab": {
          "base_uri": "https://localhost:8080/"
        },
        "id": "sn4lfvQcHLX-",
        "outputId": "a71433c1-706a-4b83-f065-ea5a4675f812"
      },
      "execution_count": 30,
      "outputs": [
        {
          "output_type": "stream",
          "name": "stdout",
          "text": [
            "Model: \"conv1d_1f\"\n",
            "_________________________________________________________________\n",
            " Layer (type)                Output Shape              Param #   \n",
            "=================================================================\n",
            " text_vectorization (TextVec  (None, 200)              0         \n",
            " torization)                                                     \n",
            "                                                                 \n",
            " embedding (Embedding)       (None, 200, 16)           144576    \n",
            "                                                                 \n",
            " dropout_9 (Dropout)         (None, 200, 16)           0         \n",
            "                                                                 \n",
            " conv1d_2 (Conv1D)           (None, 200, 1)            129       \n",
            "                                                                 \n",
            " dropout_10 (Dropout)        (None, 200, 1)            0         \n",
            "                                                                 \n",
            " flatten_3 (Flatten)         (None, 200)               0         \n",
            "                                                                 \n",
            " dropout_11 (Dropout)        (None, 200)               0         \n",
            "                                                                 \n",
            " dense_3 (Dense)             (None, 1)                 201       \n",
            "                                                                 \n",
            "=================================================================\n",
            "Total params: 144,906\n",
            "Trainable params: 144,906\n",
            "Non-trainable params: 0\n",
            "_________________________________________________________________\n"
          ]
        }
      ]
    },
    {
      "cell_type": "code",
      "source": [
        "conv1d_8f = tf.keras.layers.Conv1D(\n",
        "    filters = 8,\n",
        "    kernel_size = 8,\n",
        "    strides=1,\n",
        "    padding='same',\n",
        "    data_format='channels_last',\n",
        "    dilation_rate=1,\n",
        "    groups=1,\n",
        "    activation='relu',\n",
        "    use_bias=True,\n",
        "    kernel_initializer='glorot_uniform',\n",
        "    bias_initializer='zeros',\n",
        "    kernel_regularizer=None,\n",
        "    bias_regularizer=None,\n",
        "    activity_regularizer=None,\n",
        "    kernel_constraint=None,\n",
        "    bias_constraint=None,\n",
        ")\n",
        "\n",
        "model_conv_8f = tf.keras.Sequential([\n",
        "    tv_layer,\n",
        "    em_layer,\n",
        "    tf.keras.layers.Dropout(0.2),\n",
        "    conv1d_1f,\n",
        "    tf.keras.layers.Dropout(0.2),\n",
        "    tf.keras.layers.Flatten(),\n",
        "    tf.keras.layers.Dropout(0.2),\n",
        "    tf.keras.layers.Dense(1, activation = 'relu')], name = 'conv1d_8f')\n",
        "model_conv_8f.summary()"
      ],
      "metadata": {
        "colab": {
          "base_uri": "https://localhost:8080/"
        },
        "id": "gG_joLuyMzQB",
        "outputId": "5521bc76-08a6-4f03-ec40-5ccb0feee234"
      },
      "execution_count": 39,
      "outputs": [
        {
          "output_type": "stream",
          "name": "stdout",
          "text": [
            "Model: \"conv1d_8f\"\n",
            "_________________________________________________________________\n",
            " Layer (type)                Output Shape              Param #   \n",
            "=================================================================\n",
            " text_vectorization (TextVec  (None, 200)              0         \n",
            " torization)                                                     \n",
            "                                                                 \n",
            " embedding (Embedding)       (None, 200, 16)           144576    \n",
            "                                                                 \n",
            " dropout_15 (Dropout)        (None, 200, 16)           0         \n",
            "                                                                 \n",
            " conv1d_2 (Conv1D)           (None, 200, 1)            129       \n",
            "                                                                 \n",
            " dropout_16 (Dropout)        (None, 200, 1)            0         \n",
            "                                                                 \n",
            " flatten_5 (Flatten)         (None, 200)               0         \n",
            "                                                                 \n",
            " dropout_17 (Dropout)        (None, 200)               0         \n",
            "                                                                 \n",
            " dense_5 (Dense)             (None, 1)                 201       \n",
            "                                                                 \n",
            "=================================================================\n",
            "Total params: 144,906\n",
            "Trainable params: 144,906\n",
            "Non-trainable params: 0\n",
            "_________________________________________________________________\n"
          ]
        }
      ]
    },
    {
      "cell_type": "code",
      "source": [
        "metric = tf.keras.metrics.MeanAbsoluteError(name='mean_absolute_error', dtype=None)\n",
        "loss =  tf.keras.losses.MeanSquaredError()\n",
        "model.compile(\n",
        "    optimizer=tf.keras.optimizers.Adam(0.001),\n",
        "    loss=loss,\n",
        "    metrics=[metric],\n",
        ")"
      ],
      "metadata": {
        "id": "L_LesX7-tBCm"
      },
      "execution_count": 14,
      "outputs": []
    },
    {
      "cell_type": "code",
      "source": [
        "model_conv_1f.compile(\n",
        "    optimizer=tf.keras.optimizers.Adam(0.001),\n",
        "    loss=loss,\n",
        "    metrics=[metric],\n",
        ")"
      ],
      "metadata": {
        "id": "BUawPUwNJBeK"
      },
      "execution_count": 34,
      "outputs": []
    },
    {
      "cell_type": "code",
      "source": [
        "model_conv_8f.compile(\n",
        "    optimizer=tf.keras.optimizers.Adam(0.001),\n",
        "    loss=loss,\n",
        "    metrics=[metric],\n",
        ")"
      ],
      "metadata": {
        "id": "18mO-x_YMvXy"
      },
      "execution_count": 41,
      "outputs": []
    },
    {
      "cell_type": "code",
      "source": [
        "# test if reviews pass through model, show sample output\n",
        "for ds in (ds_train, ds_test):  test_model(model, ds)"
      ],
      "metadata": {
        "colab": {
          "base_uri": "https://localhost:8080/"
        },
        "id": "q6iV5MOItlQ9",
        "outputId": "23739d73-36b5-4205-ccea-d8cb5cd656b8"
      },
      "execution_count": 15,
      "outputs": [
        {
          "output_type": "stream",
          "name": "stdout",
          "text": [
            "10, 20, 30, 40, 50, 60, 70, 80, 90, 100, 110, 120, 130, 140, 150, 10, 20, 30, "
          ]
        }
      ]
    },
    {
      "cell_type": "code",
      "source": [
        "def save_model(model):\n",
        "    model_path = ROOT + MODEL_PATH + model.name +'/'\n",
        "    if not os.path.exists(ROOT + model_path):\n",
        "        os.makedirs(ROOT + model_path, exist_ok = False)\n",
        "        print('Created directory ' + ROOT + model_path)\n",
        "\n",
        "    model.save(model_path + model.name + '_save', save_format='tf')\n",
        "\n",
        "def load_model(model):\n",
        "    model_path = ROOT + MODEL_PATH + model.name +'/'\n",
        "    model = tf.keras.models.load_model(model_path + model.name + '_save')\n",
        "    return model"
      ],
      "metadata": {
        "id": "MdAW_p5y59DX"
      },
      "execution_count": 22,
      "outputs": []
    },
    {
      "cell_type": "code",
      "source": [
        "# load from checkpoint\n",
        "# model.load_weights(model_path + 'checkpoints')"
      ],
      "metadata": {
        "colab": {
          "base_uri": "https://localhost:8080/"
        },
        "id": "CpsGSu_ninqG",
        "outputId": "ca56161f-5d3e-4bd3-b417-52bc30ab837b"
      },
      "execution_count": 105,
      "outputs": [
        {
          "output_type": "execute_result",
          "data": {
            "text/plain": [
              "<tensorflow.python.checkpoint.checkpoint.CheckpointLoadStatus at 0x7ca14bdeb7f0>"
            ]
          },
          "metadata": {},
          "execution_count": 105
        }
      ]
    },
    {
      "cell_type": "code",
      "source": [],
      "metadata": {
        "id": "bgJKcs34Kbt9"
      },
      "execution_count": null,
      "outputs": []
    },
    {
      "cell_type": "code",
      "source": [
        "def model_fit(model, train, test, epochs):\n",
        "\n",
        "    model_path = ROOT + MODEL_PATH + model.name +'/'\n",
        "    if not os.path.exists(ROOT + model_path):\n",
        "        os.makedirs(ROOT + model_path, exist_ok = False)\n",
        "        print('Created directory ' + ROOT + model_path)\n",
        "\n",
        "    model_checkpoint_callback = tf.keras.callbacks.ModelCheckpoint(\n",
        "        filepath=model_path + 'checkpoints',\n",
        "        save_weights_only=True,\n",
        "        monitor='mean_absolute_error',\n",
        "        mode='min',\n",
        "        save_best_only=True)\n",
        "\n",
        "\n",
        "    if os.path.exists(model_path + 'current_weights.index'):\n",
        "        model.load_weights(model_path + 'current_weights')\n",
        "        print('Found previous weights')\n",
        "    else:\n",
        "        print('No previous weights found!')\n",
        "\n",
        "    history =  model.fit(\n",
        "        train,\n",
        "        epochs = epochs,\n",
        "        validation_data = test,\n",
        "        callbacks=[model_checkpoint_callback]\n",
        "    )\n",
        "\n",
        "    model.evaluate(ds_test)\n",
        "    model.save_weights(model_path + 'current_weights', save_format='tf')\n",
        "    print('Current weights saved to ' + model_path + 'current_weights')\n",
        "\n",
        "    return history"
      ],
      "metadata": {
        "id": "-rRdOQPjtoGW"
      },
      "execution_count": 31,
      "outputs": []
    },
    {
      "cell_type": "code",
      "source": [
        "history_conv_1f = model_fit(model_conv_1f, train=ds_train, test=ds_test, epochs=500)"
      ],
      "metadata": {
        "id": "1ayqo4WqFuuR"
      },
      "execution_count": null,
      "outputs": []
    },
    {
      "cell_type": "code",
      "source": [
        "history_conv_8f = model_fit(model_conv_8f, train=ds_train, test=ds_test, epochs=500)"
      ],
      "metadata": {
        "colab": {
          "base_uri": "https://localhost:8080/"
        },
        "id": "8jb4bf6kM_m9",
        "outputId": "18686a0e-2258-4b7f-c0b7-3d8467d3b376"
      },
      "execution_count": 42,
      "outputs": [
        {
          "output_type": "stream",
          "name": "stdout",
          "text": [
            "No previous weights found!\n",
            "Epoch 1/500\n",
            "157/157 [==============================] - 21s 129ms/step - loss: 1.5777 - mean_absolute_error: 0.8354 - val_loss: 0.8056 - val_mean_absolute_error: 0.7019\n",
            "Epoch 2/500\n",
            "157/157 [==============================] - 1s 6ms/step - loss: 0.3605 - mean_absolute_error: 0.4703 - val_loss: 0.7216 - val_mean_absolute_error: 0.6525\n",
            "Epoch 3/500\n",
            "157/157 [==============================] - 2s 11ms/step - loss: 0.2678 - mean_absolute_error: 0.4030 - val_loss: 0.6755 - val_mean_absolute_error: 0.6339\n",
            "Epoch 4/500\n",
            "157/157 [==============================] - 1s 7ms/step - loss: 0.2237 - mean_absolute_error: 0.3701 - val_loss: 0.6647 - val_mean_absolute_error: 0.6275\n",
            "Epoch 5/500\n",
            "157/157 [==============================] - 1s 6ms/step - loss: 0.2006 - mean_absolute_error: 0.3448 - val_loss: 0.6601 - val_mean_absolute_error: 0.6235\n",
            "Epoch 6/500\n",
            "157/157 [==============================] - 1s 6ms/step - loss: 0.1865 - mean_absolute_error: 0.3356 - val_loss: 0.6507 - val_mean_absolute_error: 0.6232\n",
            "Epoch 7/500\n",
            "157/157 [==============================] - 1s 6ms/step - loss: 0.1814 - mean_absolute_error: 0.3269 - val_loss: 0.6656 - val_mean_absolute_error: 0.6194\n",
            "Epoch 8/500\n",
            "157/157 [==============================] - 1s 6ms/step - loss: 0.1707 - mean_absolute_error: 0.3174 - val_loss: 0.6625 - val_mean_absolute_error: 0.6253\n",
            "Epoch 9/500\n",
            "157/157 [==============================] - 1s 6ms/step - loss: 0.1746 - mean_absolute_error: 0.3195 - val_loss: 0.6668 - val_mean_absolute_error: 0.6226\n",
            "Epoch 10/500\n",
            "157/157 [==============================] - 1s 6ms/step - loss: 0.1707 - mean_absolute_error: 0.3177 - val_loss: 0.6560 - val_mean_absolute_error: 0.6180\n",
            "Epoch 11/500\n",
            "157/157 [==============================] - 1s 6ms/step - loss: 0.1597 - mean_absolute_error: 0.3056 - val_loss: 0.6693 - val_mean_absolute_error: 0.6184\n",
            "Epoch 12/500\n",
            "157/157 [==============================] - 1s 6ms/step - loss: 0.1642 - mean_absolute_error: 0.3072 - val_loss: 0.6577 - val_mean_absolute_error: 0.6176\n",
            "Epoch 13/500\n",
            "157/157 [==============================] - 1s 6ms/step - loss: 0.1610 - mean_absolute_error: 0.3027 - val_loss: 0.6634 - val_mean_absolute_error: 0.6173\n",
            "Epoch 14/500\n",
            "157/157 [==============================] - 1s 9ms/step - loss: 0.1568 - mean_absolute_error: 0.3010 - val_loss: 0.6573 - val_mean_absolute_error: 0.6136\n",
            "Epoch 15/500\n",
            "157/157 [==============================] - 1s 9ms/step - loss: 0.1618 - mean_absolute_error: 0.3073 - val_loss: 0.6602 - val_mean_absolute_error: 0.6167\n",
            "Epoch 16/500\n",
            "157/157 [==============================] - 1s 6ms/step - loss: 0.1536 - mean_absolute_error: 0.2986 - val_loss: 0.6635 - val_mean_absolute_error: 0.6163\n",
            "Epoch 17/500\n",
            "157/157 [==============================] - 1s 6ms/step - loss: 0.1669 - mean_absolute_error: 0.3062 - val_loss: 0.6726 - val_mean_absolute_error: 0.6171\n",
            "Epoch 18/500\n",
            "157/157 [==============================] - 1s 6ms/step - loss: 0.1672 - mean_absolute_error: 0.3051 - val_loss: 0.6480 - val_mean_absolute_error: 0.6139\n",
            "Epoch 19/500\n",
            "157/157 [==============================] - 1s 6ms/step - loss: 0.1722 - mean_absolute_error: 0.3098 - val_loss: 0.6562 - val_mean_absolute_error: 0.6113\n",
            "Epoch 20/500\n",
            "157/157 [==============================] - 1s 6ms/step - loss: 0.1575 - mean_absolute_error: 0.2991 - val_loss: 0.6580 - val_mean_absolute_error: 0.6103\n",
            "Epoch 21/500\n",
            "157/157 [==============================] - 1s 6ms/step - loss: 0.1698 - mean_absolute_error: 0.3093 - val_loss: 0.6569 - val_mean_absolute_error: 0.6179\n",
            "Epoch 22/500\n",
            "157/157 [==============================] - 1s 6ms/step - loss: 0.1695 - mean_absolute_error: 0.3117 - val_loss: 0.6497 - val_mean_absolute_error: 0.6189\n",
            "Epoch 23/500\n",
            "157/157 [==============================] - 1s 6ms/step - loss: 0.1638 - mean_absolute_error: 0.3040 - val_loss: 0.6692 - val_mean_absolute_error: 0.6155\n",
            "Epoch 24/500\n",
            "157/157 [==============================] - 1s 6ms/step - loss: 0.1639 - mean_absolute_error: 0.3068 - val_loss: 0.6449 - val_mean_absolute_error: 0.6099\n",
            "Epoch 25/500\n",
            "157/157 [==============================] - 1s 9ms/step - loss: 0.1663 - mean_absolute_error: 0.3053 - val_loss: 0.6657 - val_mean_absolute_error: 0.6113\n",
            "Epoch 26/500\n",
            "157/157 [==============================] - 1s 9ms/step - loss: 0.1607 - mean_absolute_error: 0.3017 - val_loss: 0.6499 - val_mean_absolute_error: 0.6113\n",
            "Epoch 27/500\n",
            "157/157 [==============================] - 1s 6ms/step - loss: 0.1636 - mean_absolute_error: 0.3029 - val_loss: 0.6751 - val_mean_absolute_error: 0.6125\n",
            "Epoch 28/500\n",
            "157/157 [==============================] - 1s 6ms/step - loss: 0.1598 - mean_absolute_error: 0.3005 - val_loss: 0.6676 - val_mean_absolute_error: 0.6160\n",
            "Epoch 29/500\n",
            "157/157 [==============================] - 1s 6ms/step - loss: 0.1641 - mean_absolute_error: 0.3044 - val_loss: 0.6583 - val_mean_absolute_error: 0.6104\n",
            "Epoch 30/500\n",
            "157/157 [==============================] - 1s 6ms/step - loss: 0.1620 - mean_absolute_error: 0.3017 - val_loss: 0.6614 - val_mean_absolute_error: 0.6133\n",
            "Epoch 31/500\n",
            "157/157 [==============================] - 1s 9ms/step - loss: 0.1532 - mean_absolute_error: 0.2992 - val_loss: 0.6919 - val_mean_absolute_error: 0.6130\n",
            "Epoch 32/500\n",
            "157/157 [==============================] - 2s 10ms/step - loss: 0.1621 - mean_absolute_error: 0.2996 - val_loss: 0.6692 - val_mean_absolute_error: 0.6137\n",
            "Epoch 33/500\n",
            "157/157 [==============================] - 1s 6ms/step - loss: 0.1718 - mean_absolute_error: 0.3078 - val_loss: 0.6694 - val_mean_absolute_error: 0.6118\n",
            "Epoch 34/500\n",
            "157/157 [==============================] - 1s 9ms/step - loss: 0.1581 - mean_absolute_error: 0.3006 - val_loss: 0.6666 - val_mean_absolute_error: 0.6164\n",
            "Epoch 35/500\n",
            "157/157 [==============================] - 1s 8ms/step - loss: 0.1641 - mean_absolute_error: 0.3045 - val_loss: 0.6640 - val_mean_absolute_error: 0.6081\n",
            "Epoch 36/500\n",
            "157/157 [==============================] - 1s 6ms/step - loss: 0.1651 - mean_absolute_error: 0.3046 - val_loss: 0.6710 - val_mean_absolute_error: 0.6096\n",
            "Epoch 37/500\n",
            "157/157 [==============================] - 1s 6ms/step - loss: 0.1612 - mean_absolute_error: 0.3027 - val_loss: 0.6597 - val_mean_absolute_error: 0.6113\n",
            "Epoch 38/500\n",
            "157/157 [==============================] - 1s 6ms/step - loss: 0.1609 - mean_absolute_error: 0.3036 - val_loss: 0.6989 - val_mean_absolute_error: 0.6158\n",
            "Epoch 39/500\n",
            "157/157 [==============================] - 1s 6ms/step - loss: 0.1633 - mean_absolute_error: 0.3032 - val_loss: 0.6641 - val_mean_absolute_error: 0.6077\n",
            "Epoch 40/500\n",
            "157/157 [==============================] - 1s 6ms/step - loss: 0.1581 - mean_absolute_error: 0.2995 - val_loss: 0.6560 - val_mean_absolute_error: 0.6058\n",
            "Epoch 41/500\n",
            "157/157 [==============================] - 1s 6ms/step - loss: 0.1612 - mean_absolute_error: 0.3012 - val_loss: 0.6636 - val_mean_absolute_error: 0.6090\n",
            "Epoch 42/500\n",
            "157/157 [==============================] - 1s 6ms/step - loss: 0.1666 - mean_absolute_error: 0.3060 - val_loss: 0.6687 - val_mean_absolute_error: 0.6109\n",
            "Epoch 43/500\n",
            "157/157 [==============================] - 1s 6ms/step - loss: 0.1584 - mean_absolute_error: 0.2998 - val_loss: 0.6868 - val_mean_absolute_error: 0.6187\n",
            "Epoch 44/500\n",
            "157/157 [==============================] - 1s 6ms/step - loss: 0.1649 - mean_absolute_error: 0.3056 - val_loss: 0.6549 - val_mean_absolute_error: 0.6081\n",
            "Epoch 45/500\n",
            "157/157 [==============================] - 1s 8ms/step - loss: 0.1596 - mean_absolute_error: 0.3008 - val_loss: 0.6722 - val_mean_absolute_error: 0.6109\n",
            "Epoch 46/500\n",
            "157/157 [==============================] - 2s 11ms/step - loss: 0.1561 - mean_absolute_error: 0.2962 - val_loss: 0.6689 - val_mean_absolute_error: 0.6116\n",
            "Epoch 47/500\n",
            "157/157 [==============================] - 1s 7ms/step - loss: 0.1621 - mean_absolute_error: 0.3037 - val_loss: 0.6706 - val_mean_absolute_error: 0.6153\n",
            "Epoch 48/500\n",
            "157/157 [==============================] - 1s 6ms/step - loss: 0.1576 - mean_absolute_error: 0.2973 - val_loss: 0.6626 - val_mean_absolute_error: 0.6082\n",
            "Epoch 49/500\n",
            "157/157 [==============================] - 1s 6ms/step - loss: 0.1552 - mean_absolute_error: 0.2935 - val_loss: 0.6791 - val_mean_absolute_error: 0.6103\n",
            "Epoch 50/500\n",
            "157/157 [==============================] - 1s 6ms/step - loss: 0.1608 - mean_absolute_error: 0.3016 - val_loss: 0.6722 - val_mean_absolute_error: 0.6147\n",
            "Epoch 51/500\n",
            "157/157 [==============================] - 1s 6ms/step - loss: 0.1557 - mean_absolute_error: 0.2957 - val_loss: 0.6843 - val_mean_absolute_error: 0.6170\n",
            "Epoch 52/500\n",
            "157/157 [==============================] - 1s 6ms/step - loss: 0.1578 - mean_absolute_error: 0.2974 - val_loss: 0.6629 - val_mean_absolute_error: 0.6108\n",
            "Epoch 53/500\n",
            "157/157 [==============================] - 1s 6ms/step - loss: 0.1567 - mean_absolute_error: 0.2952 - val_loss: 0.6734 - val_mean_absolute_error: 0.6129\n",
            "Epoch 54/500\n",
            "157/157 [==============================] - 1s 6ms/step - loss: 0.1574 - mean_absolute_error: 0.2984 - val_loss: 0.6684 - val_mean_absolute_error: 0.6139\n",
            "Epoch 55/500\n",
            "157/157 [==============================] - 1s 6ms/step - loss: 0.1561 - mean_absolute_error: 0.2939 - val_loss: 0.6876 - val_mean_absolute_error: 0.6151\n",
            "Epoch 56/500\n",
            "157/157 [==============================] - 1s 6ms/step - loss: 0.1654 - mean_absolute_error: 0.3066 - val_loss: 0.6673 - val_mean_absolute_error: 0.6157\n",
            "Epoch 57/500\n",
            "157/157 [==============================] - 2s 10ms/step - loss: 0.1627 - mean_absolute_error: 0.3023 - val_loss: 0.6638 - val_mean_absolute_error: 0.6094\n",
            "Epoch 58/500\n",
            "157/157 [==============================] - 2s 10ms/step - loss: 0.1702 - mean_absolute_error: 0.3104 - val_loss: 0.6478 - val_mean_absolute_error: 0.6083\n",
            "Epoch 59/500\n",
            "157/157 [==============================] - 1s 7ms/step - loss: 0.1573 - mean_absolute_error: 0.2964 - val_loss: 0.6548 - val_mean_absolute_error: 0.6095\n",
            "Epoch 60/500\n",
            "157/157 [==============================] - 1s 6ms/step - loss: 0.1601 - mean_absolute_error: 0.2988 - val_loss: 0.6782 - val_mean_absolute_error: 0.6077\n",
            "Epoch 61/500\n",
            "157/157 [==============================] - 1s 6ms/step - loss: 0.1632 - mean_absolute_error: 0.3025 - val_loss: 0.6617 - val_mean_absolute_error: 0.6084\n",
            "Epoch 62/500\n",
            "157/157 [==============================] - 1s 6ms/step - loss: 0.1676 - mean_absolute_error: 0.3043 - val_loss: 0.6607 - val_mean_absolute_error: 0.6107\n",
            "Epoch 63/500\n",
            "157/157 [==============================] - 1s 6ms/step - loss: 0.1574 - mean_absolute_error: 0.2983 - val_loss: 0.6565 - val_mean_absolute_error: 0.6114\n",
            "Epoch 64/500\n",
            "157/157 [==============================] - 1s 6ms/step - loss: 0.1598 - mean_absolute_error: 0.2994 - val_loss: 0.6804 - val_mean_absolute_error: 0.6138\n",
            "Epoch 65/500\n",
            "157/157 [==============================] - 1s 6ms/step - loss: 0.1567 - mean_absolute_error: 0.2956 - val_loss: 0.6682 - val_mean_absolute_error: 0.6119\n",
            "Epoch 66/500\n",
            "157/157 [==============================] - 1s 6ms/step - loss: 0.1589 - mean_absolute_error: 0.2998 - val_loss: 0.6621 - val_mean_absolute_error: 0.6125\n",
            "Epoch 67/500\n",
            "157/157 [==============================] - 1s 6ms/step - loss: 0.1624 - mean_absolute_error: 0.3032 - val_loss: 0.6592 - val_mean_absolute_error: 0.6086\n",
            "Epoch 68/500\n",
            "157/157 [==============================] - 2s 10ms/step - loss: 0.1629 - mean_absolute_error: 0.3035 - val_loss: 0.6812 - val_mean_absolute_error: 0.6155\n",
            "Epoch 69/500\n",
            "157/157 [==============================] - 1s 9ms/step - loss: 0.1645 - mean_absolute_error: 0.3036 - val_loss: 0.6674 - val_mean_absolute_error: 0.6153\n",
            "Epoch 70/500\n",
            "157/157 [==============================] - 1s 6ms/step - loss: 0.1575 - mean_absolute_error: 0.2984 - val_loss: 0.6638 - val_mean_absolute_error: 0.6124\n",
            "Epoch 71/500\n",
            "157/157 [==============================] - 1s 6ms/step - loss: 0.1577 - mean_absolute_error: 0.2992 - val_loss: 0.6660 - val_mean_absolute_error: 0.6118\n",
            "Epoch 72/500\n",
            "157/157 [==============================] - 1s 6ms/step - loss: 0.1635 - mean_absolute_error: 0.3047 - val_loss: 0.6477 - val_mean_absolute_error: 0.6081\n",
            "Epoch 73/500\n",
            "157/157 [==============================] - 1s 6ms/step - loss: 0.1600 - mean_absolute_error: 0.2992 - val_loss: 0.6548 - val_mean_absolute_error: 0.6073\n",
            "Epoch 74/500\n",
            "157/157 [==============================] - 1s 6ms/step - loss: 0.1547 - mean_absolute_error: 0.2945 - val_loss: 0.6504 - val_mean_absolute_error: 0.6069\n",
            "Epoch 75/500\n",
            "157/157 [==============================] - 1s 6ms/step - loss: 0.1586 - mean_absolute_error: 0.2984 - val_loss: 0.6532 - val_mean_absolute_error: 0.6060\n",
            "Epoch 76/500\n",
            "157/157 [==============================] - 1s 6ms/step - loss: 0.1566 - mean_absolute_error: 0.2994 - val_loss: 0.6766 - val_mean_absolute_error: 0.6143\n",
            "Epoch 77/500\n",
            "157/157 [==============================] - 1s 6ms/step - loss: 0.1607 - mean_absolute_error: 0.3019 - val_loss: 0.6525 - val_mean_absolute_error: 0.6114\n",
            "Epoch 78/500\n",
            "157/157 [==============================] - 1s 6ms/step - loss: 0.1529 - mean_absolute_error: 0.2938 - val_loss: 0.6826 - val_mean_absolute_error: 0.6133\n",
            "Epoch 79/500\n",
            "157/157 [==============================] - 1s 7ms/step - loss: 0.1610 - mean_absolute_error: 0.3010 - val_loss: 0.6684 - val_mean_absolute_error: 0.6152\n",
            "Epoch 80/500\n",
            "157/157 [==============================] - 2s 10ms/step - loss: 0.1586 - mean_absolute_error: 0.2983 - val_loss: 0.6805 - val_mean_absolute_error: 0.6138\n",
            "Epoch 81/500\n",
            "157/157 [==============================] - 1s 6ms/step - loss: 0.1614 - mean_absolute_error: 0.2997 - val_loss: 0.6931 - val_mean_absolute_error: 0.6180\n",
            "Epoch 82/500\n",
            "157/157 [==============================] - 1s 6ms/step - loss: 0.1593 - mean_absolute_error: 0.2993 - val_loss: 0.6801 - val_mean_absolute_error: 0.6146\n",
            "Epoch 83/500\n",
            "157/157 [==============================] - 1s 6ms/step - loss: 0.1596 - mean_absolute_error: 0.3024 - val_loss: 0.6719 - val_mean_absolute_error: 0.6102\n",
            "Epoch 84/500\n",
            "157/157 [==============================] - 1s 6ms/step - loss: 0.1616 - mean_absolute_error: 0.2987 - val_loss: 0.6811 - val_mean_absolute_error: 0.6110\n",
            "Epoch 85/500\n",
            "157/157 [==============================] - 1s 6ms/step - loss: 0.1596 - mean_absolute_error: 0.3005 - val_loss: 0.6744 - val_mean_absolute_error: 0.6133\n",
            "Epoch 86/500\n",
            "157/157 [==============================] - 1s 6ms/step - loss: 0.1594 - mean_absolute_error: 0.3011 - val_loss: 0.6744 - val_mean_absolute_error: 0.6120\n",
            "Epoch 87/500\n",
            "157/157 [==============================] - 1s 6ms/step - loss: 0.1637 - mean_absolute_error: 0.3044 - val_loss: 0.6627 - val_mean_absolute_error: 0.6107\n",
            "Epoch 88/500\n",
            "157/157 [==============================] - 1s 6ms/step - loss: 0.1589 - mean_absolute_error: 0.3002 - val_loss: 0.6399 - val_mean_absolute_error: 0.6064\n",
            "Epoch 89/500\n",
            "157/157 [==============================] - 1s 6ms/step - loss: 0.1604 - mean_absolute_error: 0.3013 - val_loss: 0.6669 - val_mean_absolute_error: 0.6121\n",
            "Epoch 90/500\n",
            "157/157 [==============================] - 1s 6ms/step - loss: 0.1669 - mean_absolute_error: 0.3048 - val_loss: 0.6739 - val_mean_absolute_error: 0.6107\n",
            "Epoch 91/500\n",
            "157/157 [==============================] - 2s 10ms/step - loss: 0.1606 - mean_absolute_error: 0.2982 - val_loss: 0.6619 - val_mean_absolute_error: 0.6110\n",
            "Epoch 92/500\n",
            "157/157 [==============================] - 1s 7ms/step - loss: 0.1608 - mean_absolute_error: 0.3028 - val_loss: 0.6581 - val_mean_absolute_error: 0.6115\n",
            "Epoch 93/500\n",
            "157/157 [==============================] - 1s 6ms/step - loss: 0.1552 - mean_absolute_error: 0.2981 - val_loss: 0.6669 - val_mean_absolute_error: 0.6092\n",
            "Epoch 94/500\n",
            "157/157 [==============================] - 1s 6ms/step - loss: 0.1611 - mean_absolute_error: 0.3021 - val_loss: 0.6666 - val_mean_absolute_error: 0.6131\n",
            "Epoch 95/500\n",
            "157/157 [==============================] - 1s 6ms/step - loss: 0.1617 - mean_absolute_error: 0.3017 - val_loss: 0.6812 - val_mean_absolute_error: 0.6154\n",
            "Epoch 96/500\n",
            "157/157 [==============================] - 1s 6ms/step - loss: 0.1614 - mean_absolute_error: 0.2989 - val_loss: 0.6575 - val_mean_absolute_error: 0.6102\n",
            "Epoch 97/500\n",
            "157/157 [==============================] - 1s 6ms/step - loss: 0.1606 - mean_absolute_error: 0.3011 - val_loss: 0.6775 - val_mean_absolute_error: 0.6113\n",
            "Epoch 98/500\n",
            "157/157 [==============================] - 1s 6ms/step - loss: 0.1579 - mean_absolute_error: 0.2951 - val_loss: 0.6595 - val_mean_absolute_error: 0.6089\n",
            "Epoch 99/500\n",
            "157/157 [==============================] - 1s 6ms/step - loss: 0.1576 - mean_absolute_error: 0.2989 - val_loss: 0.6726 - val_mean_absolute_error: 0.6168\n",
            "Epoch 100/500\n",
            "157/157 [==============================] - 1s 6ms/step - loss: 0.1611 - mean_absolute_error: 0.3020 - val_loss: 0.6565 - val_mean_absolute_error: 0.6128\n",
            "Epoch 101/500\n",
            "157/157 [==============================] - 1s 6ms/step - loss: 0.1613 - mean_absolute_error: 0.2986 - val_loss: 0.6812 - val_mean_absolute_error: 0.6113\n",
            "Epoch 102/500\n",
            "157/157 [==============================] - 1s 9ms/step - loss: 0.1648 - mean_absolute_error: 0.3026 - val_loss: 0.6670 - val_mean_absolute_error: 0.6154\n",
            "Epoch 103/500\n",
            "157/157 [==============================] - 2s 10ms/step - loss: 0.1580 - mean_absolute_error: 0.3006 - val_loss: 0.6593 - val_mean_absolute_error: 0.6119\n",
            "Epoch 104/500\n",
            "157/157 [==============================] - 1s 6ms/step - loss: 0.1615 - mean_absolute_error: 0.3011 - val_loss: 0.6852 - val_mean_absolute_error: 0.6089\n",
            "Epoch 105/500\n",
            "157/157 [==============================] - 1s 6ms/step - loss: 0.1618 - mean_absolute_error: 0.3010 - val_loss: 0.6711 - val_mean_absolute_error: 0.6151\n",
            "Epoch 106/500\n",
            "157/157 [==============================] - 1s 6ms/step - loss: 0.1597 - mean_absolute_error: 0.2976 - val_loss: 0.6852 - val_mean_absolute_error: 0.6123\n",
            "Epoch 107/500\n",
            "157/157 [==============================] - 1s 6ms/step - loss: 0.1555 - mean_absolute_error: 0.2942 - val_loss: 0.6789 - val_mean_absolute_error: 0.6118\n",
            "Epoch 108/500\n",
            "157/157 [==============================] - 1s 6ms/step - loss: 0.1550 - mean_absolute_error: 0.2979 - val_loss: 0.6595 - val_mean_absolute_error: 0.6062\n",
            "Epoch 109/500\n",
            "157/157 [==============================] - 1s 6ms/step - loss: 0.1590 - mean_absolute_error: 0.2989 - val_loss: 0.6733 - val_mean_absolute_error: 0.6129\n",
            "Epoch 110/500\n",
            "157/157 [==============================] - 1s 6ms/step - loss: 0.1573 - mean_absolute_error: 0.2979 - val_loss: 0.6586 - val_mean_absolute_error: 0.6114\n",
            "Epoch 111/500\n",
            "157/157 [==============================] - 1s 6ms/step - loss: 0.1644 - mean_absolute_error: 0.3036 - val_loss: 0.6680 - val_mean_absolute_error: 0.6140\n",
            "Epoch 112/500\n",
            "157/157 [==============================] - 1s 7ms/step - loss: 0.1595 - mean_absolute_error: 0.2986 - val_loss: 0.6521 - val_mean_absolute_error: 0.6079\n",
            "Epoch 113/500\n",
            "157/157 [==============================] - 1s 9ms/step - loss: 0.1559 - mean_absolute_error: 0.2967 - val_loss: 0.6661 - val_mean_absolute_error: 0.6118\n",
            "Epoch 114/500\n",
            "157/157 [==============================] - 1s 7ms/step - loss: 0.1533 - mean_absolute_error: 0.2934 - val_loss: 0.6700 - val_mean_absolute_error: 0.6158\n",
            "Epoch 115/500\n",
            "157/157 [==============================] - 1s 6ms/step - loss: 0.1612 - mean_absolute_error: 0.3015 - val_loss: 0.6863 - val_mean_absolute_error: 0.6175\n",
            "Epoch 116/500\n",
            "157/157 [==============================] - 1s 6ms/step - loss: 0.1605 - mean_absolute_error: 0.2998 - val_loss: 0.6615 - val_mean_absolute_error: 0.6154\n",
            "Epoch 117/500\n",
            "157/157 [==============================] - 1s 6ms/step - loss: 0.1565 - mean_absolute_error: 0.2998 - val_loss: 0.6886 - val_mean_absolute_error: 0.6142\n",
            "Epoch 118/500\n",
            "157/157 [==============================] - 1s 6ms/step - loss: 0.1584 - mean_absolute_error: 0.2990 - val_loss: 0.6549 - val_mean_absolute_error: 0.6097\n",
            "Epoch 119/500\n",
            "157/157 [==============================] - 1s 7ms/step - loss: 0.1501 - mean_absolute_error: 0.2910 - val_loss: 0.6823 - val_mean_absolute_error: 0.6106\n",
            "Epoch 120/500\n",
            "157/157 [==============================] - 1s 6ms/step - loss: 0.1615 - mean_absolute_error: 0.2994 - val_loss: 0.6759 - val_mean_absolute_error: 0.6143\n",
            "Epoch 121/500\n",
            "157/157 [==============================] - 1s 6ms/step - loss: 0.1577 - mean_absolute_error: 0.2990 - val_loss: 0.6822 - val_mean_absolute_error: 0.6170\n",
            "Epoch 122/500\n",
            "157/157 [==============================] - 1s 6ms/step - loss: 0.1610 - mean_absolute_error: 0.3028 - val_loss: 0.6808 - val_mean_absolute_error: 0.6115\n",
            "Epoch 123/500\n",
            "157/157 [==============================] - 1s 7ms/step - loss: 0.1504 - mean_absolute_error: 0.2907 - val_loss: 0.6919 - val_mean_absolute_error: 0.6139\n",
            "Epoch 124/500\n",
            "157/157 [==============================] - 1s 9ms/step - loss: 0.1590 - mean_absolute_error: 0.2994 - val_loss: 0.6712 - val_mean_absolute_error: 0.6128\n",
            "Epoch 125/500\n",
            "157/157 [==============================] - 1s 9ms/step - loss: 0.1614 - mean_absolute_error: 0.3011 - val_loss: 0.6764 - val_mean_absolute_error: 0.6167\n",
            "Epoch 126/500\n",
            "157/157 [==============================] - 1s 8ms/step - loss: 0.1602 - mean_absolute_error: 0.3006 - val_loss: 0.6620 - val_mean_absolute_error: 0.6142\n",
            "Epoch 127/500\n",
            "157/157 [==============================] - 1s 6ms/step - loss: 0.1631 - mean_absolute_error: 0.3037 - val_loss: 0.6736 - val_mean_absolute_error: 0.6107\n",
            "Epoch 128/500\n",
            "157/157 [==============================] - 1s 5ms/step - loss: 0.1600 - mean_absolute_error: 0.2998 - val_loss: 0.6761 - val_mean_absolute_error: 0.6177\n",
            "Epoch 129/500\n",
            "157/157 [==============================] - 1s 6ms/step - loss: 0.1558 - mean_absolute_error: 0.2962 - val_loss: 0.6695 - val_mean_absolute_error: 0.6160\n",
            "Epoch 130/500\n",
            "157/157 [==============================] - 1s 6ms/step - loss: 0.1627 - mean_absolute_error: 0.3006 - val_loss: 0.6825 - val_mean_absolute_error: 0.6117\n",
            "Epoch 131/500\n",
            "157/157 [==============================] - 1s 6ms/step - loss: 0.1573 - mean_absolute_error: 0.2983 - val_loss: 0.6770 - val_mean_absolute_error: 0.6139\n",
            "Epoch 132/500\n",
            "157/157 [==============================] - 1s 6ms/step - loss: 0.1532 - mean_absolute_error: 0.2937 - val_loss: 0.6692 - val_mean_absolute_error: 0.6175\n",
            "Epoch 133/500\n",
            "157/157 [==============================] - 1s 6ms/step - loss: 0.1610 - mean_absolute_error: 0.2985 - val_loss: 0.6881 - val_mean_absolute_error: 0.6141\n",
            "Epoch 134/500\n",
            "157/157 [==============================] - 1s 6ms/step - loss: 0.1612 - mean_absolute_error: 0.3009 - val_loss: 0.6796 - val_mean_absolute_error: 0.6147\n",
            "Epoch 135/500\n",
            "157/157 [==============================] - 1s 6ms/step - loss: 0.1629 - mean_absolute_error: 0.3042 - val_loss: 0.6908 - val_mean_absolute_error: 0.6239\n",
            "Epoch 136/500\n",
            "157/157 [==============================] - 1s 7ms/step - loss: 0.1574 - mean_absolute_error: 0.3006 - val_loss: 0.6849 - val_mean_absolute_error: 0.6171\n",
            "Epoch 137/500\n",
            "157/157 [==============================] - 1s 9ms/step - loss: 0.1576 - mean_absolute_error: 0.2977 - val_loss: 0.6736 - val_mean_absolute_error: 0.6196\n",
            "Epoch 138/500\n",
            "157/157 [==============================] - 1s 7ms/step - loss: 0.1653 - mean_absolute_error: 0.3029 - val_loss: 0.6806 - val_mean_absolute_error: 0.6162\n",
            "Epoch 139/500\n",
            "157/157 [==============================] - 1s 6ms/step - loss: 0.1536 - mean_absolute_error: 0.2923 - val_loss: 0.6662 - val_mean_absolute_error: 0.6144\n",
            "Epoch 140/500\n",
            "157/157 [==============================] - 1s 6ms/step - loss: 0.1654 - mean_absolute_error: 0.3081 - val_loss: 0.6945 - val_mean_absolute_error: 0.6225\n",
            "Epoch 141/500\n",
            "157/157 [==============================] - 1s 6ms/step - loss: 0.1554 - mean_absolute_error: 0.2978 - val_loss: 0.7002 - val_mean_absolute_error: 0.6132\n",
            "Epoch 142/500\n",
            "157/157 [==============================] - 1s 6ms/step - loss: 0.1555 - mean_absolute_error: 0.2958 - val_loss: 0.6817 - val_mean_absolute_error: 0.6178\n",
            "Epoch 143/500\n",
            "157/157 [==============================] - 1s 6ms/step - loss: 0.1530 - mean_absolute_error: 0.2934 - val_loss: 0.6793 - val_mean_absolute_error: 0.6128\n",
            "Epoch 144/500\n",
            "157/157 [==============================] - 1s 6ms/step - loss: 0.1557 - mean_absolute_error: 0.2936 - val_loss: 0.6848 - val_mean_absolute_error: 0.6175\n",
            "Epoch 145/500\n",
            "157/157 [==============================] - 1s 6ms/step - loss: 0.1593 - mean_absolute_error: 0.3000 - val_loss: 0.6779 - val_mean_absolute_error: 0.6187\n",
            "Epoch 146/500\n",
            "157/157 [==============================] - 1s 6ms/step - loss: 0.1667 - mean_absolute_error: 0.3058 - val_loss: 0.6633 - val_mean_absolute_error: 0.6155\n",
            "Epoch 147/500\n",
            "157/157 [==============================] - 1s 9ms/step - loss: 0.1554 - mean_absolute_error: 0.2954 - val_loss: 0.6787 - val_mean_absolute_error: 0.6112\n",
            "Epoch 148/500\n",
            "157/157 [==============================] - 1s 7ms/step - loss: 0.1686 - mean_absolute_error: 0.3072 - val_loss: 0.6613 - val_mean_absolute_error: 0.6164\n",
            "Epoch 149/500\n",
            "157/157 [==============================] - 1s 6ms/step - loss: 0.1658 - mean_absolute_error: 0.3038 - val_loss: 0.6756 - val_mean_absolute_error: 0.6139\n",
            "Epoch 150/500\n",
            "157/157 [==============================] - 1s 6ms/step - loss: 0.1611 - mean_absolute_error: 0.2998 - val_loss: 0.6687 - val_mean_absolute_error: 0.6117\n",
            "Epoch 151/500\n",
            "157/157 [==============================] - 1s 6ms/step - loss: 0.1584 - mean_absolute_error: 0.2966 - val_loss: 0.6694 - val_mean_absolute_error: 0.6082\n",
            "Epoch 152/500\n",
            "157/157 [==============================] - 1s 6ms/step - loss: 0.1639 - mean_absolute_error: 0.3035 - val_loss: 0.6669 - val_mean_absolute_error: 0.6100\n",
            "Epoch 153/500\n",
            "157/157 [==============================] - 1s 6ms/step - loss: 0.1648 - mean_absolute_error: 0.3055 - val_loss: 0.6672 - val_mean_absolute_error: 0.6155\n",
            "Epoch 154/500\n",
            "157/157 [==============================] - 1s 6ms/step - loss: 0.1611 - mean_absolute_error: 0.3012 - val_loss: 0.6562 - val_mean_absolute_error: 0.6117\n",
            "Epoch 155/500\n",
            "157/157 [==============================] - 1s 6ms/step - loss: 0.1628 - mean_absolute_error: 0.3010 - val_loss: 0.6942 - val_mean_absolute_error: 0.6240\n",
            "Epoch 156/500\n",
            "157/157 [==============================] - 1s 6ms/step - loss: 0.1588 - mean_absolute_error: 0.2980 - val_loss: 0.6932 - val_mean_absolute_error: 0.6173\n",
            "Epoch 157/500\n",
            "157/157 [==============================] - 1s 7ms/step - loss: 0.1565 - mean_absolute_error: 0.2962 - val_loss: 0.6799 - val_mean_absolute_error: 0.6132\n",
            "Epoch 158/500\n",
            "157/157 [==============================] - 1s 9ms/step - loss: 0.1583 - mean_absolute_error: 0.2974 - val_loss: 0.6772 - val_mean_absolute_error: 0.6154\n",
            "Epoch 159/500\n",
            "157/157 [==============================] - 1s 9ms/step - loss: 0.1585 - mean_absolute_error: 0.3005 - val_loss: 0.6842 - val_mean_absolute_error: 0.6147\n",
            "Epoch 160/500\n",
            "157/157 [==============================] - 2s 10ms/step - loss: 0.1577 - mean_absolute_error: 0.2951 - val_loss: 0.6787 - val_mean_absolute_error: 0.6172\n",
            "Epoch 161/500\n",
            "157/157 [==============================] - 1s 6ms/step - loss: 0.1591 - mean_absolute_error: 0.3001 - val_loss: 0.6927 - val_mean_absolute_error: 0.6201\n",
            "Epoch 162/500\n",
            "157/157 [==============================] - 1s 6ms/step - loss: 0.1664 - mean_absolute_error: 0.3042 - val_loss: 0.6623 - val_mean_absolute_error: 0.6145\n",
            "Epoch 163/500\n",
            "157/157 [==============================] - 1s 6ms/step - loss: 0.1593 - mean_absolute_error: 0.2998 - val_loss: 0.7003 - val_mean_absolute_error: 0.6234\n",
            "Epoch 164/500\n",
            "157/157 [==============================] - 1s 6ms/step - loss: 0.1564 - mean_absolute_error: 0.2994 - val_loss: 0.6796 - val_mean_absolute_error: 0.6156\n",
            "Epoch 165/500\n",
            "157/157 [==============================] - 1s 6ms/step - loss: 0.1593 - mean_absolute_error: 0.2976 - val_loss: 0.6471 - val_mean_absolute_error: 0.6108\n",
            "Epoch 166/500\n",
            "157/157 [==============================] - 1s 6ms/step - loss: 0.1570 - mean_absolute_error: 0.2946 - val_loss: 0.6938 - val_mean_absolute_error: 0.6218\n",
            "Epoch 167/500\n",
            "157/157 [==============================] - 1s 6ms/step - loss: 0.1606 - mean_absolute_error: 0.3015 - val_loss: 0.7002 - val_mean_absolute_error: 0.6193\n",
            "Epoch 168/500\n",
            "157/157 [==============================] - 1s 6ms/step - loss: 0.1555 - mean_absolute_error: 0.2957 - val_loss: 0.7116 - val_mean_absolute_error: 0.6211\n",
            "Epoch 169/500\n",
            "157/157 [==============================] - 1s 6ms/step - loss: 0.1553 - mean_absolute_error: 0.2951 - val_loss: 0.6912 - val_mean_absolute_error: 0.6232\n",
            "Epoch 170/500\n",
            "157/157 [==============================] - 2s 10ms/step - loss: 0.1607 - mean_absolute_error: 0.2980 - val_loss: 0.6836 - val_mean_absolute_error: 0.6151\n",
            "Epoch 171/500\n",
            "157/157 [==============================] - 1s 8ms/step - loss: 0.1526 - mean_absolute_error: 0.2939 - val_loss: 0.7123 - val_mean_absolute_error: 0.6222\n",
            "Epoch 172/500\n",
            "157/157 [==============================] - 1s 6ms/step - loss: 0.1549 - mean_absolute_error: 0.2930 - val_loss: 0.6588 - val_mean_absolute_error: 0.6134\n",
            "Epoch 173/500\n",
            "157/157 [==============================] - 1s 6ms/step - loss: 0.1542 - mean_absolute_error: 0.2936 - val_loss: 0.6839 - val_mean_absolute_error: 0.6163\n",
            "Epoch 174/500\n",
            "157/157 [==============================] - 1s 6ms/step - loss: 0.1578 - mean_absolute_error: 0.2972 - val_loss: 0.6936 - val_mean_absolute_error: 0.6174\n",
            "Epoch 175/500\n",
            "157/157 [==============================] - 1s 6ms/step - loss: 0.1598 - mean_absolute_error: 0.2998 - val_loss: 0.6914 - val_mean_absolute_error: 0.6170\n",
            "Epoch 176/500\n",
            "157/157 [==============================] - 1s 6ms/step - loss: 0.1681 - mean_absolute_error: 0.3048 - val_loss: 0.6658 - val_mean_absolute_error: 0.6162\n",
            "Epoch 177/500\n",
            "157/157 [==============================] - 1s 6ms/step - loss: 0.1602 - mean_absolute_error: 0.3014 - val_loss: 0.6817 - val_mean_absolute_error: 0.6116\n",
            "Epoch 178/500\n",
            "157/157 [==============================] - 1s 6ms/step - loss: 0.1607 - mean_absolute_error: 0.3009 - val_loss: 0.6801 - val_mean_absolute_error: 0.6219\n",
            "Epoch 179/500\n",
            "157/157 [==============================] - 1s 6ms/step - loss: 0.1517 - mean_absolute_error: 0.2911 - val_loss: 0.6696 - val_mean_absolute_error: 0.6172\n",
            "Epoch 180/500\n",
            "157/157 [==============================] - 1s 6ms/step - loss: 0.1570 - mean_absolute_error: 0.3001 - val_loss: 0.6669 - val_mean_absolute_error: 0.6135\n",
            "Epoch 181/500\n",
            "157/157 [==============================] - 1s 7ms/step - loss: 0.1510 - mean_absolute_error: 0.2913 - val_loss: 0.6619 - val_mean_absolute_error: 0.6144\n",
            "Epoch 182/500\n",
            "157/157 [==============================] - 1s 9ms/step - loss: 0.1581 - mean_absolute_error: 0.2979 - val_loss: 0.6630 - val_mean_absolute_error: 0.6121\n",
            "Epoch 183/500\n",
            "157/157 [==============================] - 1s 7ms/step - loss: 0.1580 - mean_absolute_error: 0.2982 - val_loss: 0.6581 - val_mean_absolute_error: 0.6159\n",
            "Epoch 184/500\n",
            "157/157 [==============================] - 1s 6ms/step - loss: 0.1637 - mean_absolute_error: 0.3006 - val_loss: 0.6667 - val_mean_absolute_error: 0.6145\n",
            "Epoch 185/500\n",
            "157/157 [==============================] - 1s 7ms/step - loss: 0.1602 - mean_absolute_error: 0.2979 - val_loss: 0.6734 - val_mean_absolute_error: 0.6120\n",
            "Epoch 186/500\n",
            "157/157 [==============================] - 1s 6ms/step - loss: 0.1522 - mean_absolute_error: 0.2928 - val_loss: 0.6440 - val_mean_absolute_error: 0.6077\n",
            "Epoch 187/500\n",
            "157/157 [==============================] - 1s 6ms/step - loss: 0.1562 - mean_absolute_error: 0.2990 - val_loss: 0.6741 - val_mean_absolute_error: 0.6147\n",
            "Epoch 188/500\n",
            "157/157 [==============================] - 1s 6ms/step - loss: 0.1582 - mean_absolute_error: 0.3005 - val_loss: 0.6658 - val_mean_absolute_error: 0.6167\n",
            "Epoch 189/500\n",
            "157/157 [==============================] - 1s 6ms/step - loss: 0.1548 - mean_absolute_error: 0.2975 - val_loss: 0.6782 - val_mean_absolute_error: 0.6142\n",
            "Epoch 190/500\n",
            "157/157 [==============================] - 1s 6ms/step - loss: 0.1595 - mean_absolute_error: 0.3015 - val_loss: 0.6729 - val_mean_absolute_error: 0.6144\n",
            "Epoch 191/500\n",
            "157/157 [==============================] - 1s 6ms/step - loss: 0.1658 - mean_absolute_error: 0.3050 - val_loss: 0.6830 - val_mean_absolute_error: 0.6116\n",
            "Epoch 192/500\n",
            "157/157 [==============================] - 1s 6ms/step - loss: 0.1558 - mean_absolute_error: 0.2951 - val_loss: 0.6819 - val_mean_absolute_error: 0.6133\n",
            "Epoch 193/500\n",
            "157/157 [==============================] - 2s 10ms/step - loss: 0.1666 - mean_absolute_error: 0.3054 - val_loss: 0.6624 - val_mean_absolute_error: 0.6052\n",
            "Epoch 194/500\n",
            "157/157 [==============================] - 1s 9ms/step - loss: 0.1562 - mean_absolute_error: 0.2971 - val_loss: 0.6710 - val_mean_absolute_error: 0.6069\n",
            "Epoch 195/500\n",
            "157/157 [==============================] - 1s 6ms/step - loss: 0.1606 - mean_absolute_error: 0.2992 - val_loss: 0.6759 - val_mean_absolute_error: 0.6134\n",
            "Epoch 196/500\n",
            "157/157 [==============================] - 1s 6ms/step - loss: 0.1534 - mean_absolute_error: 0.2972 - val_loss: 0.6672 - val_mean_absolute_error: 0.6152\n",
            "Epoch 197/500\n",
            "157/157 [==============================] - 1s 5ms/step - loss: 0.1551 - mean_absolute_error: 0.2946 - val_loss: 0.6726 - val_mean_absolute_error: 0.6141\n",
            "Epoch 198/500\n",
            "157/157 [==============================] - 1s 6ms/step - loss: 0.1648 - mean_absolute_error: 0.3019 - val_loss: 0.6862 - val_mean_absolute_error: 0.6187\n",
            "Epoch 199/500\n",
            "157/157 [==============================] - 1s 6ms/step - loss: 0.1564 - mean_absolute_error: 0.2959 - val_loss: 0.6504 - val_mean_absolute_error: 0.6115\n",
            "Epoch 200/500\n",
            "157/157 [==============================] - 1s 6ms/step - loss: 0.1619 - mean_absolute_error: 0.3036 - val_loss: 0.6673 - val_mean_absolute_error: 0.6155\n",
            "Epoch 201/500\n",
            "157/157 [==============================] - 1s 6ms/step - loss: 0.1575 - mean_absolute_error: 0.2964 - val_loss: 0.6845 - val_mean_absolute_error: 0.6160\n",
            "Epoch 202/500\n",
            "157/157 [==============================] - 1s 6ms/step - loss: 0.1612 - mean_absolute_error: 0.3001 - val_loss: 0.6741 - val_mean_absolute_error: 0.6140\n",
            "Epoch 203/500\n",
            "157/157 [==============================] - 1s 7ms/step - loss: 0.1593 - mean_absolute_error: 0.2973 - val_loss: 0.6845 - val_mean_absolute_error: 0.6154\n",
            "Epoch 204/500\n",
            "157/157 [==============================] - 1s 9ms/step - loss: 0.1624 - mean_absolute_error: 0.3060 - val_loss: 0.6740 - val_mean_absolute_error: 0.6156\n",
            "Epoch 205/500\n",
            "157/157 [==============================] - 1s 9ms/step - loss: 0.1558 - mean_absolute_error: 0.2960 - val_loss: 0.6826 - val_mean_absolute_error: 0.6172\n",
            "Epoch 206/500\n",
            "157/157 [==============================] - 1s 6ms/step - loss: 0.1540 - mean_absolute_error: 0.2963 - val_loss: 0.6920 - val_mean_absolute_error: 0.6220\n",
            "Epoch 207/500\n",
            "157/157 [==============================] - 1s 6ms/step - loss: 0.1579 - mean_absolute_error: 0.3009 - val_loss: 0.6718 - val_mean_absolute_error: 0.6126\n",
            "Epoch 208/500\n",
            "157/157 [==============================] - 1s 7ms/step - loss: 0.1568 - mean_absolute_error: 0.2952 - val_loss: 0.6748 - val_mean_absolute_error: 0.6146\n",
            "Epoch 209/500\n",
            "157/157 [==============================] - 1s 6ms/step - loss: 0.1625 - mean_absolute_error: 0.3012 - val_loss: 0.7041 - val_mean_absolute_error: 0.6192\n",
            "Epoch 210/500\n",
            "157/157 [==============================] - 1s 7ms/step - loss: 0.1547 - mean_absolute_error: 0.2948 - val_loss: 0.6839 - val_mean_absolute_error: 0.6219\n",
            "Epoch 211/500\n",
            "157/157 [==============================] - 1s 6ms/step - loss: 0.1543 - mean_absolute_error: 0.2944 - val_loss: 0.6880 - val_mean_absolute_error: 0.6130\n",
            "Epoch 212/500\n",
            "157/157 [==============================] - 1s 6ms/step - loss: 0.1540 - mean_absolute_error: 0.2935 - val_loss: 0.6802 - val_mean_absolute_error: 0.6159\n",
            "Epoch 213/500\n",
            "157/157 [==============================] - 1s 6ms/step - loss: 0.1574 - mean_absolute_error: 0.2964 - val_loss: 0.6795 - val_mean_absolute_error: 0.6091\n",
            "Epoch 214/500\n",
            "157/157 [==============================] - 1s 7ms/step - loss: 0.1677 - mean_absolute_error: 0.3065 - val_loss: 0.6783 - val_mean_absolute_error: 0.6184\n",
            "Epoch 215/500\n",
            "157/157 [==============================] - 1s 9ms/step - loss: 0.1620 - mean_absolute_error: 0.3026 - val_loss: 0.6736 - val_mean_absolute_error: 0.6169\n",
            "Epoch 216/500\n",
            "157/157 [==============================] - 1s 6ms/step - loss: 0.1543 - mean_absolute_error: 0.2955 - val_loss: 0.6866 - val_mean_absolute_error: 0.6153\n",
            "Epoch 217/500\n",
            "157/157 [==============================] - 1s 6ms/step - loss: 0.1607 - mean_absolute_error: 0.2986 - val_loss: 0.7055 - val_mean_absolute_error: 0.6229\n",
            "Epoch 218/500\n",
            "157/157 [==============================] - 1s 6ms/step - loss: 0.1545 - mean_absolute_error: 0.2956 - val_loss: 0.7019 - val_mean_absolute_error: 0.6202\n",
            "Epoch 219/500\n",
            "157/157 [==============================] - 1s 6ms/step - loss: 0.1610 - mean_absolute_error: 0.2995 - val_loss: 0.6724 - val_mean_absolute_error: 0.6140\n",
            "Epoch 220/500\n",
            "157/157 [==============================] - 1s 6ms/step - loss: 0.1626 - mean_absolute_error: 0.3027 - val_loss: 0.6711 - val_mean_absolute_error: 0.6126\n",
            "Epoch 221/500\n",
            "157/157 [==============================] - 1s 6ms/step - loss: 0.1533 - mean_absolute_error: 0.2949 - val_loss: 0.6862 - val_mean_absolute_error: 0.6175\n",
            "Epoch 222/500\n",
            "157/157 [==============================] - 1s 6ms/step - loss: 0.1541 - mean_absolute_error: 0.2934 - val_loss: 0.6743 - val_mean_absolute_error: 0.6180\n",
            "Epoch 223/500\n",
            "157/157 [==============================] - 1s 6ms/step - loss: 0.1630 - mean_absolute_error: 0.3024 - val_loss: 0.6639 - val_mean_absolute_error: 0.6141\n",
            "Epoch 224/500\n",
            "157/157 [==============================] - 1s 6ms/step - loss: 0.1646 - mean_absolute_error: 0.3046 - val_loss: 0.6871 - val_mean_absolute_error: 0.6161\n",
            "Epoch 225/500\n",
            "157/157 [==============================] - 1s 6ms/step - loss: 0.1512 - mean_absolute_error: 0.2941 - val_loss: 0.6720 - val_mean_absolute_error: 0.6138\n",
            "Epoch 226/500\n",
            "157/157 [==============================] - 1s 8ms/step - loss: 0.1546 - mean_absolute_error: 0.2937 - val_loss: 0.6800 - val_mean_absolute_error: 0.6168\n",
            "Epoch 227/500\n",
            "157/157 [==============================] - 1s 8ms/step - loss: 0.1574 - mean_absolute_error: 0.3005 - val_loss: 0.6930 - val_mean_absolute_error: 0.6247\n",
            "Epoch 228/500\n",
            "157/157 [==============================] - 1s 6ms/step - loss: 0.1581 - mean_absolute_error: 0.2989 - val_loss: 0.6963 - val_mean_absolute_error: 0.6185\n",
            "Epoch 229/500\n",
            "157/157 [==============================] - 1s 6ms/step - loss: 0.1513 - mean_absolute_error: 0.2913 - val_loss: 0.7145 - val_mean_absolute_error: 0.6250\n",
            "Epoch 230/500\n",
            "157/157 [==============================] - 1s 6ms/step - loss: 0.1609 - mean_absolute_error: 0.3020 - val_loss: 0.6631 - val_mean_absolute_error: 0.6134\n",
            "Epoch 231/500\n",
            "157/157 [==============================] - 1s 6ms/step - loss: 0.1631 - mean_absolute_error: 0.3022 - val_loss: 0.7048 - val_mean_absolute_error: 0.6253\n",
            "Epoch 232/500\n",
            "157/157 [==============================] - 1s 6ms/step - loss: 0.1581 - mean_absolute_error: 0.2993 - val_loss: 0.6791 - val_mean_absolute_error: 0.6211\n",
            "Epoch 233/500\n",
            "157/157 [==============================] - 1s 6ms/step - loss: 0.1541 - mean_absolute_error: 0.2946 - val_loss: 0.6856 - val_mean_absolute_error: 0.6230\n",
            "Epoch 234/500\n",
            "157/157 [==============================] - 1s 6ms/step - loss: 0.1600 - mean_absolute_error: 0.2999 - val_loss: 0.6691 - val_mean_absolute_error: 0.6161\n",
            "Epoch 235/500\n",
            "157/157 [==============================] - 1s 6ms/step - loss: 0.1570 - mean_absolute_error: 0.2964 - val_loss: 0.6710 - val_mean_absolute_error: 0.6177\n",
            "Epoch 236/500\n",
            "157/157 [==============================] - 1s 6ms/step - loss: 0.1618 - mean_absolute_error: 0.3020 - val_loss: 0.6868 - val_mean_absolute_error: 0.6243\n",
            "Epoch 237/500\n",
            "157/157 [==============================] - 2s 10ms/step - loss: 0.1572 - mean_absolute_error: 0.2955 - val_loss: 0.6768 - val_mean_absolute_error: 0.6202\n",
            "Epoch 238/500\n",
            "157/157 [==============================] - 1s 9ms/step - loss: 0.1579 - mean_absolute_error: 0.3010 - val_loss: 0.6918 - val_mean_absolute_error: 0.6233\n",
            "Epoch 239/500\n",
            "157/157 [==============================] - 1s 6ms/step - loss: 0.1568 - mean_absolute_error: 0.2981 - val_loss: 0.6598 - val_mean_absolute_error: 0.6188\n",
            "Epoch 240/500\n",
            "157/157 [==============================] - 1s 6ms/step - loss: 0.1621 - mean_absolute_error: 0.3015 - val_loss: 0.6810 - val_mean_absolute_error: 0.6193\n",
            "Epoch 241/500\n",
            "157/157 [==============================] - 1s 6ms/step - loss: 0.1637 - mean_absolute_error: 0.3049 - val_loss: 0.6715 - val_mean_absolute_error: 0.6147\n",
            "Epoch 242/500\n",
            "157/157 [==============================] - 1s 6ms/step - loss: 0.1517 - mean_absolute_error: 0.2925 - val_loss: 0.6799 - val_mean_absolute_error: 0.6156\n",
            "Epoch 243/500\n",
            "157/157 [==============================] - 1s 6ms/step - loss: 0.1530 - mean_absolute_error: 0.2920 - val_loss: 0.6929 - val_mean_absolute_error: 0.6213\n",
            "Epoch 244/500\n",
            "157/157 [==============================] - 1s 6ms/step - loss: 0.1559 - mean_absolute_error: 0.2939 - val_loss: 0.6802 - val_mean_absolute_error: 0.6136\n",
            "Epoch 245/500\n",
            "157/157 [==============================] - 1s 6ms/step - loss: 0.1604 - mean_absolute_error: 0.2985 - val_loss: 0.6956 - val_mean_absolute_error: 0.6205\n",
            "Epoch 246/500\n",
            "157/157 [==============================] - 1s 6ms/step - loss: 0.1561 - mean_absolute_error: 0.2959 - val_loss: 0.7167 - val_mean_absolute_error: 0.6190\n",
            "Epoch 247/500\n",
            "157/157 [==============================] - 1s 8ms/step - loss: 0.1584 - mean_absolute_error: 0.2955 - val_loss: 0.6832 - val_mean_absolute_error: 0.6155\n",
            "Epoch 248/500\n",
            "157/157 [==============================] - 1s 9ms/step - loss: 0.1595 - mean_absolute_error: 0.2969 - val_loss: 0.6978 - val_mean_absolute_error: 0.6177\n",
            "Epoch 249/500\n",
            "157/157 [==============================] - 1s 9ms/step - loss: 0.1575 - mean_absolute_error: 0.2968 - val_loss: 0.7014 - val_mean_absolute_error: 0.6227\n",
            "Epoch 250/500\n",
            "157/157 [==============================] - 1s 6ms/step - loss: 0.1604 - mean_absolute_error: 0.3008 - val_loss: 0.6845 - val_mean_absolute_error: 0.6180\n",
            "Epoch 251/500\n",
            "157/157 [==============================] - 1s 7ms/step - loss: 0.1591 - mean_absolute_error: 0.2983 - val_loss: 0.7156 - val_mean_absolute_error: 0.6261\n",
            "Epoch 252/500\n",
            "157/157 [==============================] - 1s 6ms/step - loss: 0.1583 - mean_absolute_error: 0.3008 - val_loss: 0.6933 - val_mean_absolute_error: 0.6167\n",
            "Epoch 253/500\n",
            "157/157 [==============================] - 1s 6ms/step - loss: 0.1516 - mean_absolute_error: 0.2921 - val_loss: 0.6687 - val_mean_absolute_error: 0.6166\n",
            "Epoch 254/500\n",
            "157/157 [==============================] - 1s 6ms/step - loss: 0.1523 - mean_absolute_error: 0.2923 - val_loss: 0.7032 - val_mean_absolute_error: 0.6268\n",
            "Epoch 255/500\n",
            "157/157 [==============================] - 1s 6ms/step - loss: 0.1574 - mean_absolute_error: 0.2969 - val_loss: 0.6992 - val_mean_absolute_error: 0.6207\n",
            "Epoch 256/500\n",
            "157/157 [==============================] - 1s 6ms/step - loss: 0.1515 - mean_absolute_error: 0.2901 - val_loss: 0.6991 - val_mean_absolute_error: 0.6224\n",
            "Epoch 257/500\n",
            "157/157 [==============================] - 1s 6ms/step - loss: 0.1636 - mean_absolute_error: 0.3028 - val_loss: 0.6843 - val_mean_absolute_error: 0.6210\n",
            "Epoch 258/500\n",
            "157/157 [==============================] - 1s 6ms/step - loss: 0.1641 - mean_absolute_error: 0.3035 - val_loss: 0.6968 - val_mean_absolute_error: 0.6216\n",
            "Epoch 259/500\n",
            "157/157 [==============================] - 1s 8ms/step - loss: 0.1566 - mean_absolute_error: 0.2958 - val_loss: 0.6888 - val_mean_absolute_error: 0.6230\n",
            "Epoch 260/500\n",
            "157/157 [==============================] - 1s 9ms/step - loss: 0.1576 - mean_absolute_error: 0.2995 - val_loss: 0.6854 - val_mean_absolute_error: 0.6212\n",
            "Epoch 261/500\n",
            "157/157 [==============================] - 1s 6ms/step - loss: 0.1601 - mean_absolute_error: 0.3007 - val_loss: 0.7058 - val_mean_absolute_error: 0.6212\n",
            "Epoch 262/500\n",
            "157/157 [==============================] - 1s 6ms/step - loss: 0.1533 - mean_absolute_error: 0.2945 - val_loss: 0.6953 - val_mean_absolute_error: 0.6192\n",
            "Epoch 263/500\n",
            "157/157 [==============================] - 1s 6ms/step - loss: 0.1616 - mean_absolute_error: 0.3028 - val_loss: 0.7113 - val_mean_absolute_error: 0.6212\n",
            "Epoch 264/500\n",
            "157/157 [==============================] - 1s 6ms/step - loss: 0.1576 - mean_absolute_error: 0.2965 - val_loss: 0.6794 - val_mean_absolute_error: 0.6180\n",
            "Epoch 265/500\n",
            "157/157 [==============================] - 1s 6ms/step - loss: 0.1511 - mean_absolute_error: 0.2910 - val_loss: 0.6838 - val_mean_absolute_error: 0.6200\n",
            "Epoch 266/500\n",
            "157/157 [==============================] - 1s 6ms/step - loss: 0.1622 - mean_absolute_error: 0.3002 - val_loss: 0.6788 - val_mean_absolute_error: 0.6153\n",
            "Epoch 267/500\n",
            "157/157 [==============================] - 1s 6ms/step - loss: 0.1608 - mean_absolute_error: 0.3006 - val_loss: 0.6918 - val_mean_absolute_error: 0.6185\n",
            "Epoch 268/500\n",
            "157/157 [==============================] - 1s 6ms/step - loss: 0.1567 - mean_absolute_error: 0.2976 - val_loss: 0.6829 - val_mean_absolute_error: 0.6201\n",
            "Epoch 269/500\n",
            "157/157 [==============================] - 1s 8ms/step - loss: 0.1543 - mean_absolute_error: 0.2951 - val_loss: 0.7140 - val_mean_absolute_error: 0.6219\n",
            "Epoch 270/500\n",
            "157/157 [==============================] - 1s 9ms/step - loss: 0.1608 - mean_absolute_error: 0.3012 - val_loss: 0.6793 - val_mean_absolute_error: 0.6186\n",
            "Epoch 271/500\n",
            "157/157 [==============================] - 1s 9ms/step - loss: 0.1567 - mean_absolute_error: 0.2962 - val_loss: 0.7188 - val_mean_absolute_error: 0.6257\n",
            "Epoch 272/500\n",
            "157/157 [==============================] - 1s 8ms/step - loss: 0.1566 - mean_absolute_error: 0.2961 - val_loss: 0.7005 - val_mean_absolute_error: 0.6205\n",
            "Epoch 273/500\n",
            "157/157 [==============================] - 1s 6ms/step - loss: 0.1619 - mean_absolute_error: 0.3021 - val_loss: 0.6886 - val_mean_absolute_error: 0.6228\n",
            "Epoch 274/500\n",
            "157/157 [==============================] - 1s 6ms/step - loss: 0.1587 - mean_absolute_error: 0.2965 - val_loss: 0.6997 - val_mean_absolute_error: 0.6226\n",
            "Epoch 275/500\n",
            "157/157 [==============================] - 1s 6ms/step - loss: 0.1656 - mean_absolute_error: 0.3026 - val_loss: 0.6949 - val_mean_absolute_error: 0.6181\n",
            "Epoch 276/500\n",
            "157/157 [==============================] - 1s 6ms/step - loss: 0.1529 - mean_absolute_error: 0.2918 - val_loss: 0.7118 - val_mean_absolute_error: 0.6225\n",
            "Epoch 277/500\n",
            "157/157 [==============================] - 1s 6ms/step - loss: 0.1590 - mean_absolute_error: 0.2991 - val_loss: 0.7105 - val_mean_absolute_error: 0.6239\n",
            "Epoch 278/500\n",
            "157/157 [==============================] - 1s 6ms/step - loss: 0.1571 - mean_absolute_error: 0.2938 - val_loss: 0.6614 - val_mean_absolute_error: 0.6135\n",
            "Epoch 279/500\n",
            "157/157 [==============================] - 1s 6ms/step - loss: 0.1560 - mean_absolute_error: 0.2956 - val_loss: 0.7016 - val_mean_absolute_error: 0.6220\n",
            "Epoch 280/500\n",
            "157/157 [==============================] - 1s 6ms/step - loss: 0.1590 - mean_absolute_error: 0.2971 - val_loss: 0.6810 - val_mean_absolute_error: 0.6212\n",
            "Epoch 281/500\n",
            "157/157 [==============================] - 1s 8ms/step - loss: 0.1570 - mean_absolute_error: 0.2964 - val_loss: 0.6877 - val_mean_absolute_error: 0.6222\n",
            "Epoch 282/500\n",
            "157/157 [==============================] - 1s 9ms/step - loss: 0.1569 - mean_absolute_error: 0.2991 - val_loss: 0.6930 - val_mean_absolute_error: 0.6201\n",
            "Epoch 283/500\n",
            "157/157 [==============================] - 1s 9ms/step - loss: 0.1603 - mean_absolute_error: 0.2978 - val_loss: 0.7102 - val_mean_absolute_error: 0.6291\n",
            "Epoch 284/500\n",
            "157/157 [==============================] - 1s 9ms/step - loss: 0.1535 - mean_absolute_error: 0.2927 - val_loss: 0.6660 - val_mean_absolute_error: 0.6195\n",
            "Epoch 285/500\n",
            "157/157 [==============================] - 1s 6ms/step - loss: 0.1611 - mean_absolute_error: 0.2999 - val_loss: 0.6940 - val_mean_absolute_error: 0.6202\n",
            "Epoch 286/500\n",
            "157/157 [==============================] - 1s 6ms/step - loss: 0.1609 - mean_absolute_error: 0.3011 - val_loss: 0.7186 - val_mean_absolute_error: 0.6264\n",
            "Epoch 287/500\n",
            "157/157 [==============================] - 1s 6ms/step - loss: 0.1581 - mean_absolute_error: 0.2981 - val_loss: 0.6976 - val_mean_absolute_error: 0.6179\n",
            "Epoch 288/500\n",
            "157/157 [==============================] - 1s 6ms/step - loss: 0.1525 - mean_absolute_error: 0.2930 - val_loss: 0.7134 - val_mean_absolute_error: 0.6238\n",
            "Epoch 289/500\n",
            "157/157 [==============================] - 1s 6ms/step - loss: 0.1600 - mean_absolute_error: 0.2975 - val_loss: 0.7048 - val_mean_absolute_error: 0.6214\n",
            "Epoch 290/500\n",
            "157/157 [==============================] - 1s 6ms/step - loss: 0.1569 - mean_absolute_error: 0.2958 - val_loss: 0.7287 - val_mean_absolute_error: 0.6300\n",
            "Epoch 291/500\n",
            "157/157 [==============================] - 1s 6ms/step - loss: 0.1604 - mean_absolute_error: 0.3000 - val_loss: 0.6888 - val_mean_absolute_error: 0.6203\n",
            "Epoch 292/500\n",
            "157/157 [==============================] - 1s 6ms/step - loss: 0.1496 - mean_absolute_error: 0.2900 - val_loss: 0.7123 - val_mean_absolute_error: 0.6241\n",
            "Epoch 293/500\n",
            "157/157 [==============================] - 2s 10ms/step - loss: 0.1594 - mean_absolute_error: 0.2957 - val_loss: 0.7006 - val_mean_absolute_error: 0.6166\n",
            "Epoch 294/500\n",
            "157/157 [==============================] - 1s 7ms/step - loss: 0.1583 - mean_absolute_error: 0.2966 - val_loss: 0.6880 - val_mean_absolute_error: 0.6223\n",
            "Epoch 295/500\n",
            "157/157 [==============================] - 1s 6ms/step - loss: 0.1558 - mean_absolute_error: 0.2960 - val_loss: 0.6797 - val_mean_absolute_error: 0.6204\n",
            "Epoch 296/500\n",
            "157/157 [==============================] - 1s 6ms/step - loss: 0.1562 - mean_absolute_error: 0.2915 - val_loss: 0.7117 - val_mean_absolute_error: 0.6206\n",
            "Epoch 297/500\n",
            "157/157 [==============================] - 1s 6ms/step - loss: 0.1617 - mean_absolute_error: 0.2999 - val_loss: 0.7081 - val_mean_absolute_error: 0.6249\n",
            "Epoch 298/500\n",
            "157/157 [==============================] - 1s 6ms/step - loss: 0.1582 - mean_absolute_error: 0.2971 - val_loss: 0.6990 - val_mean_absolute_error: 0.6213\n",
            "Epoch 299/500\n",
            "157/157 [==============================] - 1s 6ms/step - loss: 0.1611 - mean_absolute_error: 0.3012 - val_loss: 0.6905 - val_mean_absolute_error: 0.6168\n",
            "Epoch 300/500\n",
            "157/157 [==============================] - 1s 6ms/step - loss: 0.1631 - mean_absolute_error: 0.3031 - val_loss: 0.6852 - val_mean_absolute_error: 0.6151\n",
            "Epoch 301/500\n",
            "157/157 [==============================] - 1s 6ms/step - loss: 0.1558 - mean_absolute_error: 0.2950 - val_loss: 0.6951 - val_mean_absolute_error: 0.6212\n",
            "Epoch 302/500\n",
            "157/157 [==============================] - 1s 6ms/step - loss: 0.1629 - mean_absolute_error: 0.3030 - val_loss: 0.7085 - val_mean_absolute_error: 0.6183\n",
            "Epoch 303/500\n",
            "157/157 [==============================] - 1s 8ms/step - loss: 0.1587 - mean_absolute_error: 0.2981 - val_loss: 0.6773 - val_mean_absolute_error: 0.6220\n",
            "Epoch 304/500\n",
            "157/157 [==============================] - 1s 9ms/step - loss: 0.1573 - mean_absolute_error: 0.2990 - val_loss: 0.6743 - val_mean_absolute_error: 0.6187\n",
            "Epoch 305/500\n",
            "157/157 [==============================] - 1s 6ms/step - loss: 0.1600 - mean_absolute_error: 0.2965 - val_loss: 0.6973 - val_mean_absolute_error: 0.6240\n",
            "Epoch 306/500\n",
            "157/157 [==============================] - 1s 6ms/step - loss: 0.1564 - mean_absolute_error: 0.2994 - val_loss: 0.7108 - val_mean_absolute_error: 0.6223\n",
            "Epoch 307/500\n",
            "157/157 [==============================] - 1s 6ms/step - loss: 0.1543 - mean_absolute_error: 0.2933 - val_loss: 0.6799 - val_mean_absolute_error: 0.6218\n",
            "Epoch 308/500\n",
            "157/157 [==============================] - 1s 6ms/step - loss: 0.1576 - mean_absolute_error: 0.2986 - val_loss: 0.7005 - val_mean_absolute_error: 0.6234\n",
            "Epoch 309/500\n",
            "157/157 [==============================] - 1s 6ms/step - loss: 0.1568 - mean_absolute_error: 0.2961 - val_loss: 0.6767 - val_mean_absolute_error: 0.6172\n",
            "Epoch 310/500\n",
            "157/157 [==============================] - 1s 6ms/step - loss: 0.1579 - mean_absolute_error: 0.2982 - val_loss: 0.6736 - val_mean_absolute_error: 0.6204\n",
            "Epoch 311/500\n",
            "157/157 [==============================] - 1s 6ms/step - loss: 0.1576 - mean_absolute_error: 0.2994 - val_loss: 0.7189 - val_mean_absolute_error: 0.6265\n",
            "Epoch 312/500\n",
            "157/157 [==============================] - 1s 6ms/step - loss: 0.1571 - mean_absolute_error: 0.2990 - val_loss: 0.6699 - val_mean_absolute_error: 0.6191\n",
            "Epoch 313/500\n",
            "157/157 [==============================] - 1s 6ms/step - loss: 0.1634 - mean_absolute_error: 0.3068 - val_loss: 0.6753 - val_mean_absolute_error: 0.6191\n",
            "Epoch 314/500\n",
            "157/157 [==============================] - 1s 9ms/step - loss: 0.1608 - mean_absolute_error: 0.2988 - val_loss: 0.7046 - val_mean_absolute_error: 0.6257\n",
            "Epoch 315/500\n",
            "157/157 [==============================] - 2s 10ms/step - loss: 0.1524 - mean_absolute_error: 0.2937 - val_loss: 0.6812 - val_mean_absolute_error: 0.6125\n",
            "Epoch 316/500\n",
            "157/157 [==============================] - 1s 7ms/step - loss: 0.1575 - mean_absolute_error: 0.2955 - val_loss: 0.6764 - val_mean_absolute_error: 0.6207\n",
            "Epoch 317/500\n",
            "157/157 [==============================] - 1s 6ms/step - loss: 0.1534 - mean_absolute_error: 0.2940 - val_loss: 0.7035 - val_mean_absolute_error: 0.6208\n",
            "Epoch 318/500\n",
            "157/157 [==============================] - 1s 6ms/step - loss: 0.1540 - mean_absolute_error: 0.2936 - val_loss: 0.6945 - val_mean_absolute_error: 0.6229\n",
            "Epoch 319/500\n",
            "157/157 [==============================] - 1s 6ms/step - loss: 0.1569 - mean_absolute_error: 0.2952 - val_loss: 0.6969 - val_mean_absolute_error: 0.6247\n",
            "Epoch 320/500\n",
            "157/157 [==============================] - 1s 6ms/step - loss: 0.1546 - mean_absolute_error: 0.2954 - val_loss: 0.7046 - val_mean_absolute_error: 0.6175\n",
            "Epoch 321/500\n",
            "157/157 [==============================] - 1s 6ms/step - loss: 0.1618 - mean_absolute_error: 0.3013 - val_loss: 0.6766 - val_mean_absolute_error: 0.6173\n",
            "Epoch 322/500\n",
            "157/157 [==============================] - 1s 7ms/step - loss: 0.1558 - mean_absolute_error: 0.2962 - val_loss: 0.7062 - val_mean_absolute_error: 0.6267\n",
            "Epoch 323/500\n",
            "157/157 [==============================] - 1s 6ms/step - loss: 0.1553 - mean_absolute_error: 0.2954 - val_loss: 0.6903 - val_mean_absolute_error: 0.6192\n",
            "Epoch 324/500\n",
            "157/157 [==============================] - 1s 8ms/step - loss: 0.1576 - mean_absolute_error: 0.2989 - val_loss: 0.6960 - val_mean_absolute_error: 0.6230\n",
            "Epoch 325/500\n",
            "157/157 [==============================] - 2s 10ms/step - loss: 0.1560 - mean_absolute_error: 0.2981 - val_loss: 0.7038 - val_mean_absolute_error: 0.6188\n",
            "Epoch 326/500\n",
            "157/157 [==============================] - 2s 10ms/step - loss: 0.1487 - mean_absolute_error: 0.2897 - val_loss: 0.6972 - val_mean_absolute_error: 0.6241\n",
            "Epoch 327/500\n",
            "157/157 [==============================] - 1s 8ms/step - loss: 0.1590 - mean_absolute_error: 0.2979 - val_loss: 0.6997 - val_mean_absolute_error: 0.6209\n",
            "Epoch 328/500\n",
            "157/157 [==============================] - 1s 7ms/step - loss: 0.1569 - mean_absolute_error: 0.2977 - val_loss: 0.7111 - val_mean_absolute_error: 0.6233\n",
            "Epoch 329/500\n",
            "157/157 [==============================] - 1s 6ms/step - loss: 0.1589 - mean_absolute_error: 0.2993 - val_loss: 0.6796 - val_mean_absolute_error: 0.6143\n",
            "Epoch 330/500\n",
            "157/157 [==============================] - 1s 6ms/step - loss: 0.1546 - mean_absolute_error: 0.2962 - val_loss: 0.6895 - val_mean_absolute_error: 0.6204\n",
            "Epoch 331/500\n",
            "157/157 [==============================] - 1s 6ms/step - loss: 0.1562 - mean_absolute_error: 0.2950 - val_loss: 0.6757 - val_mean_absolute_error: 0.6185\n",
            "Epoch 332/500\n",
            "157/157 [==============================] - 1s 6ms/step - loss: 0.1579 - mean_absolute_error: 0.2970 - val_loss: 0.7264 - val_mean_absolute_error: 0.6245\n",
            "Epoch 333/500\n",
            "157/157 [==============================] - 1s 6ms/step - loss: 0.1572 - mean_absolute_error: 0.2965 - val_loss: 0.7323 - val_mean_absolute_error: 0.6248\n",
            "Epoch 334/500\n",
            "157/157 [==============================] - 1s 6ms/step - loss: 0.1611 - mean_absolute_error: 0.2977 - val_loss: 0.6969 - val_mean_absolute_error: 0.6230\n",
            "Epoch 335/500\n",
            "157/157 [==============================] - 1s 6ms/step - loss: 0.1523 - mean_absolute_error: 0.2915 - val_loss: 0.6971 - val_mean_absolute_error: 0.6242\n",
            "Epoch 336/500\n",
            "157/157 [==============================] - 1s 6ms/step - loss: 0.1573 - mean_absolute_error: 0.2987 - val_loss: 0.6630 - val_mean_absolute_error: 0.6177\n",
            "Epoch 337/500\n",
            "157/157 [==============================] - 2s 10ms/step - loss: 0.1632 - mean_absolute_error: 0.3032 - val_loss: 0.7060 - val_mean_absolute_error: 0.6223\n",
            "Epoch 338/500\n",
            "157/157 [==============================] - 1s 8ms/step - loss: 0.1610 - mean_absolute_error: 0.2991 - val_loss: 0.7327 - val_mean_absolute_error: 0.6314\n",
            "Epoch 339/500\n",
            "157/157 [==============================] - 1s 7ms/step - loss: 0.1530 - mean_absolute_error: 0.2934 - val_loss: 0.7027 - val_mean_absolute_error: 0.6252\n",
            "Epoch 340/500\n",
            "157/157 [==============================] - 1s 6ms/step - loss: 0.1478 - mean_absolute_error: 0.2884 - val_loss: 0.7295 - val_mean_absolute_error: 0.6291\n",
            "Epoch 341/500\n",
            "157/157 [==============================] - 1s 6ms/step - loss: 0.1624 - mean_absolute_error: 0.3010 - val_loss: 0.7092 - val_mean_absolute_error: 0.6259\n",
            "Epoch 342/500\n",
            "157/157 [==============================] - 1s 6ms/step - loss: 0.1557 - mean_absolute_error: 0.2967 - val_loss: 0.7004 - val_mean_absolute_error: 0.6207\n",
            "Epoch 343/500\n",
            "157/157 [==============================] - 1s 6ms/step - loss: 0.1543 - mean_absolute_error: 0.2950 - val_loss: 0.6823 - val_mean_absolute_error: 0.6193\n",
            "Epoch 344/500\n",
            "157/157 [==============================] - 1s 6ms/step - loss: 0.1620 - mean_absolute_error: 0.3040 - val_loss: 0.7119 - val_mean_absolute_error: 0.6254\n",
            "Epoch 345/500\n",
            "157/157 [==============================] - 1s 6ms/step - loss: 0.1522 - mean_absolute_error: 0.2948 - val_loss: 0.7203 - val_mean_absolute_error: 0.6210\n",
            "Epoch 346/500\n",
            "157/157 [==============================] - 1s 6ms/step - loss: 0.1589 - mean_absolute_error: 0.3017 - val_loss: 0.6876 - val_mean_absolute_error: 0.6207\n",
            "Epoch 347/500\n",
            "157/157 [==============================] - 1s 8ms/step - loss: 0.1502 - mean_absolute_error: 0.2916 - val_loss: 0.6918 - val_mean_absolute_error: 0.6191\n",
            "Epoch 348/500\n",
            "157/157 [==============================] - 1s 9ms/step - loss: 0.1525 - mean_absolute_error: 0.2954 - val_loss: 0.7231 - val_mean_absolute_error: 0.6222\n",
            "Epoch 349/500\n",
            "157/157 [==============================] - 1s 9ms/step - loss: 0.1579 - mean_absolute_error: 0.2978 - val_loss: 0.7203 - val_mean_absolute_error: 0.6206\n",
            "Epoch 350/500\n",
            "157/157 [==============================] - 1s 6ms/step - loss: 0.1567 - mean_absolute_error: 0.2966 - val_loss: 0.6845 - val_mean_absolute_error: 0.6226\n",
            "Epoch 351/500\n",
            "157/157 [==============================] - 1s 6ms/step - loss: 0.1599 - mean_absolute_error: 0.3021 - val_loss: 0.6968 - val_mean_absolute_error: 0.6252\n",
            "Epoch 352/500\n",
            "157/157 [==============================] - 1s 6ms/step - loss: 0.1527 - mean_absolute_error: 0.2941 - val_loss: 0.6823 - val_mean_absolute_error: 0.6157\n",
            "Epoch 353/500\n",
            "157/157 [==============================] - 1s 7ms/step - loss: 0.1548 - mean_absolute_error: 0.2936 - val_loss: 0.7074 - val_mean_absolute_error: 0.6264\n",
            "Epoch 354/500\n",
            "157/157 [==============================] - 1s 6ms/step - loss: 0.1589 - mean_absolute_error: 0.3005 - val_loss: 0.6825 - val_mean_absolute_error: 0.6194\n",
            "Epoch 355/500\n",
            "157/157 [==============================] - 1s 6ms/step - loss: 0.1562 - mean_absolute_error: 0.2959 - val_loss: 0.6901 - val_mean_absolute_error: 0.6235\n",
            "Epoch 356/500\n",
            "157/157 [==============================] - 1s 6ms/step - loss: 0.1540 - mean_absolute_error: 0.2959 - val_loss: 0.7398 - val_mean_absolute_error: 0.6307\n",
            "Epoch 357/500\n",
            "157/157 [==============================] - 1s 6ms/step - loss: 0.1554 - mean_absolute_error: 0.2973 - val_loss: 0.6981 - val_mean_absolute_error: 0.6201\n",
            "Epoch 358/500\n",
            "157/157 [==============================] - 1s 7ms/step - loss: 0.1578 - mean_absolute_error: 0.2982 - val_loss: 0.7175 - val_mean_absolute_error: 0.6244\n",
            "Epoch 359/500\n",
            "157/157 [==============================] - 2s 10ms/step - loss: 0.1622 - mean_absolute_error: 0.2999 - val_loss: 0.6731 - val_mean_absolute_error: 0.6143\n",
            "Epoch 360/500\n",
            "157/157 [==============================] - 1s 9ms/step - loss: 0.1569 - mean_absolute_error: 0.2959 - val_loss: 0.6872 - val_mean_absolute_error: 0.6199\n",
            "Epoch 361/500\n",
            "157/157 [==============================] - 1s 8ms/step - loss: 0.1525 - mean_absolute_error: 0.2930 - val_loss: 0.6907 - val_mean_absolute_error: 0.6242\n",
            "Epoch 362/500\n",
            "157/157 [==============================] - 1s 6ms/step - loss: 0.1605 - mean_absolute_error: 0.2999 - val_loss: 0.6805 - val_mean_absolute_error: 0.6208\n",
            "Epoch 363/500\n",
            "157/157 [==============================] - 1s 6ms/step - loss: 0.1570 - mean_absolute_error: 0.2968 - val_loss: 0.6769 - val_mean_absolute_error: 0.6224\n",
            "Epoch 364/500\n",
            "157/157 [==============================] - 1s 6ms/step - loss: 0.1557 - mean_absolute_error: 0.2966 - val_loss: 0.6982 - val_mean_absolute_error: 0.6246\n",
            "Epoch 365/500\n",
            "157/157 [==============================] - 1s 6ms/step - loss: 0.1527 - mean_absolute_error: 0.2927 - val_loss: 0.7036 - val_mean_absolute_error: 0.6299\n",
            "Epoch 366/500\n",
            "157/157 [==============================] - 1s 6ms/step - loss: 0.1536 - mean_absolute_error: 0.2953 - val_loss: 0.7098 - val_mean_absolute_error: 0.6298\n",
            "Epoch 367/500\n",
            "157/157 [==============================] - 1s 6ms/step - loss: 0.1559 - mean_absolute_error: 0.2952 - val_loss: 0.6795 - val_mean_absolute_error: 0.6203\n",
            "Epoch 368/500\n",
            "157/157 [==============================] - 1s 6ms/step - loss: 0.1583 - mean_absolute_error: 0.2976 - val_loss: 0.6782 - val_mean_absolute_error: 0.6174\n",
            "Epoch 369/500\n",
            "157/157 [==============================] - 1s 6ms/step - loss: 0.1536 - mean_absolute_error: 0.2932 - val_loss: 0.7298 - val_mean_absolute_error: 0.6352\n",
            "Epoch 370/500\n",
            "157/157 [==============================] - 1s 7ms/step - loss: 0.1525 - mean_absolute_error: 0.2937 - val_loss: 0.6812 - val_mean_absolute_error: 0.6196\n",
            "Epoch 371/500\n",
            "157/157 [==============================] - 1s 9ms/step - loss: 0.1592 - mean_absolute_error: 0.2997 - val_loss: 0.6686 - val_mean_absolute_error: 0.6179\n",
            "Epoch 372/500\n",
            "157/157 [==============================] - 1s 8ms/step - loss: 0.1604 - mean_absolute_error: 0.3001 - val_loss: 0.6666 - val_mean_absolute_error: 0.6089\n",
            "Epoch 373/500\n",
            "157/157 [==============================] - 1s 6ms/step - loss: 0.1570 - mean_absolute_error: 0.2963 - val_loss: 0.6905 - val_mean_absolute_error: 0.6148\n",
            "Epoch 374/500\n",
            "157/157 [==============================] - 1s 6ms/step - loss: 0.1613 - mean_absolute_error: 0.2995 - val_loss: 0.7075 - val_mean_absolute_error: 0.6274\n",
            "Epoch 375/500\n",
            "157/157 [==============================] - 1s 6ms/step - loss: 0.1545 - mean_absolute_error: 0.2945 - val_loss: 0.7222 - val_mean_absolute_error: 0.6246\n",
            "Epoch 376/500\n",
            "157/157 [==============================] - 1s 6ms/step - loss: 0.1595 - mean_absolute_error: 0.2979 - val_loss: 0.6840 - val_mean_absolute_error: 0.6183\n",
            "Epoch 377/500\n",
            "157/157 [==============================] - 1s 6ms/step - loss: 0.1546 - mean_absolute_error: 0.2952 - val_loss: 0.6931 - val_mean_absolute_error: 0.6251\n",
            "Epoch 378/500\n",
            "157/157 [==============================] - 1s 7ms/step - loss: 0.1552 - mean_absolute_error: 0.2947 - val_loss: 0.6943 - val_mean_absolute_error: 0.6221\n",
            "Epoch 379/500\n",
            "157/157 [==============================] - 1s 6ms/step - loss: 0.1555 - mean_absolute_error: 0.2935 - val_loss: 0.6947 - val_mean_absolute_error: 0.6225\n",
            "Epoch 380/500\n",
            "157/157 [==============================] - 1s 6ms/step - loss: 0.1523 - mean_absolute_error: 0.2943 - val_loss: 0.6836 - val_mean_absolute_error: 0.6188\n",
            "Epoch 381/500\n",
            "157/157 [==============================] - 1s 6ms/step - loss: 0.1573 - mean_absolute_error: 0.2976 - val_loss: 0.6855 - val_mean_absolute_error: 0.6210\n",
            "Epoch 382/500\n",
            "157/157 [==============================] - 1s 9ms/step - loss: 0.1500 - mean_absolute_error: 0.2910 - val_loss: 0.6975 - val_mean_absolute_error: 0.6188\n",
            "Epoch 383/500\n",
            "157/157 [==============================] - 1s 9ms/step - loss: 0.1601 - mean_absolute_error: 0.2997 - val_loss: 0.7070 - val_mean_absolute_error: 0.6182\n",
            "Epoch 384/500\n",
            "157/157 [==============================] - 2s 10ms/step - loss: 0.1622 - mean_absolute_error: 0.2984 - val_loss: 0.6947 - val_mean_absolute_error: 0.6219\n",
            "Epoch 385/500\n",
            "157/157 [==============================] - 1s 6ms/step - loss: 0.1583 - mean_absolute_error: 0.2956 - val_loss: 0.6871 - val_mean_absolute_error: 0.6208\n",
            "Epoch 386/500\n",
            "157/157 [==============================] - 1s 6ms/step - loss: 0.1602 - mean_absolute_error: 0.3012 - val_loss: 0.6849 - val_mean_absolute_error: 0.6186\n",
            "Epoch 387/500\n",
            "157/157 [==============================] - 1s 6ms/step - loss: 0.1591 - mean_absolute_error: 0.2996 - val_loss: 0.7024 - val_mean_absolute_error: 0.6260\n",
            "Epoch 388/500\n",
            "157/157 [==============================] - 1s 6ms/step - loss: 0.1531 - mean_absolute_error: 0.2946 - val_loss: 0.7147 - val_mean_absolute_error: 0.6258\n",
            "Epoch 389/500\n",
            "157/157 [==============================] - 1s 6ms/step - loss: 0.1556 - mean_absolute_error: 0.2974 - val_loss: 0.7093 - val_mean_absolute_error: 0.6207\n",
            "Epoch 390/500\n",
            "157/157 [==============================] - 1s 6ms/step - loss: 0.1554 - mean_absolute_error: 0.2966 - val_loss: 0.6932 - val_mean_absolute_error: 0.6221\n",
            "Epoch 391/500\n",
            "157/157 [==============================] - 1s 7ms/step - loss: 0.1538 - mean_absolute_error: 0.2926 - val_loss: 0.7277 - val_mean_absolute_error: 0.6244\n",
            "Epoch 392/500\n",
            "157/157 [==============================] - 1s 6ms/step - loss: 0.1611 - mean_absolute_error: 0.2999 - val_loss: 0.7006 - val_mean_absolute_error: 0.6220\n",
            "Epoch 393/500\n",
            "157/157 [==============================] - 1s 7ms/step - loss: 0.1576 - mean_absolute_error: 0.2947 - val_loss: 0.7096 - val_mean_absolute_error: 0.6239\n",
            "Epoch 394/500\n",
            "157/157 [==============================] - 1s 9ms/step - loss: 0.1579 - mean_absolute_error: 0.2979 - val_loss: 0.7114 - val_mean_absolute_error: 0.6205\n",
            "Epoch 395/500\n",
            "157/157 [==============================] - 1s 7ms/step - loss: 0.1530 - mean_absolute_error: 0.2919 - val_loss: 0.7069 - val_mean_absolute_error: 0.6192\n",
            "Epoch 396/500\n",
            "157/157 [==============================] - 1s 6ms/step - loss: 0.1569 - mean_absolute_error: 0.2985 - val_loss: 0.6775 - val_mean_absolute_error: 0.6183\n",
            "Epoch 397/500\n",
            "157/157 [==============================] - 1s 7ms/step - loss: 0.1531 - mean_absolute_error: 0.2925 - val_loss: 0.6978 - val_mean_absolute_error: 0.6233\n",
            "Epoch 398/500\n",
            "157/157 [==============================] - 1s 6ms/step - loss: 0.1525 - mean_absolute_error: 0.2926 - val_loss: 0.7112 - val_mean_absolute_error: 0.6246\n",
            "Epoch 399/500\n",
            "157/157 [==============================] - 1s 6ms/step - loss: 0.1549 - mean_absolute_error: 0.2938 - val_loss: 0.7133 - val_mean_absolute_error: 0.6284\n",
            "Epoch 400/500\n",
            "157/157 [==============================] - 1s 6ms/step - loss: 0.1581 - mean_absolute_error: 0.2993 - val_loss: 0.6944 - val_mean_absolute_error: 0.6215\n",
            "Epoch 401/500\n",
            "157/157 [==============================] - 1s 6ms/step - loss: 0.1567 - mean_absolute_error: 0.2976 - val_loss: 0.7227 - val_mean_absolute_error: 0.6307\n",
            "Epoch 402/500\n",
            "157/157 [==============================] - 1s 7ms/step - loss: 0.1535 - mean_absolute_error: 0.2936 - val_loss: 0.7029 - val_mean_absolute_error: 0.6243\n",
            "Epoch 403/500\n",
            "157/157 [==============================] - 1s 7ms/step - loss: 0.1574 - mean_absolute_error: 0.2992 - val_loss: 0.7435 - val_mean_absolute_error: 0.6333\n",
            "Epoch 404/500\n",
            "157/157 [==============================] - 1s 9ms/step - loss: 0.1616 - mean_absolute_error: 0.3007 - val_loss: 0.7022 - val_mean_absolute_error: 0.6188\n",
            "Epoch 405/500\n",
            "157/157 [==============================] - 1s 9ms/step - loss: 0.1556 - mean_absolute_error: 0.2959 - val_loss: 0.6976 - val_mean_absolute_error: 0.6209\n",
            "Epoch 406/500\n",
            "157/157 [==============================] - 1s 6ms/step - loss: 0.1550 - mean_absolute_error: 0.2963 - val_loss: 0.7012 - val_mean_absolute_error: 0.6278\n",
            "Epoch 407/500\n",
            "157/157 [==============================] - 1s 6ms/step - loss: 0.1593 - mean_absolute_error: 0.2998 - val_loss: 0.7129 - val_mean_absolute_error: 0.6272\n",
            "Epoch 408/500\n",
            "157/157 [==============================] - 1s 6ms/step - loss: 0.1546 - mean_absolute_error: 0.2943 - val_loss: 0.6906 - val_mean_absolute_error: 0.6199\n",
            "Epoch 409/500\n",
            "157/157 [==============================] - 1s 6ms/step - loss: 0.1540 - mean_absolute_error: 0.2959 - val_loss: 0.7054 - val_mean_absolute_error: 0.6189\n",
            "Epoch 410/500\n",
            "157/157 [==============================] - 1s 6ms/step - loss: 0.1555 - mean_absolute_error: 0.2945 - val_loss: 0.6879 - val_mean_absolute_error: 0.6175\n",
            "Epoch 411/500\n",
            "157/157 [==============================] - 1s 6ms/step - loss: 0.1609 - mean_absolute_error: 0.3001 - val_loss: 0.7043 - val_mean_absolute_error: 0.6242\n",
            "Epoch 412/500\n",
            "157/157 [==============================] - 1s 6ms/step - loss: 0.1475 - mean_absolute_error: 0.2884 - val_loss: 0.7063 - val_mean_absolute_error: 0.6216\n",
            "Epoch 413/500\n",
            "157/157 [==============================] - 1s 6ms/step - loss: 0.1599 - mean_absolute_error: 0.2988 - val_loss: 0.7096 - val_mean_absolute_error: 0.6218\n",
            "Epoch 414/500\n",
            "157/157 [==============================] - 2s 10ms/step - loss: 0.1606 - mean_absolute_error: 0.3001 - val_loss: 0.7214 - val_mean_absolute_error: 0.6251\n",
            "Epoch 415/500\n",
            "157/157 [==============================] - 1s 9ms/step - loss: 0.1627 - mean_absolute_error: 0.3014 - val_loss: 0.6992 - val_mean_absolute_error: 0.6208\n",
            "Epoch 416/500\n",
            "157/157 [==============================] - 1s 6ms/step - loss: 0.1606 - mean_absolute_error: 0.3027 - val_loss: 0.6867 - val_mean_absolute_error: 0.6189\n",
            "Epoch 417/500\n",
            "157/157 [==============================] - 1s 6ms/step - loss: 0.1533 - mean_absolute_error: 0.2960 - val_loss: 0.7469 - val_mean_absolute_error: 0.6360\n",
            "Epoch 418/500\n",
            "157/157 [==============================] - 1s 6ms/step - loss: 0.1598 - mean_absolute_error: 0.2994 - val_loss: 0.6946 - val_mean_absolute_error: 0.6188\n",
            "Epoch 419/500\n",
            "157/157 [==============================] - 1s 6ms/step - loss: 0.1538 - mean_absolute_error: 0.2955 - val_loss: 0.7250 - val_mean_absolute_error: 0.6281\n",
            "Epoch 420/500\n",
            "157/157 [==============================] - 1s 6ms/step - loss: 0.1582 - mean_absolute_error: 0.2969 - val_loss: 0.6906 - val_mean_absolute_error: 0.6204\n",
            "Epoch 421/500\n",
            "157/157 [==============================] - 1s 6ms/step - loss: 0.1587 - mean_absolute_error: 0.2986 - val_loss: 0.6992 - val_mean_absolute_error: 0.6250\n",
            "Epoch 422/500\n",
            "157/157 [==============================] - 1s 6ms/step - loss: 0.1548 - mean_absolute_error: 0.2947 - val_loss: 0.7114 - val_mean_absolute_error: 0.6269\n",
            "Epoch 423/500\n",
            "157/157 [==============================] - 1s 6ms/step - loss: 0.1576 - mean_absolute_error: 0.2985 - val_loss: 0.6898 - val_mean_absolute_error: 0.6160\n",
            "Epoch 424/500\n",
            "157/157 [==============================] - 1s 8ms/step - loss: 0.1561 - mean_absolute_error: 0.2960 - val_loss: 0.7008 - val_mean_absolute_error: 0.6188\n",
            "Epoch 425/500\n",
            "157/157 [==============================] - 2s 10ms/step - loss: 0.1555 - mean_absolute_error: 0.2959 - val_loss: 0.7147 - val_mean_absolute_error: 0.6256\n",
            "Epoch 426/500\n",
            "157/157 [==============================] - 1s 7ms/step - loss: 0.1546 - mean_absolute_error: 0.2920 - val_loss: 0.7046 - val_mean_absolute_error: 0.6251\n",
            "Epoch 427/500\n",
            "157/157 [==============================] - 1s 7ms/step - loss: 0.1561 - mean_absolute_error: 0.2957 - val_loss: 0.6799 - val_mean_absolute_error: 0.6163\n",
            "Epoch 428/500\n",
            "157/157 [==============================] - 1s 6ms/step - loss: 0.1553 - mean_absolute_error: 0.2951 - val_loss: 0.6975 - val_mean_absolute_error: 0.6250\n",
            "Epoch 429/500\n",
            "157/157 [==============================] - 1s 6ms/step - loss: 0.1566 - mean_absolute_error: 0.2973 - val_loss: 0.7339 - val_mean_absolute_error: 0.6299\n",
            "Epoch 430/500\n",
            "157/157 [==============================] - 1s 7ms/step - loss: 0.1662 - mean_absolute_error: 0.3029 - val_loss: 0.7156 - val_mean_absolute_error: 0.6268\n",
            "Epoch 431/500\n",
            "157/157 [==============================] - 1s 7ms/step - loss: 0.1647 - mean_absolute_error: 0.3021 - val_loss: 0.7243 - val_mean_absolute_error: 0.6303\n",
            "Epoch 432/500\n",
            "157/157 [==============================] - 1s 6ms/step - loss: 0.1584 - mean_absolute_error: 0.2978 - val_loss: 0.7285 - val_mean_absolute_error: 0.6267\n",
            "Epoch 433/500\n",
            "157/157 [==============================] - 1s 6ms/step - loss: 0.1609 - mean_absolute_error: 0.2988 - val_loss: 0.6955 - val_mean_absolute_error: 0.6249\n",
            "Epoch 434/500\n",
            "157/157 [==============================] - 1s 6ms/step - loss: 0.1557 - mean_absolute_error: 0.2939 - val_loss: 0.6956 - val_mean_absolute_error: 0.6233\n",
            "Epoch 435/500\n",
            "157/157 [==============================] - 1s 9ms/step - loss: 0.1592 - mean_absolute_error: 0.2981 - val_loss: 0.6941 - val_mean_absolute_error: 0.6221\n",
            "Epoch 436/500\n",
            "157/157 [==============================] - 1s 9ms/step - loss: 0.1550 - mean_absolute_error: 0.2953 - val_loss: 0.7174 - val_mean_absolute_error: 0.6230\n",
            "Epoch 437/500\n",
            "157/157 [==============================] - 1s 9ms/step - loss: 0.1513 - mean_absolute_error: 0.2904 - val_loss: 0.6956 - val_mean_absolute_error: 0.6236\n",
            "Epoch 438/500\n",
            "157/157 [==============================] - 1s 6ms/step - loss: 0.1559 - mean_absolute_error: 0.2969 - val_loss: 0.7123 - val_mean_absolute_error: 0.6223\n",
            "Epoch 439/500\n",
            "157/157 [==============================] - 1s 6ms/step - loss: 0.1613 - mean_absolute_error: 0.3014 - val_loss: 0.6950 - val_mean_absolute_error: 0.6232\n",
            "Epoch 440/500\n",
            "157/157 [==============================] - 1s 6ms/step - loss: 0.1516 - mean_absolute_error: 0.2923 - val_loss: 0.6868 - val_mean_absolute_error: 0.6189\n",
            "Epoch 441/500\n",
            "157/157 [==============================] - 1s 6ms/step - loss: 0.1551 - mean_absolute_error: 0.2960 - val_loss: 0.7447 - val_mean_absolute_error: 0.6300\n",
            "Epoch 442/500\n",
            "157/157 [==============================] - 1s 7ms/step - loss: 0.1600 - mean_absolute_error: 0.3023 - val_loss: 0.7252 - val_mean_absolute_error: 0.6309\n",
            "Epoch 443/500\n",
            "157/157 [==============================] - 1s 7ms/step - loss: 0.1587 - mean_absolute_error: 0.2996 - val_loss: 0.7189 - val_mean_absolute_error: 0.6265\n",
            "Epoch 444/500\n",
            "157/157 [==============================] - 1s 6ms/step - loss: 0.1520 - mean_absolute_error: 0.2927 - val_loss: 0.7355 - val_mean_absolute_error: 0.6291\n",
            "Epoch 445/500\n",
            "157/157 [==============================] - 1s 7ms/step - loss: 0.1543 - mean_absolute_error: 0.2940 - val_loss: 0.7005 - val_mean_absolute_error: 0.6239\n",
            "Epoch 446/500\n",
            "157/157 [==============================] - 1s 7ms/step - loss: 0.1571 - mean_absolute_error: 0.2955 - val_loss: 0.7165 - val_mean_absolute_error: 0.6242\n",
            "Epoch 447/500\n",
            "157/157 [==============================] - 1s 9ms/step - loss: 0.1553 - mean_absolute_error: 0.2943 - val_loss: 0.6892 - val_mean_absolute_error: 0.6263\n",
            "Epoch 448/500\n",
            "157/157 [==============================] - 1s 9ms/step - loss: 0.1592 - mean_absolute_error: 0.3000 - val_loss: 0.7319 - val_mean_absolute_error: 0.6295\n",
            "Epoch 449/500\n",
            "157/157 [==============================] - 2s 10ms/step - loss: 0.1552 - mean_absolute_error: 0.2959 - val_loss: 0.7043 - val_mean_absolute_error: 0.6257\n",
            "Epoch 450/500\n",
            "157/157 [==============================] - 1s 6ms/step - loss: 0.1583 - mean_absolute_error: 0.2957 - val_loss: 0.6729 - val_mean_absolute_error: 0.6138\n",
            "Epoch 451/500\n",
            "157/157 [==============================] - 1s 6ms/step - loss: 0.1560 - mean_absolute_error: 0.2985 - val_loss: 0.6876 - val_mean_absolute_error: 0.6222\n",
            "Epoch 452/500\n",
            "157/157 [==============================] - 1s 6ms/step - loss: 0.1552 - mean_absolute_error: 0.2985 - val_loss: 0.6886 - val_mean_absolute_error: 0.6179\n",
            "Epoch 453/500\n",
            "157/157 [==============================] - 1s 7ms/step - loss: 0.1569 - mean_absolute_error: 0.2966 - val_loss: 0.7016 - val_mean_absolute_error: 0.6240\n",
            "Epoch 454/500\n",
            "157/157 [==============================] - 1s 6ms/step - loss: 0.1535 - mean_absolute_error: 0.2940 - val_loss: 0.6794 - val_mean_absolute_error: 0.6181\n",
            "Epoch 455/500\n",
            "157/157 [==============================] - 1s 7ms/step - loss: 0.1505 - mean_absolute_error: 0.2929 - val_loss: 0.7174 - val_mean_absolute_error: 0.6272\n",
            "Epoch 456/500\n",
            "157/157 [==============================] - 1s 6ms/step - loss: 0.1517 - mean_absolute_error: 0.2903 - val_loss: 0.7016 - val_mean_absolute_error: 0.6236\n",
            "Epoch 457/500\n",
            "157/157 [==============================] - 1s 6ms/step - loss: 0.1572 - mean_absolute_error: 0.2961 - val_loss: 0.6873 - val_mean_absolute_error: 0.6209\n",
            "Epoch 458/500\n",
            "157/157 [==============================] - 1s 7ms/step - loss: 0.1623 - mean_absolute_error: 0.3014 - val_loss: 0.6905 - val_mean_absolute_error: 0.6258\n",
            "Epoch 459/500\n",
            "157/157 [==============================] - 1s 9ms/step - loss: 0.1568 - mean_absolute_error: 0.2976 - val_loss: 0.7056 - val_mean_absolute_error: 0.6227\n",
            "Epoch 460/500\n",
            "157/157 [==============================] - 2s 10ms/step - loss: 0.1612 - mean_absolute_error: 0.3013 - val_loss: 0.7223 - val_mean_absolute_error: 0.6301\n",
            "Epoch 461/500\n",
            "157/157 [==============================] - 1s 7ms/step - loss: 0.1525 - mean_absolute_error: 0.2933 - val_loss: 0.7079 - val_mean_absolute_error: 0.6246\n",
            "Epoch 462/500\n",
            "157/157 [==============================] - 1s 6ms/step - loss: 0.1585 - mean_absolute_error: 0.3000 - val_loss: 0.7138 - val_mean_absolute_error: 0.6217\n",
            "Epoch 463/500\n",
            "157/157 [==============================] - 1s 6ms/step - loss: 0.1564 - mean_absolute_error: 0.2966 - val_loss: 0.6829 - val_mean_absolute_error: 0.6232\n",
            "Epoch 464/500\n",
            "157/157 [==============================] - 1s 6ms/step - loss: 0.1531 - mean_absolute_error: 0.2962 - val_loss: 0.6831 - val_mean_absolute_error: 0.6214\n",
            "Epoch 465/500\n",
            "157/157 [==============================] - 1s 7ms/step - loss: 0.1578 - mean_absolute_error: 0.2960 - val_loss: 0.6918 - val_mean_absolute_error: 0.6182\n",
            "Epoch 466/500\n",
            "157/157 [==============================] - 1s 6ms/step - loss: 0.1568 - mean_absolute_error: 0.2953 - val_loss: 0.7166 - val_mean_absolute_error: 0.6272\n",
            "Epoch 467/500\n",
            "157/157 [==============================] - 1s 6ms/step - loss: 0.1576 - mean_absolute_error: 0.2940 - val_loss: 0.6931 - val_mean_absolute_error: 0.6225\n",
            "Epoch 468/500\n",
            "157/157 [==============================] - 1s 6ms/step - loss: 0.1548 - mean_absolute_error: 0.2922 - val_loss: 0.7167 - val_mean_absolute_error: 0.6250\n",
            "Epoch 469/500\n",
            "157/157 [==============================] - 1s 6ms/step - loss: 0.1599 - mean_absolute_error: 0.2995 - val_loss: 0.7134 - val_mean_absolute_error: 0.6278\n",
            "Epoch 470/500\n",
            "157/157 [==============================] - 1s 8ms/step - loss: 0.1536 - mean_absolute_error: 0.2971 - val_loss: 0.7099 - val_mean_absolute_error: 0.6246\n",
            "Epoch 471/500\n",
            "157/157 [==============================] - 1s 9ms/step - loss: 0.1522 - mean_absolute_error: 0.2942 - val_loss: 0.6990 - val_mean_absolute_error: 0.6247\n",
            "Epoch 472/500\n",
            "157/157 [==============================] - 1s 9ms/step - loss: 0.1523 - mean_absolute_error: 0.2936 - val_loss: 0.7059 - val_mean_absolute_error: 0.6257\n",
            "Epoch 473/500\n",
            "157/157 [==============================] - 1s 7ms/step - loss: 0.1557 - mean_absolute_error: 0.2978 - val_loss: 0.7208 - val_mean_absolute_error: 0.6302\n",
            "Epoch 474/500\n",
            "157/157 [==============================] - 1s 7ms/step - loss: 0.1581 - mean_absolute_error: 0.2984 - val_loss: 0.7198 - val_mean_absolute_error: 0.6250\n",
            "Epoch 475/500\n",
            "157/157 [==============================] - 1s 6ms/step - loss: 0.1523 - mean_absolute_error: 0.2945 - val_loss: 0.7030 - val_mean_absolute_error: 0.6248\n",
            "Epoch 476/500\n",
            "157/157 [==============================] - 1s 6ms/step - loss: 0.1542 - mean_absolute_error: 0.2940 - val_loss: 0.7010 - val_mean_absolute_error: 0.6240\n",
            "Epoch 477/500\n",
            "157/157 [==============================] - 1s 6ms/step - loss: 0.1574 - mean_absolute_error: 0.2988 - val_loss: 0.7166 - val_mean_absolute_error: 0.6261\n",
            "Epoch 478/500\n",
            "157/157 [==============================] - 1s 6ms/step - loss: 0.1560 - mean_absolute_error: 0.2967 - val_loss: 0.7012 - val_mean_absolute_error: 0.6176\n",
            "Epoch 479/500\n",
            "157/157 [==============================] - 1s 6ms/step - loss: 0.1552 - mean_absolute_error: 0.2954 - val_loss: 0.7082 - val_mean_absolute_error: 0.6227\n",
            "Epoch 480/500\n",
            "157/157 [==============================] - 1s 6ms/step - loss: 0.1600 - mean_absolute_error: 0.2994 - val_loss: 0.6987 - val_mean_absolute_error: 0.6260\n",
            "Epoch 481/500\n",
            "157/157 [==============================] - 1s 7ms/step - loss: 0.1522 - mean_absolute_error: 0.2901 - val_loss: 0.7060 - val_mean_absolute_error: 0.6275\n",
            "Epoch 482/500\n",
            "157/157 [==============================] - 1s 9ms/step - loss: 0.1578 - mean_absolute_error: 0.2976 - val_loss: 0.7041 - val_mean_absolute_error: 0.6314\n",
            "Epoch 483/500\n",
            "157/157 [==============================] - 2s 10ms/step - loss: 0.1584 - mean_absolute_error: 0.2994 - val_loss: 0.7122 - val_mean_absolute_error: 0.6274\n",
            "Epoch 484/500\n",
            "157/157 [==============================] - 1s 9ms/step - loss: 0.1514 - mean_absolute_error: 0.2906 - val_loss: 0.6931 - val_mean_absolute_error: 0.6249\n",
            "Epoch 485/500\n",
            "157/157 [==============================] - 1s 7ms/step - loss: 0.1529 - mean_absolute_error: 0.2943 - val_loss: 0.7531 - val_mean_absolute_error: 0.6366\n",
            "Epoch 486/500\n",
            "157/157 [==============================] - 1s 6ms/step - loss: 0.1533 - mean_absolute_error: 0.2938 - val_loss: 0.7328 - val_mean_absolute_error: 0.6250\n",
            "Epoch 487/500\n",
            "157/157 [==============================] - 1s 7ms/step - loss: 0.1540 - mean_absolute_error: 0.2917 - val_loss: 0.7191 - val_mean_absolute_error: 0.6243\n",
            "Epoch 488/500\n",
            "157/157 [==============================] - 1s 7ms/step - loss: 0.1482 - mean_absolute_error: 0.2875 - val_loss: 0.7151 - val_mean_absolute_error: 0.6239\n",
            "Epoch 489/500\n",
            "157/157 [==============================] - 1s 7ms/step - loss: 0.1519 - mean_absolute_error: 0.2928 - val_loss: 0.7298 - val_mean_absolute_error: 0.6282\n",
            "Epoch 490/500\n",
            "157/157 [==============================] - 1s 6ms/step - loss: 0.1526 - mean_absolute_error: 0.2904 - val_loss: 0.7143 - val_mean_absolute_error: 0.6251\n",
            "Epoch 491/500\n",
            "157/157 [==============================] - 1s 6ms/step - loss: 0.1515 - mean_absolute_error: 0.2955 - val_loss: 0.7200 - val_mean_absolute_error: 0.6258\n",
            "Epoch 492/500\n",
            "157/157 [==============================] - 1s 8ms/step - loss: 0.1564 - mean_absolute_error: 0.2948 - val_loss: 0.7140 - val_mean_absolute_error: 0.6280\n",
            "Epoch 493/500\n",
            "157/157 [==============================] - 1s 9ms/step - loss: 0.1625 - mean_absolute_error: 0.2992 - val_loss: 0.7221 - val_mean_absolute_error: 0.6307\n",
            "Epoch 494/500\n",
            "157/157 [==============================] - 1s 7ms/step - loss: 0.1571 - mean_absolute_error: 0.2976 - val_loss: 0.7073 - val_mean_absolute_error: 0.6289\n",
            "Epoch 495/500\n",
            "157/157 [==============================] - 1s 6ms/step - loss: 0.1504 - mean_absolute_error: 0.2911 - val_loss: 0.7066 - val_mean_absolute_error: 0.6230\n",
            "Epoch 496/500\n",
            "157/157 [==============================] - 1s 6ms/step - loss: 0.1544 - mean_absolute_error: 0.2966 - val_loss: 0.7112 - val_mean_absolute_error: 0.6253\n",
            "Epoch 497/500\n",
            "157/157 [==============================] - 1s 7ms/step - loss: 0.1635 - mean_absolute_error: 0.3014 - val_loss: 0.7186 - val_mean_absolute_error: 0.6265\n",
            "Epoch 498/500\n",
            "157/157 [==============================] - 1s 6ms/step - loss: 0.1584 - mean_absolute_error: 0.2971 - val_loss: 0.7219 - val_mean_absolute_error: 0.6323\n",
            "Epoch 499/500\n",
            "157/157 [==============================] - 1s 6ms/step - loss: 0.1546 - mean_absolute_error: 0.2945 - val_loss: 0.7507 - val_mean_absolute_error: 0.6375\n",
            "Epoch 500/500\n",
            "157/157 [==============================] - 1s 6ms/step - loss: 0.1554 - mean_absolute_error: 0.2946 - val_loss: 0.6692 - val_mean_absolute_error: 0.6144\n",
            "32/32 [==============================] - 0s 4ms/step - loss: 0.6692 - mean_absolute_error: 0.6144\n",
            "Current weights saved to /content/drive/MyDrive/CAS_Gregi/My_Models/conv1d_8f/current_weights\n"
          ]
        }
      ]
    },
    {
      "cell_type": "code",
      "source": [
        "# model.save_weights(model_path + 'weights_after_1000_epochs', save_format='tf')"
      ],
      "metadata": {
        "id": "sVVfM9n8Kq8S"
      },
      "execution_count": 28,
      "outputs": []
    },
    {
      "cell_type": "code",
      "source": [
        "\n",
        "# next(iter(ds_train))"
      ],
      "metadata": {
        "id": "wlmhYZDx1A2o"
      },
      "execution_count": 54,
      "outputs": []
    },
    {
      "cell_type": "code",
      "source": [
        "# save model\n",
        "save_model(model)"
      ],
      "metadata": {
        "colab": {
          "base_uri": "https://localhost:8080/"
        },
        "id": "EWuOuB5GBUqt",
        "outputId": "fdd99ca8-f8cf-4d95-831e-fbd429afb49b"
      },
      "execution_count": 23,
      "outputs": [
        {
          "output_type": "stream",
          "name": "stdout",
          "text": [
            "Created directory /content/drive/MyDrive/CAS_Gregi//content/drive/MyDrive/CAS_Gregi/My_Modelslstm_bi10/\n"
          ]
        },
        {
          "output_type": "stream",
          "name": "stderr",
          "text": [
            "WARNING:absl:Found untraced functions such as lstm_cell_1_layer_call_fn, lstm_cell_1_layer_call_and_return_conditional_losses, lstm_cell_2_layer_call_fn, lstm_cell_2_layer_call_and_return_conditional_losses while saving (showing 4 of 4). These functions will not be directly callable after loading.\n"
          ]
        }
      ]
    },
    {
      "cell_type": "code",
      "source": [
        "# load the model\n",
        "# model = load_model(model)"
      ],
      "metadata": {
        "id": "-cWSN7WrBcLJ"
      },
      "execution_count": null,
      "outputs": []
    },
    {
      "cell_type": "code",
      "source": [
        "model.evaluate(ds_test)"
      ],
      "metadata": {
        "colab": {
          "base_uri": "https://localhost:8080/"
        },
        "id": "cwOehAb4tyUp",
        "outputId": "7399e365-75af-4fac-b6bf-436415918987"
      },
      "execution_count": 27,
      "outputs": [
        {
          "output_type": "stream",
          "name": "stdout",
          "text": [
            "32/32 [==============================] - 0s 13ms/step - loss: 0.4172 - mean_absolute_error: 0.4113\n"
          ]
        },
        {
          "output_type": "execute_result",
          "data": {
            "text/plain": [
              "[0.41715019941329956, 0.4113498330116272]"
            ]
          },
          "metadata": {},
          "execution_count": 27
        }
      ]
    },
    {
      "cell_type": "code",
      "source": [
        "def accuracy(ds):\n",
        "\n",
        "    ys_pred = (model.predict(ds).reshape((-1,))).round()\n",
        "    ys = np.concatenate([y for x, y in ds], axis=0)\n",
        "    errs = abs(ys - ys_pred)\n",
        "    N = len(ys)\n",
        "    relative_hits = [np.count_nonzero(errs==i)/N for i in range(5)]\n",
        "    return relative_hits\n",
        "\n",
        "def np_accuracy(ds):\n",
        "    f = lambda x:x<0 and -1 or x>0 and 1 or 0\n",
        "    ys_pred = (model.predict(ds).reshape((-1,))).round() - 2\n",
        "    ys_pred = np.array([f(x) for x in ys_pred])\n",
        "    ys = np.concatenate([y for x, y in ds], axis=0) - 2\n",
        "    ys = np.array([f(x) for x in ys])\n",
        "\n",
        "    errs = abs(ys - ys_pred)\n",
        "    N = len(ys)\n",
        "    relative_hits = [np.count_nonzero(errs==i)/N for i in [0,1,2]]\n",
        "    return relative_hits"
      ],
      "metadata": {
        "id": "LQ_GS--qBKa3"
      },
      "execution_count": 18,
      "outputs": []
    },
    {
      "cell_type": "code",
      "source": [
        "accuracy(ds_train), accuracy(ds_test)"
      ],
      "metadata": {
        "colab": {
          "base_uri": "https://localhost:8080/"
        },
        "id": "CuINhorVwSBD",
        "outputId": "c6c36411-94c5-4b0d-db0e-5c816039c8c5"
      },
      "execution_count": 19,
      "outputs": [
        {
          "output_type": "stream",
          "name": "stdout",
          "text": [
            "157/157 [==============================] - 2s 8ms/step\n",
            "32/32 [==============================] - 0s 8ms/step\n"
          ]
        },
        {
          "output_type": "execute_result",
          "data": {
            "text/plain": [
              "([1.0, 0.0, 0.0, 0.0, 0.0], [0.659, 0.301, 0.036, 0.004, 0.0])"
            ]
          },
          "metadata": {},
          "execution_count": 19
        }
      ]
    },
    {
      "cell_type": "code",
      "source": [
        "accuracy(ds_train), accuracy(ds_test)"
      ],
      "metadata": {
        "colab": {
          "base_uri": "https://localhost:8080/"
        },
        "id": "gWRMj3WCQv6q",
        "outputId": "95cd02e6-771e-446b-979b-d21ab406b9cb"
      },
      "execution_count": 31,
      "outputs": [
        {
          "output_type": "stream",
          "name": "stdout",
          "text": [
            "157/157 [==============================] - 3s 18ms/step\n",
            "32/32 [==============================] - 0s 10ms/step\n"
          ]
        },
        {
          "output_type": "execute_result",
          "data": {
            "text/plain": [
              "([0.999, 0.001, 0.0, 0.0, 0.0], [0.656, 0.306, 0.034, 0.004, 0.0])"
            ]
          },
          "metadata": {},
          "execution_count": 31
        }
      ]
    },
    {
      "cell_type": "code",
      "source": [
        "text = fix_shape('the best hotel i ever stayed at')\n",
        "model.predict(text)"
      ],
      "metadata": {
        "colab": {
          "base_uri": "https://localhost:8080/"
        },
        "id": "oiFUuHp7t8Wm",
        "outputId": "1b915a17-d42a-4570-8edd-337a46168ea3"
      },
      "execution_count": 33,
      "outputs": [
        {
          "output_type": "stream",
          "name": "stdout",
          "text": [
            "1/1 [==============================] - 0s 28ms/step\n"
          ]
        },
        {
          "output_type": "execute_result",
          "data": {
            "text/plain": [
              "array([[2.2713227]], dtype=float32)"
            ]
          },
          "metadata": {},
          "execution_count": 33
        }
      ]
    },
    {
      "cell_type": "code",
      "source": [
        "text = '''\n",
        "the breakfast was excellent and the room very clean and spacious\n",
        "the staff was very friendly\n",
        "I can really recommend this place'''.lower().replace('\\n', ' ')\n",
        "model.predict(fix_shape(text))"
      ],
      "metadata": {
        "colab": {
          "base_uri": "https://localhost:8080/"
        },
        "id": "ZhjT5c3BuAWg",
        "outputId": "381ee787-8e8a-4507-de57-e8e2882902aa"
      },
      "execution_count": 35,
      "outputs": [
        {
          "output_type": "stream",
          "name": "stdout",
          "text": [
            "1/1 [==============================] - 0s 25ms/step\n"
          ]
        },
        {
          "output_type": "execute_result",
          "data": {
            "text/plain": [
              "array([[3.428855]], dtype=float32)"
            ]
          },
          "metadata": {},
          "execution_count": 35
        }
      ]
    },
    {
      "cell_type": "code",
      "source": [
        "text = '''\\\n",
        "the breakfast was ok, but nothing special\n",
        "the staff was very friendl.\n",
        "But the room we small and not suitable for working'''.lower().replace('\\n', ' ')\n",
        "\n",
        "model.predict(fix_shape(text))"
      ],
      "metadata": {
        "colab": {
          "base_uri": "https://localhost:8080/"
        },
        "id": "1qYL5XXYuHKg",
        "outputId": "71124f59-ff7d-4fea-d443-23aba8bae546"
      },
      "execution_count": 39,
      "outputs": [
        {
          "output_type": "stream",
          "name": "stdout",
          "text": [
            "1/1 [==============================] - 0s 36ms/step\n"
          ]
        },
        {
          "output_type": "execute_result",
          "data": {
            "text/plain": [
              "array([[2.32862]], dtype=float32)"
            ]
          },
          "metadata": {},
          "execution_count": 39
        }
      ]
    },
    {
      "cell_type": "code",
      "source": [
        "text = '''\\\n",
        "the breakfast was ok, but nothing special\n",
        "the staff was quite rude\n",
        "And the room we small and not suitable for working'''.lower().replace('\\n', ' ')\n",
        "model.predict(fix_shape(text))"
      ],
      "metadata": {
        "colab": {
          "base_uri": "https://localhost:8080/"
        },
        "id": "yDh1iPz1uMTV",
        "outputId": "7df9ef27-5924-43e3-9dca-0170a3a6e19c"
      },
      "execution_count": 40,
      "outputs": [
        {
          "output_type": "stream",
          "name": "stdout",
          "text": [
            "1/1 [==============================] - 0s 24ms/step\n"
          ]
        },
        {
          "output_type": "execute_result",
          "data": {
            "text/plain": [
              "array([[1.7753965]], dtype=float32)"
            ]
          },
          "metadata": {},
          "execution_count": 40
        }
      ]
    },
    {
      "cell_type": "code",
      "source": [
        "text = '''\\\n",
        "the breakfast was bad, only bread and coffe\n",
        "Checkin took forever\n",
        "No roomservice\n",
        "The room we small and not suitable for working'''.lower().replace('\\n', ' ')\n",
        "model.predict(fix_shape(text))"
      ],
      "metadata": {
        "colab": {
          "base_uri": "https://localhost:8080/"
        },
        "id": "PUYC7U55uNG-",
        "outputId": "9d90efdb-d404-47da-cd52-9fdd9cc33e00"
      },
      "execution_count": 41,
      "outputs": [
        {
          "output_type": "stream",
          "name": "stdout",
          "text": [
            "1/1 [==============================] - 0s 24ms/step\n"
          ]
        },
        {
          "output_type": "execute_result",
          "data": {
            "text/plain": [
              "array([[2.0958402]], dtype=float32)"
            ]
          },
          "metadata": {},
          "execution_count": 41
        }
      ]
    },
    {
      "cell_type": "code",
      "source": [
        "from matplotlib import pyplot as plt\n",
        "plt.plot(history.history['mean_absolute_error'])\n",
        "plt.plot(history.history['val_mean_absolute_error'])\n",
        "plt.title('MAE')\n",
        "plt.ylabel('mean absolute error')\n",
        "plt.xlabel('epoch')\n",
        "plt.legend(['train', 'val'], loc='upper left')\n",
        "plt.show()"
      ],
      "metadata": {
        "colab": {
          "base_uri": "https://localhost:8080/",
          "height": 472
        },
        "id": "LuBoQBj42MOR",
        "outputId": "aaa968f1-a4fa-4242-997c-fce6575094fc"
      },
      "execution_count": 20,
      "outputs": [
        {
          "output_type": "display_data",
          "data": {
            "text/plain": [
              "<Figure size 640x480 with 1 Axes>"
            ],
            "image/png": "[encoded data removed]"
          },
          "metadata": {}
        }
      ]
    },
    {
      "cell_type": "code",
      "source": [
        "plt.plot(history.history['loss'])\n",
        "plt.plot(history.history['val_loss'])\n",
        "plt.title('Model loss')\n",
        "plt.ylabel('loss')\n",
        "plt.xlabel('epoch')\n",
        "plt.legend(['train', 'val'], loc='upper left')\n",
        "plt.show()"
      ],
      "metadata": {
        "colab": {
          "base_uri": "https://localhost:8080/",
          "height": 472
        },
        "id": "h1VZ4ThLEpTT",
        "outputId": "841cf1cc-2eca-4d83-9165-fa590dcdff60"
      },
      "execution_count": 21,
      "outputs": [
        {
          "output_type": "display_data",
          "data": {
            "text/plain": [
              "<Figure size 640x480 with 1 Axes>"
            ],
            "image/png": "[encoded data removed]"
          },
          "metadata": {}
        }
      ]
    },
    {
      "cell_type": "code",
      "source": [],
      "metadata": {
        "id": "mBQWJvXhEpdi"
      },
      "execution_count": null,
      "outputs": []
    }
  ]
}