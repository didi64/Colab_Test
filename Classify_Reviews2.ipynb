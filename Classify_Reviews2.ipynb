{
  "nbformat": 4,
  "nbformat_minor": 0,
  "metadata": {
    "colab": {
      "provenance": [],
      "gpuType": "T4",
      "authorship_tag": "ABX9TyNWaL9Ks/x5OMeD4HUBTQFn",
      "include_colab_link": true
    },
    "kernelspec": {
      "name": "python3",
      "display_name": "Python 3"
    },
    "language_info": {
      "name": "python"
    },
    "accelerator": "GPU"
  },
  "cells": [
    {
      "cell_type": "markdown",
      "metadata": {
        "id": "view-in-github",
        "colab_type": "text"
      },
      "source": [
        "<a href=\"https://colab.research.google.com/github/didi64/Colab_Test/blob/main/Classify_Reviews2.ipynb\" target=\"_parent\"><img src=\"https://colab.research.google.com/assets/colab-badge.svg\" alt=\"Open In Colab\"/></a>"
      ]
    },
    {
      "cell_type": "markdown",
      "source": [
        "### Load the cleaned reviews and train an LSTM-model"
      ],
      "metadata": {
        "id": "8LMKuWsqK3nt"
      }
    },
    {
      "cell_type": "code",
      "execution_count": 1,
      "metadata": {
        "colab": {
          "base_uri": "https://localhost:8080/"
        },
        "id": "9dXRgHF-nNaJ",
        "outputId": "54d13d82-ef6c-4985-97d5-feca6dd78916"
      },
      "outputs": [
        {
          "output_type": "stream",
          "name": "stdout",
          "text": [
            "Mounted at /content/drive\n"
          ]
        }
      ],
      "source": [
        "import os, sys\n",
        "from google.colab import drive\n",
        "ROOT = '/content/drive/MyDrive/CAS_Gregi/'\n",
        "MODULE_PATH = 'CO_modules/'\n",
        "MODEL_PATH  = 'My_Models/'\n",
        "\n",
        "IMPORT_PATH_SYMLINK = {'link': '/content/modules', 'target': ROOT + MODULE_PATH}\n",
        "\n",
        "drive.mount('/content/drive', force_remount=False)\n",
        "if not os.path.exists(IMPORT_PATH_SYMLINK['link']):\n",
        "    os.symlink(IMPORT_PATH_SYMLINK['target'], IMPORT_PATH_SYMLINK['link'])\n",
        "if IMPORT_PATH_SYMLINK['link'] not in sys.path:\n",
        "    sys.path.insert(0, IMPORT_PATH_SYMLINK['link'])"
      ]
    },
    {
      "cell_type": "code",
      "source": [
        "22!ls -l {IMPORT_PATH_SYMLINK['link']}\n",
        "!ls /content $ROOT /content/drive {IMPORT_PATH_SYMLINK['link']}"
      ],
      "metadata": {
        "id": "iRED4e1XBIDY"
      },
      "execution_count": null,
      "outputs": []
    },
    {
      "cell_type": "code",
      "source": [
        "import pickle\n",
        "with open(ROOT + 'data/hotelreviews_cleaned_train_test_spell.pkl','rb') as f:\n",
        "    data_train, data_test = pickle.load(f)"
      ],
      "metadata": {
        "id": "1vIHgPwxnWNA"
      },
      "execution_count": 2,
      "outputs": []
    },
    {
      "cell_type": "code",
      "source": [
        "import random\n",
        "import numpy as np\n",
        "import tensorflow as tf\n",
        "from functools import reduce"
      ],
      "metadata": {
        "id": "CG5uUG2knoQC"
      },
      "execution_count": 3,
      "outputs": []
    },
    {
      "cell_type": "code",
      "source": [
        "def fix_shape(text):\n",
        "    return tf.constant(text, shape = (1,))\n",
        "\n",
        "def get_dataset(d):\n",
        "    ''' get dataset from dict {score: list_of_revies,...}'''\n",
        "    # list of tuples [(score, review),...]\n",
        "    all_reviews = reduce(lambda x,y: x + y, [[(r, k) for k,v in d.items() for r in v]])\n",
        "    random.shuffle(all_reviews)\n",
        "    reviews = tf.constant([r for r,_ in all_reviews], shape=(len(all_reviews), 1))\n",
        "    gpt_scores  = tf.constant([s - 1 for _, s in all_reviews])\n",
        "\n",
        "    n = len(reviews)\n",
        "    ds = tf.data.Dataset.from_tensor_slices((reviews[:n], gpt_scores[:n]))\n",
        "    return ds\n",
        "\n",
        "def batch(ds, batch_size = 32):\n",
        "    xs, ys =  next(iter(ds))\n",
        "    if xs.shape == () or xs.shape[0] == 1:\n",
        "        ds = ds.batch(batch_size)\n",
        "    return ds\n",
        "\n",
        "def test_model(model, ds):\n",
        "    i = 0\n",
        "    for xs, _ in iter(ds):\n",
        "        i += 1\n",
        "        if (i %10) ==0:\n",
        "            print(i, end = ', ')\n",
        "        model(xs)"
      ],
      "metadata": {
        "id": "pcfrpwo-oBSa"
      },
      "execution_count": 4,
      "outputs": []
    },
    {
      "cell_type": "code",
      "source": [
        "ds_train = batch(get_dataset(data_train))\n",
        "ds_test  = batch(get_dataset(data_test))"
      ],
      "metadata": {
        "id": "90g9QwfIp1pC"
      },
      "execution_count": 5,
      "outputs": []
    },
    {
      "cell_type": "code",
      "source": [
        "all_reviews = reduce(lambda x,y: x + y, [[(r, k) for d in (data_train, data_test) for k,v in d.items() for r in v]])\n",
        "WORDS = reduce(lambda x,y:x|y, [set(x[0].split()) for x in all_reviews])"
      ],
      "metadata": {
        "id": "f31svtLJqCgy"
      },
      "execution_count": 6,
      "outputs": []
    },
    {
      "cell_type": "code",
      "source": [
        "# Vocab Size, number of review, fraction of reviews with more than 200 words\n",
        "len(WORDS), len(all_reviews), len([nwords for x in all_reviews if (nwords := len(x[0].split())) > 200])/len(all_reviews)"
      ],
      "metadata": {
        "colab": {
          "base_uri": "https://localhost:8080/"
        },
        "id": "RPcDw3KGqfz0",
        "outputId": "92875e8f-6d66-49f4-b3f3-33fe40a62c47"
      },
      "execution_count": 7,
      "outputs": [
        {
          "output_type": "execute_result",
          "data": {
            "text/plain": [
              "(9033, 6000, 0.029)"
            ]
          },
          "metadata": {},
          "execution_count": 7
        }
      ]
    },
    {
      "cell_type": "code",
      "source": [],
      "metadata": {
        "id": "B97JfqHQQSJd"
      },
      "execution_count": 7,
      "outputs": []
    },
    {
      "cell_type": "code",
      "source": [
        "# standardization: one element of  standardizations or a callable mapping strings to strings\n",
        "standardizations = [None, \"lower_and_strip_punctuation\", \"lower\", \"strip_punctuation\"]\n",
        "max_tokens = len(WORDS) + 2 # number of words plus the tokens '' and '[UNK]'\n",
        "ngrams = None\n",
        "sequence_length = 200\n",
        "\n",
        "tv_layer = tf.keras.layers.TextVectorization(\n",
        "    max_tokens = max_tokens,\n",
        "    standardize = standardizations[0],\n",
        "    ngrams=ngrams,\n",
        "    output_mode='int',\n",
        "    output_sequence_length = sequence_length,\n",
        "    pad_to_max_tokens=True,\n",
        ")"
      ],
      "metadata": {
        "id": "JoS_4NYuq2Gz"
      },
      "execution_count": 8,
      "outputs": []
    },
    {
      "cell_type": "code",
      "source": [
        "tv_layer.adapt([r[0] for r in all_reviews])\n",
        "vocab = tv_layer.get_vocabulary()\n",
        "len(vocab),  vocab[:5]# max_tokens"
      ],
      "metadata": {
        "colab": {
          "base_uri": "https://localhost:8080/"
        },
        "id": "0BYO96FPrnf1",
        "outputId": "dc6157ee-73af-4bc3-ba43-545c2e0fa911"
      },
      "execution_count": 9,
      "outputs": [
        {
          "output_type": "execute_result",
          "data": {
            "text/plain": [
              "(9035, ['', '[UNK]', 'the', 'and', 'was'])"
            ]
          },
          "metadata": {},
          "execution_count": 9
        }
      ]
    },
    {
      "cell_type": "code",
      "source": [
        "tv_layer(data_train[3][30])"
      ],
      "metadata": {
        "colab": {
          "base_uri": "https://localhost:8080/"
        },
        "id": "QhyvW7rFr3k1",
        "outputId": "3b3cfbd6-188d-42cb-c697-59a5d03f3100"
      },
      "execution_count": 10,
      "outputs": [
        {
          "output_type": "execute_result",
          "data": {
            "text/plain": [
              "<tf.Tensor: shape=(200,), dtype=int64, numpy=\n",
              "array([  16,    8,  436,   82,  163,    5,  365,  222,   37,   21,    2,\n",
              "        377,  259,   36,   20,    5,  276,   10,  104, 2640,   21,    2,\n",
              "        377,  466,   16,   20,  528,    2,  207,   55,    5,  118,  275,\n",
              "          3,   44,  105,  210,  192, 1695,    6,  316,    8,    2,  115,\n",
              "          7,   13,    2,   94,   25,   65,  264,   42,  367,    3,  586,\n",
              "          5,  664,    4,  392,    8,    2,    7,   36,   14,   40, 1155,\n",
              "        107,  316,   17,  429,   29,  296,    5,  531,    3,    5,  357,\n",
              "        113,   28,   89,   28,  291,  398,    6, 4099,    5, 1109, 3744,\n",
              "          2,    7,    4,   52,    3,  722,    3,    2,   41,    4,   98,\n",
              "         30,  106,  544,    8,    2,   67,    3,  738,  585, 1656,    0,\n",
              "          0,    0,    0,    0,    0,    0,    0,    0,    0,    0,    0,\n",
              "          0,    0,    0,    0,    0,    0,    0,    0,    0,    0,    0,\n",
              "          0,    0,    0,    0,    0,    0,    0,    0,    0,    0,    0,\n",
              "          0,    0,    0,    0,    0,    0,    0,    0,    0,    0,    0,\n",
              "          0,    0,    0,    0,    0,    0,    0,    0,    0,    0,    0,\n",
              "          0,    0,    0,    0,    0,    0,    0,    0,    0,    0,    0,\n",
              "          0,    0,    0,    0,    0,    0,    0,    0,    0,    0,    0,\n",
              "          0,    0,    0,    0,    0,    0,    0,    0,    0,    0,    0,\n",
              "          0,    0])>"
            ]
          },
          "metadata": {},
          "execution_count": 10
        }
      ]
    },
    {
      "cell_type": "code",
      "source": [
        "vocab[16], vocab[8], vocab[436], data_train[3][30].split()[:3]"
      ],
      "metadata": {
        "colab": {
          "base_uri": "https://localhost:8080/"
        },
        "id": "rV9vWRafSjjj",
        "outputId": "13a5516e-c98d-4107-d7ec-56861322ce5f"
      },
      "execution_count": 11,
      "outputs": [
        {
          "output_type": "execute_result",
          "data": {
            "text/plain": [
              "('it', 'in', 'located', ['it', 'in', 'located'])"
            ]
          },
          "metadata": {},
          "execution_count": 11
        }
      ]
    },
    {
      "cell_type": "code",
      "source": [
        "output_dim =  16\n",
        "em_layer = tf.keras.layers.Embedding(input_dim = max_tokens + 1, output_dim= output_dim)\n",
        "em_layer(tv_layer('what a hotel'))"
      ],
      "metadata": {
        "colab": {
          "base_uri": "https://localhost:8080/"
        },
        "id": "gOJlXkTIsHa0",
        "outputId": "8ef229e0-4dd6-45c3-be14-e508ae58e921"
      },
      "execution_count": 12,
      "outputs": [
        {
          "output_type": "execute_result",
          "data": {
            "text/plain": [
              "<tf.Tensor: shape=(200, 16), dtype=float32, numpy=\n",
              "array([[ 0.02365787, -0.02543621, -0.03270563, ..., -0.02127256,\n",
              "         0.02387002, -0.01564718],\n",
              "       [-0.03679522, -0.02858243,  0.00012345, ...,  0.00784931,\n",
              "         0.04709337,  0.04191231],\n",
              "       [ 0.0154974 ,  0.00802527, -0.00185549, ...,  0.01058198,\n",
              "        -0.00679568,  0.02194264],\n",
              "       ...,\n",
              "       [-0.00215151,  0.02962978,  0.01530533, ...,  0.00365619,\n",
              "         0.03650228,  0.00049657],\n",
              "       [-0.00215151,  0.02962978,  0.01530533, ...,  0.00365619,\n",
              "         0.03650228,  0.00049657],\n",
              "       [-0.00215151,  0.02962978,  0.01530533, ...,  0.00365619,\n",
              "         0.03650228,  0.00049657]], dtype=float32)>"
            ]
          },
          "metadata": {},
          "execution_count": 12
        }
      ]
    },
    {
      "cell_type": "code",
      "source": [
        "lstm = tf.keras.layers.LSTM(10)\n",
        "lstm_bi = tf.keras.layers.Bidirectional(lstm, merge_mode='concat')\n",
        "\n",
        "model = tf.keras.Sequential([\n",
        "    tv_layer,\n",
        "    em_layer,\n",
        "    tf.keras.layers.Dropout(0.2),\n",
        "    lstm_bi,\n",
        "    tf.keras.layers.Dropout(0.2),\n",
        "    tf.keras.layers.Flatten(),\n",
        "    tf.keras.layers.Dropout(0.2),\n",
        "    tf.keras.layers.Dense(1, activation = 'relu')], name = 'lstm_bi10')\n",
        "model.summary()"
      ],
      "metadata": {
        "colab": {
          "base_uri": "https://localhost:8080/"
        },
        "id": "AV6yrvt2sLm0",
        "outputId": "f9a22c84-b2b6-48c9-d57d-9b9a323afe84"
      },
      "execution_count": 13,
      "outputs": [
        {
          "output_type": "stream",
          "name": "stdout",
          "text": [
            "Model: \"lstm_bi10\"\n",
            "_________________________________________________________________\n",
            " Layer (type)                Output Shape              Param #   \n",
            "=================================================================\n",
            " text_vectorization (TextVec  (None, 200)              0         \n",
            " torization)                                                     \n",
            "                                                                 \n",
            " embedding (Embedding)       (None, 200, 16)           144576    \n",
            "                                                                 \n",
            " dropout (Dropout)           (None, 200, 16)           0         \n",
            "                                                                 \n",
            " bidirectional (Bidirectiona  (None, 20)               2160      \n",
            " l)                                                              \n",
            "                                                                 \n",
            " dropout_1 (Dropout)         (None, 20)                0         \n",
            "                                                                 \n",
            " flatten (Flatten)           (None, 20)                0         \n",
            "                                                                 \n",
            " dropout_2 (Dropout)         (None, 20)                0         \n",
            "                                                                 \n",
            " dense (Dense)               (None, 1)                 21        \n",
            "                                                                 \n",
            "=================================================================\n",
            "Total params: 146,757\n",
            "Trainable params: 146,757\n",
            "Non-trainable params: 0\n",
            "_________________________________________________________________\n"
          ]
        }
      ]
    },
    {
      "cell_type": "code",
      "source": [
        "lstm = tf.keras.layers.LSTM(20)\n",
        "lstm_bi = tf.keras.layers.Bidirectional(lstm, merge_mode='concat')\n",
        "\n",
        "model = tf.keras.Sequential([\n",
        "    tv_layer,\n",
        "    em_layer,\n",
        "    tf.keras.layers.Dropout(0.2),\n",
        "    lstm_bi,\n",
        "    tf.keras.layers.Dropout(0.2),\n",
        "    tf.keras.layers.Flatten(),\n",
        "    tf.keras.layers.Dropout(0.2),\n",
        "    tf.keras.layers.Dense(1, activation = 'relu')], name = 'lstm_bi20')\n",
        "model.summary()"
      ],
      "metadata": {
        "colab": {
          "base_uri": "https://localhost:8080/"
        },
        "id": "Z6X0PI7Z8Zel",
        "outputId": "ac39ee1f-7b32-4b63-e6a6-128b21c6ed53"
      },
      "execution_count": 13,
      "outputs": [
        {
          "output_type": "stream",
          "name": "stdout",
          "text": [
            "Model: \"lstm_bi20\"\n",
            "_________________________________________________________________\n",
            " Layer (type)                Output Shape              Param #   \n",
            "=================================================================\n",
            " text_vectorization (TextVec  (None, 200)              0         \n",
            " torization)                                                     \n",
            "                                                                 \n",
            " embedding (Embedding)       (None, 200, 16)           144576    \n",
            "                                                                 \n",
            " dropout (Dropout)           (None, 200, 16)           0         \n",
            "                                                                 \n",
            " bidirectional (Bidirectiona  (None, 40)               5920      \n",
            " l)                                                              \n",
            "                                                                 \n",
            " dropout_1 (Dropout)         (None, 40)                0         \n",
            "                                                                 \n",
            " flatten (Flatten)           (None, 40)                0         \n",
            "                                                                 \n",
            " dropout_2 (Dropout)         (None, 40)                0         \n",
            "                                                                 \n",
            " dense (Dense)               (None, 1)                 41        \n",
            "                                                                 \n",
            "=================================================================\n",
            "Total params: 150,537\n",
            "Trainable params: 150,537\n",
            "Non-trainable params: 0\n",
            "_________________________________________________________________\n"
          ]
        }
      ]
    },
    {
      "cell_type": "code",
      "source": [
        "lstm = tf.keras.layers.LSTM(40)\n",
        "lstm_bi = tf.keras.layers.Bidirectional(lstm, merge_mode='concat')\n",
        "\n",
        "model = tf.keras.Sequential([\n",
        "    tv_layer,\n",
        "    em_layer,\n",
        "    tf.keras.layers.Dropout(0.2),\n",
        "    lstm_bi,\n",
        "    tf.keras.layers.Dropout(0.2),\n",
        "    tf.keras.layers.Flatten(),\n",
        "    tf.keras.layers.Dropout(0.2),\n",
        "    tf.keras.layers.Dense(1, activation = 'relu')], name = 'lstm_bi40')\n",
        "model.summary()"
      ],
      "metadata": {
        "colab": {
          "base_uri": "https://localhost:8080/"
        },
        "id": "z1w_B1jRVgwq",
        "outputId": "dc501d17-591c-4eda-864b-f44fa430fb01"
      },
      "execution_count": 34,
      "outputs": [
        {
          "output_type": "stream",
          "name": "stdout",
          "text": [
            "Model: \"lstm_bi40\"\n",
            "_________________________________________________________________\n",
            " Layer (type)                Output Shape              Param #   \n",
            "=================================================================\n",
            " text_vectorization (TextVec  (None, 200)              0         \n",
            " torization)                                                     \n",
            "                                                                 \n",
            " embedding (Embedding)       (None, 200, 16)           144576    \n",
            "                                                                 \n",
            " dropout_6 (Dropout)         (None, 200, 16)           0         \n",
            "                                                                 \n",
            " bidirectional_2 (Bidirectio  (None, 80)               18240     \n",
            " nal)                                                            \n",
            "                                                                 \n",
            " dropout_7 (Dropout)         (None, 80)                0         \n",
            "                                                                 \n",
            " flatten_2 (Flatten)         (None, 80)                0         \n",
            "                                                                 \n",
            " dropout_8 (Dropout)         (None, 80)                0         \n",
            "                                                                 \n",
            " dense_2 (Dense)             (None, 1)                 81        \n",
            "                                                                 \n",
            "=================================================================\n",
            "Total params: 162,897\n",
            "Trainable params: 162,897\n",
            "Non-trainable params: 0\n",
            "_________________________________________________________________\n"
          ]
        }
      ]
    },
    {
      "cell_type": "code",
      "source": [
        "lstm = tf.keras.layers.LSTM(8)\n",
        "lstm_bi = tf.keras.layers.Bidirectional(lstm, merge_mode='concat')\n",
        "\n",
        "model = tf.keras.Sequential([\n",
        "    tv_layer,\n",
        "    em_layer,\n",
        "    tf.keras.layers.Dropout(0.2),\n",
        "    lstm_bi,\n",
        "    tf.keras.layers.Dropout(0.2),\n",
        "    tf.keras.layers.Flatten(),\n",
        "    tf.keras.layers.Dropout(0.2),\n",
        "    tf.keras.layers.Dense(1, activation = 'relu')], name = 'lstm_bi8')\n",
        "model.summary()"
      ],
      "metadata": {
        "colab": {
          "base_uri": "https://localhost:8080/"
        },
        "id": "MAXvN0xOLeUU",
        "outputId": "d0368d70-6346-497d-947c-5f02e19e6554"
      },
      "execution_count": 25,
      "outputs": [
        {
          "output_type": "stream",
          "name": "stdout",
          "text": [
            "Model: \"lstm_bi8\"\n",
            "_________________________________________________________________\n",
            " Layer (type)                Output Shape              Param #   \n",
            "=================================================================\n",
            " text_vectorization (TextVec  (None, 200)              0         \n",
            " torization)                                                     \n",
            "                                                                 \n",
            " embedding (Embedding)       (None, 200, 16)           144576    \n",
            "                                                                 \n",
            " dropout_3 (Dropout)         (None, 200, 16)           0         \n",
            "                                                                 \n",
            " bidirectional_1 (Bidirectio  (None, 16)               1600      \n",
            " nal)                                                            \n",
            "                                                                 \n",
            " dropout_4 (Dropout)         (None, 16)                0         \n",
            "                                                                 \n",
            " flatten_1 (Flatten)         (None, 16)                0         \n",
            "                                                                 \n",
            " dropout_5 (Dropout)         (None, 16)                0         \n",
            "                                                                 \n",
            " dense_1 (Dense)             (None, 1)                 17        \n",
            "                                                                 \n",
            "=================================================================\n",
            "Total params: 146,193\n",
            "Trainable params: 146,193\n",
            "Non-trainable params: 0\n",
            "_________________________________________________________________\n"
          ]
        }
      ]
    },
    {
      "cell_type": "code",
      "source": [
        "conv1d_1f = tf.keras.layers.Conv1D(\n",
        "    filters = 1,\n",
        "    kernel_size = 8,\n",
        "    strides=1,\n",
        "    padding='same',\n",
        "    data_format='channels_last',\n",
        "    dilation_rate=1,\n",
        "    groups=1,\n",
        "    activation='relu',\n",
        "    use_bias=True,\n",
        "    kernel_initializer='glorot_uniform',\n",
        "    bias_initializer='zeros',\n",
        "    kernel_regularizer=None,\n",
        "    bias_regularizer=None,\n",
        "    activity_regularizer=None,\n",
        "    kernel_constraint=None,\n",
        "    bias_constraint=None,\n",
        ")\n",
        "\n",
        "model_conv_1f = tf.keras.Sequential([\n",
        "    tv_layer,\n",
        "    em_layer,\n",
        "    tf.keras.layers.Dropout(0.2),\n",
        "    conv1d_1f,\n",
        "    tf.keras.layers.Dropout(0.2),\n",
        "    tf.keras.layers.Flatten(),\n",
        "    tf.keras.layers.Dropout(0.2),\n",
        "    tf.keras.layers.Dense(1, activation = 'relu')], name = 'conv1d_1f')\n",
        "model_conv_1f.summary()"
      ],
      "metadata": {
        "id": "sn4lfvQcHLX-"
      },
      "execution_count": null,
      "outputs": []
    },
    {
      "cell_type": "code",
      "source": [
        "conv1d_8f = tf.keras.layers.Conv1D(\n",
        "    filters = 8,\n",
        "    kernel_size = 8,\n",
        "    strides=1,\n",
        "    padding='same',\n",
        "    data_format='channels_last',\n",
        "    dilation_rate=1,\n",
        "    groups=1,\n",
        "    activation='relu',\n",
        "    use_bias=True,\n",
        "    kernel_initializer='glorot_uniform',\n",
        "    bias_initializer='zeros',\n",
        "    kernel_regularizer=None,\n",
        "    bias_regularizer=None,\n",
        "    activity_regularizer=None,\n",
        "    kernel_constraint=None,\n",
        "    bias_constraint=None,\n",
        ")\n",
        "\n",
        "model_conv_8f = tf.keras.Sequential([\n",
        "    tv_layer,\n",
        "    em_layer,\n",
        "    tf.keras.layers.Dropout(0.2),\n",
        "    conv1d_1f,\n",
        "    tf.keras.layers.Dropout(0.2),\n",
        "    tf.keras.layers.Flatten(),\n",
        "    tf.keras.layers.Dropout(0.2),\n",
        "    tf.keras.layers.Dense(1, activation = 'relu')], name = 'conv1d_8f')\n",
        "model_conv_8f.summary()"
      ],
      "metadata": {
        "id": "gG_joLuyMzQB"
      },
      "execution_count": null,
      "outputs": []
    },
    {
      "cell_type": "code",
      "source": [
        "metric = tf.keras.metrics.MeanAbsoluteError(name='mean_absolute_error', dtype=None)\n",
        "loss =  tf.keras.losses.MeanSquaredError()\n",
        "model.compile(\n",
        "    optimizer=tf.keras.optimizers.Adam(0.001),\n",
        "    loss=loss,\n",
        "    metrics=[metric],\n",
        ")"
      ],
      "metadata": {
        "id": "L_LesX7-tBCm"
      },
      "execution_count": 35,
      "outputs": []
    },
    {
      "cell_type": "code",
      "source": [
        "model_conv_1f.compile(\n",
        "    optimizer=tf.keras.optimizers.Adam(0.001),\n",
        "    loss=loss,\n",
        "    metrics=[metric],\n",
        ")"
      ],
      "metadata": {
        "id": "BUawPUwNJBeK"
      },
      "execution_count": 34,
      "outputs": []
    },
    {
      "cell_type": "code",
      "source": [
        "model_conv_8f.compile(\n",
        "    optimizer=tf.keras.optimizers.Adam(0.001),\n",
        "    loss=loss,\n",
        "    metrics=[metric],\n",
        ")"
      ],
      "metadata": {
        "id": "18mO-x_YMvXy"
      },
      "execution_count": 41,
      "outputs": []
    },
    {
      "cell_type": "code",
      "source": [
        "# test if reviews pass through model, show sample output\n",
        "for ds in (ds_train, ds_test):  test_model(model, ds)"
      ],
      "metadata": {
        "colab": {
          "base_uri": "https://localhost:8080/"
        },
        "id": "q6iV5MOItlQ9",
        "outputId": "745e75ba-5133-4374-9766-4294fb17f1c2"
      },
      "execution_count": 15,
      "outputs": [
        {
          "output_type": "stream",
          "name": "stdout",
          "text": [
            "10, 20, 30, 40, 50, 60, 70, 80, 90, 100, 110, 120, 130, 140, 150, 10, 20, 30, "
          ]
        }
      ]
    },
    {
      "cell_type": "code",
      "source": [
        "def save_model(model):\n",
        "    model_path = ROOT + MODEL_PATH + model.name +'/'\n",
        "    if not os.path.exists(ROOT + model_path):\n",
        "        os.makedirs(ROOT + model_path, exist_ok = False)\n",
        "        print('Created directory ' + ROOT + model_path)\n",
        "\n",
        "    model.save(model_path + model.name + '_save', save_format='tf')\n",
        "\n",
        "def load_model(model):\n",
        "    model_path = ROOT + MODEL_PATH + model.name +'/'\n",
        "    model = tf.keras.models.load_model(model_path + model.name + '_save')\n",
        "    return model"
      ],
      "metadata": {
        "id": "MdAW_p5y59DX"
      },
      "execution_count": 16,
      "outputs": []
    },
    {
      "cell_type": "code",
      "source": [
        "# load from checkpoint\n",
        "# model.load_weights(model_path + 'checkpoints')"
      ],
      "metadata": {
        "colab": {
          "base_uri": "https://localhost:8080/"
        },
        "id": "CpsGSu_ninqG",
        "outputId": "ca56161f-5d3e-4bd3-b417-52bc30ab837b"
      },
      "execution_count": 105,
      "outputs": [
        {
          "output_type": "execute_result",
          "data": {
            "text/plain": [
              "<tensorflow.python.checkpoint.checkpoint.CheckpointLoadStatus at 0x7ca14bdeb7f0>"
            ]
          },
          "metadata": {},
          "execution_count": 105
        }
      ]
    },
    {
      "cell_type": "code",
      "source": [],
      "metadata": {
        "id": "bgJKcs34Kbt9"
      },
      "execution_count": null,
      "outputs": []
    },
    {
      "cell_type": "code",
      "source": [
        "def model_fit(model, train, test, epochs):\n",
        "\n",
        "    model_path = ROOT + MODEL_PATH + model.name +'/'\n",
        "    if not os.path.exists(ROOT + model_path):\n",
        "        os.makedirs(ROOT + model_path, exist_ok = False)\n",
        "        print('Created directory ' + ROOT + model_path)\n",
        "\n",
        "    model_checkpoint_callback = tf.keras.callbacks.ModelCheckpoint(\n",
        "        filepath=model_path + 'checkpoints',\n",
        "        save_weights_only=True,\n",
        "        monitor='mean_absolute_error',\n",
        "        mode='min',\n",
        "        save_best_only=True)\n",
        "\n",
        "\n",
        "    if os.path.exists(model_path + 'current_weights.index'):\n",
        "        model.load_weights(model_path + 'current_weights')\n",
        "        print('Found previous weights')\n",
        "    else:\n",
        "        print('No previous weights found!')\n",
        "\n",
        "    history =  model.fit(\n",
        "        train,\n",
        "        epochs = epochs,\n",
        "        validation_data = test,\n",
        "        callbacks=[model_checkpoint_callback]\n",
        "    )\n",
        "\n",
        "    model.evaluate(ds_test)\n",
        "    model.save_weights(model_path + 'current_weights', save_format='tf')\n",
        "    print('Current weights saved to ' + model_path + 'current_weights')\n",
        "\n",
        "    return history"
      ],
      "metadata": {
        "id": "-rRdOQPjtoGW"
      },
      "execution_count": 17,
      "outputs": []
    },
    {
      "cell_type": "code",
      "source": [
        "history_conv_1f = model_fit(model_conv_1f, train=ds_train, test=ds_test, epochs=500)"
      ],
      "metadata": {
        "id": "1ayqo4WqFuuR"
      },
      "execution_count": null,
      "outputs": []
    },
    {
      "cell_type": "code",
      "source": [
        "history_conv_8f = model_fit(model_conv_8f, train=ds_train, test=ds_test, epochs=500)"
      ],
      "metadata": {
        "id": "8jb4bf6kM_m9"
      },
      "execution_count": null,
      "outputs": []
    },
    {
      "cell_type": "code",
      "source": [
        "history_lstm_bi40 = model_fit(model, train=ds_train, test=ds_test, epochs=50)"
      ],
      "metadata": {
        "colab": {
          "base_uri": "https://localhost:8080/"
        },
        "id": "U6sOEsPX9JM3",
        "outputId": "d81f8a91-2bd3-4102-a408-9abfda90ec4c"
      },
      "execution_count": 36,
      "outputs": [
        {
          "output_type": "stream",
          "name": "stdout",
          "text": [
            "Created directory /content/drive/MyDrive/CAS_Gregi//content/drive/MyDrive/CAS_Gregi/My_Models/lstm_bi40/\n",
            "No previous weights found!\n",
            "Epoch 1/50\n",
            "157/157 [==============================] - 28s 150ms/step - loss: 0.7051 - mean_absolute_error: 0.5671 - val_loss: 0.4497 - val_mean_absolute_error: 0.4870\n",
            "Epoch 2/50\n",
            "157/157 [==============================] - 3s 17ms/step - loss: 0.1533 - mean_absolute_error: 0.2841 - val_loss: 0.4261 - val_mean_absolute_error: 0.4632\n",
            "Epoch 3/50\n",
            "157/157 [==============================] - 3s 19ms/step - loss: 0.1237 - mean_absolute_error: 0.2460 - val_loss: 0.4051 - val_mean_absolute_error: 0.4431\n",
            "Epoch 4/50\n",
            "157/157 [==============================] - 3s 18ms/step - loss: 0.1034 - mean_absolute_error: 0.2253 - val_loss: 0.4015 - val_mean_absolute_error: 0.4277\n",
            "Epoch 5/50\n",
            "157/157 [==============================] - 3s 18ms/step - loss: 0.0857 - mean_absolute_error: 0.2056 - val_loss: 0.3944 - val_mean_absolute_error: 0.4279\n",
            "Epoch 6/50\n",
            "157/157 [==============================] - 4s 23ms/step - loss: 0.0794 - mean_absolute_error: 0.1973 - val_loss: 0.4269 - val_mean_absolute_error: 0.4350\n",
            "Epoch 7/50\n",
            "157/157 [==============================] - 3s 22ms/step - loss: 0.0762 - mean_absolute_error: 0.1941 - val_loss: 0.4660 - val_mean_absolute_error: 0.4571\n",
            "Epoch 8/50\n",
            "157/157 [==============================] - 3s 18ms/step - loss: 0.0751 - mean_absolute_error: 0.1911 - val_loss: 0.3869 - val_mean_absolute_error: 0.4248\n",
            "Epoch 9/50\n",
            "157/157 [==============================] - 3s 17ms/step - loss: 0.0710 - mean_absolute_error: 0.1845 - val_loss: 0.4203 - val_mean_absolute_error: 0.4415\n",
            "Epoch 10/50\n",
            "157/157 [==============================] - 4s 23ms/step - loss: 0.0712 - mean_absolute_error: 0.1875 - val_loss: 0.4220 - val_mean_absolute_error: 0.4317\n",
            "Epoch 11/50\n",
            "157/157 [==============================] - 3s 20ms/step - loss: 0.0688 - mean_absolute_error: 0.1824 - val_loss: 0.4002 - val_mean_absolute_error: 0.4221\n",
            "Epoch 12/50\n",
            "157/157 [==============================] - 3s 17ms/step - loss: 0.0699 - mean_absolute_error: 0.1832 - val_loss: 0.4020 - val_mean_absolute_error: 0.4212\n",
            "Epoch 13/50\n",
            "157/157 [==============================] - 3s 18ms/step - loss: 0.0672 - mean_absolute_error: 0.1821 - val_loss: 0.4745 - val_mean_absolute_error: 0.4471\n",
            "Epoch 14/50\n",
            "157/157 [==============================] - 3s 18ms/step - loss: 0.0671 - mean_absolute_error: 0.1803 - val_loss: 0.4309 - val_mean_absolute_error: 0.4317\n",
            "Epoch 15/50\n",
            "157/157 [==============================] - 4s 25ms/step - loss: 0.0654 - mean_absolute_error: 0.1791 - val_loss: 0.4372 - val_mean_absolute_error: 0.4323\n",
            "Epoch 16/50\n",
            "157/157 [==============================] - 3s 18ms/step - loss: 0.0604 - mean_absolute_error: 0.1718 - val_loss: 0.4252 - val_mean_absolute_error: 0.4271\n",
            "Epoch 17/50\n",
            "157/157 [==============================] - 3s 18ms/step - loss: 0.0593 - mean_absolute_error: 0.1686 - val_loss: 0.4189 - val_mean_absolute_error: 0.4301\n",
            "Epoch 18/50\n",
            "157/157 [==============================] - 5s 31ms/step - loss: 0.0583 - mean_absolute_error: 0.1680 - val_loss: 0.4136 - val_mean_absolute_error: 0.4285\n",
            "Epoch 19/50\n",
            "157/157 [==============================] - 3s 18ms/step - loss: 0.0567 - mean_absolute_error: 0.1660 - val_loss: 0.4219 - val_mean_absolute_error: 0.4335\n",
            "Epoch 20/50\n",
            "157/157 [==============================] - 3s 18ms/step - loss: 0.0555 - mean_absolute_error: 0.1640 - val_loss: 0.4005 - val_mean_absolute_error: 0.4229\n",
            "Epoch 21/50\n",
            "157/157 [==============================] - 3s 17ms/step - loss: 0.0532 - mean_absolute_error: 0.1608 - val_loss: 0.4116 - val_mean_absolute_error: 0.4268\n",
            "Epoch 22/50\n",
            "157/157 [==============================] - 3s 21ms/step - loss: 0.0550 - mean_absolute_error: 0.1618 - val_loss: 0.4311 - val_mean_absolute_error: 0.4314\n",
            "Epoch 23/50\n",
            "157/157 [==============================] - 3s 21ms/step - loss: 0.0530 - mean_absolute_error: 0.1591 - val_loss: 0.4144 - val_mean_absolute_error: 0.4251\n",
            "Epoch 24/50\n",
            "157/157 [==============================] - 3s 17ms/step - loss: 0.0531 - mean_absolute_error: 0.1598 - val_loss: 0.4342 - val_mean_absolute_error: 0.4318\n",
            "Epoch 25/50\n",
            "157/157 [==============================] - 3s 17ms/step - loss: 0.0510 - mean_absolute_error: 0.1569 - val_loss: 0.4242 - val_mean_absolute_error: 0.4339\n",
            "Epoch 26/50\n",
            "157/157 [==============================] - 3s 22ms/step - loss: 0.0624 - mean_absolute_error: 0.1716 - val_loss: 0.4171 - val_mean_absolute_error: 0.4322\n",
            "Epoch 27/50\n",
            "157/157 [==============================] - 3s 18ms/step - loss: 0.0531 - mean_absolute_error: 0.1601 - val_loss: 0.4155 - val_mean_absolute_error: 0.4268\n",
            "Epoch 28/50\n",
            "157/157 [==============================] - 3s 21ms/step - loss: 0.0472 - mean_absolute_error: 0.1522 - val_loss: 0.4173 - val_mean_absolute_error: 0.4318\n",
            "Epoch 29/50\n",
            "157/157 [==============================] - 3s 18ms/step - loss: 0.0474 - mean_absolute_error: 0.1512 - val_loss: 0.4115 - val_mean_absolute_error: 0.4281\n",
            "Epoch 30/50\n",
            "157/157 [==============================] - 3s 19ms/step - loss: 0.0464 - mean_absolute_error: 0.1497 - val_loss: 0.4444 - val_mean_absolute_error: 0.4337\n",
            "Epoch 31/50\n",
            "157/157 [==============================] - 3s 18ms/step - loss: 0.0431 - mean_absolute_error: 0.1428 - val_loss: 0.4216 - val_mean_absolute_error: 0.4274\n",
            "Epoch 32/50\n",
            "157/157 [==============================] - 3s 17ms/step - loss: 0.0447 - mean_absolute_error: 0.1450 - val_loss: 0.4343 - val_mean_absolute_error: 0.4292\n",
            "Epoch 33/50\n",
            "157/157 [==============================] - 4s 23ms/step - loss: 0.0433 - mean_absolute_error: 0.1439 - val_loss: 0.4269 - val_mean_absolute_error: 0.4272\n",
            "Epoch 34/50\n",
            "157/157 [==============================] - 3s 18ms/step - loss: 0.0422 - mean_absolute_error: 0.1399 - val_loss: 0.4252 - val_mean_absolute_error: 0.4240\n",
            "Epoch 35/50\n",
            "157/157 [==============================] - 3s 17ms/step - loss: 0.0420 - mean_absolute_error: 0.1427 - val_loss: 0.4174 - val_mean_absolute_error: 0.4285\n",
            "Epoch 36/50\n",
            "157/157 [==============================] - 3s 17ms/step - loss: 0.0417 - mean_absolute_error: 0.1403 - val_loss: 0.4143 - val_mean_absolute_error: 0.4312\n",
            "Epoch 37/50\n",
            "157/157 [==============================] - 3s 21ms/step - loss: 0.0441 - mean_absolute_error: 0.1436 - val_loss: 0.4345 - val_mean_absolute_error: 0.4494\n",
            "Epoch 38/50\n",
            "157/157 [==============================] - 3s 18ms/step - loss: 0.0403 - mean_absolute_error: 0.1370 - val_loss: 0.4164 - val_mean_absolute_error: 0.4253\n",
            "Epoch 39/50\n",
            "157/157 [==============================] - 3s 17ms/step - loss: 0.0362 - mean_absolute_error: 0.1314 - val_loss: 0.4294 - val_mean_absolute_error: 0.4342\n",
            "Epoch 40/50\n",
            "157/157 [==============================] - 3s 20ms/step - loss: 0.0650 - mean_absolute_error: 0.1660 - val_loss: 0.4313 - val_mean_absolute_error: 0.4346\n",
            "Epoch 41/50\n",
            "157/157 [==============================] - 3s 18ms/step - loss: 0.0430 - mean_absolute_error: 0.1430 - val_loss: 0.4300 - val_mean_absolute_error: 0.4277\n",
            "Epoch 42/50\n",
            "157/157 [==============================] - 3s 17ms/step - loss: 0.0375 - mean_absolute_error: 0.1326 - val_loss: 0.4240 - val_mean_absolute_error: 0.4277\n",
            "Epoch 43/50\n",
            "157/157 [==============================] - 3s 19ms/step - loss: 0.0355 - mean_absolute_error: 0.1300 - val_loss: 0.4205 - val_mean_absolute_error: 0.4264\n",
            "Epoch 44/50\n",
            "157/157 [==============================] - 3s 19ms/step - loss: 0.0352 - mean_absolute_error: 0.1284 - val_loss: 0.4497 - val_mean_absolute_error: 0.4292\n",
            "Epoch 45/50\n",
            "157/157 [==============================] - 3s 17ms/step - loss: 0.0369 - mean_absolute_error: 0.1312 - val_loss: 0.4154 - val_mean_absolute_error: 0.4295\n",
            "Epoch 46/50\n",
            "157/157 [==============================] - 4s 25ms/step - loss: 0.0343 - mean_absolute_error: 0.1284 - val_loss: 0.4247 - val_mean_absolute_error: 0.4250\n",
            "Epoch 47/50\n",
            "157/157 [==============================] - 3s 18ms/step - loss: 0.0334 - mean_absolute_error: 0.1246 - val_loss: 0.4330 - val_mean_absolute_error: 0.4277\n",
            "Epoch 48/50\n",
            "157/157 [==============================] - 3s 19ms/step - loss: 0.0335 - mean_absolute_error: 0.1233 - val_loss: 0.4335 - val_mean_absolute_error: 0.4290\n",
            "Epoch 49/50\n",
            "157/157 [==============================] - 4s 23ms/step - loss: 0.0372 - mean_absolute_error: 0.1308 - val_loss: 0.4534 - val_mean_absolute_error: 0.4376\n",
            "Epoch 50/50\n",
            "157/157 [==============================] - 3s 21ms/step - loss: 0.0332 - mean_absolute_error: 0.1237 - val_loss: 0.4416 - val_mean_absolute_error: 0.4314\n",
            "32/32 [==============================] - 0s 11ms/step - loss: 0.4416 - mean_absolute_error: 0.4314\n",
            "Current weights saved to /content/drive/MyDrive/CAS_Gregi/My_Models/lstm_bi40/current_weights\n"
          ]
        }
      ]
    },
    {
      "cell_type": "code",
      "source": [
        "# model.save_weights(model_path + 'weights_after_1000_epochs', save_format='tf')"
      ],
      "metadata": {
        "id": "sVVfM9n8Kq8S"
      },
      "execution_count": 28,
      "outputs": []
    },
    {
      "cell_type": "code",
      "source": [
        "\n",
        "# next(iter(ds_train))"
      ],
      "metadata": {
        "id": "wlmhYZDx1A2o"
      },
      "execution_count": 54,
      "outputs": []
    },
    {
      "cell_type": "code",
      "source": [
        "# save model\n",
        "save_model(model)"
      ],
      "metadata": {
        "colab": {
          "base_uri": "https://localhost:8080/"
        },
        "id": "EWuOuB5GBUqt",
        "outputId": "03bfac55-ea82-4f3e-da66-13b2a53e6828"
      },
      "execution_count": 18,
      "outputs": [
        {
          "output_type": "stream",
          "name": "stdout",
          "text": [
            "Created directory /content/drive/MyDrive/CAS_Gregi//content/drive/MyDrive/CAS_Gregi/My_Models/lstm_bi20/\n"
          ]
        },
        {
          "output_type": "stream",
          "name": "stderr",
          "text": [
            "WARNING:absl:Found untraced functions such as _update_step_xla, lstm_cell_1_layer_call_fn, lstm_cell_1_layer_call_and_return_conditional_losses, lstm_cell_2_layer_call_fn, lstm_cell_2_layer_call_and_return_conditional_losses while saving (showing 5 of 5). These functions will not be directly callable after loading.\n"
          ]
        }
      ]
    },
    {
      "cell_type": "code",
      "source": [
        "# load the model\n",
        "# model = load_model(model)"
      ],
      "metadata": {
        "id": "-cWSN7WrBcLJ"
      },
      "execution_count": null,
      "outputs": []
    },
    {
      "cell_type": "code",
      "source": [
        "model.evaluate(ds_test)"
      ],
      "metadata": {
        "colab": {
          "base_uri": "https://localhost:8080/"
        },
        "id": "j1376PDm_NrD",
        "outputId": "f4de592d-b5aa-429d-8e0b-128916db4297"
      },
      "execution_count": 37,
      "outputs": [
        {
          "output_type": "stream",
          "name": "stdout",
          "text": [
            "32/32 [==============================] - 0s 11ms/step - loss: 0.4416 - mean_absolute_error: 0.4314\n"
          ]
        },
        {
          "output_type": "execute_result",
          "data": {
            "text/plain": [
              "[0.4415883421897888, 0.43138766288757324]"
            ]
          },
          "metadata": {},
          "execution_count": 37
        }
      ]
    },
    {
      "cell_type": "code",
      "source": [
        "model.evaluate(ds_test)"
      ],
      "metadata": {
        "colab": {
          "base_uri": "https://localhost:8080/"
        },
        "id": "cwOehAb4tyUp",
        "outputId": "e7de18cc-b679-44cc-b642-8045fbf36c6b"
      },
      "execution_count": 30,
      "outputs": [
        {
          "output_type": "stream",
          "name": "stdout",
          "text": [
            "32/32 [==============================] - 0s 10ms/step - loss: 0.4229 - mean_absolute_error: 0.4351\n"
          ]
        },
        {
          "output_type": "execute_result",
          "data": {
            "text/plain": [
              "[0.4229462146759033, 0.4351191222667694]"
            ]
          },
          "metadata": {},
          "execution_count": 30
        }
      ]
    },
    {
      "cell_type": "code",
      "source": [
        "def accuracy(ds):\n",
        "\n",
        "    ys_pred = (model.predict(ds).reshape((-1,))).round()\n",
        "    ys = np.concatenate([y for x, y in ds], axis=0)\n",
        "    errs = abs(ys - ys_pred)\n",
        "    N = len(ys)\n",
        "    relative_hits = [np.count_nonzero(errs==i)/N for i in range(5)]\n",
        "    return relative_hits\n",
        "\n",
        "def np_accuracy(ds):\n",
        "    f = lambda x:x<0 and -1 or x>0 and 1 or 0\n",
        "    ys_pred = (model.predict(ds).reshape((-1,))).round() - 2\n",
        "    ys_pred = np.array([f(x) for x in ys_pred])\n",
        "    ys = np.concatenate([y for x, y in ds], axis=0) - 2\n",
        "    ys = np.array([f(x) for x in ys])\n",
        "\n",
        "    errs = abs(ys - ys_pred)\n",
        "    N = len(ys)\n",
        "    relative_hits = [np.count_nonzero(errs==i)/N for i in [0,1,2]]\n",
        "    return relative_hits"
      ],
      "metadata": {
        "id": "LQ_GS--qBKa3"
      },
      "execution_count": 19,
      "outputs": []
    },
    {
      "cell_type": "code",
      "source": [
        "accuracy(ds_train), accuracy(ds_test)"
      ],
      "metadata": {
        "colab": {
          "base_uri": "https://localhost:8080/"
        },
        "id": "CuINhorVwSBD",
        "outputId": "c6c36411-94c5-4b0d-db0e-5c816039c8c5"
      },
      "execution_count": 19,
      "outputs": [
        {
          "output_type": "stream",
          "name": "stdout",
          "text": [
            "157/157 [==============================] - 2s 8ms/step\n",
            "32/32 [==============================] - 0s 8ms/step\n"
          ]
        },
        {
          "output_type": "execute_result",
          "data": {
            "text/plain": [
              "([1.0, 0.0, 0.0, 0.0, 0.0], [0.659, 0.301, 0.036, 0.004, 0.0])"
            ]
          },
          "metadata": {},
          "execution_count": 19
        }
      ]
    },
    {
      "cell_type": "code",
      "source": [
        "accuracy(ds_train), accuracy(ds_test)"
      ],
      "metadata": {
        "colab": {
          "base_uri": "https://localhost:8080/"
        },
        "id": "gWRMj3WCQv6q",
        "outputId": "95cd02e6-771e-446b-979b-d21ab406b9cb"
      },
      "execution_count": 31,
      "outputs": [
        {
          "output_type": "stream",
          "name": "stdout",
          "text": [
            "157/157 [==============================] - 3s 18ms/step\n",
            "32/32 [==============================] - 0s 10ms/step\n"
          ]
        },
        {
          "output_type": "execute_result",
          "data": {
            "text/plain": [
              "([0.999, 0.001, 0.0, 0.0, 0.0], [0.656, 0.306, 0.034, 0.004, 0.0])"
            ]
          },
          "metadata": {},
          "execution_count": 31
        }
      ]
    },
    {
      "cell_type": "code",
      "source": [
        "text = fix_shape('the best hotel i ever stayed at')\n",
        "model.predict(text)"
      ],
      "metadata": {
        "colab": {
          "base_uri": "https://localhost:8080/"
        },
        "id": "oiFUuHp7t8Wm",
        "outputId": "1b915a17-d42a-4570-8edd-337a46168ea3"
      },
      "execution_count": 33,
      "outputs": [
        {
          "output_type": "stream",
          "name": "stdout",
          "text": [
            "1/1 [==============================] - 0s 28ms/step\n"
          ]
        },
        {
          "output_type": "execute_result",
          "data": {
            "text/plain": [
              "array([[2.2713227]], dtype=float32)"
            ]
          },
          "metadata": {},
          "execution_count": 33
        }
      ]
    },
    {
      "cell_type": "code",
      "source": [
        "text = '''\n",
        "the breakfast was excellent and the room very clean and spacious\n",
        "the staff was very friendly\n",
        "I can really recommend this place'''.lower().replace('\\n', ' ')\n",
        "model.predict(fix_shape(text))"
      ],
      "metadata": {
        "colab": {
          "base_uri": "https://localhost:8080/"
        },
        "id": "ZhjT5c3BuAWg",
        "outputId": "381ee787-8e8a-4507-de57-e8e2882902aa"
      },
      "execution_count": 35,
      "outputs": [
        {
          "output_type": "stream",
          "name": "stdout",
          "text": [
            "1/1 [==============================] - 0s 25ms/step\n"
          ]
        },
        {
          "output_type": "execute_result",
          "data": {
            "text/plain": [
              "array([[3.428855]], dtype=float32)"
            ]
          },
          "metadata": {},
          "execution_count": 35
        }
      ]
    },
    {
      "cell_type": "code",
      "source": [
        "text = '''\\\n",
        "the breakfast was ok, but nothing special\n",
        "the staff was very friendl.\n",
        "But the room we small and not suitable for working'''.lower().replace('\\n', ' ')\n",
        "\n",
        "model.predict(fix_shape(text))"
      ],
      "metadata": {
        "colab": {
          "base_uri": "https://localhost:8080/"
        },
        "id": "1qYL5XXYuHKg",
        "outputId": "71124f59-ff7d-4fea-d443-23aba8bae546"
      },
      "execution_count": 39,
      "outputs": [
        {
          "output_type": "stream",
          "name": "stdout",
          "text": [
            "1/1 [==============================] - 0s 36ms/step\n"
          ]
        },
        {
          "output_type": "execute_result",
          "data": {
            "text/plain": [
              "array([[2.32862]], dtype=float32)"
            ]
          },
          "metadata": {},
          "execution_count": 39
        }
      ]
    },
    {
      "cell_type": "code",
      "source": [
        "text = '''\\\n",
        "the breakfast was ok, but nothing special\n",
        "the staff was quite rude\n",
        "And the room we small and not suitable for working'''.lower().replace('\\n', ' ')\n",
        "model.predict(fix_shape(text))"
      ],
      "metadata": {
        "colab": {
          "base_uri": "https://localhost:8080/"
        },
        "id": "yDh1iPz1uMTV",
        "outputId": "7df9ef27-5924-43e3-9dca-0170a3a6e19c"
      },
      "execution_count": 40,
      "outputs": [
        {
          "output_type": "stream",
          "name": "stdout",
          "text": [
            "1/1 [==============================] - 0s 24ms/step\n"
          ]
        },
        {
          "output_type": "execute_result",
          "data": {
            "text/plain": [
              "array([[1.7753965]], dtype=float32)"
            ]
          },
          "metadata": {},
          "execution_count": 40
        }
      ]
    },
    {
      "cell_type": "code",
      "source": [
        "text = '''\\\n",
        "the breakfast was bad, only bread and coffe\n",
        "Checkin took forever\n",
        "No roomservice\n",
        "The room we small and not suitable for working'''.lower().replace('\\n', ' ')\n",
        "model.predict(fix_shape(text))"
      ],
      "metadata": {
        "colab": {
          "base_uri": "https://localhost:8080/"
        },
        "id": "PUYC7U55uNG-",
        "outputId": "9d90efdb-d404-47da-cd52-9fdd9cc33e00"
      },
      "execution_count": 41,
      "outputs": [
        {
          "output_type": "stream",
          "name": "stdout",
          "text": [
            "1/1 [==============================] - 0s 24ms/step\n"
          ]
        },
        {
          "output_type": "execute_result",
          "data": {
            "text/plain": [
              "array([[2.0958402]], dtype=float32)"
            ]
          },
          "metadata": {},
          "execution_count": 41
        }
      ]
    },
    {
      "cell_type": "code",
      "source": [
        "history = history_lstm_bi20"
      ],
      "metadata": {
        "id": "d2WI3w05LDff"
      },
      "execution_count": 22,
      "outputs": []
    },
    {
      "cell_type": "code",
      "source": [
        "from matplotlib import pyplot as plt\n",
        "plt.plot(history.history['mean_absolute_error'])\n",
        "plt.plot(history.history['val_mean_absolute_error'])\n",
        "plt.title('MAE')\n",
        "plt.ylabel('mean absolute error')\n",
        "plt.xlabel('epoch')\n",
        "plt.legend(['train', 'val'], loc='upper left')\n",
        "plt.show()"
      ],
      "metadata": {
        "colab": {
          "base_uri": "https://localhost:8080/",
          "height": 472
        },
        "id": "LuBoQBj42MOR",
        "outputId": "47675eb0-7c69-45e7-ee95-4ea250cabe83"
      },
      "execution_count": 23,
      "outputs": [
        {
          "output_type": "display_data",
          "data": {
            "text/plain": [
              "<Figure size 640x480 with 1 Axes>"
            ],
            "image/png": "[encoded data removed]"
          },
          "metadata": {}
        }
      ]
    },
    {
      "cell_type": "code",
      "source": [
        "plt.plot(history.history['loss'])\n",
        "plt.plot(history.history['val_loss'])\n",
        "plt.title('Model loss')\n",
        "plt.ylabel('loss')\n",
        "plt.xlabel('epoch')\n",
        "plt.legend(['train', 'val'], loc='upper left')\n",
        "plt.show()"
      ],
      "metadata": {
        "colab": {
          "base_uri": "https://localhost:8080/",
          "height": 472
        },
        "id": "h1VZ4ThLEpTT",
        "outputId": "adf14eb3-ce0b-44d5-bdaf-920ef2623591"
      },
      "execution_count": 24,
      "outputs": [
        {
          "output_type": "display_data",
          "data": {
            "text/plain": [
              "<Figure size 640x480 with 1 Axes>"
            ],
            "image/png": "[encoded data removed]"
          },
          "metadata": {}
        }
      ]
    },
    {
      "cell_type": "code",
      "source": [
        "def plot_mae(history):\n",
        "    plt.plot(history.history['mean_absolute_error'])\n",
        "    plt.plot(history.history['val_mean_absolute_error'])\n",
        "    plt.title('MAE')\n",
        "    plt.ylabel('mean absolute error')\n",
        "    plt.xlabel('epoch')\n",
        "    plt.legend(['train', 'val'], loc='upper left')\n",
        "    plt.show()\n",
        "\n",
        "def plot_loss(history):\n",
        "    plt.plot(history.history['loss'])\n",
        "    plt.plot(history.history['val_loss'])\n",
        "    plt.title('Model loss')\n",
        "    plt.ylabel('loss')\n",
        "    plt.xlabel('epoch')\n",
        "    plt.legend(['train', 'val'], loc='upper left')\n",
        "    plt.show()"
      ],
      "metadata": {
        "id": "jpeLKVc0L9OP"
      },
      "execution_count": 32,
      "outputs": []
    },
    {
      "cell_type": "code",
      "source": [],
      "metadata": {
        "id": "mBQWJvXhEpdi"
      },
      "execution_count": 29,
      "outputs": []
    },
    {
      "cell_type": "code",
      "source": [
        "plot_mae(history_lstm_bi40)"
      ],
      "metadata": {
        "colab": {
          "base_uri": "https://localhost:8080/",
          "height": 472
        },
        "id": "WVJ313m-MZNv",
        "outputId": "e742f190-aec1-4655-aedf-1696115ac1b0"
      },
      "execution_count": 38,
      "outputs": [
        {
          "output_type": "display_data",
          "data": {
            "text/plain": [
              "<Figure size 640x480 with 1 Axes>"
            ],
            "image/png": "[encoded data removed]"
          },
          "metadata": {}
        }
      ]
    },
    {
      "cell_type": "code",
      "source": [
        "plot_loss(history_lstm_bi8)"
      ],
      "metadata": {
        "id": "3d2Pi44EMbgj"
      },
      "execution_count": null,
      "outputs": []
    }
  ]
}