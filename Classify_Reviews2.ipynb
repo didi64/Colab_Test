{
  "nbformat": 4,
  "nbformat_minor": 0,
  "metadata": {
    "colab": {
      "provenance": [],
      "gpuType": "T4",
      "authorship_tag": "ABX9TyO2CrqJpo475kyi58h+F6z1",
      "include_colab_link": true
    },
    "kernelspec": {
      "name": "python3",
      "display_name": "Python 3"
    },
    "language_info": {
      "name": "python"
    },
    "accelerator": "GPU"
  },
  "cells": [
    {
      "cell_type": "markdown",
      "metadata": {
        "id": "view-in-github",
        "colab_type": "text"
      },
      "source": [
        "<a href=\"https://colab.research.google.com/github/didi64/Colab_Test/blob/main/Classify_Reviews2.ipynb\" target=\"_parent\"><img src=\"https://colab.research.google.com/assets/colab-badge.svg\" alt=\"Open In Colab\"/></a>"
      ]
    },
    {
      "cell_type": "markdown",
      "source": [
        "### Load the cleaned reviews and train an LSTM-model"
      ],
      "metadata": {
        "id": "8LMKuWsqK3nt"
      }
    },
    {
      "cell_type": "code",
      "execution_count": 1,
      "metadata": {
        "colab": {
          "base_uri": "https://localhost:8080/"
        },
        "id": "9dXRgHF-nNaJ",
        "outputId": "f28465f4-abe9-4374-cf46-b3d2addd2bae"
      },
      "outputs": [
        {
          "output_type": "stream",
          "name": "stdout",
          "text": [
            "Mounted at /content/drive\n"
          ]
        }
      ],
      "source": [
        "import os, sys\n",
        "from google.colab import drive\n",
        "ROOT = '/content/drive/MyDrive/CAS_Gregi/'\n",
        "MODULE_PATH = 'CO_modules/'\n",
        "MODEL_PATH  = 'My_Models/'\n",
        "\n",
        "IMPORT_PATH_SYMLINK = {'link': '/content/modules', 'target': ROOT + MODULE_PATH}\n",
        "\n",
        "drive.mount('/content/drive', force_remount=False)\n",
        "if not os.path.exists(IMPORT_PATH_SYMLINK['link']):\n",
        "    os.symlink(IMPORT_PATH_SYMLINK['target'], IMPORT_PATH_SYMLINK['link'])\n",
        "if IMPORT_PATH_SYMLINK['link'] not in sys.path:\n",
        "    sys.path.insert(0, IMPORT_PATH_SYMLINK['link'])"
      ]
    },
    {
      "cell_type": "code",
      "source": [
        "!ls -l {IMPORT_PATH_SYMLINK['link']}\n",
        "!ls /content $ROOT /content/drive {IMPORT_PATH_SYMLINK['link']}"
      ],
      "metadata": {
        "id": "iRED4e1XBIDY"
      },
      "execution_count": null,
      "outputs": []
    },
    {
      "cell_type": "code",
      "source": [
        "import pickle\n",
        "with open(ROOT + 'data/hotelreviews_cleaned_train_test_spell.pkl','rb') as f:\n",
        "    data_train, data_test = pickle.load(f)"
      ],
      "metadata": {
        "id": "1vIHgPwxnWNA"
      },
      "execution_count": 3,
      "outputs": []
    },
    {
      "cell_type": "code",
      "source": [
        "import random\n",
        "import numpy as np\n",
        "import tensorflow as tf\n",
        "from functools import reduce"
      ],
      "metadata": {
        "id": "CG5uUG2knoQC"
      },
      "execution_count": 4,
      "outputs": []
    },
    {
      "cell_type": "code",
      "source": [
        "def fix_shape(text):\n",
        "    return tf.constant(text, shape = (1,))\n",
        "\n",
        "def get_dataset(d):\n",
        "    ''' get dataset from dict {score: list_of_revies,...}'''\n",
        "    # list of tuples [(score, review),...]\n",
        "    all_reviews = reduce(lambda x,y: x + y, [[(r, k) for k,v in d.items() for r in v]])\n",
        "    random.shuffle(all_reviews)\n",
        "    reviews = tf.constant([r for r,_ in all_reviews], shape=(len(all_reviews), 1))\n",
        "    gpt_scores  = tf.constant([s - 1 for _, s in all_reviews])\n",
        "\n",
        "    n = len(reviews)\n",
        "    ds = tf.data.Dataset.from_tensor_slices((reviews[:n], gpt_scores[:n]))\n",
        "    return ds\n",
        "\n",
        "def batch(ds, batch_size = 32):\n",
        "    xs, ys =  next(iter(ds))\n",
        "    if xs.shape == () or xs.shape[0] == 1:\n",
        "        ds = ds.batch(batch_size)\n",
        "    return ds\n",
        "\n",
        "def test_model(model, ds):\n",
        "    i = 0\n",
        "    for xs, _ in iter(ds):\n",
        "        i += 1\n",
        "        if (i %10) ==0:\n",
        "            print(i, end = ', ')\n",
        "        model(xs)"
      ],
      "metadata": {
        "id": "pcfrpwo-oBSa"
      },
      "execution_count": 5,
      "outputs": []
    },
    {
      "cell_type": "code",
      "source": [
        "ds_train = batch(get_dataset(data_train))\n",
        "ds_test  = batch(get_dataset(data_test))"
      ],
      "metadata": {
        "id": "90g9QwfIp1pC"
      },
      "execution_count": 6,
      "outputs": []
    },
    {
      "cell_type": "code",
      "source": [
        "all_reviews = reduce(lambda x,y: x + y, [[(r, k) for d in (data_train, data_test) for k,v in d.items() for r in v]])\n",
        "WORDS = reduce(lambda x,y:x|y, [set(x[0].split()) for x in all_reviews])"
      ],
      "metadata": {
        "id": "f31svtLJqCgy"
      },
      "execution_count": 7,
      "outputs": []
    },
    {
      "cell_type": "code",
      "source": [
        "# Vocab Size, number of review, fraction of reviews with more than 200 words\n",
        "len(WORDS), len(all_reviews), len([nwords for x in all_reviews if (nwords := len(x[0].split())) > 200])/len(all_reviews)"
      ],
      "metadata": {
        "colab": {
          "base_uri": "https://localhost:8080/"
        },
        "id": "RPcDw3KGqfz0",
        "outputId": "52134c25-4404-4cc8-bb16-88156db41890"
      },
      "execution_count": 8,
      "outputs": [
        {
          "output_type": "execute_result",
          "data": {
            "text/plain": [
              "(9033, 6000, 0.029)"
            ]
          },
          "metadata": {},
          "execution_count": 8
        }
      ]
    },
    {
      "cell_type": "code",
      "source": [],
      "metadata": {
        "id": "B97JfqHQQSJd"
      },
      "execution_count": null,
      "outputs": []
    },
    {
      "cell_type": "code",
      "source": [
        "# standardization: one element of  standardizations or a callable mapping strings to strings\n",
        "standardizations = [None, \"lower_and_strip_punctuation\", \"lower\", \"strip_punctuation\"]\n",
        "max_tokens = len(WORDS) + 2 # number of words plus the tokens '' and '[UNK]'\n",
        "ngrams = None\n",
        "sequence_length = 200\n",
        "\n",
        "tv_layer = tf.keras.layers.TextVectorization(\n",
        "    max_tokens = max_tokens,\n",
        "    standardize = standardizations[0],\n",
        "    ngrams=ngrams,\n",
        "    output_mode='int',\n",
        "    output_sequence_length = sequence_length,\n",
        "    pad_to_max_tokens=True,\n",
        ")"
      ],
      "metadata": {
        "id": "JoS_4NYuq2Gz"
      },
      "execution_count": 9,
      "outputs": []
    },
    {
      "cell_type": "code",
      "source": [
        "tv_layer.adapt([r[0] for r in all_reviews])\n",
        "vocab = tv_layer.get_vocabulary()\n",
        "len(vocab),  vocab[:5]# max_tokens"
      ],
      "metadata": {
        "colab": {
          "base_uri": "https://localhost:8080/"
        },
        "id": "0BYO96FPrnf1",
        "outputId": "8b8d138b-8810-4427-fd87-68611d23f228"
      },
      "execution_count": 10,
      "outputs": [
        {
          "output_type": "execute_result",
          "data": {
            "text/plain": [
              "(9035, ['', '[UNK]', 'the', 'and', 'was'])"
            ]
          },
          "metadata": {},
          "execution_count": 10
        }
      ]
    },
    {
      "cell_type": "code",
      "source": [
        "tv_layer(data_train[3][30])"
      ],
      "metadata": {
        "colab": {
          "base_uri": "https://localhost:8080/"
        },
        "id": "QhyvW7rFr3k1",
        "outputId": "60f1ff25-3c23-47c9-8d73-80498059b0fa"
      },
      "execution_count": 11,
      "outputs": [
        {
          "output_type": "execute_result",
          "data": {
            "text/plain": [
              "<tf.Tensor: shape=(200,), dtype=int64, numpy=\n",
              "array([  16,    8,  436,   82,  163,    5,  365,  222,   37,   21,    2,\n",
              "        377,  259,   36,   20,    5,  276,   10,  104, 2640,   21,    2,\n",
              "        377,  466,   16,   20,  528,    2,  207,   55,    5,  118,  275,\n",
              "          3,   44,  105,  210,  192, 1695,    6,  316,    8,    2,  115,\n",
              "          7,   13,    2,   94,   25,   65,  264,   42,  367,    3,  586,\n",
              "          5,  664,    4,  392,    8,    2,    7,   36,   14,   40, 1155,\n",
              "        107,  316,   17,  429,   29,  296,    5,  531,    3,    5,  357,\n",
              "        113,   28,   89,   28,  291,  398,    6, 4099,    5, 1109, 3744,\n",
              "          2,    7,    4,   52,    3,  722,    3,    2,   41,    4,   98,\n",
              "         30,  106,  544,    8,    2,   67,    3,  738,  585, 1656,    0,\n",
              "          0,    0,    0,    0,    0,    0,    0,    0,    0,    0,    0,\n",
              "          0,    0,    0,    0,    0,    0,    0,    0,    0,    0,    0,\n",
              "          0,    0,    0,    0,    0,    0,    0,    0,    0,    0,    0,\n",
              "          0,    0,    0,    0,    0,    0,    0,    0,    0,    0,    0,\n",
              "          0,    0,    0,    0,    0,    0,    0,    0,    0,    0,    0,\n",
              "          0,    0,    0,    0,    0,    0,    0,    0,    0,    0,    0,\n",
              "          0,    0,    0,    0,    0,    0,    0,    0,    0,    0,    0,\n",
              "          0,    0,    0,    0,    0,    0,    0,    0,    0,    0,    0,\n",
              "          0,    0])>"
            ]
          },
          "metadata": {},
          "execution_count": 11
        }
      ]
    },
    {
      "cell_type": "code",
      "source": [
        "vocab[16], vocab[8], vocab[436], data_train[3][30].split()[:3]"
      ],
      "metadata": {
        "colab": {
          "base_uri": "https://localhost:8080/"
        },
        "id": "rV9vWRafSjjj",
        "outputId": "096e907b-a74e-40a9-ea3b-c0d1bf8382dc"
      },
      "execution_count": 80,
      "outputs": [
        {
          "output_type": "execute_result",
          "data": {
            "text/plain": [
              "('it', 'in', 'located', ['it', 'in', 'located'])"
            ]
          },
          "metadata": {},
          "execution_count": 80
        }
      ]
    },
    {
      "cell_type": "code",
      "source": [
        "output_dim =  16\n",
        "em_layer = tf.keras.layers.Embedding(input_dim = max_tokens + 1, output_dim= output_dim)\n",
        "em_layer(tv_layer('what a hotel'))"
      ],
      "metadata": {
        "colab": {
          "base_uri": "https://localhost:8080/"
        },
        "id": "gOJlXkTIsHa0",
        "outputId": "7d726657-2a90-4a47-946c-411d46d17135"
      },
      "execution_count": 12,
      "outputs": [
        {
          "output_type": "execute_result",
          "data": {
            "text/plain": [
              "<tf.Tensor: shape=(200, 16), dtype=float32, numpy=\n",
              "array([[ 0.04427708, -0.01064781,  0.02105146, ...,  0.0004003 ,\n",
              "         0.03167543,  0.04943534],\n",
              "       [ 0.01172709, -0.02232736,  0.04722979, ..., -0.04705388,\n",
              "        -0.04199237,  0.04385627],\n",
              "       [-0.04036009,  0.0199624 , -0.04517343, ..., -0.02099259,\n",
              "         0.02872104, -0.03966552],\n",
              "       ...,\n",
              "       [-0.02293332,  0.00828331, -0.03109035, ...,  0.00870107,\n",
              "        -0.04472695,  0.01328453],\n",
              "       [-0.02293332,  0.00828331, -0.03109035, ...,  0.00870107,\n",
              "        -0.04472695,  0.01328453],\n",
              "       [-0.02293332,  0.00828331, -0.03109035, ...,  0.00870107,\n",
              "        -0.04472695,  0.01328453]], dtype=float32)>"
            ]
          },
          "metadata": {},
          "execution_count": 12
        }
      ]
    },
    {
      "cell_type": "code",
      "source": [
        "lstm = tf.keras.layers.LSTM(10)\n",
        "lstm_bi = tf.keras.layers.Bidirectional(lstm, merge_mode='concat')\n",
        "\n",
        "model = tf.keras.Sequential([\n",
        "    tv_layer,\n",
        "    em_layer,\n",
        "    tf.keras.layers.Dropout(0.2),\n",
        "    lstm_bi,\n",
        "    tf.keras.layers.Dropout(0.2),\n",
        "    tf.keras.layers.Flatten(),\n",
        "    tf.keras.layers.Dropout(0.2),\n",
        "    tf.keras.layers.Dense(1, activation = 'relu')], name = 'lstm_bi10')\n",
        "model.summary()"
      ],
      "metadata": {
        "colab": {
          "base_uri": "https://localhost:8080/"
        },
        "id": "AV6yrvt2sLm0",
        "outputId": "b626e23e-1b0c-4dd8-920b-6204b85170c6"
      },
      "execution_count": 13,
      "outputs": [
        {
          "output_type": "stream",
          "name": "stdout",
          "text": [
            "Model: \"lstm_bi10\"\n",
            "_________________________________________________________________\n",
            " Layer (type)                Output Shape              Param #   \n",
            "=================================================================\n",
            " text_vectorization (TextVec  (None, 200)              0         \n",
            " torization)                                                     \n",
            "                                                                 \n",
            " embedding (Embedding)       (None, 200, 16)           144576    \n",
            "                                                                 \n",
            " dropout (Dropout)           (None, 200, 16)           0         \n",
            "                                                                 \n",
            " bidirectional (Bidirectiona  (None, 20)               2160      \n",
            " l)                                                              \n",
            "                                                                 \n",
            " dropout_1 (Dropout)         (None, 20)                0         \n",
            "                                                                 \n",
            " flatten (Flatten)           (None, 20)                0         \n",
            "                                                                 \n",
            " dropout_2 (Dropout)         (None, 20)                0         \n",
            "                                                                 \n",
            " dense (Dense)               (None, 1)                 21        \n",
            "                                                                 \n",
            "=================================================================\n",
            "Total params: 146,757\n",
            "Trainable params: 146,757\n",
            "Non-trainable params: 0\n",
            "_________________________________________________________________\n"
          ]
        }
      ]
    },
    {
      "cell_type": "code",
      "source": [
        "metric = tf.keras.metrics.MeanAbsoluteError(name='mean_absolute_error', dtype=None)\n",
        "loss =  tf.keras.losses.MeanSquaredError()\n",
        "model.compile(\n",
        "    optimizer=tf.keras.optimizers.Adam(0.001),\n",
        "    loss=loss,\n",
        "    metrics=[metric],\n",
        ")"
      ],
      "metadata": {
        "id": "L_LesX7-tBCm"
      },
      "execution_count": 14,
      "outputs": []
    },
    {
      "cell_type": "code",
      "source": [
        "# test if reviews pass through model, show sample output\n",
        "for ds in (ds_train, ds_test):  test_model(model, ds)"
      ],
      "metadata": {
        "colab": {
          "base_uri": "https://localhost:8080/"
        },
        "id": "q6iV5MOItlQ9",
        "outputId": "23739d73-36b5-4205-ccea-d8cb5cd656b8"
      },
      "execution_count": 15,
      "outputs": [
        {
          "output_type": "stream",
          "name": "stdout",
          "text": [
            "10, 20, 30, 40, 50, 60, 70, 80, 90, 100, 110, 120, 130, 140, 150, 10, 20, 30, "
          ]
        }
      ]
    },
    {
      "cell_type": "code",
      "source": [
        "model_path = ROOT + MODEL_PATH + model.name +'/'\n",
        "if not os.path.exists(ROOT + model_path):\n",
        "    os.makedirs(ROOT + model_path, exist_ok = False)\n",
        "    print('Created directory ' + ROOT + model_path)\n",
        "\n",
        "model_checkpoint_callback = tf.keras.callbacks.ModelCheckpoint(\n",
        "    filepath=model_path + 'checkpoints',\n",
        "    save_weights_only=True,\n",
        "    monitor='mean_absolute_error',\n",
        "    mode='min',\n",
        "    save_best_only=True)"
      ],
      "metadata": {
        "colab": {
          "base_uri": "https://localhost:8080/"
        },
        "id": "QawtHaPHyvV9",
        "outputId": "45a05211-3006-49d4-e887-a12426770d06"
      },
      "execution_count": 16,
      "outputs": [
        {
          "output_type": "stream",
          "name": "stdout",
          "text": [
            "Created directory /content/drive/MyDrive/CAS_Gregi//content/drive/MyDrive/CAS_Gregi/My_Models/lstm_bi10/\n"
          ]
        }
      ]
    },
    {
      "cell_type": "code",
      "source": [
        "def save_model(model):\n",
        "    model_path = ROOT + MODEL_PATH + model.name +'/'\n",
        "    if not os.path.exists(ROOT + model_path):\n",
        "        os.makedirs(ROOT + model_path, exist_ok = False)\n",
        "        print('Created directory ' + ROOT + model_path)\n",
        "\n",
        "    model.save(model_path + model.name + '_save', save_format='tf')\n",
        "\n",
        "def load_model(model):\n",
        "    model_path = ROOT + MODEL_PATH + model.name +'/'\n",
        "    model = tf.keras.models.load_model(model_path + model.name + '_save')\n",
        "    return model"
      ],
      "metadata": {
        "id": "MdAW_p5y59DX"
      },
      "execution_count": 22,
      "outputs": []
    },
    {
      "cell_type": "code",
      "source": [
        "# load from checkpoint\n",
        "# model.load_weights(model_path + 'checkpoints')"
      ],
      "metadata": {
        "colab": {
          "base_uri": "https://localhost:8080/"
        },
        "id": "CpsGSu_ninqG",
        "outputId": "ca56161f-5d3e-4bd3-b417-52bc30ab837b"
      },
      "execution_count": 105,
      "outputs": [
        {
          "output_type": "execute_result",
          "data": {
            "text/plain": [
              "<tensorflow.python.checkpoint.checkpoint.CheckpointLoadStatus at 0x7ca14bdeb7f0>"
            ]
          },
          "metadata": {},
          "execution_count": 105
        }
      ]
    },
    {
      "cell_type": "code",
      "source": [],
      "metadata": {
        "id": "bgJKcs34Kbt9"
      },
      "execution_count": null,
      "outputs": []
    },
    {
      "cell_type": "code",
      "source": [
        "if os.path.exists(model_path + 'current_weights.index'):\n",
        "    model.load_weights(model_path + 'current_weights')\n",
        "    print('Found previous weights')\n",
        "else:\n",
        "    print('No previous weights found!')\n",
        "\n",
        "history =  model.fit(\n",
        "    ds_train,\n",
        "    epochs = 300,\n",
        "    validation_data = ds_test,\n",
        "    callbacks=[model_checkpoint_callback]\n",
        ")\n",
        "model.save_weights(model_path + 'current_weights', save_format='tf')\n",
        "print('Current weights saved to ' + model_path + 'current_weights')"
      ],
      "metadata": {
        "colab": {
          "base_uri": "https://localhost:8080/"
        },
        "id": "-rRdOQPjtoGW",
        "outputId": "188bfb15-4f79-48f8-b1b2-29ee95a8d2cb"
      },
      "execution_count": 29,
      "outputs": [
        {
          "output_type": "stream",
          "name": "stdout",
          "text": [
            "Found previous weights\n",
            "Epoch 1/300\n",
            "157/157 [==============================] - 3s 18ms/step - loss: 0.0359 - mean_absolute_error: 0.1262 - val_loss: 0.4040 - val_mean_absolute_error: 0.4099\n",
            "Epoch 2/300\n",
            "157/157 [==============================] - 3s 18ms/step - loss: 0.0337 - mean_absolute_error: 0.1227 - val_loss: 0.4035 - val_mean_absolute_error: 0.4125\n",
            "Epoch 3/300\n",
            "157/157 [==============================] - 3s 18ms/step - loss: 0.0357 - mean_absolute_error: 0.1243 - val_loss: 0.4047 - val_mean_absolute_error: 0.4132\n",
            "Epoch 4/300\n",
            "157/157 [==============================] - 3s 17ms/step - loss: 0.0351 - mean_absolute_error: 0.1243 - val_loss: 0.4011 - val_mean_absolute_error: 0.4145\n",
            "Epoch 5/300\n",
            "157/157 [==============================] - 3s 17ms/step - loss: 0.0338 - mean_absolute_error: 0.1226 - val_loss: 0.3966 - val_mean_absolute_error: 0.4004\n",
            "Epoch 6/300\n",
            "157/157 [==============================] - 3s 20ms/step - loss: 0.0356 - mean_absolute_error: 0.1247 - val_loss: 0.4053 - val_mean_absolute_error: 0.4053\n",
            "Epoch 7/300\n",
            "157/157 [==============================] - 4s 23ms/step - loss: 0.0344 - mean_absolute_error: 0.1233 - val_loss: 0.4032 - val_mean_absolute_error: 0.4091\n",
            "Epoch 8/300\n",
            "157/157 [==============================] - 3s 17ms/step - loss: 0.0333 - mean_absolute_error: 0.1218 - val_loss: 0.3962 - val_mean_absolute_error: 0.4104\n",
            "Epoch 9/300\n",
            "157/157 [==============================] - 3s 17ms/step - loss: 0.0355 - mean_absolute_error: 0.1233 - val_loss: 0.4070 - val_mean_absolute_error: 0.4088\n",
            "Epoch 10/300\n",
            "157/157 [==============================] - 4s 25ms/step - loss: 0.0346 - mean_absolute_error: 0.1227 - val_loss: 0.4037 - val_mean_absolute_error: 0.4069\n",
            "Epoch 11/300\n",
            "157/157 [==============================] - 3s 18ms/step - loss: 0.0334 - mean_absolute_error: 0.1231 - val_loss: 0.4043 - val_mean_absolute_error: 0.4103\n",
            "Epoch 12/300\n",
            "157/157 [==============================] - 3s 17ms/step - loss: 0.0327 - mean_absolute_error: 0.1212 - val_loss: 0.4183 - val_mean_absolute_error: 0.4164\n",
            "Epoch 13/300\n",
            "157/157 [==============================] - 3s 17ms/step - loss: 0.0333 - mean_absolute_error: 0.1206 - val_loss: 0.4267 - val_mean_absolute_error: 0.4142\n",
            "Epoch 14/300\n",
            "157/157 [==============================] - 4s 24ms/step - loss: 0.0347 - mean_absolute_error: 0.1231 - val_loss: 0.4077 - val_mean_absolute_error: 0.4059\n",
            "Epoch 15/300\n",
            "157/157 [==============================] - 3s 18ms/step - loss: 0.0335 - mean_absolute_error: 0.1222 - val_loss: 0.4066 - val_mean_absolute_error: 0.4095\n",
            "Epoch 16/300\n",
            "157/157 [==============================] - 3s 18ms/step - loss: 0.0357 - mean_absolute_error: 0.1262 - val_loss: 0.4011 - val_mean_absolute_error: 0.4067\n",
            "Epoch 17/300\n",
            "157/157 [==============================] - 3s 17ms/step - loss: 0.0335 - mean_absolute_error: 0.1219 - val_loss: 0.4033 - val_mean_absolute_error: 0.4039\n",
            "Epoch 18/300\n",
            "157/157 [==============================] - 4s 24ms/step - loss: 0.0349 - mean_absolute_error: 0.1236 - val_loss: 0.4055 - val_mean_absolute_error: 0.4122\n",
            "Epoch 19/300\n",
            "157/157 [==============================] - 3s 19ms/step - loss: 0.0343 - mean_absolute_error: 0.1231 - val_loss: 0.4136 - val_mean_absolute_error: 0.4060\n",
            "Epoch 20/300\n",
            "157/157 [==============================] - 3s 18ms/step - loss: 0.0351 - mean_absolute_error: 0.1233 - val_loss: 0.4128 - val_mean_absolute_error: 0.4093\n",
            "Epoch 21/300\n",
            "157/157 [==============================] - 3s 20ms/step - loss: 0.0350 - mean_absolute_error: 0.1249 - val_loss: 0.4136 - val_mean_absolute_error: 0.4067\n",
            "Epoch 22/300\n",
            "157/157 [==============================] - 3s 18ms/step - loss: 0.0361 - mean_absolute_error: 0.1257 - val_loss: 0.4050 - val_mean_absolute_error: 0.4075\n",
            "Epoch 23/300\n",
            "157/157 [==============================] - 3s 17ms/step - loss: 0.0357 - mean_absolute_error: 0.1239 - val_loss: 0.4059 - val_mean_absolute_error: 0.4092\n",
            "Epoch 24/300\n",
            "157/157 [==============================] - 4s 23ms/step - loss: 0.0325 - mean_absolute_error: 0.1205 - val_loss: 0.4149 - val_mean_absolute_error: 0.4074\n",
            "Epoch 25/300\n",
            "157/157 [==============================] - 3s 17ms/step - loss: 0.0371 - mean_absolute_error: 0.1281 - val_loss: 0.4248 - val_mean_absolute_error: 0.4154\n",
            "Epoch 26/300\n",
            "157/157 [==============================] - 3s 18ms/step - loss: 0.0349 - mean_absolute_error: 0.1242 - val_loss: 0.4197 - val_mean_absolute_error: 0.4118\n",
            "Epoch 27/300\n",
            "157/157 [==============================] - 3s 21ms/step - loss: 0.0346 - mean_absolute_error: 0.1232 - val_loss: 0.4159 - val_mean_absolute_error: 0.4044\n",
            "Epoch 28/300\n",
            "157/157 [==============================] - 3s 17ms/step - loss: 0.0358 - mean_absolute_error: 0.1251 - val_loss: 0.4070 - val_mean_absolute_error: 0.4146\n",
            "Epoch 29/300\n",
            "157/157 [==============================] - 3s 17ms/step - loss: 0.0366 - mean_absolute_error: 0.1260 - val_loss: 0.4316 - val_mean_absolute_error: 0.4275\n",
            "Epoch 30/300\n",
            "157/157 [==============================] - 3s 18ms/step - loss: 0.0379 - mean_absolute_error: 0.1295 - val_loss: 0.4125 - val_mean_absolute_error: 0.4063\n",
            "Epoch 31/300\n",
            "157/157 [==============================] - 4s 25ms/step - loss: 0.0339 - mean_absolute_error: 0.1221 - val_loss: 0.4084 - val_mean_absolute_error: 0.4057\n",
            "Epoch 32/300\n",
            "157/157 [==============================] - 3s 18ms/step - loss: 0.0343 - mean_absolute_error: 0.1225 - val_loss: 0.4064 - val_mean_absolute_error: 0.4028\n",
            "Epoch 33/300\n",
            "157/157 [==============================] - 3s 18ms/step - loss: 0.0340 - mean_absolute_error: 0.1244 - val_loss: 0.4006 - val_mean_absolute_error: 0.4041\n",
            "Epoch 34/300\n",
            "157/157 [==============================] - 4s 24ms/step - loss: 0.0340 - mean_absolute_error: 0.1239 - val_loss: 0.4190 - val_mean_absolute_error: 0.4127\n",
            "Epoch 35/300\n",
            "157/157 [==============================] - 3s 18ms/step - loss: 0.0348 - mean_absolute_error: 0.1251 - val_loss: 0.4104 - val_mean_absolute_error: 0.4124\n",
            "Epoch 36/300\n",
            "157/157 [==============================] - 3s 18ms/step - loss: 0.0329 - mean_absolute_error: 0.1203 - val_loss: 0.4093 - val_mean_absolute_error: 0.4141\n",
            "Epoch 37/300\n",
            "157/157 [==============================] - 3s 22ms/step - loss: 0.0362 - mean_absolute_error: 0.1256 - val_loss: 0.4114 - val_mean_absolute_error: 0.4070\n",
            "Epoch 38/300\n",
            "157/157 [==============================] - 3s 19ms/step - loss: 0.0363 - mean_absolute_error: 0.1264 - val_loss: 0.4177 - val_mean_absolute_error: 0.4143\n",
            "Epoch 39/300\n",
            "157/157 [==============================] - 3s 18ms/step - loss: 0.0353 - mean_absolute_error: 0.1240 - val_loss: 0.4147 - val_mean_absolute_error: 0.4127\n",
            "Epoch 40/300\n",
            "157/157 [==============================] - 3s 18ms/step - loss: 0.0332 - mean_absolute_error: 0.1216 - val_loss: 0.4143 - val_mean_absolute_error: 0.4122\n",
            "Epoch 41/300\n",
            "157/157 [==============================] - 4s 23ms/step - loss: 0.0332 - mean_absolute_error: 0.1207 - val_loss: 0.4317 - val_mean_absolute_error: 0.4179\n",
            "Epoch 42/300\n",
            "157/157 [==============================] - 3s 19ms/step - loss: 0.0337 - mean_absolute_error: 0.1218 - val_loss: 0.4177 - val_mean_absolute_error: 0.4167\n",
            "Epoch 43/300\n",
            "157/157 [==============================] - 3s 18ms/step - loss: 0.0338 - mean_absolute_error: 0.1218 - val_loss: 0.4062 - val_mean_absolute_error: 0.4096\n",
            "Epoch 44/300\n",
            "157/157 [==============================] - 3s 17ms/step - loss: 0.0336 - mean_absolute_error: 0.1225 - val_loss: 0.4023 - val_mean_absolute_error: 0.4023\n",
            "Epoch 45/300\n",
            "157/157 [==============================] - 3s 21ms/step - loss: 0.0536 - mean_absolute_error: 0.1496 - val_loss: 0.4308 - val_mean_absolute_error: 0.4309\n",
            "Epoch 46/300\n",
            "157/157 [==============================] - 3s 17ms/step - loss: 0.0414 - mean_absolute_error: 0.1337 - val_loss: 0.4211 - val_mean_absolute_error: 0.4153\n",
            "Epoch 47/300\n",
            "157/157 [==============================] - 3s 17ms/step - loss: 0.0432 - mean_absolute_error: 0.1361 - val_loss: 0.4326 - val_mean_absolute_error: 0.4326\n",
            "Epoch 48/300\n",
            "157/157 [==============================] - 3s 17ms/step - loss: 0.0401 - mean_absolute_error: 0.1339 - val_loss: 0.4189 - val_mean_absolute_error: 0.4175\n",
            "Epoch 49/300\n",
            "157/157 [==============================] - 3s 22ms/step - loss: 0.0345 - mean_absolute_error: 0.1250 - val_loss: 0.4177 - val_mean_absolute_error: 0.4201\n",
            "Epoch 50/300\n",
            "157/157 [==============================] - 3s 17ms/step - loss: 0.0355 - mean_absolute_error: 0.1246 - val_loss: 0.4190 - val_mean_absolute_error: 0.4185\n",
            "Epoch 51/300\n",
            "157/157 [==============================] - 3s 17ms/step - loss: 0.0349 - mean_absolute_error: 0.1239 - val_loss: 0.4204 - val_mean_absolute_error: 0.4206\n",
            "Epoch 52/300\n",
            "157/157 [==============================] - 4s 25ms/step - loss: 0.0349 - mean_absolute_error: 0.1237 - val_loss: 0.4182 - val_mean_absolute_error: 0.4155\n",
            "Epoch 53/300\n",
            "157/157 [==============================] - 3s 18ms/step - loss: 0.0332 - mean_absolute_error: 0.1219 - val_loss: 0.4102 - val_mean_absolute_error: 0.4077\n",
            "Epoch 54/300\n",
            "157/157 [==============================] - 3s 18ms/step - loss: 0.0333 - mean_absolute_error: 0.1210 - val_loss: 0.4204 - val_mean_absolute_error: 0.4104\n",
            "Epoch 55/300\n",
            "157/157 [==============================] - 3s 17ms/step - loss: 0.0335 - mean_absolute_error: 0.1233 - val_loss: 0.4099 - val_mean_absolute_error: 0.4137\n",
            "Epoch 56/300\n",
            "157/157 [==============================] - 4s 25ms/step - loss: 0.0345 - mean_absolute_error: 0.1242 - val_loss: 0.4039 - val_mean_absolute_error: 0.4138\n",
            "Epoch 57/300\n",
            "157/157 [==============================] - 3s 18ms/step - loss: 0.0332 - mean_absolute_error: 0.1218 - val_loss: 0.4134 - val_mean_absolute_error: 0.4152\n",
            "Epoch 58/300\n",
            "157/157 [==============================] - 3s 17ms/step - loss: 0.0328 - mean_absolute_error: 0.1203 - val_loss: 0.4104 - val_mean_absolute_error: 0.4153\n",
            "Epoch 59/300\n",
            "157/157 [==============================] - 4s 24ms/step - loss: 0.0321 - mean_absolute_error: 0.1189 - val_loss: 0.4122 - val_mean_absolute_error: 0.4105\n",
            "Epoch 60/300\n",
            "157/157 [==============================] - 3s 19ms/step - loss: 0.0339 - mean_absolute_error: 0.1225 - val_loss: 0.4181 - val_mean_absolute_error: 0.4113\n",
            "Epoch 61/300\n",
            "157/157 [==============================] - 3s 17ms/step - loss: 0.0390 - mean_absolute_error: 0.1265 - val_loss: 0.4077 - val_mean_absolute_error: 0.4175\n",
            "Epoch 62/300\n",
            "157/157 [==============================] - 3s 21ms/step - loss: 0.0344 - mean_absolute_error: 0.1244 - val_loss: 0.4107 - val_mean_absolute_error: 0.4126\n",
            "Epoch 63/300\n",
            "157/157 [==============================] - 4s 23ms/step - loss: 0.0358 - mean_absolute_error: 0.1266 - val_loss: 0.4272 - val_mean_absolute_error: 0.4163\n",
            "Epoch 64/300\n",
            "157/157 [==============================] - 3s 17ms/step - loss: 0.0340 - mean_absolute_error: 0.1218 - val_loss: 0.4264 - val_mean_absolute_error: 0.4166\n",
            "Epoch 65/300\n",
            "157/157 [==============================] - 3s 17ms/step - loss: 0.0404 - mean_absolute_error: 0.1313 - val_loss: 0.4200 - val_mean_absolute_error: 0.4179\n",
            "Epoch 66/300\n",
            "157/157 [==============================] - 3s 21ms/step - loss: 0.0354 - mean_absolute_error: 0.1255 - val_loss: 0.4295 - val_mean_absolute_error: 0.4175\n",
            "Epoch 67/300\n",
            "157/157 [==============================] - 4s 22ms/step - loss: 0.0347 - mean_absolute_error: 0.1234 - val_loss: 0.4298 - val_mean_absolute_error: 0.4170\n",
            "Epoch 68/300\n",
            "157/157 [==============================] - 3s 18ms/step - loss: 0.0359 - mean_absolute_error: 0.1245 - val_loss: 0.4243 - val_mean_absolute_error: 0.4134\n",
            "Epoch 69/300\n",
            "157/157 [==============================] - 3s 17ms/step - loss: 0.0337 - mean_absolute_error: 0.1214 - val_loss: 0.4233 - val_mean_absolute_error: 0.4159\n",
            "Epoch 70/300\n",
            "157/157 [==============================] - 3s 17ms/step - loss: 0.0407 - mean_absolute_error: 0.1311 - val_loss: 0.4387 - val_mean_absolute_error: 0.4348\n",
            "Epoch 71/300\n",
            "157/157 [==============================] - 4s 23ms/step - loss: 0.0505 - mean_absolute_error: 0.1554 - val_loss: 0.4224 - val_mean_absolute_error: 0.4130\n",
            "Epoch 72/300\n",
            "157/157 [==============================] - 3s 20ms/step - loss: 0.0378 - mean_absolute_error: 0.1295 - val_loss: 0.4123 - val_mean_absolute_error: 0.4128\n",
            "Epoch 73/300\n",
            "157/157 [==============================] - 3s 18ms/step - loss: 0.0353 - mean_absolute_error: 0.1268 - val_loss: 0.4099 - val_mean_absolute_error: 0.4098\n",
            "Epoch 74/300\n",
            "157/157 [==============================] - 3s 17ms/step - loss: 0.0341 - mean_absolute_error: 0.1220 - val_loss: 0.4219 - val_mean_absolute_error: 0.4153\n",
            "Epoch 75/300\n",
            "157/157 [==============================] - 4s 24ms/step - loss: 0.0348 - mean_absolute_error: 0.1245 - val_loss: 0.4165 - val_mean_absolute_error: 0.4185\n",
            "Epoch 76/300\n",
            "157/157 [==============================] - 3s 17ms/step - loss: 0.0366 - mean_absolute_error: 0.1258 - val_loss: 0.4239 - val_mean_absolute_error: 0.4165\n",
            "Epoch 77/300\n",
            "157/157 [==============================] - 3s 17ms/step - loss: 0.0352 - mean_absolute_error: 0.1239 - val_loss: 0.4178 - val_mean_absolute_error: 0.4178\n",
            "Epoch 78/300\n",
            "157/157 [==============================] - 3s 18ms/step - loss: 0.0361 - mean_absolute_error: 0.1246 - val_loss: 0.4225 - val_mean_absolute_error: 0.4158\n",
            "Epoch 79/300\n",
            "157/157 [==============================] - 4s 24ms/step - loss: 0.0347 - mean_absolute_error: 0.1233 - val_loss: 0.4225 - val_mean_absolute_error: 0.4157\n",
            "Epoch 80/300\n",
            "157/157 [==============================] - 3s 18ms/step - loss: 0.0349 - mean_absolute_error: 0.1245 - val_loss: 0.4173 - val_mean_absolute_error: 0.4145\n",
            "Epoch 81/300\n",
            "157/157 [==============================] - 3s 17ms/step - loss: 0.0333 - mean_absolute_error: 0.1216 - val_loss: 0.4263 - val_mean_absolute_error: 0.4178\n",
            "Epoch 82/300\n",
            "157/157 [==============================] - 3s 17ms/step - loss: 0.0349 - mean_absolute_error: 0.1257 - val_loss: 0.4328 - val_mean_absolute_error: 0.4190\n",
            "Epoch 83/300\n",
            "157/157 [==============================] - 4s 23ms/step - loss: 0.0329 - mean_absolute_error: 0.1209 - val_loss: 0.4336 - val_mean_absolute_error: 0.4170\n",
            "Epoch 84/300\n",
            "157/157 [==============================] - 3s 19ms/step - loss: 0.0335 - mean_absolute_error: 0.1218 - val_loss: 0.4250 - val_mean_absolute_error: 0.4133\n",
            "Epoch 85/300\n",
            "157/157 [==============================] - 3s 19ms/step - loss: 0.0326 - mean_absolute_error: 0.1196 - val_loss: 0.4163 - val_mean_absolute_error: 0.4154\n",
            "Epoch 86/300\n",
            "157/157 [==============================] - 3s 22ms/step - loss: 0.0343 - mean_absolute_error: 0.1230 - val_loss: 0.4210 - val_mean_absolute_error: 0.4152\n",
            "Epoch 87/300\n",
            "157/157 [==============================] - 4s 24ms/step - loss: 0.0320 - mean_absolute_error: 0.1193 - val_loss: 0.4334 - val_mean_absolute_error: 0.4184\n",
            "Epoch 88/300\n",
            "157/157 [==============================] - 3s 18ms/step - loss: 0.0339 - mean_absolute_error: 0.1215 - val_loss: 0.4184 - val_mean_absolute_error: 0.4162\n",
            "Epoch 89/300\n",
            "157/157 [==============================] - 3s 19ms/step - loss: 0.0341 - mean_absolute_error: 0.1225 - val_loss: 0.4200 - val_mean_absolute_error: 0.4137\n",
            "Epoch 90/300\n",
            "157/157 [==============================] - 4s 25ms/step - loss: 0.0334 - mean_absolute_error: 0.1214 - val_loss: 0.4209 - val_mean_absolute_error: 0.4198\n",
            "Epoch 91/300\n",
            "157/157 [==============================] - 3s 19ms/step - loss: 0.0326 - mean_absolute_error: 0.1204 - val_loss: 0.4248 - val_mean_absolute_error: 0.4122\n",
            "Epoch 92/300\n",
            "157/157 [==============================] - 3s 19ms/step - loss: 0.0350 - mean_absolute_error: 0.1234 - val_loss: 0.4239 - val_mean_absolute_error: 0.4173\n",
            "Epoch 93/300\n",
            "157/157 [==============================] - 3s 18ms/step - loss: 0.0330 - mean_absolute_error: 0.1199 - val_loss: 0.4185 - val_mean_absolute_error: 0.4085\n",
            "Epoch 94/300\n",
            "157/157 [==============================] - 4s 27ms/step - loss: 0.0350 - mean_absolute_error: 0.1232 - val_loss: 0.4331 - val_mean_absolute_error: 0.4160\n",
            "Epoch 95/300\n",
            "157/157 [==============================] - 3s 18ms/step - loss: 0.0344 - mean_absolute_error: 0.1228 - val_loss: 0.4287 - val_mean_absolute_error: 0.4140\n",
            "Epoch 96/300\n",
            "157/157 [==============================] - 3s 18ms/step - loss: 0.0325 - mean_absolute_error: 0.1193 - val_loss: 0.4330 - val_mean_absolute_error: 0.4160\n",
            "Epoch 97/300\n",
            "157/157 [==============================] - 4s 24ms/step - loss: 0.0338 - mean_absolute_error: 0.1223 - val_loss: 0.4304 - val_mean_absolute_error: 0.4236\n",
            "Epoch 98/300\n",
            "157/157 [==============================] - 3s 22ms/step - loss: 0.0331 - mean_absolute_error: 0.1200 - val_loss: 0.4216 - val_mean_absolute_error: 0.4155\n",
            "Epoch 99/300\n",
            "157/157 [==============================] - 3s 19ms/step - loss: 0.0346 - mean_absolute_error: 0.1231 - val_loss: 0.4296 - val_mean_absolute_error: 0.4105\n",
            "Epoch 100/300\n",
            "157/157 [==============================] - 3s 18ms/step - loss: 0.0353 - mean_absolute_error: 0.1237 - val_loss: 0.4209 - val_mean_absolute_error: 0.4134\n",
            "Epoch 101/300\n",
            "157/157 [==============================] - 4s 24ms/step - loss: 0.0322 - mean_absolute_error: 0.1189 - val_loss: 0.4226 - val_mean_absolute_error: 0.4138\n",
            "Epoch 102/300\n",
            "157/157 [==============================] - 3s 19ms/step - loss: 0.0327 - mean_absolute_error: 0.1187 - val_loss: 0.4235 - val_mean_absolute_error: 0.4092\n",
            "Epoch 103/300\n",
            "157/157 [==============================] - 3s 19ms/step - loss: 0.0315 - mean_absolute_error: 0.1168 - val_loss: 0.4221 - val_mean_absolute_error: 0.4097\n",
            "Epoch 104/300\n",
            "157/157 [==============================] - 4s 23ms/step - loss: 0.0320 - mean_absolute_error: 0.1197 - val_loss: 0.4279 - val_mean_absolute_error: 0.4130\n",
            "Epoch 105/300\n",
            "157/157 [==============================] - 3s 18ms/step - loss: 0.0345 - mean_absolute_error: 0.1236 - val_loss: 0.4149 - val_mean_absolute_error: 0.4098\n",
            "Epoch 106/300\n",
            "157/157 [==============================] - 3s 18ms/step - loss: 0.0348 - mean_absolute_error: 0.1237 - val_loss: 0.4149 - val_mean_absolute_error: 0.4043\n",
            "Epoch 107/300\n",
            "157/157 [==============================] - 4s 24ms/step - loss: 0.0339 - mean_absolute_error: 0.1213 - val_loss: 0.4240 - val_mean_absolute_error: 0.4067\n",
            "Epoch 108/300\n",
            "157/157 [==============================] - 3s 20ms/step - loss: 0.0321 - mean_absolute_error: 0.1191 - val_loss: 0.4152 - val_mean_absolute_error: 0.4137\n",
            "Epoch 109/300\n",
            "157/157 [==============================] - 3s 18ms/step - loss: 0.0338 - mean_absolute_error: 0.1218 - val_loss: 0.4156 - val_mean_absolute_error: 0.4121\n",
            "Epoch 110/300\n",
            "157/157 [==============================] - 3s 18ms/step - loss: 0.0351 - mean_absolute_error: 0.1229 - val_loss: 0.4153 - val_mean_absolute_error: 0.4071\n",
            "Epoch 111/300\n",
            "157/157 [==============================] - 3s 19ms/step - loss: 0.0340 - mean_absolute_error: 0.1219 - val_loss: 0.4221 - val_mean_absolute_error: 0.4152\n",
            "Epoch 112/300\n",
            "157/157 [==============================] - 4s 23ms/step - loss: 0.0312 - mean_absolute_error: 0.1193 - val_loss: 0.4156 - val_mean_absolute_error: 0.4149\n",
            "Epoch 113/300\n",
            "157/157 [==============================] - 3s 18ms/step - loss: 0.0325 - mean_absolute_error: 0.1199 - val_loss: 0.4061 - val_mean_absolute_error: 0.4113\n",
            "Epoch 114/300\n",
            "157/157 [==============================] - 3s 18ms/step - loss: 0.0336 - mean_absolute_error: 0.1205 - val_loss: 0.4124 - val_mean_absolute_error: 0.4099\n",
            "Epoch 115/300\n",
            "157/157 [==============================] - 4s 24ms/step - loss: 0.0317 - mean_absolute_error: 0.1181 - val_loss: 0.4252 - val_mean_absolute_error: 0.4087\n",
            "Epoch 116/300\n",
            "157/157 [==============================] - 3s 19ms/step - loss: 0.0326 - mean_absolute_error: 0.1202 - val_loss: 0.4219 - val_mean_absolute_error: 0.4108\n",
            "Epoch 117/300\n",
            "157/157 [==============================] - 3s 18ms/step - loss: 0.0343 - mean_absolute_error: 0.1219 - val_loss: 0.4314 - val_mean_absolute_error: 0.4109\n",
            "Epoch 118/300\n",
            "157/157 [==============================] - 4s 23ms/step - loss: 0.0329 - mean_absolute_error: 0.1205 - val_loss: 0.4084 - val_mean_absolute_error: 0.4015\n",
            "Epoch 119/300\n",
            "157/157 [==============================] - 3s 20ms/step - loss: 0.0346 - mean_absolute_error: 0.1232 - val_loss: 0.4089 - val_mean_absolute_error: 0.4059\n",
            "Epoch 120/300\n",
            "157/157 [==============================] - 3s 18ms/step - loss: 0.0360 - mean_absolute_error: 0.1222 - val_loss: 0.4055 - val_mean_absolute_error: 0.4035\n",
            "Epoch 121/300\n",
            "157/157 [==============================] - 4s 25ms/step - loss: 0.0361 - mean_absolute_error: 0.1243 - val_loss: 0.4028 - val_mean_absolute_error: 0.4089\n",
            "Epoch 122/300\n",
            "157/157 [==============================] - 3s 18ms/step - loss: 0.0332 - mean_absolute_error: 0.1204 - val_loss: 0.4061 - val_mean_absolute_error: 0.4065\n",
            "Epoch 123/300\n",
            "157/157 [==============================] - 3s 18ms/step - loss: 0.0317 - mean_absolute_error: 0.1187 - val_loss: 0.4037 - val_mean_absolute_error: 0.4067\n",
            "Epoch 124/300\n",
            "157/157 [==============================] - 4s 24ms/step - loss: 0.0354 - mean_absolute_error: 0.1239 - val_loss: 0.4041 - val_mean_absolute_error: 0.4064\n",
            "Epoch 125/300\n",
            "157/157 [==============================] - 3s 20ms/step - loss: 0.0320 - mean_absolute_error: 0.1205 - val_loss: 0.4050 - val_mean_absolute_error: 0.4060\n",
            "Epoch 126/300\n",
            "157/157 [==============================] - 3s 17ms/step - loss: 0.0340 - mean_absolute_error: 0.1227 - val_loss: 0.4190 - val_mean_absolute_error: 0.4044\n",
            "Epoch 127/300\n",
            "157/157 [==============================] - 3s 17ms/step - loss: 0.0344 - mean_absolute_error: 0.1228 - val_loss: 0.4358 - val_mean_absolute_error: 0.4222\n",
            "Epoch 128/300\n",
            "157/157 [==============================] - 3s 18ms/step - loss: 0.0463 - mean_absolute_error: 0.1414 - val_loss: 0.4133 - val_mean_absolute_error: 0.4107\n",
            "Epoch 129/300\n",
            "157/157 [==============================] - 4s 24ms/step - loss: 0.0418 - mean_absolute_error: 0.1354 - val_loss: 0.4045 - val_mean_absolute_error: 0.4124\n",
            "Epoch 130/300\n",
            "157/157 [==============================] - 3s 18ms/step - loss: 0.0358 - mean_absolute_error: 0.1263 - val_loss: 0.4201 - val_mean_absolute_error: 0.4111\n",
            "Epoch 131/300\n",
            "157/157 [==============================] - 3s 18ms/step - loss: 0.0356 - mean_absolute_error: 0.1239 - val_loss: 0.4137 - val_mean_absolute_error: 0.4058\n",
            "Epoch 132/300\n",
            "157/157 [==============================] - 4s 27ms/step - loss: 0.0335 - mean_absolute_error: 0.1210 - val_loss: 0.4054 - val_mean_absolute_error: 0.4115\n",
            "Epoch 133/300\n",
            "157/157 [==============================] - 3s 18ms/step - loss: 0.0434 - mean_absolute_error: 0.1390 - val_loss: 0.4092 - val_mean_absolute_error: 0.4062\n",
            "Epoch 134/300\n",
            "157/157 [==============================] - 3s 18ms/step - loss: 0.0361 - mean_absolute_error: 0.1258 - val_loss: 0.4063 - val_mean_absolute_error: 0.4094\n",
            "Epoch 135/300\n",
            "157/157 [==============================] - 4s 24ms/step - loss: 0.0351 - mean_absolute_error: 0.1256 - val_loss: 0.4117 - val_mean_absolute_error: 0.4060\n",
            "Epoch 136/300\n",
            "157/157 [==============================] - 3s 18ms/step - loss: 0.0438 - mean_absolute_error: 0.1368 - val_loss: 0.4333 - val_mean_absolute_error: 0.4122\n",
            "Epoch 137/300\n",
            "157/157 [==============================] - 3s 18ms/step - loss: 0.0417 - mean_absolute_error: 0.1347 - val_loss: 0.4128 - val_mean_absolute_error: 0.4062\n",
            "Epoch 138/300\n",
            "157/157 [==============================] - 4s 24ms/step - loss: 0.0375 - mean_absolute_error: 0.1285 - val_loss: 0.4063 - val_mean_absolute_error: 0.4087\n",
            "Epoch 139/300\n",
            "157/157 [==============================] - 3s 20ms/step - loss: 0.0352 - mean_absolute_error: 0.1239 - val_loss: 0.4113 - val_mean_absolute_error: 0.4147\n",
            "Epoch 140/300\n",
            "157/157 [==============================] - 3s 18ms/step - loss: 0.0368 - mean_absolute_error: 0.1264 - val_loss: 0.4164 - val_mean_absolute_error: 0.4065\n",
            "Epoch 141/300\n",
            "157/157 [==============================] - 3s 17ms/step - loss: 0.0354 - mean_absolute_error: 0.1248 - val_loss: 0.4080 - val_mean_absolute_error: 0.4096\n",
            "Epoch 142/300\n",
            "157/157 [==============================] - 4s 26ms/step - loss: 0.0352 - mean_absolute_error: 0.1244 - val_loss: 0.4100 - val_mean_absolute_error: 0.4036\n",
            "Epoch 143/300\n",
            "157/157 [==============================] - 3s 18ms/step - loss: 0.0337 - mean_absolute_error: 0.1218 - val_loss: 0.4084 - val_mean_absolute_error: 0.4126\n",
            "Epoch 144/300\n",
            "157/157 [==============================] - 3s 17ms/step - loss: 0.0332 - mean_absolute_error: 0.1209 - val_loss: 0.4062 - val_mean_absolute_error: 0.4063\n",
            "Epoch 145/300\n",
            "157/157 [==============================] - 3s 20ms/step - loss: 0.0353 - mean_absolute_error: 0.1242 - val_loss: 0.4163 - val_mean_absolute_error: 0.4074\n",
            "Epoch 146/300\n",
            "157/157 [==============================] - 4s 23ms/step - loss: 0.0316 - mean_absolute_error: 0.1203 - val_loss: 0.4026 - val_mean_absolute_error: 0.4070\n",
            "Epoch 147/300\n",
            "157/157 [==============================] - 3s 18ms/step - loss: 0.0340 - mean_absolute_error: 0.1222 - val_loss: 0.4144 - val_mean_absolute_error: 0.4043\n",
            "Epoch 148/300\n",
            "157/157 [==============================] - 3s 18ms/step - loss: 0.0354 - mean_absolute_error: 0.1222 - val_loss: 0.3966 - val_mean_absolute_error: 0.4121\n",
            "Epoch 149/300\n",
            "157/157 [==============================] - 3s 21ms/step - loss: 0.0340 - mean_absolute_error: 0.1218 - val_loss: 0.4297 - val_mean_absolute_error: 0.4131\n",
            "Epoch 150/300\n",
            "157/157 [==============================] - 3s 18ms/step - loss: 0.0357 - mean_absolute_error: 0.1235 - val_loss: 0.4091 - val_mean_absolute_error: 0.4064\n",
            "Epoch 151/300\n",
            "157/157 [==============================] - 3s 17ms/step - loss: 0.0339 - mean_absolute_error: 0.1217 - val_loss: 0.4005 - val_mean_absolute_error: 0.4051\n",
            "Epoch 152/300\n",
            "157/157 [==============================] - 4s 24ms/step - loss: 0.0338 - mean_absolute_error: 0.1223 - val_loss: 0.3992 - val_mean_absolute_error: 0.4076\n",
            "Epoch 153/300\n",
            "157/157 [==============================] - 3s 18ms/step - loss: 0.0337 - mean_absolute_error: 0.1225 - val_loss: 0.3979 - val_mean_absolute_error: 0.4075\n",
            "Epoch 154/300\n",
            "157/157 [==============================] - 3s 18ms/step - loss: 0.0383 - mean_absolute_error: 0.1251 - val_loss: 0.3931 - val_mean_absolute_error: 0.4042\n",
            "Epoch 155/300\n",
            "157/157 [==============================] - 3s 22ms/step - loss: 0.0351 - mean_absolute_error: 0.1223 - val_loss: 0.3900 - val_mean_absolute_error: 0.3972\n",
            "Epoch 156/300\n",
            "157/157 [==============================] - 3s 18ms/step - loss: 0.0331 - mean_absolute_error: 0.1209 - val_loss: 0.4018 - val_mean_absolute_error: 0.3979\n",
            "Epoch 157/300\n",
            "157/157 [==============================] - 3s 17ms/step - loss: 0.0328 - mean_absolute_error: 0.1207 - val_loss: 0.3903 - val_mean_absolute_error: 0.4026\n",
            "Epoch 158/300\n",
            "157/157 [==============================] - 3s 18ms/step - loss: 0.0322 - mean_absolute_error: 0.1191 - val_loss: 0.4024 - val_mean_absolute_error: 0.4009\n",
            "Epoch 159/300\n",
            "157/157 [==============================] - 4s 26ms/step - loss: 0.0338 - mean_absolute_error: 0.1217 - val_loss: 0.3908 - val_mean_absolute_error: 0.4044\n",
            "Epoch 160/300\n",
            "157/157 [==============================] - 3s 18ms/step - loss: 0.0328 - mean_absolute_error: 0.1190 - val_loss: 0.3898 - val_mean_absolute_error: 0.3949\n",
            "Epoch 161/300\n",
            "157/157 [==============================] - 3s 18ms/step - loss: 0.0312 - mean_absolute_error: 0.1173 - val_loss: 0.3984 - val_mean_absolute_error: 0.3961\n",
            "Epoch 162/300\n",
            "157/157 [==============================] - 3s 20ms/step - loss: 0.0334 - mean_absolute_error: 0.1210 - val_loss: 0.4004 - val_mean_absolute_error: 0.4017\n",
            "Epoch 163/300\n",
            "157/157 [==============================] - 3s 22ms/step - loss: 0.0332 - mean_absolute_error: 0.1204 - val_loss: 0.3951 - val_mean_absolute_error: 0.3988\n",
            "Epoch 164/300\n",
            "157/157 [==============================] - 3s 18ms/step - loss: 0.0343 - mean_absolute_error: 0.1225 - val_loss: 0.4012 - val_mean_absolute_error: 0.3995\n",
            "Epoch 165/300\n",
            "157/157 [==============================] - 3s 18ms/step - loss: 0.0323 - mean_absolute_error: 0.1198 - val_loss: 0.4043 - val_mean_absolute_error: 0.4016\n",
            "Epoch 166/300\n",
            "157/157 [==============================] - 4s 22ms/step - loss: 0.0320 - mean_absolute_error: 0.1187 - val_loss: 0.3963 - val_mean_absolute_error: 0.4039\n",
            "Epoch 167/300\n",
            "157/157 [==============================] - 3s 18ms/step - loss: 0.0340 - mean_absolute_error: 0.1218 - val_loss: 0.4090 - val_mean_absolute_error: 0.4039\n",
            "Epoch 168/300\n",
            "157/157 [==============================] - 3s 18ms/step - loss: 0.0337 - mean_absolute_error: 0.1210 - val_loss: 0.4096 - val_mean_absolute_error: 0.4033\n",
            "Epoch 169/300\n",
            "157/157 [==============================] - 3s 18ms/step - loss: 0.0329 - mean_absolute_error: 0.1211 - val_loss: 0.4083 - val_mean_absolute_error: 0.4094\n",
            "Epoch 170/300\n",
            "157/157 [==============================] - 4s 26ms/step - loss: 0.0325 - mean_absolute_error: 0.1188 - val_loss: 0.4072 - val_mean_absolute_error: 0.4103\n",
            "Epoch 171/300\n",
            "157/157 [==============================] - 3s 18ms/step - loss: 0.0344 - mean_absolute_error: 0.1217 - val_loss: 0.4032 - val_mean_absolute_error: 0.4032\n",
            "Epoch 172/300\n",
            "157/157 [==============================] - 3s 18ms/step - loss: 0.0338 - mean_absolute_error: 0.1226 - val_loss: 0.4005 - val_mean_absolute_error: 0.4029\n",
            "Epoch 173/300\n",
            "157/157 [==============================] - 4s 25ms/step - loss: 0.0339 - mean_absolute_error: 0.1219 - val_loss: 0.4028 - val_mean_absolute_error: 0.4042\n",
            "Epoch 174/300\n",
            "157/157 [==============================] - 3s 18ms/step - loss: 0.0319 - mean_absolute_error: 0.1183 - val_loss: 0.4107 - val_mean_absolute_error: 0.4068\n",
            "Epoch 175/300\n",
            "157/157 [==============================] - 3s 19ms/step - loss: 0.0320 - mean_absolute_error: 0.1186 - val_loss: 0.4148 - val_mean_absolute_error: 0.4075\n",
            "Epoch 176/300\n",
            "157/157 [==============================] - 4s 25ms/step - loss: 0.0330 - mean_absolute_error: 0.1203 - val_loss: 0.4098 - val_mean_absolute_error: 0.4096\n",
            "Epoch 177/300\n",
            "157/157 [==============================] - 3s 21ms/step - loss: 0.0325 - mean_absolute_error: 0.1193 - val_loss: 0.4056 - val_mean_absolute_error: 0.4091\n",
            "Epoch 178/300\n",
            "157/157 [==============================] - 3s 18ms/step - loss: 0.0332 - mean_absolute_error: 0.1201 - val_loss: 0.4224 - val_mean_absolute_error: 0.4117\n",
            "Epoch 179/300\n",
            "157/157 [==============================] - 3s 19ms/step - loss: 0.0330 - mean_absolute_error: 0.1198 - val_loss: 0.4117 - val_mean_absolute_error: 0.4089\n",
            "Epoch 180/300\n",
            "157/157 [==============================] - 4s 26ms/step - loss: 0.0334 - mean_absolute_error: 0.1201 - val_loss: 0.4185 - val_mean_absolute_error: 0.4054\n",
            "Epoch 181/300\n",
            "157/157 [==============================] - 3s 18ms/step - loss: 0.0324 - mean_absolute_error: 0.1189 - val_loss: 0.4016 - val_mean_absolute_error: 0.4085\n",
            "Epoch 182/300\n",
            "157/157 [==============================] - 3s 20ms/step - loss: 0.0350 - mean_absolute_error: 0.1233 - val_loss: 0.4071 - val_mean_absolute_error: 0.4054\n",
            "Epoch 183/300\n",
            "157/157 [==============================] - 3s 20ms/step - loss: 0.0405 - mean_absolute_error: 0.1318 - val_loss: 0.4033 - val_mean_absolute_error: 0.4089\n",
            "Epoch 184/300\n",
            "157/157 [==============================] - 4s 23ms/step - loss: 0.0347 - mean_absolute_error: 0.1237 - val_loss: 0.4119 - val_mean_absolute_error: 0.4043\n",
            "Epoch 185/300\n",
            "157/157 [==============================] - 3s 19ms/step - loss: 0.0314 - mean_absolute_error: 0.1181 - val_loss: 0.3957 - val_mean_absolute_error: 0.4003\n",
            "Epoch 186/300\n",
            "157/157 [==============================] - 3s 18ms/step - loss: 0.0340 - mean_absolute_error: 0.1224 - val_loss: 0.3980 - val_mean_absolute_error: 0.4000\n",
            "Epoch 187/300\n",
            "157/157 [==============================] - 4s 25ms/step - loss: 0.0321 - mean_absolute_error: 0.1191 - val_loss: 0.4089 - val_mean_absolute_error: 0.4020\n",
            "Epoch 188/300\n",
            "157/157 [==============================] - 3s 19ms/step - loss: 0.0335 - mean_absolute_error: 0.1201 - val_loss: 0.4124 - val_mean_absolute_error: 0.4081\n",
            "Epoch 189/300\n",
            "157/157 [==============================] - 3s 17ms/step - loss: 0.0357 - mean_absolute_error: 0.1217 - val_loss: 0.4183 - val_mean_absolute_error: 0.4117\n",
            "Epoch 190/300\n",
            "157/157 [==============================] - 3s 19ms/step - loss: 0.0332 - mean_absolute_error: 0.1206 - val_loss: 0.4042 - val_mean_absolute_error: 0.4015\n",
            "Epoch 191/300\n",
            "157/157 [==============================] - 3s 19ms/step - loss: 0.0357 - mean_absolute_error: 0.1227 - val_loss: 0.4088 - val_mean_absolute_error: 0.4001\n",
            "Epoch 192/300\n",
            "157/157 [==============================] - 3s 19ms/step - loss: 0.0332 - mean_absolute_error: 0.1188 - val_loss: 0.4058 - val_mean_absolute_error: 0.4050\n",
            "Epoch 193/300\n",
            "157/157 [==============================] - 3s 20ms/step - loss: 0.0367 - mean_absolute_error: 0.1257 - val_loss: 0.4170 - val_mean_absolute_error: 0.4063\n",
            "Epoch 194/300\n",
            "157/157 [==============================] - 4s 23ms/step - loss: 0.0335 - mean_absolute_error: 0.1204 - val_loss: 0.4188 - val_mean_absolute_error: 0.4058\n",
            "Epoch 195/300\n",
            "157/157 [==============================] - 3s 18ms/step - loss: 0.0348 - mean_absolute_error: 0.1220 - val_loss: 0.4147 - val_mean_absolute_error: 0.4090\n",
            "Epoch 196/300\n",
            "157/157 [==============================] - 3s 18ms/step - loss: 0.0347 - mean_absolute_error: 0.1223 - val_loss: 0.4005 - val_mean_absolute_error: 0.3995\n",
            "Epoch 197/300\n",
            "157/157 [==============================] - 3s 17ms/step - loss: 0.0329 - mean_absolute_error: 0.1195 - val_loss: 0.4040 - val_mean_absolute_error: 0.4079\n",
            "Epoch 198/300\n",
            "157/157 [==============================] - 4s 24ms/step - loss: 0.0323 - mean_absolute_error: 0.1184 - val_loss: 0.4107 - val_mean_absolute_error: 0.4099\n",
            "Epoch 199/300\n",
            "157/157 [==============================] - 3s 19ms/step - loss: 0.0338 - mean_absolute_error: 0.1215 - val_loss: 0.4111 - val_mean_absolute_error: 0.3981\n",
            "Epoch 200/300\n",
            "157/157 [==============================] - 3s 17ms/step - loss: 0.0328 - mean_absolute_error: 0.1203 - val_loss: 0.4019 - val_mean_absolute_error: 0.4007\n",
            "Epoch 201/300\n",
            "157/157 [==============================] - 3s 21ms/step - loss: 0.0327 - mean_absolute_error: 0.1197 - val_loss: 0.3990 - val_mean_absolute_error: 0.4056\n",
            "Epoch 202/300\n",
            "157/157 [==============================] - 4s 24ms/step - loss: 0.0327 - mean_absolute_error: 0.1198 - val_loss: 0.3966 - val_mean_absolute_error: 0.3962\n",
            "Epoch 203/300\n",
            "157/157 [==============================] - 3s 18ms/step - loss: 0.0335 - mean_absolute_error: 0.1211 - val_loss: 0.4032 - val_mean_absolute_error: 0.4079\n",
            "Epoch 204/300\n",
            "157/157 [==============================] - 3s 18ms/step - loss: 0.0317 - mean_absolute_error: 0.1188 - val_loss: 0.4044 - val_mean_absolute_error: 0.4060\n",
            "Epoch 205/300\n",
            "157/157 [==============================] - 3s 22ms/step - loss: 0.0341 - mean_absolute_error: 0.1188 - val_loss: 0.3980 - val_mean_absolute_error: 0.4069\n",
            "Epoch 206/300\n",
            "157/157 [==============================] - 4s 22ms/step - loss: 0.0332 - mean_absolute_error: 0.1186 - val_loss: 0.4042 - val_mean_absolute_error: 0.4028\n",
            "Epoch 207/300\n",
            "157/157 [==============================] - 3s 18ms/step - loss: 0.0318 - mean_absolute_error: 0.1192 - val_loss: 0.4061 - val_mean_absolute_error: 0.4067\n",
            "Epoch 208/300\n",
            "157/157 [==============================] - 3s 19ms/step - loss: 0.0348 - mean_absolute_error: 0.1236 - val_loss: 0.4170 - val_mean_absolute_error: 0.4058\n",
            "Epoch 209/300\n",
            "157/157 [==============================] - 4s 25ms/step - loss: 0.0341 - mean_absolute_error: 0.1211 - val_loss: 0.4213 - val_mean_absolute_error: 0.4099\n",
            "Epoch 210/300\n",
            "157/157 [==============================] - 3s 19ms/step - loss: 0.0330 - mean_absolute_error: 0.1207 - val_loss: 0.4037 - val_mean_absolute_error: 0.4048\n",
            "Epoch 211/300\n",
            "157/157 [==============================] - 3s 18ms/step - loss: 0.0341 - mean_absolute_error: 0.1225 - val_loss: 0.4174 - val_mean_absolute_error: 0.4101\n",
            "Epoch 212/300\n",
            "157/157 [==============================] - 3s 17ms/step - loss: 0.0331 - mean_absolute_error: 0.1207 - val_loss: 0.4079 - val_mean_absolute_error: 0.4059\n",
            "Epoch 213/300\n",
            "157/157 [==============================] - 4s 23ms/step - loss: 0.0321 - mean_absolute_error: 0.1195 - val_loss: 0.4062 - val_mean_absolute_error: 0.4079\n",
            "Epoch 214/300\n",
            "157/157 [==============================] - 3s 17ms/step - loss: 0.0324 - mean_absolute_error: 0.1182 - val_loss: 0.4123 - val_mean_absolute_error: 0.4045\n",
            "Epoch 215/300\n",
            "157/157 [==============================] - 3s 17ms/step - loss: 0.0338 - mean_absolute_error: 0.1219 - val_loss: 0.4217 - val_mean_absolute_error: 0.4121\n",
            "Epoch 216/300\n",
            "157/157 [==============================] - 3s 21ms/step - loss: 0.0335 - mean_absolute_error: 0.1199 - val_loss: 0.4196 - val_mean_absolute_error: 0.4068\n",
            "Epoch 217/300\n",
            "157/157 [==============================] - 3s 18ms/step - loss: 0.0355 - mean_absolute_error: 0.1231 - val_loss: 0.4144 - val_mean_absolute_error: 0.4049\n",
            "Epoch 218/300\n",
            "157/157 [==============================] - 3s 17ms/step - loss: 0.0346 - mean_absolute_error: 0.1225 - val_loss: 0.4234 - val_mean_absolute_error: 0.4114\n",
            "Epoch 219/300\n",
            "157/157 [==============================] - 3s 17ms/step - loss: 0.0374 - mean_absolute_error: 0.1250 - val_loss: 0.4476 - val_mean_absolute_error: 0.4328\n",
            "Epoch 220/300\n",
            "157/157 [==============================] - 3s 20ms/step - loss: 0.0390 - mean_absolute_error: 0.1308 - val_loss: 0.4269 - val_mean_absolute_error: 0.4144\n",
            "Epoch 221/300\n",
            "157/157 [==============================] - 3s 17ms/step - loss: 0.0340 - mean_absolute_error: 0.1219 - val_loss: 0.4265 - val_mean_absolute_error: 0.4112\n",
            "Epoch 222/300\n",
            "157/157 [==============================] - 3s 17ms/step - loss: 0.0327 - mean_absolute_error: 0.1197 - val_loss: 0.4113 - val_mean_absolute_error: 0.4121\n",
            "Epoch 223/300\n",
            "157/157 [==============================] - 3s 17ms/step - loss: 0.0334 - mean_absolute_error: 0.1196 - val_loss: 0.4133 - val_mean_absolute_error: 0.4118\n",
            "Epoch 224/300\n",
            "157/157 [==============================] - 4s 26ms/step - loss: 0.0334 - mean_absolute_error: 0.1209 - val_loss: 0.4083 - val_mean_absolute_error: 0.4139\n",
            "Epoch 225/300\n",
            "157/157 [==============================] - 3s 18ms/step - loss: 0.0343 - mean_absolute_error: 0.1220 - val_loss: 0.4143 - val_mean_absolute_error: 0.4071\n",
            "Epoch 226/300\n",
            "157/157 [==============================] - 3s 17ms/step - loss: 0.0323 - mean_absolute_error: 0.1176 - val_loss: 0.4117 - val_mean_absolute_error: 0.4131\n",
            "Epoch 227/300\n",
            "157/157 [==============================] - 3s 18ms/step - loss: 0.0341 - mean_absolute_error: 0.1202 - val_loss: 0.4109 - val_mean_absolute_error: 0.4083\n",
            "Epoch 228/300\n",
            "157/157 [==============================] - 3s 22ms/step - loss: 0.0328 - mean_absolute_error: 0.1193 - val_loss: 0.4046 - val_mean_absolute_error: 0.4082\n",
            "Epoch 229/300\n",
            "157/157 [==============================] - 3s 18ms/step - loss: 0.0335 - mean_absolute_error: 0.1214 - val_loss: 0.4134 - val_mean_absolute_error: 0.4161\n",
            "Epoch 230/300\n",
            "157/157 [==============================] - 4s 22ms/step - loss: 0.0332 - mean_absolute_error: 0.1211 - val_loss: 0.4220 - val_mean_absolute_error: 0.4054\n",
            "Epoch 231/300\n",
            "157/157 [==============================] - 3s 22ms/step - loss: 0.0328 - mean_absolute_error: 0.1186 - val_loss: 0.4078 - val_mean_absolute_error: 0.4116\n",
            "Epoch 232/300\n",
            "157/157 [==============================] - 3s 17ms/step - loss: 0.0331 - mean_absolute_error: 0.1207 - val_loss: 0.4100 - val_mean_absolute_error: 0.4138\n",
            "Epoch 233/300\n",
            "157/157 [==============================] - 3s 18ms/step - loss: 0.0327 - mean_absolute_error: 0.1192 - val_loss: 0.4151 - val_mean_absolute_error: 0.4063\n",
            "Epoch 234/300\n",
            "157/157 [==============================] - 4s 23ms/step - loss: 0.0324 - mean_absolute_error: 0.1180 - val_loss: 0.4305 - val_mean_absolute_error: 0.4192\n",
            "Epoch 235/300\n",
            "157/157 [==============================] - 3s 18ms/step - loss: 0.0313 - mean_absolute_error: 0.1173 - val_loss: 0.4113 - val_mean_absolute_error: 0.4069\n",
            "Epoch 236/300\n",
            "157/157 [==============================] - 3s 17ms/step - loss: 0.0339 - mean_absolute_error: 0.1213 - val_loss: 0.4159 - val_mean_absolute_error: 0.4104\n",
            "Epoch 237/300\n",
            "157/157 [==============================] - 3s 17ms/step - loss: 0.0328 - mean_absolute_error: 0.1191 - val_loss: 0.4186 - val_mean_absolute_error: 0.4114\n",
            "Epoch 238/300\n",
            "157/157 [==============================] - 4s 23ms/step - loss: 0.0323 - mean_absolute_error: 0.1189 - val_loss: 0.4116 - val_mean_absolute_error: 0.4081\n",
            "Epoch 239/300\n",
            "157/157 [==============================] - 3s 18ms/step - loss: 0.0321 - mean_absolute_error: 0.1184 - val_loss: 0.4143 - val_mean_absolute_error: 0.4075\n",
            "Epoch 240/300\n",
            "157/157 [==============================] - 3s 17ms/step - loss: 0.0316 - mean_absolute_error: 0.1174 - val_loss: 0.4196 - val_mean_absolute_error: 0.4109\n",
            "Epoch 241/300\n",
            "157/157 [==============================] - 4s 24ms/step - loss: 0.0321 - mean_absolute_error: 0.1182 - val_loss: 0.4171 - val_mean_absolute_error: 0.4131\n",
            "Epoch 242/300\n",
            "157/157 [==============================] - 3s 18ms/step - loss: 0.0323 - mean_absolute_error: 0.1191 - val_loss: 0.4126 - val_mean_absolute_error: 0.4120\n",
            "Epoch 243/300\n",
            "157/157 [==============================] - 3s 18ms/step - loss: 0.0333 - mean_absolute_error: 0.1206 - val_loss: 0.4155 - val_mean_absolute_error: 0.4076\n",
            "Epoch 244/300\n",
            "157/157 [==============================] - 3s 17ms/step - loss: 0.0316 - mean_absolute_error: 0.1172 - val_loss: 0.4104 - val_mean_absolute_error: 0.4096\n",
            "Epoch 245/300\n",
            "157/157 [==============================] - 3s 22ms/step - loss: 0.0359 - mean_absolute_error: 0.1226 - val_loss: 0.3995 - val_mean_absolute_error: 0.4124\n",
            "Epoch 246/300\n",
            "157/157 [==============================] - 3s 18ms/step - loss: 0.0310 - mean_absolute_error: 0.1161 - val_loss: 0.4114 - val_mean_absolute_error: 0.4113\n",
            "Epoch 247/300\n",
            "157/157 [==============================] - 3s 18ms/step - loss: 0.0343 - mean_absolute_error: 0.1221 - val_loss: 0.4324 - val_mean_absolute_error: 0.4200\n",
            "Epoch 248/300\n",
            "157/157 [==============================] - 4s 23ms/step - loss: 0.0331 - mean_absolute_error: 0.1193 - val_loss: 0.4264 - val_mean_absolute_error: 0.4129\n",
            "Epoch 249/300\n",
            "157/157 [==============================] - 3s 20ms/step - loss: 0.0417 - mean_absolute_error: 0.1354 - val_loss: 0.4200 - val_mean_absolute_error: 0.4134\n",
            "Epoch 250/300\n",
            "157/157 [==============================] - 3s 18ms/step - loss: 0.0337 - mean_absolute_error: 0.1218 - val_loss: 0.4222 - val_mean_absolute_error: 0.4130\n",
            "Epoch 251/300\n",
            "157/157 [==============================] - 3s 18ms/step - loss: 0.0352 - mean_absolute_error: 0.1242 - val_loss: 0.4183 - val_mean_absolute_error: 0.4141\n",
            "Epoch 252/300\n",
            "157/157 [==============================] - 4s 27ms/step - loss: 0.0340 - mean_absolute_error: 0.1213 - val_loss: 0.4222 - val_mean_absolute_error: 0.4160\n",
            "Epoch 253/300\n",
            "157/157 [==============================] - 3s 18ms/step - loss: 0.0328 - mean_absolute_error: 0.1201 - val_loss: 0.4188 - val_mean_absolute_error: 0.4103\n",
            "Epoch 254/300\n",
            "157/157 [==============================] - 3s 18ms/step - loss: 0.0319 - mean_absolute_error: 0.1181 - val_loss: 0.4159 - val_mean_absolute_error: 0.4129\n",
            "Epoch 255/300\n",
            "157/157 [==============================] - 4s 24ms/step - loss: 0.0325 - mean_absolute_error: 0.1194 - val_loss: 0.4235 - val_mean_absolute_error: 0.4137\n",
            "Epoch 256/300\n",
            "157/157 [==============================] - 3s 18ms/step - loss: 0.0323 - mean_absolute_error: 0.1180 - val_loss: 0.4184 - val_mean_absolute_error: 0.4153\n",
            "Epoch 257/300\n",
            "157/157 [==============================] - 3s 17ms/step - loss: 0.0334 - mean_absolute_error: 0.1202 - val_loss: 0.4288 - val_mean_absolute_error: 0.4158\n",
            "Epoch 258/300\n",
            "157/157 [==============================] - 3s 17ms/step - loss: 0.0336 - mean_absolute_error: 0.1209 - val_loss: 0.4229 - val_mean_absolute_error: 0.4127\n",
            "Epoch 259/300\n",
            "157/157 [==============================] - 4s 23ms/step - loss: 0.0352 - mean_absolute_error: 0.1229 - val_loss: 0.4123 - val_mean_absolute_error: 0.4061\n",
            "Epoch 260/300\n",
            "157/157 [==============================] - 3s 18ms/step - loss: 0.0309 - mean_absolute_error: 0.1165 - val_loss: 0.4148 - val_mean_absolute_error: 0.4071\n",
            "Epoch 261/300\n",
            "157/157 [==============================] - 3s 17ms/step - loss: 0.0333 - mean_absolute_error: 0.1210 - val_loss: 0.4094 - val_mean_absolute_error: 0.4113\n",
            "Epoch 262/300\n",
            "157/157 [==============================] - 3s 22ms/step - loss: 0.0324 - mean_absolute_error: 0.1190 - val_loss: 0.4096 - val_mean_absolute_error: 0.4082\n",
            "Epoch 263/300\n",
            "157/157 [==============================] - 3s 21ms/step - loss: 0.0333 - mean_absolute_error: 0.1207 - val_loss: 0.4006 - val_mean_absolute_error: 0.4048\n",
            "Epoch 264/300\n",
            "157/157 [==============================] - 3s 18ms/step - loss: 0.0315 - mean_absolute_error: 0.1174 - val_loss: 0.4022 - val_mean_absolute_error: 0.4133\n",
            "Epoch 265/300\n",
            "157/157 [==============================] - 3s 18ms/step - loss: 0.0339 - mean_absolute_error: 0.1197 - val_loss: 0.4093 - val_mean_absolute_error: 0.4038\n",
            "Epoch 266/300\n",
            "157/157 [==============================] - 4s 26ms/step - loss: 0.0425 - mean_absolute_error: 0.1364 - val_loss: 0.4106 - val_mean_absolute_error: 0.4198\n",
            "Epoch 267/300\n",
            "157/157 [==============================] - 3s 18ms/step - loss: 0.0365 - mean_absolute_error: 0.1281 - val_loss: 0.4143 - val_mean_absolute_error: 0.4098\n",
            "Epoch 268/300\n",
            "157/157 [==============================] - 3s 17ms/step - loss: 0.0342 - mean_absolute_error: 0.1226 - val_loss: 0.4095 - val_mean_absolute_error: 0.4150\n",
            "Epoch 269/300\n",
            "157/157 [==============================] - 3s 18ms/step - loss: 0.0330 - mean_absolute_error: 0.1205 - val_loss: 0.4108 - val_mean_absolute_error: 0.4114\n",
            "Epoch 270/300\n",
            "157/157 [==============================] - 4s 26ms/step - loss: 0.0331 - mean_absolute_error: 0.1193 - val_loss: 0.4127 - val_mean_absolute_error: 0.4082\n",
            "Epoch 271/300\n",
            "157/157 [==============================] - 3s 19ms/step - loss: 0.0330 - mean_absolute_error: 0.1197 - val_loss: 0.4048 - val_mean_absolute_error: 0.4129\n",
            "Epoch 272/300\n",
            "157/157 [==============================] - 3s 18ms/step - loss: 0.0330 - mean_absolute_error: 0.1182 - val_loss: 0.4059 - val_mean_absolute_error: 0.4050\n",
            "Epoch 273/300\n",
            "157/157 [==============================] - 3s 18ms/step - loss: 0.0333 - mean_absolute_error: 0.1201 - val_loss: 0.4081 - val_mean_absolute_error: 0.4100\n",
            "Epoch 274/300\n",
            "157/157 [==============================] - 3s 22ms/step - loss: 0.0320 - mean_absolute_error: 0.1174 - val_loss: 0.4104 - val_mean_absolute_error: 0.4090\n",
            "Epoch 275/300\n",
            "157/157 [==============================] - 3s 18ms/step - loss: 0.0326 - mean_absolute_error: 0.1194 - val_loss: 0.4049 - val_mean_absolute_error: 0.4061\n",
            "Epoch 276/300\n",
            "157/157 [==============================] - 3s 18ms/step - loss: 0.0329 - mean_absolute_error: 0.1185 - val_loss: 0.4127 - val_mean_absolute_error: 0.4077\n",
            "Epoch 277/300\n",
            "157/157 [==============================] - 3s 18ms/step - loss: 0.0314 - mean_absolute_error: 0.1174 - val_loss: 0.4105 - val_mean_absolute_error: 0.4107\n",
            "Epoch 278/300\n",
            "157/157 [==============================] - 4s 24ms/step - loss: 0.0334 - mean_absolute_error: 0.1201 - val_loss: 0.4072 - val_mean_absolute_error: 0.4153\n",
            "Epoch 279/300\n",
            "157/157 [==============================] - 3s 20ms/step - loss: 0.0358 - mean_absolute_error: 0.1247 - val_loss: 0.4045 - val_mean_absolute_error: 0.4114\n",
            "Epoch 280/300\n",
            "157/157 [==============================] - 3s 18ms/step - loss: 0.0321 - mean_absolute_error: 0.1186 - val_loss: 0.4110 - val_mean_absolute_error: 0.4114\n",
            "Epoch 281/300\n",
            "157/157 [==============================] - 3s 18ms/step - loss: 0.0324 - mean_absolute_error: 0.1176 - val_loss: 0.4076 - val_mean_absolute_error: 0.4078\n",
            "Epoch 282/300\n",
            "157/157 [==============================] - 3s 19ms/step - loss: 0.0344 - mean_absolute_error: 0.1201 - val_loss: 0.4049 - val_mean_absolute_error: 0.4061\n",
            "Epoch 283/300\n",
            "157/157 [==============================] - 3s 19ms/step - loss: 0.0327 - mean_absolute_error: 0.1181 - val_loss: 0.4144 - val_mean_absolute_error: 0.4087\n",
            "Epoch 284/300\n",
            "157/157 [==============================] - 3s 18ms/step - loss: 0.0314 - mean_absolute_error: 0.1181 - val_loss: 0.4012 - val_mean_absolute_error: 0.4063\n",
            "Epoch 285/300\n",
            "157/157 [==============================] - 4s 23ms/step - loss: 0.0326 - mean_absolute_error: 0.1191 - val_loss: 0.4115 - val_mean_absolute_error: 0.4048\n",
            "Epoch 286/300\n",
            "157/157 [==============================] - 3s 20ms/step - loss: 0.0320 - mean_absolute_error: 0.1180 - val_loss: 0.4032 - val_mean_absolute_error: 0.4044\n",
            "Epoch 287/300\n",
            "157/157 [==============================] - 3s 18ms/step - loss: 0.0320 - mean_absolute_error: 0.1177 - val_loss: 0.4020 - val_mean_absolute_error: 0.4008\n",
            "Epoch 288/300\n",
            "157/157 [==============================] - 3s 18ms/step - loss: 0.0313 - mean_absolute_error: 0.1166 - val_loss: 0.4065 - val_mean_absolute_error: 0.4101\n",
            "Epoch 289/300\n",
            "157/157 [==============================] - 3s 20ms/step - loss: 0.0323 - mean_absolute_error: 0.1187 - val_loss: 0.4114 - val_mean_absolute_error: 0.4071\n",
            "Epoch 290/300\n",
            "157/157 [==============================] - 3s 19ms/step - loss: 0.0321 - mean_absolute_error: 0.1178 - val_loss: 0.4106 - val_mean_absolute_error: 0.4104\n",
            "Epoch 291/300\n",
            "157/157 [==============================] - 3s 18ms/step - loss: 0.0331 - mean_absolute_error: 0.1182 - val_loss: 0.4093 - val_mean_absolute_error: 0.4100\n",
            "Epoch 292/300\n",
            "157/157 [==============================] - 3s 21ms/step - loss: 0.0314 - mean_absolute_error: 0.1165 - val_loss: 0.4064 - val_mean_absolute_error: 0.4073\n",
            "Epoch 293/300\n",
            "157/157 [==============================] - 3s 18ms/step - loss: 0.0325 - mean_absolute_error: 0.1168 - val_loss: 0.4052 - val_mean_absolute_error: 0.4032\n",
            "Epoch 294/300\n",
            "157/157 [==============================] - 3s 17ms/step - loss: 0.0343 - mean_absolute_error: 0.1201 - val_loss: 0.4058 - val_mean_absolute_error: 0.4041\n",
            "Epoch 295/300\n",
            "157/157 [==============================] - 3s 18ms/step - loss: 0.0329 - mean_absolute_error: 0.1190 - val_loss: 0.4059 - val_mean_absolute_error: 0.4060\n",
            "Epoch 296/300\n",
            "157/157 [==============================] - 4s 25ms/step - loss: 0.0333 - mean_absolute_error: 0.1191 - val_loss: 0.4057 - val_mean_absolute_error: 0.4074\n",
            "Epoch 297/300\n",
            "157/157 [==============================] - 3s 19ms/step - loss: 0.0336 - mean_absolute_error: 0.1203 - val_loss: 0.4538 - val_mean_absolute_error: 0.4338\n",
            "Epoch 298/300\n",
            "157/157 [==============================] - 3s 18ms/step - loss: 0.0413 - mean_absolute_error: 0.1341 - val_loss: 0.3887 - val_mean_absolute_error: 0.3981\n",
            "Epoch 299/300\n",
            "157/157 [==============================] - 3s 18ms/step - loss: 0.0394 - mean_absolute_error: 0.1309 - val_loss: 0.3979 - val_mean_absolute_error: 0.4151\n",
            "Epoch 300/300\n",
            "157/157 [==============================] - 4s 25ms/step - loss: 0.0366 - mean_absolute_error: 0.1239 - val_loss: 0.4002 - val_mean_absolute_error: 0.4035\n",
            "Current weights saved to /content/drive/MyDrive/CAS_Gregi/My_Models/lstm_bi10/current_weights\n"
          ]
        }
      ]
    },
    {
      "cell_type": "code",
      "source": [
        "# model.save_weights(model_path + 'weights_after_1000_epochs', save_format='tf')"
      ],
      "metadata": {
        "id": "sVVfM9n8Kq8S"
      },
      "execution_count": 28,
      "outputs": []
    },
    {
      "cell_type": "code",
      "source": [
        "\n",
        "# next(iter(ds_train))"
      ],
      "metadata": {
        "id": "wlmhYZDx1A2o"
      },
      "execution_count": 54,
      "outputs": []
    },
    {
      "cell_type": "code",
      "source": [
        "# save model\n",
        "save_model(model)"
      ],
      "metadata": {
        "colab": {
          "base_uri": "https://localhost:8080/"
        },
        "id": "EWuOuB5GBUqt",
        "outputId": "fdd99ca8-f8cf-4d95-831e-fbd429afb49b"
      },
      "execution_count": 23,
      "outputs": [
        {
          "output_type": "stream",
          "name": "stdout",
          "text": [
            "Created directory /content/drive/MyDrive/CAS_Gregi//content/drive/MyDrive/CAS_Gregi/My_Modelslstm_bi10/\n"
          ]
        },
        {
          "output_type": "stream",
          "name": "stderr",
          "text": [
            "WARNING:absl:Found untraced functions such as lstm_cell_1_layer_call_fn, lstm_cell_1_layer_call_and_return_conditional_losses, lstm_cell_2_layer_call_fn, lstm_cell_2_layer_call_and_return_conditional_losses while saving (showing 4 of 4). These functions will not be directly callable after loading.\n"
          ]
        }
      ]
    },
    {
      "cell_type": "code",
      "source": [
        "# load the model\n",
        "# model = load_model(model)"
      ],
      "metadata": {
        "id": "-cWSN7WrBcLJ"
      },
      "execution_count": null,
      "outputs": []
    },
    {
      "cell_type": "code",
      "source": [
        "model.evaluate(ds_test)"
      ],
      "metadata": {
        "colab": {
          "base_uri": "https://localhost:8080/"
        },
        "id": "cwOehAb4tyUp",
        "outputId": "a9758a78-00e4-4fb5-c899-06c514a735c5"
      },
      "execution_count": 30,
      "outputs": [
        {
          "output_type": "stream",
          "name": "stdout",
          "text": [
            "32/32 [==============================] - 0s 11ms/step - loss: 0.4002 - mean_absolute_error: 0.4035\n"
          ]
        },
        {
          "output_type": "execute_result",
          "data": {
            "text/plain": [
              "[0.400241494178772, 0.4034956097602844]"
            ]
          },
          "metadata": {},
          "execution_count": 30
        }
      ]
    },
    {
      "cell_type": "code",
      "source": [
        "def accuracy(ds):\n",
        "\n",
        "    ys_pred = (model.predict(ds).reshape((-1,))).round()\n",
        "    ys = np.concatenate([y for x, y in ds], axis=0)\n",
        "    errs = abs(ys - ys_pred)\n",
        "    N = len(ys)\n",
        "    relative_hits = [np.count_nonzero(errs==i)/N for i in range(5)]\n",
        "    return relative_hits\n",
        "\n",
        "def np_accuracy(ds):\n",
        "    f = lambda x:x<0 and -1 or x>0 and 1 or 0\n",
        "    ys_pred = (model.predict(ds).reshape((-1,))).round() - 2\n",
        "    ys_pred = np.array([f(x) for x in ys_pred])\n",
        "    ys = np.concatenate([y for x, y in ds], axis=0) - 2\n",
        "    ys = np.array([f(x) for x in ys])\n",
        "\n",
        "    errs = abs(ys - ys_pred)\n",
        "    N = len(ys)\n",
        "    relative_hits = [np.count_nonzero(errs==i)/N for i in [0,1,2]]\n",
        "    return relative_hits"
      ],
      "metadata": {
        "id": "LQ_GS--qBKa3"
      },
      "execution_count": 25,
      "outputs": []
    },
    {
      "cell_type": "code",
      "source": [
        "accuracy(ds_train), accuracy(ds_test)"
      ],
      "metadata": {
        "colab": {
          "base_uri": "https://localhost:8080/"
        },
        "id": "CuINhorVwSBD",
        "outputId": "b5631774-0559-4fb9-e031-6fa41ffb9f56"
      },
      "execution_count": 26,
      "outputs": [
        {
          "output_type": "stream",
          "name": "stdout",
          "text": [
            "157/157 [==============================] - 3s 11ms/step\n",
            "32/32 [==============================] - 0s 11ms/step\n"
          ]
        },
        {
          "output_type": "execute_result",
          "data": {
            "text/plain": [
              "([1.0, 0.0, 0.0, 0.0, 0.0], [0.652, 0.314, 0.031, 0.003, 0.0])"
            ]
          },
          "metadata": {},
          "execution_count": 26
        }
      ]
    },
    {
      "cell_type": "code",
      "source": [
        "accuracy(ds_train), accuracy(ds_test)"
      ],
      "metadata": {
        "colab": {
          "base_uri": "https://localhost:8080/"
        },
        "id": "gWRMj3WCQv6q",
        "outputId": "95cd02e6-771e-446b-979b-d21ab406b9cb"
      },
      "execution_count": 31,
      "outputs": [
        {
          "output_type": "stream",
          "name": "stdout",
          "text": [
            "157/157 [==============================] - 3s 18ms/step\n",
            "32/32 [==============================] - 0s 10ms/step\n"
          ]
        },
        {
          "output_type": "execute_result",
          "data": {
            "text/plain": [
              "([0.999, 0.001, 0.0, 0.0, 0.0], [0.656, 0.306, 0.034, 0.004, 0.0])"
            ]
          },
          "metadata": {},
          "execution_count": 31
        }
      ]
    },
    {
      "cell_type": "code",
      "source": [
        "text = fix_shape('the best hotel i ever stayed at')\n",
        "model.predict(text)"
      ],
      "metadata": {
        "colab": {
          "base_uri": "https://localhost:8080/"
        },
        "id": "oiFUuHp7t8Wm",
        "outputId": "1b915a17-d42a-4570-8edd-337a46168ea3"
      },
      "execution_count": 33,
      "outputs": [
        {
          "output_type": "stream",
          "name": "stdout",
          "text": [
            "1/1 [==============================] - 0s 28ms/step\n"
          ]
        },
        {
          "output_type": "execute_result",
          "data": {
            "text/plain": [
              "array([[2.2713227]], dtype=float32)"
            ]
          },
          "metadata": {},
          "execution_count": 33
        }
      ]
    },
    {
      "cell_type": "code",
      "source": [
        "text = '''\n",
        "the breakfast was excellent and the room very clean and spacious\n",
        "the staff was very friendly\n",
        "I can really recommend this place'''.lower().replace('\\n', ' ')\n",
        "model.predict(fix_shape(text))"
      ],
      "metadata": {
        "colab": {
          "base_uri": "https://localhost:8080/"
        },
        "id": "ZhjT5c3BuAWg",
        "outputId": "381ee787-8e8a-4507-de57-e8e2882902aa"
      },
      "execution_count": 35,
      "outputs": [
        {
          "output_type": "stream",
          "name": "stdout",
          "text": [
            "1/1 [==============================] - 0s 25ms/step\n"
          ]
        },
        {
          "output_type": "execute_result",
          "data": {
            "text/plain": [
              "array([[3.428855]], dtype=float32)"
            ]
          },
          "metadata": {},
          "execution_count": 35
        }
      ]
    },
    {
      "cell_type": "code",
      "source": [
        "text = '''\\\n",
        "the breakfast was ok, but nothing special\n",
        "the staff was very friendl.\n",
        "But the room we small and not suitable for working'''.lower().replace('\\n', ' ')\n",
        "\n",
        "model.predict(fix_shape(text))"
      ],
      "metadata": {
        "colab": {
          "base_uri": "https://localhost:8080/"
        },
        "id": "1qYL5XXYuHKg",
        "outputId": "71124f59-ff7d-4fea-d443-23aba8bae546"
      },
      "execution_count": 39,
      "outputs": [
        {
          "output_type": "stream",
          "name": "stdout",
          "text": [
            "1/1 [==============================] - 0s 36ms/step\n"
          ]
        },
        {
          "output_type": "execute_result",
          "data": {
            "text/plain": [
              "array([[2.32862]], dtype=float32)"
            ]
          },
          "metadata": {},
          "execution_count": 39
        }
      ]
    },
    {
      "cell_type": "code",
      "source": [
        "text = '''\\\n",
        "the breakfast was ok, but nothing special\n",
        "the staff was quite rude\n",
        "And the room we small and not suitable for working'''.lower().replace('\\n', ' ')\n",
        "model.predict(fix_shape(text))"
      ],
      "metadata": {
        "colab": {
          "base_uri": "https://localhost:8080/"
        },
        "id": "yDh1iPz1uMTV",
        "outputId": "7df9ef27-5924-43e3-9dca-0170a3a6e19c"
      },
      "execution_count": 40,
      "outputs": [
        {
          "output_type": "stream",
          "name": "stdout",
          "text": [
            "1/1 [==============================] - 0s 24ms/step\n"
          ]
        },
        {
          "output_type": "execute_result",
          "data": {
            "text/plain": [
              "array([[1.7753965]], dtype=float32)"
            ]
          },
          "metadata": {},
          "execution_count": 40
        }
      ]
    },
    {
      "cell_type": "code",
      "source": [
        "text = '''\\\n",
        "the breakfast was bad, only bread and coffe\n",
        "Checkin took forever\n",
        "No roomservice\n",
        "The room we small and not suitable for working'''.lower().replace('\\n', ' ')\n",
        "model.predict(fix_shape(text))"
      ],
      "metadata": {
        "colab": {
          "base_uri": "https://localhost:8080/"
        },
        "id": "PUYC7U55uNG-",
        "outputId": "9d90efdb-d404-47da-cd52-9fdd9cc33e00"
      },
      "execution_count": 41,
      "outputs": [
        {
          "output_type": "stream",
          "name": "stdout",
          "text": [
            "1/1 [==============================] - 0s 24ms/step\n"
          ]
        },
        {
          "output_type": "execute_result",
          "data": {
            "text/plain": [
              "array([[2.0958402]], dtype=float32)"
            ]
          },
          "metadata": {},
          "execution_count": 41
        }
      ]
    },
    {
      "cell_type": "code",
      "source": [],
      "metadata": {
        "id": "LuBoQBj42MOR"
      },
      "execution_count": null,
      "outputs": []
    }
  ]
}