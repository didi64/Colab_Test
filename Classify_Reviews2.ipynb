{
  "nbformat": 4,
  "nbformat_minor": 0,
  "metadata": {
    "colab": {
      "provenance": [],
      "gpuType": "T4",
      "authorship_tag": "ABX9TyO1x55/6Fbxhz3hwcBEy2sw",
      "include_colab_link": true
    },
    "kernelspec": {
      "name": "python3",
      "display_name": "Python 3"
    },
    "language_info": {
      "name": "python"
    },
    "accelerator": "GPU"
  },
  "cells": [
    {
      "cell_type": "markdown",
      "metadata": {
        "id": "view-in-github",
        "colab_type": "text"
      },
      "source": [
        "<a href=\"https://colab.research.google.com/github/didi64/Colab_Test/blob/main/Classify_Reviews2.ipynb\" target=\"_parent\"><img src=\"https://colab.research.google.com/assets/colab-badge.svg\" alt=\"Open In Colab\"/></a>"
      ]
    },
    {
      "cell_type": "code",
      "execution_count": 1,
      "metadata": {
        "colab": {
          "base_uri": "https://localhost:8080/"
        },
        "id": "9dXRgHF-nNaJ",
        "outputId": "ddf18035-2668-468c-93f4-97d9b1b62b52"
      },
      "outputs": [
        {
          "output_type": "stream",
          "name": "stdout",
          "text": [
            "Mounted at /content/drive\n"
          ]
        }
      ],
      "source": [
        "import os, sys\n",
        "from google.colab import drive\n",
        "ROOT = '/content/drive/My Drive/CAS_Gregi/'\n",
        "drive.mount('/content/drive', force_remount=True)\n",
        "\n",
        "nb_path = '/content/notebooks'\n",
        "os.symlink(ROOT + 'CO_modules', nb_path)\n",
        "sys.path.insert(0,nb_path)"
      ]
    },
    {
      "cell_type": "code",
      "source": [
        "import pickle\n",
        "with open(ROOT + 'data/hotelreviews_cleaned_train_test_spell.pkl','rb') as f:\n",
        "    data_train, data_test = pickle.load(f)"
      ],
      "metadata": {
        "id": "1vIHgPwxnWNA"
      },
      "execution_count": 2,
      "outputs": []
    },
    {
      "cell_type": "code",
      "source": [
        "import random\n",
        "import numpy as np\n",
        "import tensorflow as tf\n",
        "from functools import reduce"
      ],
      "metadata": {
        "id": "CG5uUG2knoQC"
      },
      "execution_count": 3,
      "outputs": []
    },
    {
      "cell_type": "code",
      "source": [
        "def fix_shape(text):\n",
        "    return tf.constant(text, shape = (1,))\n",
        "\n",
        "def get_dataset(d):\n",
        "    ''' get dataset from dict {score: list_of_revies,...}'''\n",
        "    # list of tuples [(score, review),...]\n",
        "    all_reviews = reduce(lambda x,y: x + y, [[(r, k) for k,v in d.items() for r in v]])\n",
        "    random.shuffle(all_reviews)\n",
        "    reviews = tf.constant([r for r,_ in all_reviews], shape=(len(all_reviews), 1))\n",
        "    gpt_scores  = tf.constant([s - 1 for _, s in all_reviews])\n",
        "\n",
        "    n = len(reviews)\n",
        "    ds = tf.data.Dataset.from_tensor_slices((reviews[:n], gpt_scores[:n]))\n",
        "    return ds"
      ],
      "metadata": {
        "id": "pcfrpwo-oBSa"
      },
      "execution_count": 4,
      "outputs": []
    },
    {
      "cell_type": "code",
      "source": [
        "ds_train = get_dataset(data_train)\n",
        "ds_test = get_dataset(data_test)"
      ],
      "metadata": {
        "id": "90g9QwfIp1pC"
      },
      "execution_count": 5,
      "outputs": []
    },
    {
      "cell_type": "code",
      "source": [
        "all_reviews = reduce(lambda x,y: x + y, [[(r, k) for d in (data_train, data_test) for k,v in d.items() for r in v]])\n",
        "WORDS = reduce(lambda x,y:x|y, [set(x[0].split()) for x in all_reviews])"
      ],
      "metadata": {
        "id": "f31svtLJqCgy"
      },
      "execution_count": 6,
      "outputs": []
    },
    {
      "cell_type": "code",
      "source": [
        "len(WORDS)"
      ],
      "metadata": {
        "colab": {
          "base_uri": "https://localhost:8080/"
        },
        "id": "RPcDw3KGqfz0",
        "outputId": "80e415e7-d58a-475e-a240-52c96ee12417"
      },
      "execution_count": 7,
      "outputs": [
        {
          "output_type": "execute_result",
          "data": {
            "text/plain": [
              "9033"
            ]
          },
          "metadata": {},
          "execution_count": 7
        }
      ]
    },
    {
      "cell_type": "code",
      "source": [
        "# standardization: one element of  standardizations or a callable mapping strings to strings\n",
        "standardizations = [None, \"lower_and_strip_punctuation\", \"lower\", \"strip_punctuation\"]\n",
        "max_tokens = 10_000\n",
        "ngrams = None\n",
        "sequence_length = 200\n",
        "\n",
        "tv_layer = tf.keras.layers.TextVectorization(\n",
        "    max_tokens = max_tokens,\n",
        "    standardize = standardizations[0],\n",
        "    ngrams=ngrams,\n",
        "    output_mode='int',\n",
        "    output_sequence_length = sequence_length,\n",
        "    pad_to_max_tokens=True,\n",
        ")"
      ],
      "metadata": {
        "id": "JoS_4NYuq2Gz"
      },
      "execution_count": 8,
      "outputs": []
    },
    {
      "cell_type": "code",
      "source": [
        "tv_layer.adapt([r[0] for r in all_reviews])\n",
        "vocab = tv_layer.get_vocabulary()\n",
        "len(vocab) # max_tokens"
      ],
      "metadata": {
        "colab": {
          "base_uri": "https://localhost:8080/"
        },
        "id": "0BYO96FPrnf1",
        "outputId": "6935d226-69c4-47e0-ebf6-d72097181357"
      },
      "execution_count": 9,
      "outputs": [
        {
          "output_type": "execute_result",
          "data": {
            "text/plain": [
              "9035"
            ]
          },
          "metadata": {},
          "execution_count": 9
        }
      ]
    },
    {
      "cell_type": "code",
      "source": [
        "tv_layer(data_train[3][30])"
      ],
      "metadata": {
        "colab": {
          "base_uri": "https://localhost:8080/"
        },
        "id": "QhyvW7rFr3k1",
        "outputId": "fd8cb8eb-a4a5-4596-f8f3-755540eb5c1b"
      },
      "execution_count": 10,
      "outputs": [
        {
          "output_type": "execute_result",
          "data": {
            "text/plain": [
              "<tf.Tensor: shape=(200,), dtype=int64, numpy=\n",
              "array([  16,    8,  436,   82,  163,    5,  365,  222,   37,   21,    2,\n",
              "        377,  259,   36,   20,    5,  276,   10,  104, 2640,   21,    2,\n",
              "        377,  466,   16,   20,  528,    2,  207,   55,    5,  118,  275,\n",
              "          3,   44,  105,  210,  192, 1695,    6,  316,    8,    2,  115,\n",
              "          7,   13,    2,   94,   25,   65,  264,   42,  367,    3,  586,\n",
              "          5,  664,    4,  392,    8,    2,    7,   36,   14,   40, 1155,\n",
              "        107,  316,   17,  429,   29,  296,    5,  531,    3,    5,  357,\n",
              "        113,   28,   89,   28,  291,  398,    6, 4099,    5, 1109, 3744,\n",
              "          2,    7,    4,   52,    3,  722,    3,    2,   41,    4,   98,\n",
              "         30,  106,  544,    8,    2,   67,    3,  738,  585, 1656,    0,\n",
              "          0,    0,    0,    0,    0,    0,    0,    0,    0,    0,    0,\n",
              "          0,    0,    0,    0,    0,    0,    0,    0,    0,    0,    0,\n",
              "          0,    0,    0,    0,    0,    0,    0,    0,    0,    0,    0,\n",
              "          0,    0,    0,    0,    0,    0,    0,    0,    0,    0,    0,\n",
              "          0,    0,    0,    0,    0,    0,    0,    0,    0,    0,    0,\n",
              "          0,    0,    0,    0,    0,    0,    0,    0,    0,    0,    0,\n",
              "          0,    0,    0,    0,    0,    0,    0,    0,    0,    0,    0,\n",
              "          0,    0,    0,    0,    0,    0,    0,    0,    0,    0,    0,\n",
              "          0,    0])>"
            ]
          },
          "metadata": {},
          "execution_count": 10
        }
      ]
    },
    {
      "cell_type": "code",
      "source": [
        "output_dim =  16\n",
        "em_layer = tf.keras.layers.Embedding(input_dim = max_tokens + 1, output_dim= output_dim)\n",
        "em_layer(tv_layer('what a hotel'))"
      ],
      "metadata": {
        "colab": {
          "base_uri": "https://localhost:8080/"
        },
        "id": "gOJlXkTIsHa0",
        "outputId": "d763a88f-9089-40f3-afb1-57bda863aafa"
      },
      "execution_count": 11,
      "outputs": [
        {
          "output_type": "execute_result",
          "data": {
            "text/plain": [
              "<tf.Tensor: shape=(200, 16), dtype=float32, numpy=\n",
              "array([[ 2.3678217e-02, -2.1151638e-02, -2.3410155e-02, ...,\n",
              "         4.5185115e-02,  4.9323205e-02,  2.0979334e-02],\n",
              "       [-2.6473487e-02, -9.7542033e-03,  4.6490718e-02, ...,\n",
              "         2.7178898e-03,  2.2125531e-02, -1.7344214e-02],\n",
              "       [-1.5140474e-02, -3.6553599e-02,  5.3130090e-05, ...,\n",
              "        -7.5159669e-03,  2.5050528e-03,  2.0912077e-02],\n",
              "       ...,\n",
              "       [-4.3067422e-02, -3.4635913e-02,  2.3401227e-02, ...,\n",
              "         4.9287785e-02, -1.7889142e-02, -1.5301332e-03],\n",
              "       [-4.3067422e-02, -3.4635913e-02,  2.3401227e-02, ...,\n",
              "         4.9287785e-02, -1.7889142e-02, -1.5301332e-03],\n",
              "       [-4.3067422e-02, -3.4635913e-02,  2.3401227e-02, ...,\n",
              "         4.9287785e-02, -1.7889142e-02, -1.5301332e-03]], dtype=float32)>"
            ]
          },
          "metadata": {},
          "execution_count": 11
        }
      ]
    },
    {
      "cell_type": "code",
      "source": [
        "model = tf.keras.Sequential([\n",
        "    tv_layer,\n",
        "    em_layer,\n",
        "    tf.keras.layers.Dropout(0.2),\n",
        "    tf.keras.layers.LSTM(10),\n",
        "    tf.keras.layers.Dropout(0.2),\n",
        "    tf.keras.layers.Flatten(),\n",
        "    tf.keras.layers.Dropout(0.2),\n",
        "    tf.keras.layers.Dense(1, activation = 'relu')])\n",
        "model.summary()"
      ],
      "metadata": {
        "colab": {
          "base_uri": "https://localhost:8080/"
        },
        "id": "AV6yrvt2sLm0",
        "outputId": "5494a243-c3a6-49ae-8394-a86b89d4c15b"
      },
      "execution_count": 12,
      "outputs": [
        {
          "output_type": "stream",
          "name": "stdout",
          "text": [
            "Model: \"sequential\"\n",
            "_________________________________________________________________\n",
            " Layer (type)                Output Shape              Param #   \n",
            "=================================================================\n",
            " text_vectorization (TextVec  (None, 200)              0         \n",
            " torization)                                                     \n",
            "                                                                 \n",
            " embedding (Embedding)       (None, 200, 16)           160016    \n",
            "                                                                 \n",
            " dropout (Dropout)           (None, 200, 16)           0         \n",
            "                                                                 \n",
            " lstm (LSTM)                 (None, 10)                1080      \n",
            "                                                                 \n",
            " dropout_1 (Dropout)         (None, 10)                0         \n",
            "                                                                 \n",
            " flatten (Flatten)           (None, 10)                0         \n",
            "                                                                 \n",
            " dropout_2 (Dropout)         (None, 10)                0         \n",
            "                                                                 \n",
            " dense (Dense)               (None, 1)                 11        \n",
            "                                                                 \n",
            "=================================================================\n",
            "Total params: 161,107\n",
            "Trainable params: 161,107\n",
            "Non-trainable params: 0\n",
            "_________________________________________________________________\n"
          ]
        }
      ]
    },
    {
      "cell_type": "code",
      "source": [
        "metric = tf.keras.metrics.MeanAbsoluteError(name='mean_absolute_error', dtype=None)\n",
        "loss =  tf.keras.losses.MeanSquaredError()\n",
        "model.compile(\n",
        "    optimizer=tf.keras.optimizers.Adam(0.001),\n",
        "    loss=loss,\n",
        "    metrics=[metric],\n",
        ")"
      ],
      "metadata": {
        "id": "L_LesX7-tBCm"
      },
      "execution_count": 13,
      "outputs": []
    },
    {
      "cell_type": "code",
      "source": [
        "# batch train and validate date if this not already happend\n",
        "if next(iter(ds_train))[0].shape[0] == 1:\n",
        "    ds_train = ds_train.batch(32)\n",
        "\n",
        "if next(iter(ds_test))[0].shape[0] == 1:\n",
        "    ds_test = ds_test.batch(32)"
      ],
      "metadata": {
        "id": "vUV_Ar7ItTN2"
      },
      "execution_count": 14,
      "outputs": []
    },
    {
      "cell_type": "code",
      "source": [
        "i = 0\n",
        "for review, _ in iter(ds_train):\n",
        "    i += 1\n",
        "    if (i %10) ==0:\n",
        "        print(i, end = ', ')\n",
        "    model(review)"
      ],
      "metadata": {
        "colab": {
          "base_uri": "https://localhost:8080/"
        },
        "id": "q6iV5MOItlQ9",
        "outputId": "26b87d7d-325d-4728-bd42-f4d9445c1f9c"
      },
      "execution_count": 15,
      "outputs": [
        {
          "output_type": "stream",
          "name": "stdout",
          "text": [
            "10, 20, 30, 40, 50, 60, 70, 80, 90, 100, 110, 120, 130, 140, 150, "
          ]
        }
      ]
    },
    {
      "cell_type": "code",
      "source": [
        "checkpoint_filepath = ROOT + '/My_Models/lstm10/checkpoints'\n",
        "model_checkpoint_callback = tf.keras.callbacks.ModelCheckpoint(\n",
        "    filepath=checkpoint_filepath,\n",
        "    save_weights_only=True,\n",
        "    monitor='mean_absolute_error',\n",
        "    mode='min',\n",
        "    save_best_only=True)"
      ],
      "metadata": {
        "id": "QawtHaPHyvV9"
      },
      "execution_count": 26,
      "outputs": []
    },
    {
      "cell_type": "code",
      "source": [
        "model.fit(\n",
        "    ds_train,\n",
        "    epochs = 500,\n",
        "    validation_data = ds_test,\n",
        "    callbacks=[model_checkpoint_callback]\n",
        ")\n",
        "\n",
        "model.save_weights(ROOT + 'data/models/lstm10')"
      ],
      "metadata": {
        "colab": {
          "base_uri": "https://localhost:8080/"
        },
        "id": "-rRdOQPjtoGW",
        "outputId": "5e01f4ee-4a72-462b-8bad-8836f77d18a3"
      },
      "execution_count": null,
      "outputs": [
        {
          "output_type": "stream",
          "name": "stdout",
          "text": [
            "Epoch 1/500\n",
            "154/157 [============================>.] - ETA: 0s - loss: 1.5488 - mean_absolute_error: 1.0461"
          ]
        },
        {
          "output_type": "stream",
          "name": "stderr",
          "text": [
            "WARNING:tensorflow:Can save best model only with val_accuracy available, skipping.\n"
          ]
        },
        {
          "output_type": "stream",
          "name": "stdout",
          "text": [
            "\b\b\b\b\b\b\b\b\b\b\b\b\b\b\b\b\b\b\b\b\b\b\b\b\b\b\b\b\b\b\b\b\b\b\b\b\b\b\b\b\b\b\b\b\b\b\b\b\b\b\b\b\b\b\b\b\b\b\b\b\b\b\b\b\b\b\b\b\b\b\b\b\b\b\b\b\b\b\b\b\b\b\b\b\b\b\b\b\b\b\b\b\b\b\b\r157/157 [==============================] - 2s 11ms/step - loss: 1.5498 - mean_absolute_error: 1.0463 - val_loss: 1.6633 - val_mean_absolute_error: 1.0979\n",
            "Epoch 2/500\n",
            "152/157 [============================>.] - ETA: 0s - loss: 1.5635 - mean_absolute_error: 1.0491"
          ]
        },
        {
          "output_type": "stream",
          "name": "stderr",
          "text": [
            "WARNING:tensorflow:Can save best model only with val_accuracy available, skipping.\n"
          ]
        },
        {
          "output_type": "stream",
          "name": "stdout",
          "text": [
            "\b\b\b\b\b\b\b\b\b\b\b\b\b\b\b\b\b\b\b\b\b\b\b\b\b\b\b\b\b\b\b\b\b\b\b\b\b\b\b\b\b\b\b\b\b\b\b\b\b\b\b\b\b\b\b\b\b\b\b\b\b\b\b\b\b\b\b\b\b\b\b\b\b\b\b\b\b\b\b\b\b\b\b\b\b\b\b\b\b\b\b\b\b\b\b\r157/157 [==============================] - 2s 11ms/step - loss: 1.5628 - mean_absolute_error: 1.0487 - val_loss: 1.7153 - val_mean_absolute_error: 1.1163\n",
            "Epoch 3/500\n",
            "156/157 [============================>.] - ETA: 0s - loss: 1.6001 - mean_absolute_error: 1.0634"
          ]
        },
        {
          "output_type": "stream",
          "name": "stderr",
          "text": [
            "WARNING:tensorflow:Can save best model only with val_accuracy available, skipping.\n"
          ]
        },
        {
          "output_type": "stream",
          "name": "stdout",
          "text": [
            "\b\b\b\b\b\b\b\b\b\b\b\b\b\b\b\b\b\b\b\b\b\b\b\b\b\b\b\b\b\b\b\b\b\b\b\b\b\b\b\b\b\b\b\b\b\b\b\b\b\b\b\b\b\b\b\b\b\b\b\b\b\b\b\b\b\b\b\b\b\b\b\b\b\b\b\b\b\b\b\b\b\b\b\b\b\b\b\b\b\b\b\b\b\b\b\r157/157 [==============================] - 2s 15ms/step - loss: 1.6027 - mean_absolute_error: 1.0645 - val_loss: 1.7295 - val_mean_absolute_error: 1.1202\n",
            "Epoch 4/500\n",
            "157/157 [==============================] - ETA: 0s - loss: 1.5872 - mean_absolute_error: 1.0593"
          ]
        },
        {
          "output_type": "stream",
          "name": "stderr",
          "text": [
            "WARNING:tensorflow:Can save best model only with val_accuracy available, skipping.\n"
          ]
        },
        {
          "output_type": "stream",
          "name": "stdout",
          "text": [
            "\b\b\b\b\b\b\b\b\b\b\b\b\b\b\b\b\b\b\b\b\b\b\b\b\b\b\b\b\b\b\b\b\b\b\b\b\b\b\b\b\b\b\b\b\b\b\b\b\b\b\b\b\b\b\b\b\b\b\b\b\b\b\b\b\b\b\b\b\b\b\b\b\b\b\b\b\b\b\b\b\b\b\b\b\b\b\b\b\b\b\b\b\b\b\b\r157/157 [==============================] - 2s 10ms/step - loss: 1.5872 - mean_absolute_error: 1.0593 - val_loss: 1.6297 - val_mean_absolute_error: 1.0882\n",
            "Epoch 5/500\n",
            "152/157 [============================>.] - ETA: 0s - loss: 1.4804 - mean_absolute_error: 1.0182"
          ]
        },
        {
          "output_type": "stream",
          "name": "stderr",
          "text": [
            "WARNING:tensorflow:Can save best model only with val_accuracy available, skipping.\n"
          ]
        },
        {
          "output_type": "stream",
          "name": "stdout",
          "text": [
            "\b\b\b\b\b\b\b\b\b\b\b\b\b\b\b\b\b\b\b\b\b\b\b\b\b\b\b\b\b\b\b\b\b\b\b\b\b\b\b\b\b\b\b\b\b\b\b\b\b\b\b\b\b\b\b\b\b\b\b\b\b\b\b\b\b\b\b\b\b\b\b\b\b\b\b\b\b\b\b\b\b\b\b\b\b\b\b\b\b\b\b\b\b\b\b\r157/157 [==============================] - 2s 10ms/step - loss: 1.4791 - mean_absolute_error: 1.0174 - val_loss: 1.6151 - val_mean_absolute_error: 1.0844\n",
            "Epoch 6/500\n",
            "157/157 [==============================] - ETA: 0s - loss: 1.4736 - mean_absolute_error: 1.0191"
          ]
        },
        {
          "output_type": "stream",
          "name": "stderr",
          "text": [
            "WARNING:tensorflow:Can save best model only with val_accuracy available, skipping.\n"
          ]
        },
        {
          "output_type": "stream",
          "name": "stdout",
          "text": [
            "\b\b\b\b\b\b\b\b\b\b\b\b\b\b\b\b\b\b\b\b\b\b\b\b\b\b\b\b\b\b\b\b\b\b\b\b\b\b\b\b\b\b\b\b\b\b\b\b\b\b\b\b\b\b\b\b\b\b\b\b\b\b\b\b\b\b\b\b\b\b\b\b\b\b\b\b\b\b\b\b\b\b\b\b\b\b\b\b\b\b\b\b\b\b\b\r157/157 [==============================] - 2s 10ms/step - loss: 1.4736 - mean_absolute_error: 1.0191 - val_loss: 1.6255 - val_mean_absolute_error: 1.0882\n",
            "Epoch 7/500\n",
            "157/157 [==============================] - ETA: 0s - loss: 1.4731 - mean_absolute_error: 1.0180"
          ]
        },
        {
          "output_type": "stream",
          "name": "stderr",
          "text": [
            "WARNING:tensorflow:Can save best model only with val_accuracy available, skipping.\n"
          ]
        },
        {
          "output_type": "stream",
          "name": "stdout",
          "text": [
            "\b\b\b\b\b\b\b\b\b\b\b\b\b\b\b\b\b\b\b\b\b\b\b\b\b\b\b\b\b\b\b\b\b\b\b\b\b\b\b\b\b\b\b\b\b\b\b\b\b\b\b\b\b\b\b\b\b\b\b\b\b\b\b\b\b\b\b\b\b\b\b\b\b\b\b\b\b\b\b\b\b\b\b\b\b\b\b\b\b\b\b\b\b\b\b\r157/157 [==============================] - 2s 10ms/step - loss: 1.4731 - mean_absolute_error: 1.0180 - val_loss: 1.4568 - val_mean_absolute_error: 1.0195\n",
            "Epoch 8/500\n",
            "153/157 [============================>.] - ETA: 0s - loss: 1.5473 - mean_absolute_error: 1.0450"
          ]
        },
        {
          "output_type": "stream",
          "name": "stderr",
          "text": [
            "WARNING:tensorflow:Can save best model only with val_accuracy available, skipping.\n"
          ]
        },
        {
          "output_type": "stream",
          "name": "stdout",
          "text": [
            "\b\b\b\b\b\b\b\b\b\b\b\b\b\b\b\b\b\b\b\b\b\b\b\b\b\b\b\b\b\b\b\b\b\b\b\b\b\b\b\b\b\b\b\b\b\b\b\b\b\b\b\b\b\b\b\b\b\b\b\b\b\b\b\b\b\b\b\b\b\b\b\b\b\b\b\b\b\b\b\b\b\b\b\b\b\b\b\b\b\b\b\b\b\b\b\r157/157 [==============================] - 2s 11ms/step - loss: 1.5545 - mean_absolute_error: 1.0472 - val_loss: 1.8029 - val_mean_absolute_error: 1.1492\n",
            "Epoch 9/500\n",
            "154/157 [============================>.] - ETA: 0s - loss: 1.6343 - mean_absolute_error: 1.0788"
          ]
        },
        {
          "output_type": "stream",
          "name": "stderr",
          "text": [
            "WARNING:tensorflow:Can save best model only with val_accuracy available, skipping.\n"
          ]
        },
        {
          "output_type": "stream",
          "name": "stdout",
          "text": [
            "\b\b\b\b\b\b\b\b\b\b\b\b\b\b\b\b\b\b\b\b\b\b\b\b\b\b\b\b\b\b\b\b\b\b\b\b\b\b\b\b\b\b\b\b\b\b\b\b\b\b\b\b\b\b\b\b\b\b\b\b\b\b\b\b\b\b\b\b\b\b\b\b\b\b\b\b\b\b\b\b\b\b\b\b\b\b\b\b\b\b\b\b\b\b\b\r157/157 [==============================] - 2s 16ms/step - loss: 1.6395 - mean_absolute_error: 1.0801 - val_loss: 1.7317 - val_mean_absolute_error: 1.1204\n",
            "Epoch 10/500\n",
            "153/157 [============================>.] - ETA: 0s - loss: 1.6000 - mean_absolute_error: 1.0643"
          ]
        },
        {
          "output_type": "stream",
          "name": "stderr",
          "text": [
            "WARNING:tensorflow:Can save best model only with val_accuracy available, skipping.\n"
          ]
        },
        {
          "output_type": "stream",
          "name": "stdout",
          "text": [
            "\b\b\b\b\b\b\b\b\b\b\b\b\b\b\b\b\b\b\b\b\b\b\b\b\b\b\b\b\b\b\b\b\b\b\b\b\b\b\b\b\b\b\b\b\b\b\b\b\b\b\b\b\b\b\b\b\b\b\b\b\b\b\b\b\b\b\b\b\b\b\b\b\b\b\b\b\b\b\b\b\b\b\b\b\b\b\b\b\b\b\b\b\b\b\b\r157/157 [==============================] - 2s 12ms/step - loss: 1.6017 - mean_absolute_error: 1.0645 - val_loss: 1.7023 - val_mean_absolute_error: 1.1094\n",
            "Epoch 11/500\n",
            "156/157 [============================>.] - ETA: 0s - loss: 1.5741 - mean_absolute_error: 1.0522"
          ]
        },
        {
          "output_type": "stream",
          "name": "stderr",
          "text": [
            "WARNING:tensorflow:Can save best model only with val_accuracy available, skipping.\n"
          ]
        },
        {
          "output_type": "stream",
          "name": "stdout",
          "text": [
            "\b\b\b\b\b\b\b\b\b\b\b\b\b\b\b\b\b\b\b\b\b\b\b\b\b\b\b\b\b\b\b\b\b\b\b\b\b\b\b\b\b\b\b\b\b\b\b\b\b\b\b\b\b\b\b\b\b\b\b\b\b\b\b\b\b\b\b\b\b\b\b\b\b\b\b\b\b\b\b\b\b\b\b\b\b\b\b\b\b\b\b\b\b\b\b\r157/157 [==============================] - 2s 10ms/step - loss: 1.5756 - mean_absolute_error: 1.0529 - val_loss: 1.6960 - val_mean_absolute_error: 1.1082\n",
            "Epoch 12/500\n",
            "152/157 [============================>.] - ETA: 0s - loss: 1.5658 - mean_absolute_error: 1.0495"
          ]
        },
        {
          "output_type": "stream",
          "name": "stderr",
          "text": [
            "WARNING:tensorflow:Can save best model only with val_accuracy available, skipping.\n"
          ]
        },
        {
          "output_type": "stream",
          "name": "stdout",
          "text": [
            "\b\b\b\b\b\b\b\b\b\b\b\b\b\b\b\b\b\b\b\b\b\b\b\b\b\b\b\b\b\b\b\b\b\b\b\b\b\b\b\b\b\b\b\b\b\b\b\b\b\b\b\b\b\b\b\b\b\b\b\b\b\b\b\b\b\b\b\b\b\b\b\b\b\b\b\b\b\b\b\b\b\b\b\b\b\b\b\b\b\b\b\b\b\b\b\r157/157 [==============================] - 2s 10ms/step - loss: 1.5689 - mean_absolute_error: 1.0506 - val_loss: 1.6944 - val_mean_absolute_error: 1.1073\n",
            "Epoch 13/500\n",
            "153/157 [============================>.] - ETA: 0s - loss: 1.5818 - mean_absolute_error: 1.0555"
          ]
        },
        {
          "output_type": "stream",
          "name": "stderr",
          "text": [
            "WARNING:tensorflow:Can save best model only with val_accuracy available, skipping.\n"
          ]
        },
        {
          "output_type": "stream",
          "name": "stdout",
          "text": [
            "\b\b\b\b\b\b\b\b\b\b\b\b\b\b\b\b\b\b\b\b\b\b\b\b\b\b\b\b\b\b\b\b\b\b\b\b\b\b\b\b\b\b\b\b\b\b\b\b\b\b\b\b\b\b\b\b\b\b\b\b\b\b\b\b\b\b\b\b\b\b\b\b\b\b\b\b\b\b\b\b\b\b\b\b\b\b\b\b\b\b\b\b\b\b\b\r157/157 [==============================] - 2s 11ms/step - loss: 1.5850 - mean_absolute_error: 1.0563 - val_loss: 1.6926 - val_mean_absolute_error: 1.1076\n",
            "Epoch 14/500\n",
            "155/157 [============================>.] - ETA: 0s - loss: 1.5731 - mean_absolute_error: 1.0531"
          ]
        },
        {
          "output_type": "stream",
          "name": "stderr",
          "text": [
            "WARNING:tensorflow:Can save best model only with val_accuracy available, skipping.\n"
          ]
        },
        {
          "output_type": "stream",
          "name": "stdout",
          "text": [
            "\b\b\b\b\b\b\b\b\b\b\b\b\b\b\b\b\b\b\b\b\b\b\b\b\b\b\b\b\b\b\b\b\b\b\b\b\b\b\b\b\b\b\b\b\b\b\b\b\b\b\b\b\b\b\b\b\b\b\b\b\b\b\b\b\b\b\b\b\b\b\b\b\b\b\b\b\b\b\b\b\b\b\b\b\b\b\b\b\b\b\b\b\b\b\b\r157/157 [==============================] - 2s 11ms/step - loss: 1.5761 - mean_absolute_error: 1.0539 - val_loss: 1.6867 - val_mean_absolute_error: 1.1053\n",
            "Epoch 15/500\n",
            "157/157 [==============================] - ETA: 0s - loss: 1.5720 - mean_absolute_error: 1.0538"
          ]
        },
        {
          "output_type": "stream",
          "name": "stderr",
          "text": [
            "WARNING:tensorflow:Can save best model only with val_accuracy available, skipping.\n"
          ]
        },
        {
          "output_type": "stream",
          "name": "stdout",
          "text": [
            "\b\b\b\b\b\b\b\b\b\b\b\b\b\b\b\b\b\b\b\b\b\b\b\b\b\b\b\b\b\b\b\b\b\b\b\b\b\b\b\b\b\b\b\b\b\b\b\b\b\b\b\b\b\b\b\b\b\b\b\b\b\b\b\b\b\b\b\b\b\b\b\b\b\b\b\b\b\b\b\b\b\b\b\b\b\b\b\b\b\b\b\b\b\b\b\r157/157 [==============================] - 2s 15ms/step - loss: 1.5720 - mean_absolute_error: 1.0538 - val_loss: 1.6865 - val_mean_absolute_error: 1.1051\n",
            "Epoch 16/500\n",
            "155/157 [============================>.] - ETA: 0s - loss: 1.5571 - mean_absolute_error: 1.0485"
          ]
        },
        {
          "output_type": "stream",
          "name": "stderr",
          "text": [
            "WARNING:tensorflow:Can save best model only with val_accuracy available, skipping.\n"
          ]
        },
        {
          "output_type": "stream",
          "name": "stdout",
          "text": [
            "\b\b\b\b\b\b\b\b\b\b\b\b\b\b\b\b\b\b\b\b\b\b\b\b\b\b\b\b\b\b\b\b\b\b\b\b\b\b\b\b\b\b\b\b\b\b\b\b\b\b\b\b\b\b\b\b\b\b\b\b\b\b\b\b\b\b\b\b\b\b\b\b\b\b\b\b\b\b\b\b\b\b\b\b\b\b\b\b\b\b\b\b\b\b\b\r157/157 [==============================] - 2s 14ms/step - loss: 1.5600 - mean_absolute_error: 1.0495 - val_loss: 1.6723 - val_mean_absolute_error: 1.1004\n",
            "Epoch 17/500\n",
            "157/157 [==============================] - ETA: 0s - loss: 1.5690 - mean_absolute_error: 1.0512"
          ]
        },
        {
          "output_type": "stream",
          "name": "stderr",
          "text": [
            "WARNING:tensorflow:Can save best model only with val_accuracy available, skipping.\n"
          ]
        },
        {
          "output_type": "stream",
          "name": "stdout",
          "text": [
            "\b\b\b\b\b\b\b\b\b\b\b\b\b\b\b\b\b\b\b\b\b\b\b\b\b\b\b\b\b\b\b\b\b\b\b\b\b\b\b\b\b\b\b\b\b\b\b\b\b\b\b\b\b\b\b\b\b\b\b\b\b\b\b\b\b\b\b\b\b\b\b\b\b\b\b\b\b\b\b\b\b\b\b\b\b\b\b\b\b\b\b\b\b\b\b\r157/157 [==============================] - 2s 11ms/step - loss: 1.5690 - mean_absolute_error: 1.0512 - val_loss: 1.6713 - val_mean_absolute_error: 1.0997\n",
            "Epoch 18/500\n",
            "155/157 [============================>.] - ETA: 0s - loss: 1.5620 - mean_absolute_error: 1.0507"
          ]
        },
        {
          "output_type": "stream",
          "name": "stderr",
          "text": [
            "WARNING:tensorflow:Can save best model only with val_accuracy available, skipping.\n"
          ]
        },
        {
          "output_type": "stream",
          "name": "stdout",
          "text": [
            "\b\b\b\b\b\b\b\b\b\b\b\b\b\b\b\b\b\b\b\b\b\b\b\b\b\b\b\b\b\b\b\b\b\b\b\b\b\b\b\b\b\b\b\b\b\b\b\b\b\b\b\b\b\b\b\b\b\b\b\b\b\b\b\b\b\b\b\b\b\b\b\b\b\b\b\b\b\b\b\b\b\b\b\b\b\b\b\b\b\b\b\b\b\b\b\r157/157 [==============================] - 2s 11ms/step - loss: 1.5636 - mean_absolute_error: 1.0508 - val_loss: 1.6565 - val_mean_absolute_error: 1.0941\n",
            "Epoch 19/500\n",
            "152/157 [============================>.] - ETA: 0s - loss: 1.6286 - mean_absolute_error: 1.0779"
          ]
        },
        {
          "output_type": "stream",
          "name": "stderr",
          "text": [
            "WARNING:tensorflow:Can save best model only with val_accuracy available, skipping.\n"
          ]
        },
        {
          "output_type": "stream",
          "name": "stdout",
          "text": [
            "\b\b\b\b\b\b\b\b\b\b\b\b\b\b\b\b\b\b\b\b\b\b\b\b\b\b\b\b\b\b\b\b\b\b\b\b\b\b\b\b\b\b\b\b\b\b\b\b\b\b\b\b\b\b\b\b\b\b\b\b\b\b\b\b\b\b\b\b\b\b\b\b\b\b\b\b\b\b\b\b\b\b\b\b\b\b\b\b\b\b\b\b\b\b\b\r157/157 [==============================] - 2s 10ms/step - loss: 1.6301 - mean_absolute_error: 1.0781 - val_loss: 1.7732 - val_mean_absolute_error: 1.1394\n",
            "Epoch 20/500\n",
            "154/157 [============================>.] - ETA: 0s - loss: 1.6217 - mean_absolute_error: 1.0701"
          ]
        },
        {
          "output_type": "stream",
          "name": "stderr",
          "text": [
            "WARNING:tensorflow:Can save best model only with val_accuracy available, skipping.\n"
          ]
        },
        {
          "output_type": "stream",
          "name": "stdout",
          "text": [
            "\b\b\b\b\b\b\b\b\b\b\b\b\b\b\b\b\b\b\b\b\b\b\b\b\b\b\b\b\b\b\b\b\b\b\b\b\b\b\b\b\b\b\b\b\b\b\b\b\b\b\b\b\b\b\b\b\b\b\b\b\b\b\b\b\b\b\b\b\b\b\b\b\b\b\b\b\b\b\b\b\b\b\b\b\b\b\b\b\b\b\b\b\b\b\b\r157/157 [==============================] - 2s 10ms/step - loss: 1.6286 - mean_absolute_error: 1.0725 - val_loss: 1.7569 - val_mean_absolute_error: 1.1320\n",
            "Epoch 21/500\n",
            "157/157 [==============================] - ETA: 0s - loss: 1.6132 - mean_absolute_error: 1.0686"
          ]
        },
        {
          "output_type": "stream",
          "name": "stderr",
          "text": [
            "WARNING:tensorflow:Can save best model only with val_accuracy available, skipping.\n"
          ]
        },
        {
          "output_type": "stream",
          "name": "stdout",
          "text": [
            "\b\b\b\b\b\b\b\b\b\b\b\b\b\b\b\b\b\b\b\b\b\b\b\b\b\b\b\b\b\b\b\b\b\b\b\b\b\b\b\b\b\b\b\b\b\b\b\b\b\b\b\b\b\b\b\b\b\b\b\b\b\b\b\b\b\b\b\b\b\b\b\b\b\b\b\b\b\b\b\b\b\b\b\b\b\b\b\b\b\b\b\b\b\b\b\r157/157 [==============================] - 2s 11ms/step - loss: 1.6132 - mean_absolute_error: 1.0686 - val_loss: 1.7434 - val_mean_absolute_error: 1.1278\n",
            "Epoch 22/500\n",
            "156/157 [============================>.] - ETA: 0s - loss: 1.6144 - mean_absolute_error: 1.0669"
          ]
        },
        {
          "output_type": "stream",
          "name": "stderr",
          "text": [
            "WARNING:tensorflow:Can save best model only with val_accuracy available, skipping.\n"
          ]
        },
        {
          "output_type": "stream",
          "name": "stdout",
          "text": [
            "\b\b\b\b\b\b\b\b\b\b\b\b\b\b\b\b\b\b\b\b\b\b\b\b\b\b\b\b\b\b\b\b\b\b\b\b\b\b\b\b\b\b\b\b\b\b\b\b\b\b\b\b\b\b\b\b\b\b\b\b\b\b\b\b\b\b\b\b\b\b\b\b\b\b\b\b\b\b\b\b\b\b\b\b\b\b\b\b\b\b\b\b\b\b\b\r157/157 [==============================] - 2s 15ms/step - loss: 1.6177 - mean_absolute_error: 1.0681 - val_loss: 1.7557 - val_mean_absolute_error: 1.1316\n",
            "Epoch 23/500\n",
            "155/157 [============================>.] - ETA: 0s - loss: 1.6361 - mean_absolute_error: 1.0737"
          ]
        },
        {
          "output_type": "stream",
          "name": "stderr",
          "text": [
            "WARNING:tensorflow:Can save best model only with val_accuracy available, skipping.\n"
          ]
        },
        {
          "output_type": "stream",
          "name": "stdout",
          "text": [
            "\b\b\b\b\b\b\b\b\b\b\b\b\b\b\b\b\b\b\b\b\b\b\b\b\b\b\b\b\b\b\b\b\b\b\b\b\b\b\b\b\b\b\b\b\b\b\b\b\b\b\b\b\b\b\b\b\b\b\b\b\b\b\b\b\b\b\b\b\b\b\b\b\b\b\b\b\b\b\b\b\b\b\b\b\b\b\b\b\b\b\b\b\b\b\b\r157/157 [==============================] - 2s 11ms/step - loss: 1.6380 - mean_absolute_error: 1.0744 - val_loss: 1.7403 - val_mean_absolute_error: 1.1263\n",
            "Epoch 24/500\n",
            "152/157 [============================>.] - ETA: 0s - loss: 1.6096 - mean_absolute_error: 1.0653"
          ]
        },
        {
          "output_type": "stream",
          "name": "stderr",
          "text": [
            "WARNING:tensorflow:Can save best model only with val_accuracy available, skipping.\n"
          ]
        },
        {
          "output_type": "stream",
          "name": "stdout",
          "text": [
            "\b\b\b\b\b\b\b\b\b\b\b\b\b\b\b\b\b\b\b\b\b\b\b\b\b\b\b\b\b\b\b\b\b\b\b\b\b\b\b\b\b\b\b\b\b\b\b\b\b\b\b\b\b\b\b\b\b\b\b\b\b\b\b\b\b\b\b\b\b\b\b\b\b\b\b\b\b\b\b\b\b\b\b\b\b\b\b\b\b\b\b\b\b\b\b\r157/157 [==============================] - 2s 10ms/step - loss: 1.6105 - mean_absolute_error: 1.0652 - val_loss: 1.7277 - val_mean_absolute_error: 1.1218\n",
            "Epoch 25/500\n",
            "156/157 [============================>.] - ETA: 0s - loss: 1.5852 - mean_absolute_error: 1.0573"
          ]
        },
        {
          "output_type": "stream",
          "name": "stderr",
          "text": [
            "WARNING:tensorflow:Can save best model only with val_accuracy available, skipping.\n"
          ]
        },
        {
          "output_type": "stream",
          "name": "stdout",
          "text": [
            "\b\b\b\b\b\b\b\b\b\b\b\b\b\b\b\b\b\b\b\b\b\b\b\b\b\b\b\b\b\b\b\b\b\b\b\b\b\b\b\b\b\b\b\b\b\b\b\b\b\b\b\b\b\b\b\b\b\b\b\b\b\b\b\b\b\b\b\b\b\b\b\b\b\b\b\b\b\b\b\b\b\b\b\b\b\b\b\b\b\b\b\b\b\b\b\r157/157 [==============================] - 2s 11ms/step - loss: 1.5877 - mean_absolute_error: 1.0583 - val_loss: 1.7271 - val_mean_absolute_error: 1.1215\n",
            "Epoch 26/500\n",
            "153/157 [============================>.] - ETA: 0s - loss: 1.6100 - mean_absolute_error: 1.0669"
          ]
        },
        {
          "output_type": "stream",
          "name": "stderr",
          "text": [
            "WARNING:tensorflow:Can save best model only with val_accuracy available, skipping.\n"
          ]
        },
        {
          "output_type": "stream",
          "name": "stdout",
          "text": [
            "\b\b\b\b\b\b\b\b\b\b\b\b\b\b\b\b\b\b\b\b\b\b\b\b\b\b\b\b\b\b\b\b\b\b\b\b\b\b\b\b\b\b\b\b\b\b\b\b\b\b\b\b\b\b\b\b\b\b\b\b\b\b\b\b\b\b\b\b\b\b\b\b\b\b\b\b\b\b\b\b\b\b\b\b\b\b\b\b\b\b\b\b\b\b\b\r157/157 [==============================] - 2s 10ms/step - loss: 1.6118 - mean_absolute_error: 1.0672 - val_loss: 1.7520 - val_mean_absolute_error: 1.1310\n",
            "Epoch 27/500\n",
            "154/157 [============================>.] - ETA: 0s - loss: 1.6156 - mean_absolute_error: 1.0689"
          ]
        },
        {
          "output_type": "stream",
          "name": "stderr",
          "text": [
            "WARNING:tensorflow:Can save best model only with val_accuracy available, skipping.\n"
          ]
        },
        {
          "output_type": "stream",
          "name": "stdout",
          "text": [
            "\b\b\b\b\b\b\b\b\b\b\b\b\b\b\b\b\b\b\b\b\b\b\b\b\b\b\b\b\b\b\b\b\b\b\b\b\b\b\b\b\b\b\b\b\b\b\b\b\b\b\b\b\b\b\b\b\b\b\b\b\b\b\b\b\b\b\b\b\b\b\b\b\b\b\b\b\b\b\b\b\b\b\b\b\b\b\b\b\b\b\b\b\b\b\b\r157/157 [==============================] - 2s 10ms/step - loss: 1.6189 - mean_absolute_error: 1.0698 - val_loss: 1.7117 - val_mean_absolute_error: 1.1149\n",
            "Epoch 28/500\n",
            "155/157 [============================>.] - ETA: 0s - loss: 1.5987 - mean_absolute_error: 1.0613"
          ]
        },
        {
          "output_type": "stream",
          "name": "stderr",
          "text": [
            "WARNING:tensorflow:Can save best model only with val_accuracy available, skipping.\n"
          ]
        },
        {
          "output_type": "stream",
          "name": "stdout",
          "text": [
            "\b\b\b\b\b\b\b\b\b\b\b\b\b\b\b\b\b\b\b\b\b\b\b\b\b\b\b\b\b\b\b\b\b\b\b\b\b\b\b\b\b\b\b\b\b\b\b\b\b\b\b\b\b\b\b\b\b\b\b\b\b\b\b\b\b\b\b\b\b\b\b\b\b\b\b\b\b\b\b\b\b\b\b\b\b\b\b\b\b\b\b\b\b\b\b\r157/157 [==============================] - 2s 14ms/step - loss: 1.6022 - mean_absolute_error: 1.0626 - val_loss: 1.7277 - val_mean_absolute_error: 1.1218\n",
            "Epoch 29/500\n",
            "156/157 [============================>.] - ETA: 0s - loss: 1.6024 - mean_absolute_error: 1.0617"
          ]
        },
        {
          "output_type": "stream",
          "name": "stderr",
          "text": [
            "WARNING:tensorflow:Can save best model only with val_accuracy available, skipping.\n"
          ]
        },
        {
          "output_type": "stream",
          "name": "stdout",
          "text": [
            "\b\b\b\b\b\b\b\b\b\b\b\b\b\b\b\b\b\b\b\b\b\b\b\b\b\b\b\b\b\b\b\b\b\b\b\b\b\b\b\b\b\b\b\b\b\b\b\b\b\b\b\b\b\b\b\b\b\b\b\b\b\b\b\b\b\b\b\b\b\b\b\b\b\b\b\b\b\b\b\b\b\b\b\b\b\b\b\b\b\b\b\b\b\b\b\r157/157 [==============================] - 2s 14ms/step - loss: 1.6054 - mean_absolute_error: 1.0629 - val_loss: 1.7223 - val_mean_absolute_error: 1.1195\n",
            "Epoch 30/500\n",
            "157/157 [==============================] - ETA: 0s - loss: 1.5837 - mean_absolute_error: 1.0593"
          ]
        },
        {
          "output_type": "stream",
          "name": "stderr",
          "text": [
            "WARNING:tensorflow:Can save best model only with val_accuracy available, skipping.\n"
          ]
        },
        {
          "output_type": "stream",
          "name": "stdout",
          "text": [
            "\b\b\b\b\b\b\b\b\b\b\b\b\b\b\b\b\b\b\b\b\b\b\b\b\b\b\b\b\b\b\b\b\b\b\b\b\b\b\b\b\b\b\b\b\b\b\b\b\b\b\b\b\b\b\b\b\b\b\b\b\b\b\b\b\b\b\b\b\b\b\b\b\b\b\b\b\b\b\b\b\b\b\b\b\b\b\b\b\b\b\b\b\b\b\b\r157/157 [==============================] - 2s 12ms/step - loss: 1.5837 - mean_absolute_error: 1.0593 - val_loss: 1.7763 - val_mean_absolute_error: 1.1399\n",
            "Epoch 31/500\n",
            "157/157 [==============================] - ETA: 0s - loss: 1.6492 - mean_absolute_error: 1.0826"
          ]
        },
        {
          "output_type": "stream",
          "name": "stderr",
          "text": [
            "WARNING:tensorflow:Can save best model only with val_accuracy available, skipping.\n"
          ]
        },
        {
          "output_type": "stream",
          "name": "stdout",
          "text": [
            "\b\b\b\b\b\b\b\b\b\b\b\b\b\b\b\b\b\b\b\b\b\b\b\b\b\b\b\b\b\b\b\b\b\b\b\b\b\b\b\b\b\b\b\b\b\b\b\b\b\b\b\b\b\b\b\b\b\b\b\b\b\b\b\b\b\b\b\b\b\b\b\b\b\b\b\b\b\b\b\b\b\b\b\b\b\b\b\b\b\b\b\b\b\b\b\r157/157 [==============================] - 2s 10ms/step - loss: 1.6492 - mean_absolute_error: 1.0826 - val_loss: 1.7662 - val_mean_absolute_error: 1.1347\n",
            "Epoch 32/500\n",
            "154/157 [============================>.] - ETA: 0s - loss: 1.6450 - mean_absolute_error: 1.0785"
          ]
        },
        {
          "output_type": "stream",
          "name": "stderr",
          "text": [
            "WARNING:tensorflow:Can save best model only with val_accuracy available, skipping.\n"
          ]
        },
        {
          "output_type": "stream",
          "name": "stdout",
          "text": [
            "\b\b\b\b\b\b\b\b\b\b\b\b\b\b\b\b\b\b\b\b\b\b\b\b\b\b\b\b\b\b\b\b\b\b\b\b\b\b\b\b\b\b\b\b\b\b\b\b\b\b\b\b\b\b\b\b\b\b\b\b\b\b\b\b\b\b\b\b\b\b\b\b\b\b\b\b\b\b\b\b\b\b\b\b\b\b\b\b\b\b\b\b\b\b\b\r157/157 [==============================] - 2s 11ms/step - loss: 1.6487 - mean_absolute_error: 1.0797 - val_loss: 1.7852 - val_mean_absolute_error: 1.1397\n",
            "Epoch 33/500\n",
            "152/157 [============================>.] - ETA: 0s - loss: 1.6527 - mean_absolute_error: 1.0806"
          ]
        },
        {
          "output_type": "stream",
          "name": "stderr",
          "text": [
            "WARNING:tensorflow:Can save best model only with val_accuracy available, skipping.\n"
          ]
        },
        {
          "output_type": "stream",
          "name": "stdout",
          "text": [
            "\b\b\b\b\b\b\b\b\b\b\b\b\b\b\b\b\b\b\b\b\b\b\b\b\b\b\b\b\b\b\b\b\b\b\b\b\b\b\b\b\b\b\b\b\b\b\b\b\b\b\b\b\b\b\b\b\b\b\b\b\b\b\b\b\b\b\b\b\b\b\b\b\b\b\b\b\b\b\b\b\b\b\b\b\b\b\b\b\b\b\b\b\b\b\b\r157/157 [==============================] - 2s 10ms/step - loss: 1.6543 - mean_absolute_error: 1.0810 - val_loss: 1.7855 - val_mean_absolute_error: 1.1400\n",
            "Epoch 34/500\n",
            "155/157 [============================>.] - ETA: 0s - loss: 1.6699 - mean_absolute_error: 1.0864"
          ]
        },
        {
          "output_type": "stream",
          "name": "stderr",
          "text": [
            "WARNING:tensorflow:Can save best model only with val_accuracy available, skipping.\n"
          ]
        },
        {
          "output_type": "stream",
          "name": "stdout",
          "text": [
            "\b\b\b\b\b\b\b\b\b\b\b\b\b\b\b\b\b\b\b\b\b\b\b\b\b\b\b\b\b\b\b\b\b\b\b\b\b\b\b\b\b\b\b\b\b\b\b\b\b\b\b\b\b\b\b\b\b\b\b\b\b\b\b\b\b\b\b\b\b\b\b\b\b\b\b\b\b\b\b\b\b\b\b\b\b\b\b\b\b\b\b\b\b\b\b\r157/157 [==============================] - 2s 15ms/step - loss: 1.6718 - mean_absolute_error: 1.0869 - val_loss: 1.7868 - val_mean_absolute_error: 1.1402\n",
            "Epoch 35/500\n",
            "157/157 [==============================] - ETA: 0s - loss: 1.6469 - mean_absolute_error: 1.0764"
          ]
        },
        {
          "output_type": "stream",
          "name": "stderr",
          "text": [
            "WARNING:tensorflow:Can save best model only with val_accuracy available, skipping.\n"
          ]
        },
        {
          "output_type": "stream",
          "name": "stdout",
          "text": [
            "\b\b\b\b\b\b\b\b\b\b\b\b\b\b\b\b\b\b\b\b\b\b\b\b\b\b\b\b\b\b\b\b\b\b\b\b\b\b\b\b\b\b\b\b\b\b\b\b\b\b\b\b\b\b\b\b\b\b\b\b\b\b\b\b\b\b\b\b\b\b\b\b\b\b\b\b\b\b\b\b\b\b\b\b\b\b\b\b\b\b\b\b\b\b\b\r157/157 [==============================] - 2s 15ms/step - loss: 1.6469 - mean_absolute_error: 1.0764 - val_loss: 1.7644 - val_mean_absolute_error: 1.1321\n",
            "Epoch 36/500\n",
            "154/157 [============================>.] - ETA: 0s - loss: 1.6080 - mean_absolute_error: 1.0633"
          ]
        },
        {
          "output_type": "stream",
          "name": "stderr",
          "text": [
            "WARNING:tensorflow:Can save best model only with val_accuracy available, skipping.\n"
          ]
        },
        {
          "output_type": "stream",
          "name": "stdout",
          "text": [
            "\b\b\b\b\b\b\b\b\b\b\b\b\b\b\b\b\b\b\b\b\b\b\b\b\b\b\b\b\b\b\b\b\b\b\b\b\b\b\b\b\b\b\b\b\b\b\b\b\b\b\b\b\b\b\b\b\b\b\b\b\b\b\b\b\b\b\b\b\b\b\b\b\b\b\b\b\b\b\b\b\b\b\b\b\b\b\b\b\b\b\b\b\b\b\b\r157/157 [==============================] - 2s 10ms/step - loss: 1.6112 - mean_absolute_error: 1.0643 - val_loss: 1.7151 - val_mean_absolute_error: 1.1174\n",
            "Epoch 37/500\n",
            "153/157 [============================>.] - ETA: 0s - loss: 1.5770 - mean_absolute_error: 1.0553"
          ]
        },
        {
          "output_type": "stream",
          "name": "stderr",
          "text": [
            "WARNING:tensorflow:Can save best model only with val_accuracy available, skipping.\n"
          ]
        },
        {
          "output_type": "stream",
          "name": "stdout",
          "text": [
            "\b\b\b\b\b\b\b\b\b\b\b\b\b\b\b\b\b\b\b\b\b\b\b\b\b\b\b\b\b\b\b\b\b\b\b\b\b\b\b\b\b\b\b\b\b\b\b\b\b\b\b\b\b\b\b\b\b\b\b\b\b\b\b\b\b\b\b\b\b\b\b\b\b\b\b\b\b\b\b\b\b\b\b\b\b\b\b\b\b\b\b\b\b\b\b\r157/157 [==============================] - 2s 11ms/step - loss: 1.5791 - mean_absolute_error: 1.0554 - val_loss: 1.7152 - val_mean_absolute_error: 1.1155\n",
            "Epoch 38/500\n",
            "157/157 [==============================] - ETA: 0s - loss: 1.5983 - mean_absolute_error: 1.0621"
          ]
        },
        {
          "output_type": "stream",
          "name": "stderr",
          "text": [
            "WARNING:tensorflow:Can save best model only with val_accuracy available, skipping.\n"
          ]
        },
        {
          "output_type": "stream",
          "name": "stdout",
          "text": [
            "\b\b\b\b\b\b\b\b\b\b\b\b\b\b\b\b\b\b\b\b\b\b\b\b\b\b\b\b\b\b\b\b\b\b\b\b\b\b\b\b\b\b\b\b\b\b\b\b\b\b\b\b\b\b\b\b\b\b\b\b\b\b\b\b\b\b\b\b\b\b\b\b\b\b\b\b\b\b\b\b\b\b\b\b\b\b\b\b\b\b\b\b\b\b\b\r157/157 [==============================] - 2s 11ms/step - loss: 1.5983 - mean_absolute_error: 1.0621 - val_loss: 1.7272 - val_mean_absolute_error: 1.1207\n",
            "Epoch 39/500\n",
            "156/157 [============================>.] - ETA: 0s - loss: 1.5868 - mean_absolute_error: 1.0572"
          ]
        },
        {
          "output_type": "stream",
          "name": "stderr",
          "text": [
            "WARNING:tensorflow:Can save best model only with val_accuracy available, skipping.\n"
          ]
        },
        {
          "output_type": "stream",
          "name": "stdout",
          "text": [
            "\b\b\b\b\b\b\b\b\b\b\b\b\b\b\b\b\b\b\b\b\b\b\b\b\b\b\b\b\b\b\b\b\b\b\b\b\b\b\b\b\b\b\b\b\b\b\b\b\b\b\b\b\b\b\b\b\b\b\b\b\b\b\b\b\b\b\b\b\b\b\b\b\b\b\b\b\b\b\b\b\b\b\b\b\b\b\b\b\b\b\b\b\b\b\b\r157/157 [==============================] - 2s 11ms/step - loss: 1.5889 - mean_absolute_error: 1.0580 - val_loss: 1.5395 - val_mean_absolute_error: 1.0463\n",
            "Epoch 40/500\n",
            "155/157 [============================>.] - ETA: 0s - loss: 1.4360 - mean_absolute_error: 1.0047"
          ]
        },
        {
          "output_type": "stream",
          "name": "stderr",
          "text": [
            "WARNING:tensorflow:Can save best model only with val_accuracy available, skipping.\n"
          ]
        },
        {
          "output_type": "stream",
          "name": "stdout",
          "text": [
            "\b\b\b\b\b\b\b\b\b\b\b\b\b\b\b\b\b\b\b\b\b\b\b\b\b\b\b\b\b\b\b\b\b\b\b\b\b\b\b\b\b\b\b\b\b\b\b\b\b\b\b\b\b\b\b\b\b\b\b\b\b\b\b\b\b\b\b\b\b\b\b\b\b\b\b\b\b\b\b\b\b\b\b\b\b\b\b\b\b\b\b\b\b\b\b\r157/157 [==============================] - 2s 14ms/step - loss: 1.4365 - mean_absolute_error: 1.0045 - val_loss: 1.5205 - val_mean_absolute_error: 1.0414\n",
            "Epoch 41/500\n",
            "152/157 [============================>.] - ETA: 0s - loss: 1.4471 - mean_absolute_error: 1.0094"
          ]
        },
        {
          "output_type": "stream",
          "name": "stderr",
          "text": [
            "WARNING:tensorflow:Can save best model only with val_accuracy available, skipping.\n"
          ]
        },
        {
          "output_type": "stream",
          "name": "stdout",
          "text": [
            "\b\b\b\b\b\b\b\b\b\b\b\b\b\b\b\b\b\b\b\b\b\b\b\b\b\b\b\b\b\b\b\b\b\b\b\b\b\b\b\b\b\b\b\b\b\b\b\b\b\b\b\b\b\b\b\b\b\b\b\b\b\b\b\b\b\b\b\b\b\b\b\b\b\b\b\b\b\b\b\b\b\b\b\b\b\b\b\b\b\b\b\b\b\b\b\r157/157 [==============================] - 2s 15ms/step - loss: 1.4441 - mean_absolute_error: 1.0085 - val_loss: 1.5077 - val_mean_absolute_error: 1.0381\n",
            "Epoch 42/500\n",
            "156/157 [============================>.] - ETA: 0s - loss: 1.5118 - mean_absolute_error: 1.0320"
          ]
        },
        {
          "output_type": "stream",
          "name": "stderr",
          "text": [
            "WARNING:tensorflow:Can save best model only with val_accuracy available, skipping.\n"
          ]
        },
        {
          "output_type": "stream",
          "name": "stdout",
          "text": [
            "\b\b\b\b\b\b\b\b\b\b\b\b\b\b\b\b\b\b\b\b\b\b\b\b\b\b\b\b\b\b\b\b\b\b\b\b\b\b\b\b\b\b\b\b\b\b\b\b\b\b\b\b\b\b\b\b\b\b\b\b\b\b\b\b\b\b\b\b\b\b\b\b\b\b\b\b\b\b\b\b\b\b\b\b\b\b\b\b\b\b\b\b\b\b\b\r157/157 [==============================] - 2s 11ms/step - loss: 1.5149 - mean_absolute_error: 1.0332 - val_loss: 1.6192 - val_mean_absolute_error: 1.0851\n",
            "Epoch 43/500\n",
            "155/157 [============================>.] - ETA: 0s - loss: 1.4604 - mean_absolute_error: 1.0155"
          ]
        },
        {
          "output_type": "stream",
          "name": "stderr",
          "text": [
            "WARNING:tensorflow:Can save best model only with val_accuracy available, skipping.\n"
          ]
        },
        {
          "output_type": "stream",
          "name": "stdout",
          "text": [
            "\b\b\b\b\b\b\b\b\b\b\b\b\b\b\b\b\b\b\b\b\b\b\b\b\b\b\b\b\b\b\b\b\b\b\b\b\b\b\b\b\b\b\b\b\b\b\b\b\b\b\b\b\b\b\b\b\b\b\b\b\b\b\b\b\b\b\b\b\b\b\b\b\b\b\b\b\b\b\b\b\b\b\b\b\b\b\b\b\b\b\b\b\b\b\b\r157/157 [==============================] - 2s 16ms/step - loss: 1.4595 - mean_absolute_error: 1.0149 - val_loss: 1.5543 - val_mean_absolute_error: 1.0591\n",
            "Epoch 44/500\n",
            "153/157 [============================>.] - ETA: 0s - loss: 1.4509 - mean_absolute_error: 1.0097"
          ]
        },
        {
          "output_type": "stream",
          "name": "stderr",
          "text": [
            "WARNING:tensorflow:Can save best model only with val_accuracy available, skipping.\n"
          ]
        },
        {
          "output_type": "stream",
          "name": "stdout",
          "text": [
            "\b\b\b\b\b\b\b\b\b\b\b\b\b\b\b\b\b\b\b\b\b\b\b\b\b\b\b\b\b\b\b\b\b\b\b\b\b\b\b\b\b\b\b\b\b\b\b\b\b\b\b\b\b\b\b\b\b\b\b\b\b\b\b\b\b\b\b\b\b\b\b\b\b\b\b\b\b\b\b\b\b\b\b\b\b\b\b\b\b\b\b\b\b\b\b\r157/157 [==============================] - 2s 11ms/step - loss: 1.4458 - mean_absolute_error: 1.0081 - val_loss: 1.5512 - val_mean_absolute_error: 1.0571\n",
            "Epoch 45/500\n",
            "153/157 [============================>.] - ETA: 0s - loss: 1.4890 - mean_absolute_error: 1.0262"
          ]
        },
        {
          "output_type": "stream",
          "name": "stderr",
          "text": [
            "WARNING:tensorflow:Can save best model only with val_accuracy available, skipping.\n"
          ]
        },
        {
          "output_type": "stream",
          "name": "stdout",
          "text": [
            "\b\b\b\b\b\b\b\b\b\b\b\b\b\b\b\b\b\b\b\b\b\b\b\b\b\b\b\b\b\b\b\b\b\b\b\b\b\b\b\b\b\b\b\b\b\b\b\b\b\b\b\b\b\b\b\b\b\b\b\b\b\b\b\b\b\b\b\b\b\b\b\b\b\b\b\b\b\b\b\b\b\b\b\b\b\b\b\b\b\b\b\b\b\b\b\r157/157 [==============================] - 2s 11ms/step - loss: 1.4890 - mean_absolute_error: 1.0257 - val_loss: 1.5839 - val_mean_absolute_error: 1.0698\n",
            "Epoch 46/500\n",
            "156/157 [============================>.] - ETA: 0s - loss: 1.4164 - mean_absolute_error: 0.9995"
          ]
        },
        {
          "output_type": "stream",
          "name": "stderr",
          "text": [
            "WARNING:tensorflow:Can save best model only with val_accuracy available, skipping.\n"
          ]
        },
        {
          "output_type": "stream",
          "name": "stdout",
          "text": [
            "\b\b\b\b\b\b\b\b\b\b\b\b\b\b\b\b\b\b\b\b\b\b\b\b\b\b\b\b\b\b\b\b\b\b\b\b\b\b\b\b\b\b\b\b\b\b\b\b\b\b\b\b\b\b\b\b\b\b\b\b\b\b\b\b\b\b\b\b\b\b\b\b\b\b\b\b\b\b\b\b\b\b\b\b\b\b\b\b\b\b\b\b\b\b\b\r157/157 [==============================] - 2s 16ms/step - loss: 1.4189 - mean_absolute_error: 1.0004 - val_loss: 1.5456 - val_mean_absolute_error: 1.0551\n",
            "Epoch 47/500\n",
            "156/157 [============================>.] - ETA: 0s - loss: 1.4030 - mean_absolute_error: 0.9907"
          ]
        },
        {
          "output_type": "stream",
          "name": "stderr",
          "text": [
            "WARNING:tensorflow:Can save best model only with val_accuracy available, skipping.\n"
          ]
        },
        {
          "output_type": "stream",
          "name": "stdout",
          "text": [
            "\b\b\b\b\b\b\b\b\b\b\b\b\b\b\b\b\b\b\b\b\b\b\b\b\b\b\b\b\b\b\b\b\b\b\b\b\b\b\b\b\b\b\b\b\b\b\b\b\b\b\b\b\b\b\b\b\b\b\b\b\b\b\b\b\b\b\b\b\b\b\b\b\b\b\b\b\b\b\b\b\b\b\b\b\b\b\b\b\b\b\b\b\b\b\b\r157/157 [==============================] - 2s 14ms/step - loss: 1.4049 - mean_absolute_error: 0.9914 - val_loss: 1.5542 - val_mean_absolute_error: 1.0590\n",
            "Epoch 48/500\n",
            "155/157 [============================>.] - ETA: 0s - loss: 1.4036 - mean_absolute_error: 0.9909"
          ]
        },
        {
          "output_type": "stream",
          "name": "stderr",
          "text": [
            "WARNING:tensorflow:Can save best model only with val_accuracy available, skipping.\n"
          ]
        },
        {
          "output_type": "stream",
          "name": "stdout",
          "text": [
            "\b\b\b\b\b\b\b\b\b\b\b\b\b\b\b\b\b\b\b\b\b\b\b\b\b\b\b\b\b\b\b\b\b\b\b\b\b\b\b\b\b\b\b\b\b\b\b\b\b\b\b\b\b\b\b\b\b\b\b\b\b\b\b\b\b\b\b\b\b\b\b\b\b\b\b\b\b\b\b\b\b\b\b\b\b\b\b\b\b\b\b\b\b\b\b\r157/157 [==============================] - 2s 11ms/step - loss: 1.4029 - mean_absolute_error: 0.9908 - val_loss: 1.5457 - val_mean_absolute_error: 1.0549\n",
            "Epoch 49/500\n",
            "156/157 [============================>.] - ETA: 0s - loss: 1.4025 - mean_absolute_error: 0.9886"
          ]
        },
        {
          "output_type": "stream",
          "name": "stderr",
          "text": [
            "WARNING:tensorflow:Can save best model only with val_accuracy available, skipping.\n"
          ]
        },
        {
          "output_type": "stream",
          "name": "stdout",
          "text": [
            "\b\b\b\b\b\b\b\b\b\b\b\b\b\b\b\b\b\b\b\b\b\b\b\b\b\b\b\b\b\b\b\b\b\b\b\b\b\b\b\b\b\b\b\b\b\b\b\b\b\b\b\b\b\b\b\b\b\b\b\b\b\b\b\b\b\b\b\b\b\b\b\b\b\b\b\b\b\b\b\b\b\b\b\b\b\b\b\b\b\b\b\b\b\b\b\r157/157 [==============================] - 2s 11ms/step - loss: 1.4037 - mean_absolute_error: 0.9891 - val_loss: 1.5350 - val_mean_absolute_error: 1.0508\n",
            "Epoch 50/500\n",
            "153/157 [============================>.] - ETA: 0s - loss: 1.3925 - mean_absolute_error: 0.9850"
          ]
        },
        {
          "output_type": "stream",
          "name": "stderr",
          "text": [
            "WARNING:tensorflow:Can save best model only with val_accuracy available, skipping.\n"
          ]
        },
        {
          "output_type": "stream",
          "name": "stdout",
          "text": [
            "\b\b\b\b\b\b\b\b\b\b\b\b\b\b\b\b\b\b\b\b\b\b\b\b\b\b\b\b\b\b\b\b\b\b\b\b\b\b\b\b\b\b\b\b\b\b\b\b\b\b\b\b\b\b\b\b\b\b\b\b\b\b\b\b\b\b\b\b\b\b\b\b\b\b\b\b\b\b\b\b\b\b\b\b\b\b\b\b\b\b\b\b\b\b\b\r157/157 [==============================] - 2s 11ms/step - loss: 1.3915 - mean_absolute_error: 0.9846 - val_loss: 1.5651 - val_mean_absolute_error: 1.0625\n",
            "Epoch 51/500\n",
            "156/157 [============================>.] - ETA: 0s - loss: 1.3893 - mean_absolute_error: 0.9866"
          ]
        },
        {
          "output_type": "stream",
          "name": "stderr",
          "text": [
            "WARNING:tensorflow:Can save best model only with val_accuracy available, skipping.\n"
          ]
        },
        {
          "output_type": "stream",
          "name": "stdout",
          "text": [
            "\b\b\b\b\b\b\b\b\b\b\b\b\b\b\b\b\b\b\b\b\b\b\b\b\b\b\b\b\b\b\b\b\b\b\b\b\b\b\b\b\b\b\b\b\b\b\b\b\b\b\b\b\b\b\b\b\b\b\b\b\b\b\b\b\b\b\b\b\b\b\b\b\b\b\b\b\b\b\b\b\b\b\b\b\b\b\b\b\b\b\b\b\b\b\b\r157/157 [==============================] - 2s 11ms/step - loss: 1.3907 - mean_absolute_error: 0.9872 - val_loss: 1.5285 - val_mean_absolute_error: 1.0495\n",
            "Epoch 52/500\n",
            "157/157 [==============================] - ETA: 0s - loss: 1.4093 - mean_absolute_error: 0.9924"
          ]
        },
        {
          "output_type": "stream",
          "name": "stderr",
          "text": [
            "WARNING:tensorflow:Can save best model only with val_accuracy available, skipping.\n"
          ]
        },
        {
          "output_type": "stream",
          "name": "stdout",
          "text": [
            "\b\b\b\b\b\b\b\b\b\b\b\b\b\b\b\b\b\b\b\b\b\b\b\b\b\b\b\b\b\b\b\b\b\b\b\b\b\b\b\b\b\b\b\b\b\b\b\b\b\b\b\b\b\b\b\b\b\b\b\b\b\b\b\b\b\b\b\b\b\b\b\b\b\b\b\b\b\b\b\b\b\b\b\b\b\b\b\b\b\b\b\b\b\b\b\r157/157 [==============================] - 2s 12ms/step - loss: 1.4093 - mean_absolute_error: 0.9924 - val_loss: 1.5704 - val_mean_absolute_error: 1.0664\n",
            "Epoch 53/500\n",
            "155/157 [============================>.] - ETA: 0s - loss: 1.4189 - mean_absolute_error: 0.9964"
          ]
        },
        {
          "output_type": "stream",
          "name": "stderr",
          "text": [
            "WARNING:tensorflow:Can save best model only with val_accuracy available, skipping.\n"
          ]
        },
        {
          "output_type": "stream",
          "name": "stdout",
          "text": [
            "\b\b\b\b\b\b\b\b\b\b\b\b\b\b\b\b\b\b\b\b\b\b\b\b\b\b\b\b\b\b\b\b\b\b\b\b\b\b\b\b\b\b\b\b\b\b\b\b\b\b\b\b\b\b\b\b\b\b\b\b\b\b\b\b\b\b\b\b\b\b\b\b\b\b\b\b\b\b\b\b\b\b\b\b\b\b\b\b\b\b\b\b\b\b\b\r157/157 [==============================] - 3s 16ms/step - loss: 1.4195 - mean_absolute_error: 0.9968 - val_loss: 1.5809 - val_mean_absolute_error: 1.0703\n",
            "Epoch 54/500\n",
            "155/157 [============================>.] - ETA: 0s - loss: 1.3639 - mean_absolute_error: 0.9774"
          ]
        },
        {
          "output_type": "stream",
          "name": "stderr",
          "text": [
            "WARNING:tensorflow:Can save best model only with val_accuracy available, skipping.\n"
          ]
        },
        {
          "output_type": "stream",
          "name": "stdout",
          "text": [
            "\b\b\b\b\b\b\b\b\b\b\b\b\b\b\b\b\b\b\b\b\b\b\b\b\b\b\b\b\b\b\b\b\b\b\b\b\b\b\b\b\b\b\b\b\b\b\b\b\b\b\b\b\b\b\b\b\b\b\b\b\b\b\b\b\b\b\b\b\b\b\b\b\b\b\b\b\b\b\b\b\b\b\b\b\b\b\b\b\b\b\b\b\b\b\b\r157/157 [==============================] - 2s 12ms/step - loss: 1.3621 - mean_absolute_error: 0.9768 - val_loss: 1.3450 - val_mean_absolute_error: 0.9670\n",
            "Epoch 55/500\n",
            "157/157 [==============================] - ETA: 0s - loss: 1.6426 - mean_absolute_error: 1.0858"
          ]
        },
        {
          "output_type": "stream",
          "name": "stderr",
          "text": [
            "WARNING:tensorflow:Can save best model only with val_accuracy available, skipping.\n"
          ]
        },
        {
          "output_type": "stream",
          "name": "stdout",
          "text": [
            "\b\b\b\b\b\b\b\b\b\b\b\b\b\b\b\b\b\b\b\b\b\b\b\b\b\b\b\b\b\b\b\b\b\b\b\b\b\b\b\b\b\b\b\b\b\b\b\b\b\b\b\b\b\b\b\b\b\b\b\b\b\b\b\b\b\b\b\b\b\b\b\b\b\b\b\b\b\b\b\b\b\b\b\b\b\b\b\b\b\b\b\b\b\b\b\r157/157 [==============================] - 2s 11ms/step - loss: 1.6426 - mean_absolute_error: 1.0858 - val_loss: 1.7520 - val_mean_absolute_error: 1.1623\n",
            "Epoch 56/500\n",
            "153/157 [============================>.] - ETA: 0s - loss: 1.6294 - mean_absolute_error: 1.0991"
          ]
        },
        {
          "output_type": "stream",
          "name": "stderr",
          "text": [
            "WARNING:tensorflow:Can save best model only with val_accuracy available, skipping.\n"
          ]
        },
        {
          "output_type": "stream",
          "name": "stdout",
          "text": [
            "\b\b\b\b\b\b\b\b\b\b\b\b\b\b\b\b\b\b\b\b\b\b\b\b\b\b\b\b\b\b\b\b\b\b\b\b\b\b\b\b\b\b\b\b\b\b\b\b\b\b\b\b\b\b\b\b\b\b\b\b\b\b\b\b\b\b\b\b\b\b\b\b\b\b\b\b\b\b\b\b\b\b\b\b\b\b\b\b\b\b\b\b\b\b\b\r157/157 [==============================] - 2s 11ms/step - loss: 1.6286 - mean_absolute_error: 1.0995 - val_loss: 1.5259 - val_mean_absolute_error: 1.0732\n",
            "Epoch 57/500\n",
            "153/157 [============================>.] - ETA: 0s - loss: 1.4930 - mean_absolute_error: 1.0331"
          ]
        },
        {
          "output_type": "stream",
          "name": "stderr",
          "text": [
            "WARNING:tensorflow:Can save best model only with val_accuracy available, skipping.\n"
          ]
        },
        {
          "output_type": "stream",
          "name": "stdout",
          "text": [
            "\b\b\b\b\b\b\b\b\b\b\b\b\b\b\b\b\b\b\b\b\b\b\b\b\b\b\b\b\b\b\b\b\b\b\b\b\b\b\b\b\b\b\b\b\b\b\b\b\b\b\b\b\b\b\b\b\b\b\b\b\b\b\b\b\b\b\b\b\b\b\b\b\b\b\b\b\b\b\b\b\b\b\b\b\b\b\b\b\b\b\b\b\b\b\b\r157/157 [==============================] - 2s 11ms/step - loss: 1.4925 - mean_absolute_error: 1.0337 - val_loss: 1.4806 - val_mean_absolute_error: 1.0409\n",
            "Epoch 58/500\n",
            "157/157 [==============================] - ETA: 0s - loss: 1.4625 - mean_absolute_error: 1.0144"
          ]
        },
        {
          "output_type": "stream",
          "name": "stderr",
          "text": [
            "WARNING:tensorflow:Can save best model only with val_accuracy available, skipping.\n"
          ]
        },
        {
          "output_type": "stream",
          "name": "stdout",
          "text": [
            "\b\b\b\b\b\b\b\b\b\b\b\b\b\b\b\b\b\b\b\b\b\b\b\b\b\b\b\b\b\b\b\b\b\b\b\b\b\b\b\b\b\b\b\b\b\b\b\b\b\b\b\b\b\b\b\b\b\b\b\b\b\b\b\b\b\b\b\b\b\b\b\b\b\b\b\b\b\b\b\b\b\b\b\b\b\b\b\b\b\b\b\b\b\b\b\r157/157 [==============================] - 2s 11ms/step - loss: 1.4625 - mean_absolute_error: 1.0144 - val_loss: 1.4238 - val_mean_absolute_error: 1.0206\n",
            "Epoch 59/500\n",
            "154/157 [============================>.] - ETA: 0s - loss: 1.4394 - mean_absolute_error: 1.0041"
          ]
        },
        {
          "output_type": "stream",
          "name": "stderr",
          "text": [
            "WARNING:tensorflow:Can save best model only with val_accuracy available, skipping.\n"
          ]
        },
        {
          "output_type": "stream",
          "name": "stdout",
          "text": [
            "\b\b\b\b\b\b\b\b\b\b\b\b\b\b\b\b\b\b\b\b\b\b\b\b\b\b\b\b\b\b\b\b\b\b\b\b\b\b\b\b\b\b\b\b\b\b\b\b\b\b\b\b\b\b\b\b\b\b\b\b\b\b\b\b\b\b\b\b\b\b\b\b\b\b\b\b\b\b\b\b\b\b\b\b\b\b\b\b\b\b\b\b\b\b\b\r157/157 [==============================] - 2s 15ms/step - loss: 1.4402 - mean_absolute_error: 1.0051 - val_loss: 1.4233 - val_mean_absolute_error: 1.0183\n",
            "Epoch 60/500\n",
            "157/157 [==============================] - ETA: 0s - loss: 1.4190 - mean_absolute_error: 0.9986"
          ]
        },
        {
          "output_type": "stream",
          "name": "stderr",
          "text": [
            "WARNING:tensorflow:Can save best model only with val_accuracy available, skipping.\n"
          ]
        },
        {
          "output_type": "stream",
          "name": "stdout",
          "text": [
            "\b\b\b\b\b\b\b\b\b\b\b\b\b\b\b\b\b\b\b\b\b\b\b\b\b\b\b\b\b\b\b\b\b\b\b\b\b\b\b\b\b\b\b\b\b\b\b\b\b\b\b\b\b\b\b\b\b\b\b\b\b\b\b\b\b\b\b\b\b\b\b\b\b\b\b\b\b\b\b\b\b\b\b\b\b\b\b\b\b\b\b\b\b\b\b\r157/157 [==============================] - 2s 14ms/step - loss: 1.4190 - mean_absolute_error: 0.9986 - val_loss: 1.3984 - val_mean_absolute_error: 1.0090\n",
            "Epoch 61/500\n",
            "154/157 [============================>.] - ETA: 0s - loss: 1.4469 - mean_absolute_error: 1.0086"
          ]
        },
        {
          "output_type": "stream",
          "name": "stderr",
          "text": [
            "WARNING:tensorflow:Can save best model only with val_accuracy available, skipping.\n"
          ]
        },
        {
          "output_type": "stream",
          "name": "stdout",
          "text": [
            "\b\b\b\b\b\b\b\b\b\b\b\b\b\b\b\b\b\b\b\b\b\b\b\b\b\b\b\b\b\b\b\b\b\b\b\b\b\b\b\b\b\b\b\b\b\b\b\b\b\b\b\b\b\b\b\b\b\b\b\b\b\b\b\b\b\b\b\b\b\b\b\b\b\b\b\b\b\b\b\b\b\b\b\b\b\b\b\b\b\b\b\b\b\b\b\r157/157 [==============================] - 2s 12ms/step - loss: 1.4532 - mean_absolute_error: 1.0108 - val_loss: 1.7589 - val_mean_absolute_error: 1.1465\n",
            "Epoch 62/500\n",
            "156/157 [============================>.] - ETA: 0s - loss: 1.7110 - mean_absolute_error: 1.1162"
          ]
        },
        {
          "output_type": "stream",
          "name": "stderr",
          "text": [
            "WARNING:tensorflow:Can save best model only with val_accuracy available, skipping.\n"
          ]
        },
        {
          "output_type": "stream",
          "name": "stdout",
          "text": [
            "\b\b\b\b\b\b\b\b\b\b\b\b\b\b\b\b\b\b\b\b\b\b\b\b\b\b\b\b\b\b\b\b\b\b\b\b\b\b\b\b\b\b\b\b\b\b\b\b\b\b\b\b\b\b\b\b\b\b\b\b\b\b\b\b\b\b\b\b\b\b\b\b\b\b\b\b\b\b\b\b\b\b\b\b\b\b\b\b\b\b\b\b\b\b\b\r157/157 [==============================] - 2s 11ms/step - loss: 1.7127 - mean_absolute_error: 1.1170 - val_loss: 1.7057 - val_mean_absolute_error: 1.1293\n",
            "Epoch 63/500\n",
            "155/157 [============================>.] - ETA: 0s - loss: 1.6687 - mean_absolute_error: 1.1026"
          ]
        },
        {
          "output_type": "stream",
          "name": "stderr",
          "text": [
            "WARNING:tensorflow:Can save best model only with val_accuracy available, skipping.\n"
          ]
        },
        {
          "output_type": "stream",
          "name": "stdout",
          "text": [
            "\b\b\b\b\b\b\b\b\b\b\b\b\b\b\b\b\b\b\b\b\b\b\b\b\b\b\b\b\b\b\b\b\b\b\b\b\b\b\b\b\b\b\b\b\b\b\b\b\b\b\b\b\b\b\b\b\b\b\b\b\b\b\b\b\b\b\b\b\b\b\b\b\b\b\b\b\b\b\b\b\b\b\b\b\b\b\b\b\b\b\b\b\b\b\b\r157/157 [==============================] - 2s 11ms/step - loss: 1.6694 - mean_absolute_error: 1.1029 - val_loss: 1.6955 - val_mean_absolute_error: 1.1263\n",
            "Epoch 64/500\n",
            "154/157 [============================>.] - ETA: 0s - loss: 1.6709 - mean_absolute_error: 1.1007"
          ]
        },
        {
          "output_type": "stream",
          "name": "stderr",
          "text": [
            "WARNING:tensorflow:Can save best model only with val_accuracy available, skipping.\n"
          ]
        },
        {
          "output_type": "stream",
          "name": "stdout",
          "text": [
            "\b\b\b\b\b\b\b\b\b\b\b\b\b\b\b\b\b\b\b\b\b\b\b\b\b\b\b\b\b\b\b\b\b\b\b\b\b\b\b\b\b\b\b\b\b\b\b\b\b\b\b\b\b\b\b\b\b\b\b\b\b\b\b\b\b\b\b\b\b\b\b\b\b\b\b\b\b\b\b\b\b\b\b\b\b\b\b\b\b\b\b\b\b\b\b\r157/157 [==============================] - 2s 12ms/step - loss: 1.6712 - mean_absolute_error: 1.1013 - val_loss: 1.6804 - val_mean_absolute_error: 1.1182\n",
            "Epoch 65/500\n",
            "157/157 [==============================] - ETA: 0s - loss: 1.6422 - mean_absolute_error: 1.0885"
          ]
        },
        {
          "output_type": "stream",
          "name": "stderr",
          "text": [
            "WARNING:tensorflow:Can save best model only with val_accuracy available, skipping.\n"
          ]
        },
        {
          "output_type": "stream",
          "name": "stdout",
          "text": [
            "\b\b\b\b\b\b\b\b\b\b\b\b\b\b\b\b\b\b\b\b\b\b\b\b\b\b\b\b\b\b\b\b\b\b\b\b\b\b\b\b\b\b\b\b\b\b\b\b\b\b\b\b\b\b\b\b\b\b\b\b\b\b\b\b\b\b\b\b\b\b\b\b\b\b\b\b\b\b\b\b\b\b\b\b\b\b\b\b\b\b\b\b\b\b\b\r157/157 [==============================] - 2s 13ms/step - loss: 1.6422 - mean_absolute_error: 1.0885 - val_loss: 1.6770 - val_mean_absolute_error: 1.1173\n",
            "Epoch 66/500\n",
            "154/157 [============================>.] - ETA: 0s - loss: 1.6221 - mean_absolute_error: 1.0808"
          ]
        },
        {
          "output_type": "stream",
          "name": "stderr",
          "text": [
            "WARNING:tensorflow:Can save best model only with val_accuracy available, skipping.\n"
          ]
        },
        {
          "output_type": "stream",
          "name": "stdout",
          "text": [
            "\b\b\b\b\b\b\b\b\b\b\b\b\b\b\b\b\b\b\b\b\b\b\b\b\b\b\b\b\b\b\b\b\b\b\b\b\b\b\b\b\b\b\b\b\b\b\b\b\b\b\b\b\b\b\b\b\b\b\b\b\b\b\b\b\b\b\b\b\b\b\b\b\b\b\b\b\b\b\b\b\b\b\b\b\b\b\b\b\b\b\b\b\b\b\b\r157/157 [==============================] - 2s 14ms/step - loss: 1.6243 - mean_absolute_error: 1.0814 - val_loss: 1.6516 - val_mean_absolute_error: 1.1068\n",
            "Epoch 67/500\n",
            "156/157 [============================>.] - ETA: 0s - loss: 1.6221 - mean_absolute_error: 1.0818"
          ]
        },
        {
          "output_type": "stream",
          "name": "stderr",
          "text": [
            "WARNING:tensorflow:Can save best model only with val_accuracy available, skipping.\n"
          ]
        },
        {
          "output_type": "stream",
          "name": "stdout",
          "text": [
            "\b\b\b\b\b\b\b\b\b\b\b\b\b\b\b\b\b\b\b\b\b\b\b\b\b\b\b\b\b\b\b\b\b\b\b\b\b\b\b\b\b\b\b\b\b\b\b\b\b\b\b\b\b\b\b\b\b\b\b\b\b\b\b\b\b\b\b\b\b\b\b\b\b\b\b\b\b\b\b\b\b\b\b\b\b\b\b\b\b\b\b\b\b\b\b\r157/157 [==============================] - 2s 11ms/step - loss: 1.6239 - mean_absolute_error: 1.0826 - val_loss: 1.6291 - val_mean_absolute_error: 1.0969\n",
            "Epoch 68/500\n",
            "154/157 [============================>.] - ETA: 0s - loss: 1.5867 - mean_absolute_error: 1.0664"
          ]
        },
        {
          "output_type": "stream",
          "name": "stderr",
          "text": [
            "WARNING:tensorflow:Can save best model only with val_accuracy available, skipping.\n"
          ]
        },
        {
          "output_type": "stream",
          "name": "stdout",
          "text": [
            "\b\b\b\b\b\b\b\b\b\b\b\b\b\b\b\b\b\b\b\b\b\b\b\b\b\b\b\b\b\b\b\b\b\b\b\b\b\b\b\b\b\b\b\b\b\b\b\b\b\b\b\b\b\b\b\b\b\b\b\b\b\b\b\b\b\b\b\b\b\b\b\b\b\b\b\b\b\b\b\b\b\b\b\b\b\b\b\b\b\b\b\b\b\b\b\r157/157 [==============================] - 2s 12ms/step - loss: 1.5904 - mean_absolute_error: 1.0680 - val_loss: 1.6186 - val_mean_absolute_error: 1.0913\n",
            "Epoch 69/500\n",
            "153/157 [============================>.] - ETA: 0s - loss: 1.5801 - mean_absolute_error: 1.0642"
          ]
        },
        {
          "output_type": "stream",
          "name": "stderr",
          "text": [
            "WARNING:tensorflow:Can save best model only with val_accuracy available, skipping.\n"
          ]
        },
        {
          "output_type": "stream",
          "name": "stdout",
          "text": [
            "\b\b\b\b\b\b\b\b\b\b\b\b\b\b\b\b\b\b\b\b\b\b\b\b\b\b\b\b\b\b\b\b\b\b\b\b\b\b\b\b\b\b\b\b\b\b\b\b\b\b\b\b\b\b\b\b\b\b\b\b\b\b\b\b\b\b\b\b\b\b\b\b\b\b\b\b\b\b\b\b\b\b\b\b\b\b\b\b\b\b\b\b\b\b\b\r157/157 [==============================] - 2s 11ms/step - loss: 1.5879 - mean_absolute_error: 1.0672 - val_loss: 1.6019 - val_mean_absolute_error: 1.0828\n",
            "Epoch 70/500\n",
            "157/157 [==============================] - ETA: 0s - loss: 1.5738 - mean_absolute_error: 1.0618"
          ]
        },
        {
          "output_type": "stream",
          "name": "stderr",
          "text": [
            "WARNING:tensorflow:Can save best model only with val_accuracy available, skipping.\n"
          ]
        },
        {
          "output_type": "stream",
          "name": "stdout",
          "text": [
            "\b\b\b\b\b\b\b\b\b\b\b\b\b\b\b\b\b\b\b\b\b\b\b\b\b\b\b\b\b\b\b\b\b\b\b\b\b\b\b\b\b\b\b\b\b\b\b\b\b\b\b\b\b\b\b\b\b\b\b\b\b\b\b\b\b\b\b\b\b\b\b\b\b\b\b\b\b\b\b\b\b\b\b\b\b\b\b\b\b\b\b\b\b\b\b\r157/157 [==============================] - 2s 11ms/step - loss: 1.5738 - mean_absolute_error: 1.0618 - val_loss: 1.5737 - val_mean_absolute_error: 1.0730\n",
            "Epoch 71/500\n",
            "155/157 [============================>.] - ETA: 0s - loss: 1.5715 - mean_absolute_error: 1.0599"
          ]
        },
        {
          "output_type": "stream",
          "name": "stderr",
          "text": [
            "WARNING:tensorflow:Can save best model only with val_accuracy available, skipping.\n"
          ]
        },
        {
          "output_type": "stream",
          "name": "stdout",
          "text": [
            "\b\b\b\b\b\b\b\b\b\b\b\b\b\b\b\b\b\b\b\b\b\b\b\b\b\b\b\b\b\b\b\b\b\b\b\b\b\b\b\b\b\b\b\b\b\b\b\b\b\b\b\b\b\b\b\b\b\b\b\b\b\b\b\b\b\b\b\b\b\b\b\b\b\b\b\b\b\b\b\b\b\b\b\b\b\b\b\b\b\b\b\b\b\b\b\r157/157 [==============================] - 2s 14ms/step - loss: 1.5738 - mean_absolute_error: 1.0610 - val_loss: 1.5732 - val_mean_absolute_error: 1.0728\n",
            "Epoch 72/500\n",
            "155/157 [============================>.] - ETA: 0s - loss: 1.5391 - mean_absolute_error: 1.0467"
          ]
        },
        {
          "output_type": "stream",
          "name": "stderr",
          "text": [
            "WARNING:tensorflow:Can save best model only with val_accuracy available, skipping.\n"
          ]
        },
        {
          "output_type": "stream",
          "name": "stdout",
          "text": [
            "\b\b\b\b\b\b\b\b\b\b\b\b\b\b\b\b\b\b\b\b\b\b\b\b\b\b\b\b\b\b\b\b\b\b\b\b\b\b\b\b\b\b\b\b\b\b\b\b\b\b\b\b\b\b\b\b\b\b\b\b\b\b\b\b\b\b\b\b\b\b\b\b\b\b\b\b\b\b\b\b\b\b\b\b\b\b\b\b\b\b\b\b\b\b\b\r157/157 [==============================] - 2s 14ms/step - loss: 1.5390 - mean_absolute_error: 1.0468 - val_loss: 1.5634 - val_mean_absolute_error: 1.0677\n",
            "Epoch 73/500\n",
            "157/157 [==============================] - ETA: 0s - loss: 1.5276 - mean_absolute_error: 1.0419"
          ]
        },
        {
          "output_type": "stream",
          "name": "stderr",
          "text": [
            "WARNING:tensorflow:Can save best model only with val_accuracy available, skipping.\n"
          ]
        },
        {
          "output_type": "stream",
          "name": "stdout",
          "text": [
            "\b\b\b\b\b\b\b\b\b\b\b\b\b\b\b\b\b\b\b\b\b\b\b\b\b\b\b\b\b\b\b\b\b\b\b\b\b\b\b\b\b\b\b\b\b\b\b\b\b\b\b\b\b\b\b\b\b\b\b\b\b\b\b\b\b\b\b\b\b\b\b\b\b\b\b\b\b\b\b\b\b\b\b\b\b\b\b\b\b\b\b\b\b\b\b\r157/157 [==============================] - 2s 10ms/step - loss: 1.5276 - mean_absolute_error: 1.0419 - val_loss: 1.5690 - val_mean_absolute_error: 1.0693\n",
            "Epoch 74/500\n",
            "152/157 [============================>.] - ETA: 0s - loss: 1.5377 - mean_absolute_error: 1.0446"
          ]
        },
        {
          "output_type": "stream",
          "name": "stderr",
          "text": [
            "WARNING:tensorflow:Can save best model only with val_accuracy available, skipping.\n"
          ]
        },
        {
          "output_type": "stream",
          "name": "stdout",
          "text": [
            "\b\b\b\b\b\b\b\b\b\b\b\b\b\b\b\b\b\b\b\b\b\b\b\b\b\b\b\b\b\b\b\b\b\b\b\b\b\b\b\b\b\b\b\b\b\b\b\b\b\b\b\b\b\b\b\b\b\b\b\b\b\b\b\b\b\b\b\b\b\b\b\b\b\b\b\b\b\b\b\b\b\b\b\b\b\b\b\b\b\b\b\b\b\b\b\r157/157 [==============================] - 2s 10ms/step - loss: 1.5414 - mean_absolute_error: 1.0465 - val_loss: 1.5431 - val_mean_absolute_error: 1.0579\n",
            "Epoch 75/500\n",
            "152/157 [============================>.] - ETA: 0s - loss: 1.5080 - mean_absolute_error: 1.0322"
          ]
        },
        {
          "output_type": "stream",
          "name": "stderr",
          "text": [
            "WARNING:tensorflow:Can save best model only with val_accuracy available, skipping.\n"
          ]
        },
        {
          "output_type": "stream",
          "name": "stdout",
          "text": [
            "\b\b\b\b\b\b\b\b\b\b\b\b\b\b\b\b\b\b\b\b\b\b\b\b\b\b\b\b\b\b\b\b\b\b\b\b\b\b\b\b\b\b\b\b\b\b\b\b\b\b\b\b\b\b\b\b\b\b\b\b\b\b\b\b\b\b\b\b\b\b\b\b\b\b\b\b\b\b\b\b\b\b\b\b\b\b\b\b\b\b\b\b\b\b\b\r157/157 [==============================] - 2s 10ms/step - loss: 1.5124 - mean_absolute_error: 1.0344 - val_loss: 1.5442 - val_mean_absolute_error: 1.0578\n",
            "Epoch 76/500\n",
            "152/157 [============================>.] - ETA: 0s - loss: 1.5297 - mean_absolute_error: 1.0445"
          ]
        },
        {
          "output_type": "stream",
          "name": "stderr",
          "text": [
            "WARNING:tensorflow:Can save best model only with val_accuracy available, skipping.\n"
          ]
        },
        {
          "output_type": "stream",
          "name": "stdout",
          "text": [
            "\b\b\b\b\b\b\b\b\b\b\b\b\b\b\b\b\b\b\b\b\b\b\b\b\b\b\b\b\b\b\b\b\b\b\b\b\b\b\b\b\b\b\b\b\b\b\b\b\b\b\b\b\b\b\b\b\b\b\b\b\b\b\b\b\b\b\b\b\b\b\b\b\b\b\b\b\b\b\b\b\b\b\b\b\b\b\b\b\b\b\b\b\b\b\b\r157/157 [==============================] - 2s 11ms/step - loss: 1.5346 - mean_absolute_error: 1.0476 - val_loss: 1.5447 - val_mean_absolute_error: 1.0566\n",
            "Epoch 77/500\n",
            "155/157 [============================>.] - ETA: 0s - loss: 1.5349 - mean_absolute_error: 1.0418"
          ]
        },
        {
          "output_type": "stream",
          "name": "stderr",
          "text": [
            "WARNING:tensorflow:Can save best model only with val_accuracy available, skipping.\n"
          ]
        },
        {
          "output_type": "stream",
          "name": "stdout",
          "text": [
            "\b\b\b\b\b\b\b\b\b\b\b\b\b\b\b\b\b\b\b\b\b\b\b\b\b\b\b\b\b\b\b\b\b\b\b\b\b\b\b\b\b\b\b\b\b\b\b\b\b\b\b\b\b\b\b\b\b\b\b\b\b\b\b\b\b\b\b\b\b\b\b\b\b\b\b\b\b\b\b\b\b\b\b\b\b\b\b\b\b\b\b\b\b\b\b\r157/157 [==============================] - 2s 11ms/step - loss: 1.5349 - mean_absolute_error: 1.0420 - val_loss: 1.5402 - val_mean_absolute_error: 1.0550\n",
            "Epoch 78/500\n",
            "154/157 [============================>.] - ETA: 0s - loss: 1.5100 - mean_absolute_error: 1.0343"
          ]
        },
        {
          "output_type": "stream",
          "name": "stderr",
          "text": [
            "WARNING:tensorflow:Can save best model only with val_accuracy available, skipping.\n"
          ]
        },
        {
          "output_type": "stream",
          "name": "stdout",
          "text": [
            "\b\b\b\b\b\b\b\b\b\b\b\b\b\b\b\b\b\b\b\b\b\b\b\b\b\b\b\b\b\b\b\b\b\b\b\b\b\b\b\b\b\b\b\b\b\b\b\b\b\b\b\b\b\b\b\b\b\b\b\b\b\b\b\b\b\b\b\b\b\b\b\b\b\b\b\b\b\b\b\b\b\b\b\b\b\b\b\b\b\b\b\b\b\b\b\r157/157 [==============================] - 2s 13ms/step - loss: 1.5159 - mean_absolute_error: 1.0367 - val_loss: 1.5401 - val_mean_absolute_error: 1.0550\n",
            "Epoch 79/500\n",
            "157/157 [==============================] - ETA: 0s - loss: 1.4933 - mean_absolute_error: 1.0277"
          ]
        },
        {
          "output_type": "stream",
          "name": "stderr",
          "text": [
            "WARNING:tensorflow:Can save best model only with val_accuracy available, skipping.\n"
          ]
        },
        {
          "output_type": "stream",
          "name": "stdout",
          "text": [
            "\b\b\b\b\b\b\b\b\b\b\b\b\b\b\b\b\b\b\b\b\b\b\b\b\b\b\b\b\b\b\b\b\b\b\b\b\b\b\b\b\b\b\b\b\b\b\b\b\b\b\b\b\b\b\b\b\b\b\b\b\b\b\b\b\b\b\b\b\b\b\b\b\b\b\b\b\b\b\b\b\b\b\b\b\b\b\b\b\b\b\b\b\b\b\b\r157/157 [==============================] - 2s 15ms/step - loss: 1.4933 - mean_absolute_error: 1.0277 - val_loss: 1.5444 - val_mean_absolute_error: 1.0567\n",
            "Epoch 80/500\n",
            "152/157 [============================>.] - ETA: 0s - loss: 1.5076 - mean_absolute_error: 1.0308"
          ]
        },
        {
          "output_type": "stream",
          "name": "stderr",
          "text": [
            "WARNING:tensorflow:Can save best model only with val_accuracy available, skipping.\n"
          ]
        },
        {
          "output_type": "stream",
          "name": "stdout",
          "text": [
            "\b\b\b\b\b\b\b\b\b\b\b\b\b\b\b\b\b\b\b\b\b\b\b\b\b\b\b\b\b\b\b\b\b\b\b\b\b\b\b\b\b\b\b\b\b\b\b\b\b\b\b\b\b\b\b\b\b\b\b\b\b\b\b\b\b\b\b\b\b\b\b\b\b\b\b\b\b\b\b\b\b\b\b\b\b\b\b\b\b\b\b\b\b\b\b\r157/157 [==============================] - 2s 10ms/step - loss: 1.5093 - mean_absolute_error: 1.0327 - val_loss: 1.5473 - val_mean_absolute_error: 1.0585\n",
            "Epoch 81/500\n",
            "152/157 [============================>.] - ETA: 0s - loss: 1.4866 - mean_absolute_error: 1.0224"
          ]
        },
        {
          "output_type": "stream",
          "name": "stderr",
          "text": [
            "WARNING:tensorflow:Can save best model only with val_accuracy available, skipping.\n"
          ]
        },
        {
          "output_type": "stream",
          "name": "stdout",
          "text": [
            "\b\b\b\b\b\b\b\b\b\b\b\b\b\b\b\b\b\b\b\b\b\b\b\b\b\b\b\b\b\b\b\b\b\b\b\b\b\b\b\b\b\b\b\b\b\b\b\b\b\b\b\b\b\b\b\b\b\b\b\b\b\b\b\b\b\b\b\b\b\b\b\b\b\b\b\b\b\b\b\b\b\b\b\b\b\b\b\b\b\b\b\b\b\b\b\r157/157 [==============================] - 2s 10ms/step - loss: 1.4894 - mean_absolute_error: 1.0239 - val_loss: 1.5360 - val_mean_absolute_error: 1.0517\n",
            "Epoch 82/500\n",
            "157/157 [==============================] - ETA: 0s - loss: 1.5045 - mean_absolute_error: 1.0307"
          ]
        },
        {
          "output_type": "stream",
          "name": "stderr",
          "text": [
            "WARNING:tensorflow:Can save best model only with val_accuracy available, skipping.\n"
          ]
        },
        {
          "output_type": "stream",
          "name": "stdout",
          "text": [
            "\b\b\b\b\b\b\b\b\b\b\b\b\b\b\b\b\b\b\b\b\b\b\b\b\b\b\b\b\b\b\b\b\b\b\b\b\b\b\b\b\b\b\b\b\b\b\b\b\b\b\b\b\b\b\b\b\b\b\b\b\b\b\b\b\b\b\b\b\b\b\b\b\b\b\b\b\b\b\b\b\b\b\b\b\b\b\b\b\b\b\b\b\b\b\b\r157/157 [==============================] - 2s 11ms/step - loss: 1.5045 - mean_absolute_error: 1.0307 - val_loss: 1.5347 - val_mean_absolute_error: 1.0517\n",
            "Epoch 83/500\n",
            "156/157 [============================>.] - ETA: 0s - loss: 1.4945 - mean_absolute_error: 1.0287"
          ]
        },
        {
          "output_type": "stream",
          "name": "stderr",
          "text": [
            "WARNING:tensorflow:Can save best model only with val_accuracy available, skipping.\n"
          ]
        },
        {
          "output_type": "stream",
          "name": "stdout",
          "text": [
            "\b\b\b\b\b\b\b\b\b\b\b\b\b\b\b\b\b\b\b\b\b\b\b\b\b\b\b\b\b\b\b\b\b\b\b\b\b\b\b\b\b\b\b\b\b\b\b\b\b\b\b\b\b\b\b\b\b\b\b\b\b\b\b\b\b\b\b\b\b\b\b\b\b\b\b\b\b\b\b\b\b\b\b\b\b\b\b\b\b\b\b\b\b\b\b\r157/157 [==============================] - 2s 11ms/step - loss: 1.4962 - mean_absolute_error: 1.0294 - val_loss: 1.5327 - val_mean_absolute_error: 1.0505\n",
            "Epoch 84/500\n",
            "152/157 [============================>.] - ETA: 0s - loss: 1.4864 - mean_absolute_error: 1.0228"
          ]
        },
        {
          "output_type": "stream",
          "name": "stderr",
          "text": [
            "WARNING:tensorflow:Can save best model only with val_accuracy available, skipping.\n"
          ]
        },
        {
          "output_type": "stream",
          "name": "stdout",
          "text": [
            "\b\b\b\b\b\b\b\b\b\b\b\b\b\b\b\b\b\b\b\b\b\b\b\b\b\b\b\b\b\b\b\b\b\b\b\b\b\b\b\b\b\b\b\b\b\b\b\b\b\b\b\b\b\b\b\b\b\b\b\b\b\b\b\b\b\b\b\b\b\b\b\b\b\b\b\b\b\b\b\b\b\b\b\b\b\b\b\b\b\b\b\b\b\b\b\r157/157 [==============================] - 2s 12ms/step - loss: 1.4889 - mean_absolute_error: 1.0245 - val_loss: 1.5371 - val_mean_absolute_error: 1.0520\n",
            "Epoch 85/500\n",
            "154/157 [============================>.] - ETA: 0s - loss: 1.4682 - mean_absolute_error: 1.0168"
          ]
        },
        {
          "output_type": "stream",
          "name": "stderr",
          "text": [
            "WARNING:tensorflow:Can save best model only with val_accuracy available, skipping.\n"
          ]
        },
        {
          "output_type": "stream",
          "name": "stdout",
          "text": [
            "\b\b\b\b\b\b\b\b\b\b\b\b\b\b\b\b\b\b\b\b\b\b\b\b\b\b\b\b\b\b\b\b\b\b\b\b\b\b\b\b\b\b\b\b\b\b\b\b\b\b\b\b\b\b\b\b\b\b\b\b\b\b\b\b\b\b\b\b\b\b\b\b\b\b\b\b\b\b\b\b\b\b\b\b\b\b\b\b\b\b\b\b\b\b\b\r157/157 [==============================] - 3s 16ms/step - loss: 1.4705 - mean_absolute_error: 1.0181 - val_loss: 1.5393 - val_mean_absolute_error: 1.0528\n",
            "Epoch 86/500\n",
            "156/157 [============================>.] - ETA: 0s - loss: 1.4916 - mean_absolute_error: 1.0266"
          ]
        },
        {
          "output_type": "stream",
          "name": "stderr",
          "text": [
            "WARNING:tensorflow:Can save best model only with val_accuracy available, skipping.\n"
          ]
        },
        {
          "output_type": "stream",
          "name": "stdout",
          "text": [
            "\b\b\b\b\b\b\b\b\b\b\b\b\b\b\b\b\b\b\b\b\b\b\b\b\b\b\b\b\b\b\b\b\b\b\b\b\b\b\b\b\b\b\b\b\b\b\b\b\b\b\b\b\b\b\b\b\b\b\b\b\b\b\b\b\b\b\b\b\b\b\b\b\b\b\b\b\b\b\b\b\b\b\b\b\b\b\b\b\b\b\b\b\b\b\b\r157/157 [==============================] - 2s 11ms/step - loss: 1.4927 - mean_absolute_error: 1.0272 - val_loss: 1.5406 - val_mean_absolute_error: 1.0532\n",
            "Epoch 87/500\n",
            "156/157 [============================>.] - ETA: 0s - loss: 1.4921 - mean_absolute_error: 1.0263"
          ]
        },
        {
          "output_type": "stream",
          "name": "stderr",
          "text": [
            "WARNING:tensorflow:Can save best model only with val_accuracy available, skipping.\n"
          ]
        },
        {
          "output_type": "stream",
          "name": "stdout",
          "text": [
            "\b\b\b\b\b\b\b\b\b\b\b\b\b\b\b\b\b\b\b\b\b\b\b\b\b\b\b\b\b\b\b\b\b\b\b\b\b\b\b\b\b\b\b\b\b\b\b\b\b\b\b\b\b\b\b\b\b\b\b\b\b\b\b\b\b\b\b\b\b\b\b\b\b\b\b\b\b\b\b\b\b\b\b\b\b\b\b\b\b\b\b\b\b\b\b\r157/157 [==============================] - 2s 10ms/step - loss: 1.4932 - mean_absolute_error: 1.0268 - val_loss: 1.5404 - val_mean_absolute_error: 1.0531\n",
            "Epoch 88/500\n",
            "157/157 [==============================] - ETA: 0s - loss: 1.4841 - mean_absolute_error: 1.0206"
          ]
        },
        {
          "output_type": "stream",
          "name": "stderr",
          "text": [
            "WARNING:tensorflow:Can save best model only with val_accuracy available, skipping.\n"
          ]
        },
        {
          "output_type": "stream",
          "name": "stdout",
          "text": [
            "\b\b\b\b\b\b\b\b\b\b\b\b\b\b\b\b\b\b\b\b\b\b\b\b\b\b\b\b\b\b\b\b\b\b\b\b\b\b\b\b\b\b\b\b\b\b\b\b\b\b\b\b\b\b\b\b\b\b\b\b\b\b\b\b\b\b\b\b\b\b\b\b\b\b\b\b\b\b\b\b\b\b\b\b\b\b\b\b\b\b\b\b\b\b\b\r157/157 [==============================] - 2s 11ms/step - loss: 1.4841 - mean_absolute_error: 1.0206 - val_loss: 1.5441 - val_mean_absolute_error: 1.0545\n",
            "Epoch 89/500\n",
            "157/157 [==============================] - ETA: 0s - loss: 1.4793 - mean_absolute_error: 1.0218"
          ]
        },
        {
          "output_type": "stream",
          "name": "stderr",
          "text": [
            "WARNING:tensorflow:Can save best model only with val_accuracy available, skipping.\n"
          ]
        },
        {
          "output_type": "stream",
          "name": "stdout",
          "text": [
            "\b\b\b\b\b\b\b\b\b\b\b\b\b\b\b\b\b\b\b\b\b\b\b\b\b\b\b\b\b\b\b\b\b\b\b\b\b\b\b\b\b\b\b\b\b\b\b\b\b\b\b\b\b\b\b\b\b\b\b\b\b\b\b\b\b\b\b\b\b\b\b\b\b\b\b\b\b\b\b\b\b\b\b\b\b\b\b\b\b\b\b\b\b\b\b\r157/157 [==============================] - 2s 12ms/step - loss: 1.4793 - mean_absolute_error: 1.0218 - val_loss: 1.5065 - val_mean_absolute_error: 1.0382\n",
            "Epoch 90/500\n",
            "157/157 [==============================] - ETA: 0s - loss: 1.4989 - mean_absolute_error: 1.0278"
          ]
        },
        {
          "output_type": "stream",
          "name": "stderr",
          "text": [
            "WARNING:tensorflow:Can save best model only with val_accuracy available, skipping.\n"
          ]
        },
        {
          "output_type": "stream",
          "name": "stdout",
          "text": [
            "\b\b\b\b\b\b\b\b\b\b\b\b\b\b\b\b\b\b\b\b\b\b\b\b\b\b\b\b\b\b\b\b\b\b\b\b\b\b\b\b\b\b\b\b\b\b\b\b\b\b\b\b\b\b\b\b\b\b\b\b\b\b\b\b\b\b\b\b\b\b\b\b\b\b\b\b\b\b\b\b\b\b\b\b\b\b\b\b\b\b\b\b\b\b\b\r157/157 [==============================] - 2s 16ms/step - loss: 1.4989 - mean_absolute_error: 1.0278 - val_loss: 1.5108 - val_mean_absolute_error: 1.0410\n",
            "Epoch 91/500\n",
            "157/157 [==============================] - ETA: 0s - loss: 1.4913 - mean_absolute_error: 1.0233"
          ]
        },
        {
          "output_type": "stream",
          "name": "stderr",
          "text": [
            "WARNING:tensorflow:Can save best model only with val_accuracy available, skipping.\n"
          ]
        },
        {
          "output_type": "stream",
          "name": "stdout",
          "text": [
            "\b\b\b\b\b\b\b\b\b\b\b\b\b\b\b\b\b\b\b\b\b\b\b\b\b\b\b\b\b\b\b\b\b\b\b\b\b\b\b\b\b\b\b\b\b\b\b\b\b\b\b\b\b\b\b\b\b\b\b\b\b\b\b\b\b\b\b\b\b\b\b\b\b\b\b\b\b\b\b\b\b\b\b\b\b\b\b\b\b\b\b\b\b\b\b\r157/157 [==============================] - 2s 11ms/step - loss: 1.4913 - mean_absolute_error: 1.0233 - val_loss: 1.4973 - val_mean_absolute_error: 1.0353\n",
            "Epoch 92/500\n",
            "157/157 [==============================] - ETA: 0s - loss: 1.4677 - mean_absolute_error: 1.0102"
          ]
        },
        {
          "output_type": "stream",
          "name": "stderr",
          "text": [
            "WARNING:tensorflow:Can save best model only with val_accuracy available, skipping.\n"
          ]
        },
        {
          "output_type": "stream",
          "name": "stdout",
          "text": [
            "\b\b\b\b\b\b\b\b\b\b\b\b\b\b\b\b\b\b\b\b\b\b\b\b\b\b\b\b\b\b\b\b\b\b\b\b\b\b\b\b\b\b\b\b\b\b\b\b\b\b\b\b\b\b\b\b\b\b\b\b\b\b\b\b\b\b\b\b\b\b\b\b\b\b\b\b\b\b\b\b\b\b\b\b\b\b\b\b\b\b\b\b\b\b\b\r157/157 [==============================] - 2s 10ms/step - loss: 1.4677 - mean_absolute_error: 1.0102 - val_loss: 1.4905 - val_mean_absolute_error: 1.0313\n",
            "Epoch 93/500\n",
            "154/157 [============================>.] - ETA: 0s - loss: 1.4632 - mean_absolute_error: 1.0111"
          ]
        },
        {
          "output_type": "stream",
          "name": "stderr",
          "text": [
            "WARNING:tensorflow:Can save best model only with val_accuracy available, skipping.\n"
          ]
        },
        {
          "output_type": "stream",
          "name": "stdout",
          "text": [
            "\b\b\b\b\b\b\b\b\b\b\b\b\b\b\b\b\b\b\b\b\b\b\b\b\b\b\b\b\b\b\b\b\b\b\b\b\b\b\b\b\b\b\b\b\b\b\b\b\b\b\b\b\b\b\b\b\b\b\b\b\b\b\b\b\b\b\b\b\b\b\b\b\b\b\b\b\b\b\b\b\b\b\b\b\b\b\b\b\b\b\b\b\b\b\b\r157/157 [==============================] - 2s 10ms/step - loss: 1.4638 - mean_absolute_error: 1.0122 - val_loss: 1.4763 - val_mean_absolute_error: 1.0232\n",
            "Epoch 94/500\n",
            "152/157 [============================>.] - ETA: 0s - loss: 1.4560 - mean_absolute_error: 1.0070"
          ]
        },
        {
          "output_type": "stream",
          "name": "stderr",
          "text": [
            "WARNING:tensorflow:Can save best model only with val_accuracy available, skipping.\n"
          ]
        },
        {
          "output_type": "stream",
          "name": "stdout",
          "text": [
            "\b\b\b\b\b\b\b\b\b\b\b\b\b\b\b\b\b\b\b\b\b\b\b\b\b\b\b\b\b\b\b\b\b\b\b\b\b\b\b\b\b\b\b\b\b\b\b\b\b\b\b\b\b\b\b\b\b\b\b\b\b\b\b\b\b\b\b\b\b\b\b\b\b\b\b\b\b\b\b\b\b\b\b\b\b\b\b\b\b\b\b\b\b\b\b\r157/157 [==============================] - 2s 11ms/step - loss: 1.4595 - mean_absolute_error: 1.0090 - val_loss: 1.5005 - val_mean_absolute_error: 1.0329\n",
            "Epoch 95/500\n",
            "157/157 [==============================] - ETA: 0s - loss: 1.4501 - mean_absolute_error: 1.0087"
          ]
        },
        {
          "output_type": "stream",
          "name": "stderr",
          "text": [
            "WARNING:tensorflow:Can save best model only with val_accuracy available, skipping.\n"
          ]
        },
        {
          "output_type": "stream",
          "name": "stdout",
          "text": [
            "\b\b\b\b\b\b\b\b\b\b\b\b\b\b\b\b\b\b\b\b\b\b\b\b\b\b\b\b\b\b\b\b\b\b\b\b\b\b\b\b\b\b\b\b\b\b\b\b\b\b\b\b\b\b\b\b\b\b\b\b\b\b\b\b\b\b\b\b\b\b\b\b\b\b\b\b\b\b\b\b\b\b\b\b\b\b\b\b\b\b\b\b\b\b\b\r157/157 [==============================] - 2s 11ms/step - loss: 1.4501 - mean_absolute_error: 1.0087 - val_loss: 1.4921 - val_mean_absolute_error: 1.0284\n",
            "Epoch 96/500\n",
            "156/157 [============================>.] - ETA: 0s - loss: 1.4391 - mean_absolute_error: 1.0035"
          ]
        },
        {
          "output_type": "stream",
          "name": "stderr",
          "text": [
            "WARNING:tensorflow:Can save best model only with val_accuracy available, skipping.\n"
          ]
        },
        {
          "output_type": "stream",
          "name": "stdout",
          "text": [
            "\b\b\b\b\b\b\b\b\b\b\b\b\b\b\b\b\b\b\b\b\b\b\b\b\b\b\b\b\b\b\b\b\b\b\b\b\b\b\b\b\b\b\b\b\b\b\b\b\b\b\b\b\b\b\b\b\b\b\b\b\b\b\b\b\b\b\b\b\b\b\b\b\b\b\b\b\b\b\b\b\b\b\b\b\b\b\b\b\b\b\b\b\b\b\b\r157/157 [==============================] - 3s 16ms/step - loss: 1.4402 - mean_absolute_error: 1.0040 - val_loss: 1.4933 - val_mean_absolute_error: 1.0290\n",
            "Epoch 97/500\n",
            "154/157 [============================>.] - ETA: 0s - loss: 1.4545 - mean_absolute_error: 1.0109"
          ]
        },
        {
          "output_type": "stream",
          "name": "stderr",
          "text": [
            "WARNING:tensorflow:Can save best model only with val_accuracy available, skipping.\n"
          ]
        },
        {
          "output_type": "stream",
          "name": "stdout",
          "text": [
            "\b\b\b\b\b\b\b\b\b\b\b\b\b\b\b\b\b\b\b\b\b\b\b\b\b\b\b\b\b\b\b\b\b\b\b\b\b\b\b\b\b\b\b\b\b\b\b\b\b\b\b\b\b\b\b\b\b\b\b\b\b\b\b\b\b\b\b\b\b\b\b\b\b\b\b\b\b\b\b\b\b\b\b\b\b\b\b\b\b\b\b\b\b\b\b\r157/157 [==============================] - 2s 13ms/step - loss: 1.4589 - mean_absolute_error: 1.0126 - val_loss: 1.4950 - val_mean_absolute_error: 1.0318\n",
            "Epoch 98/500\n",
            "157/157 [==============================] - ETA: 0s - loss: 1.4558 - mean_absolute_error: 1.0066"
          ]
        },
        {
          "output_type": "stream",
          "name": "stderr",
          "text": [
            "WARNING:tensorflow:Can save best model only with val_accuracy available, skipping.\n"
          ]
        },
        {
          "output_type": "stream",
          "name": "stdout",
          "text": [
            "\b\b\b\b\b\b\b\b\b\b\b\b\b\b\b\b\b\b\b\b\b\b\b\b\b\b\b\b\b\b\b\b\b\b\b\b\b\b\b\b\b\b\b\b\b\b\b\b\b\b\b\b\b\b\b\b\b\b\b\b\b\b\b\b\b\b\b\b\b\b\b\b\b\b\b\b\b\b\b\b\b\b\b\b\b\b\b\b\b\b\b\b\b\b\b\r157/157 [==============================] - 2s 12ms/step - loss: 1.4558 - mean_absolute_error: 1.0066 - val_loss: 1.4893 - val_mean_absolute_error: 1.0295\n",
            "Epoch 99/500\n",
            "154/157 [============================>.] - ETA: 0s - loss: 1.4544 - mean_absolute_error: 1.0086"
          ]
        },
        {
          "output_type": "stream",
          "name": "stderr",
          "text": [
            "WARNING:tensorflow:Can save best model only with val_accuracy available, skipping.\n"
          ]
        },
        {
          "output_type": "stream",
          "name": "stdout",
          "text": [
            "\b\b\b\b\b\b\b\b\b\b\b\b\b\b\b\b\b\b\b\b\b\b\b\b\b\b\b\b\b\b\b\b\b\b\b\b\b\b\b\b\b\b\b\b\b\b\b\b\b\b\b\b\b\b\b\b\b\b\b\b\b\b\b\b\b\b\b\b\b\b\b\b\b\b\b\b\b\b\b\b\b\b\b\b\b\b\b\b\b\b\b\b\b\b\b\r157/157 [==============================] - 2s 16ms/step - loss: 1.4540 - mean_absolute_error: 1.0091 - val_loss: 1.5036 - val_mean_absolute_error: 1.0324\n",
            "Epoch 100/500\n",
            "157/157 [==============================] - ETA: 0s - loss: 1.4586 - mean_absolute_error: 1.0091"
          ]
        },
        {
          "output_type": "stream",
          "name": "stderr",
          "text": [
            "WARNING:tensorflow:Can save best model only with val_accuracy available, skipping.\n"
          ]
        },
        {
          "output_type": "stream",
          "name": "stdout",
          "text": [
            "\b\b\b\b\b\b\b\b\b\b\b\b\b\b\b\b\b\b\b\b\b\b\b\b\b\b\b\b\b\b\b\b\b\b\b\b\b\b\b\b\b\b\b\b\b\b\b\b\b\b\b\b\b\b\b\b\b\b\b\b\b\b\b\b\b\b\b\b\b\b\b\b\b\b\b\b\b\b\b\b\b\b\b\b\b\b\b\b\b\b\b\b\b\b\b\r157/157 [==============================] - 2s 12ms/step - loss: 1.4586 - mean_absolute_error: 1.0091 - val_loss: 1.5147 - val_mean_absolute_error: 1.0381\n",
            "Epoch 101/500\n",
            "153/157 [============================>.] - ETA: 0s - loss: 1.4463 - mean_absolute_error: 1.0043"
          ]
        },
        {
          "output_type": "stream",
          "name": "stderr",
          "text": [
            "WARNING:tensorflow:Can save best model only with val_accuracy available, skipping.\n"
          ]
        },
        {
          "output_type": "stream",
          "name": "stdout",
          "text": [
            "\b\b\b\b\b\b\b\b\b\b\b\b\b\b\b\b\b\b\b\b\b\b\b\b\b\b\b\b\b\b\b\b\b\b\b\b\b\b\b\b\b\b\b\b\b\b\b\b\b\b\b\b\b\b\b\b\b\b\b\b\b\b\b\b\b\b\b\b\b\b\b\b\b\b\b\b\b\b\b\b\b\b\b\b\b\b\b\b\b\b\b\b\b\b\b\r157/157 [==============================] - 2s 10ms/step - loss: 1.4482 - mean_absolute_error: 1.0062 - val_loss: 1.5314 - val_mean_absolute_error: 1.0430\n",
            "Epoch 102/500\n",
            "157/157 [==============================] - ETA: 0s - loss: 1.4586 - mean_absolute_error: 1.0101"
          ]
        },
        {
          "output_type": "stream",
          "name": "stderr",
          "text": [
            "WARNING:tensorflow:Can save best model only with val_accuracy available, skipping.\n"
          ]
        },
        {
          "output_type": "stream",
          "name": "stdout",
          "text": [
            "\b\b\b\b\b\b\b\b\b\b\b\b\b\b\b\b\b\b\b\b\b\b\b\b\b\b\b\b\b\b\b\b\b\b\b\b\b\b\b\b\b\b\b\b\b\b\b\b\b\b\b\b\b\b\b\b\b\b\b\b\b\b\b\b\b\b\b\b\b\b\b\b\b\b\b\b\b\b\b\b\b\b\b\b\b\b\b\b\b\b\b\b\b\b\b\r157/157 [==============================] - 2s 15ms/step - loss: 1.4586 - mean_absolute_error: 1.0101 - val_loss: 1.4990 - val_mean_absolute_error: 1.0299\n",
            "Epoch 103/500\n",
            "155/157 [============================>.] - ETA: 0s - loss: 1.4593 - mean_absolute_error: 1.0079"
          ]
        },
        {
          "output_type": "stream",
          "name": "stderr",
          "text": [
            "WARNING:tensorflow:Can save best model only with val_accuracy available, skipping.\n"
          ]
        },
        {
          "output_type": "stream",
          "name": "stdout",
          "text": [
            "\b\b\b\b\b\b\b\b\b\b\b\b\b\b\b\b\b\b\b\b\b\b\b\b\b\b\b\b\b\b\b\b\b\b\b\b\b\b\b\b\b\b\b\b\b\b\b\b\b\b\b\b\b\b\b\b\b\b\b\b\b\b\b\b\b\b\b\b\b\b\b\b\b\b\b\b\b\b\b\b\b\b\b\b\b\b\b\b\b\b\b\b\b\b\b\r157/157 [==============================] - 2s 11ms/step - loss: 1.4589 - mean_absolute_error: 1.0083 - val_loss: 1.4892 - val_mean_absolute_error: 1.0270\n",
            "Epoch 104/500\n",
            "157/157 [==============================] - ETA: 0s - loss: 1.4571 - mean_absolute_error: 1.0078"
          ]
        },
        {
          "output_type": "stream",
          "name": "stderr",
          "text": [
            "WARNING:tensorflow:Can save best model only with val_accuracy available, skipping.\n"
          ]
        },
        {
          "output_type": "stream",
          "name": "stdout",
          "text": [
            "\b\b\b\b\b\b\b\b\b\b\b\b\b\b\b\b\b\b\b\b\b\b\b\b\b\b\b\b\b\b\b\b\b\b\b\b\b\b\b\b\b\b\b\b\b\b\b\b\b\b\b\b\b\b\b\b\b\b\b\b\b\b\b\b\b\b\b\b\b\b\b\b\b\b\b\b\b\b\b\b\b\b\b\b\b\b\b\b\b\b\b\b\b\b\b\r157/157 [==============================] - 2s 11ms/step - loss: 1.4571 - mean_absolute_error: 1.0078 - val_loss: 1.4932 - val_mean_absolute_error: 1.0266\n",
            "Epoch 105/500\n",
            "152/157 [============================>.] - ETA: 0s - loss: 1.4361 - mean_absolute_error: 0.9981"
          ]
        },
        {
          "output_type": "stream",
          "name": "stderr",
          "text": [
            "WARNING:tensorflow:Can save best model only with val_accuracy available, skipping.\n"
          ]
        },
        {
          "output_type": "stream",
          "name": "stdout",
          "text": [
            "\b\b\b\b\b\b\b\b\b\b\b\b\b\b\b\b\b\b\b\b\b\b\b\b\b\b\b\b\b\b\b\b\b\b\b\b\b\b\b\b\b\b\b\b\b\b\b\b\b\b\b\b\b\b\b\b\b\b\b\b\b\b\b\b\b\b\b\b\b\b\b\b\b\b\b\b\b\b\b\b\b\b\b\b\b\b\b\b\b\b\b\b\b\b\b\r157/157 [==============================] - 2s 10ms/step - loss: 1.4390 - mean_absolute_error: 1.0002 - val_loss: 1.4954 - val_mean_absolute_error: 1.0265\n",
            "Epoch 106/500\n",
            "153/157 [============================>.] - ETA: 0s - loss: 1.4713 - mean_absolute_error: 1.0147"
          ]
        },
        {
          "output_type": "stream",
          "name": "stderr",
          "text": [
            "WARNING:tensorflow:Can save best model only with val_accuracy available, skipping.\n"
          ]
        },
        {
          "output_type": "stream",
          "name": "stdout",
          "text": [
            "\b\b\b\b\b\b\b\b\b\b\b\b\b\b\b\b\b\b\b\b\b\b\b\b\b\b\b\b\b\b\b\b\b\b\b\b\b\b\b\b\b\b\b\b\b\b\b\b\b\b\b\b\b\b\b\b\b\b\b\b\b\b\b\b\b\b\b\b\b\b\b\b\b\b\b\b\b\b\b\b\b\b\b\b\b\b\b\b\b\b\b\b\b\b\b\r157/157 [==============================] - 2s 11ms/step - loss: 1.4717 - mean_absolute_error: 1.0150 - val_loss: 1.4899 - val_mean_absolute_error: 1.0251\n",
            "Epoch 107/500\n",
            "157/157 [==============================] - ETA: 0s - loss: 1.4411 - mean_absolute_error: 1.0018"
          ]
        },
        {
          "output_type": "stream",
          "name": "stderr",
          "text": [
            "WARNING:tensorflow:Can save best model only with val_accuracy available, skipping.\n"
          ]
        },
        {
          "output_type": "stream",
          "name": "stdout",
          "text": [
            "\b\b\b\b\b\b\b\b\b\b\b\b\b\b\b\b\b\b\b\b\b\b\b\b\b\b\b\b\b\b\b\b\b\b\b\b\b\b\b\b\b\b\b\b\b\b\b\b\b\b\b\b\b\b\b\b\b\b\b\b\b\b\b\b\b\b\b\b\b\b\b\b\b\b\b\b\b\b\b\b\b\b\b\b\b\b\b\b\b\b\b\b\b\b\b\r157/157 [==============================] - 2s 11ms/step - loss: 1.4411 - mean_absolute_error: 1.0018 - val_loss: 1.4907 - val_mean_absolute_error: 1.0243\n",
            "Epoch 108/500\n",
            "155/157 [============================>.] - ETA: 0s - loss: 1.4490 - mean_absolute_error: 1.0051"
          ]
        },
        {
          "output_type": "stream",
          "name": "stderr",
          "text": [
            "WARNING:tensorflow:Can save best model only with val_accuracy available, skipping.\n"
          ]
        },
        {
          "output_type": "stream",
          "name": "stdout",
          "text": [
            "\b\b\b\b\b\b\b\b\b\b\b\b\b\b\b\b\b\b\b\b\b\b\b\b\b\b\b\b\b\b\b\b\b\b\b\b\b\b\b\b\b\b\b\b\b\b\b\b\b\b\b\b\b\b\b\b\b\b\b\b\b\b\b\b\b\b\b\b\b\b\b\b\b\b\b\b\b\b\b\b\b\b\b\b\b\b\b\b\b\b\b\b\b\b\b\r157/157 [==============================] - 2s 14ms/step - loss: 1.4510 - mean_absolute_error: 1.0057 - val_loss: 1.5008 - val_mean_absolute_error: 1.0338\n",
            "Epoch 109/500\n",
            "155/157 [============================>.] - ETA: 0s - loss: 1.4530 - mean_absolute_error: 1.0067"
          ]
        },
        {
          "output_type": "stream",
          "name": "stderr",
          "text": [
            "WARNING:tensorflow:Can save best model only with val_accuracy available, skipping.\n"
          ]
        },
        {
          "output_type": "stream",
          "name": "stdout",
          "text": [
            "\b\b\b\b\b\b\b\b\b\b\b\b\b\b\b\b\b\b\b\b\b\b\b\b\b\b\b\b\b\b\b\b\b\b\b\b\b\b\b\b\b\b\b\b\b\b\b\b\b\b\b\b\b\b\b\b\b\b\b\b\b\b\b\b\b\b\b\b\b\b\b\b\b\b\b\b\b\b\b\b\b\b\b\b\b\b\b\b\b\b\b\b\b\b\b\r157/157 [==============================] - 2s 15ms/step - loss: 1.4535 - mean_absolute_error: 1.0072 - val_loss: 1.5108 - val_mean_absolute_error: 1.0358\n",
            "Epoch 110/500\n",
            "157/157 [==============================] - ETA: 0s - loss: 1.4461 - mean_absolute_error: 1.0042"
          ]
        },
        {
          "output_type": "stream",
          "name": "stderr",
          "text": [
            "WARNING:tensorflow:Can save best model only with val_accuracy available, skipping.\n"
          ]
        },
        {
          "output_type": "stream",
          "name": "stdout",
          "text": [
            "\b\b\b\b\b\b\b\b\b\b\b\b\b\b\b\b\b\b\b\b\b\b\b\b\b\b\b\b\b\b\b\b\b\b\b\b\b\b\b\b\b\b\b\b\b\b\b\b\b\b\b\b\b\b\b\b\b\b\b\b\b\b\b\b\b\b\b\b\b\b\b\b\b\b\b\b\b\b\b\b\b\b\b\b\b\b\b\b\b\b\b\b\b\b\b\r157/157 [==============================] - 2s 10ms/step - loss: 1.4461 - mean_absolute_error: 1.0042 - val_loss: 1.5078 - val_mean_absolute_error: 1.0350\n",
            "Epoch 111/500\n",
            "153/157 [============================>.] - ETA: 0s - loss: 1.4389 - mean_absolute_error: 0.9974"
          ]
        },
        {
          "output_type": "stream",
          "name": "stderr",
          "text": [
            "WARNING:tensorflow:Can save best model only with val_accuracy available, skipping.\n"
          ]
        },
        {
          "output_type": "stream",
          "name": "stdout",
          "text": [
            "\b\b\b\b\b\b\b\b\b\b\b\b\b\b\b\b\b\b\b\b\b\b\b\b\b\b\b\b\b\b\b\b\b\b\b\b\b\b\b\b\b\b\b\b\b\b\b\b\b\b\b\b\b\b\b\b\b\b\b\b\b\b\b\b\b\b\b\b\b\b\b\b\b\b\b\b\b\b\b\b\b\b\b\b\b\b\b\b\b\b\b\b\b\b\b\r157/157 [==============================] - 2s 11ms/step - loss: 1.4409 - mean_absolute_error: 0.9990 - val_loss: 1.5175 - val_mean_absolute_error: 1.0344\n",
            "Epoch 112/500\n",
            "155/157 [============================>.] - ETA: 0s - loss: 1.4566 - mean_absolute_error: 1.0079"
          ]
        },
        {
          "output_type": "stream",
          "name": "stderr",
          "text": [
            "WARNING:tensorflow:Can save best model only with val_accuracy available, skipping.\n"
          ]
        },
        {
          "output_type": "stream",
          "name": "stdout",
          "text": [
            "\b\b\b\b\b\b\b\b\b\b\b\b\b\b\b\b\b\b\b\b\b\b\b\b\b\b\b\b\b\b\b\b\b\b\b\b\b\b\b\b\b\b\b\b\b\b\b\b\b\b\b\b\b\b\b\b\b\b\b\b\b\b\b\b\b\b\b\b\b\b\b\b\b\b\b\b\b\b\b\b\b\b\b\b\b\b\b\b\b\b\b\b\b\b\b\r157/157 [==============================] - 2s 11ms/step - loss: 1.4559 - mean_absolute_error: 1.0081 - val_loss: 1.5071 - val_mean_absolute_error: 1.0298\n",
            "Epoch 113/500\n",
            "156/157 [============================>.] - ETA: 0s - loss: 1.4612 - mean_absolute_error: 1.0089"
          ]
        },
        {
          "output_type": "stream",
          "name": "stderr",
          "text": [
            "WARNING:tensorflow:Can save best model only with val_accuracy available, skipping.\n"
          ]
        },
        {
          "output_type": "stream",
          "name": "stdout",
          "text": [
            "\b\b\b\b\b\b\b\b\b\b\b\b\b\b\b\b\b\b\b\b\b\b\b\b\b\b\b\b\b\b\b\b\b\b\b\b\b\b\b\b\b\b\b\b\b\b\b\b\b\b\b\b\b\b\b\b\b\b\b\b\b\b\b\b\b\b\b\b\b\b\b\b\b\b\b\b\b\b\b\b\b\b\b\b\b\b\b\b\b\b\b\b\b\b\b\r157/157 [==============================] - 2s 11ms/step - loss: 1.4627 - mean_absolute_error: 1.0095 - val_loss: 1.5124 - val_mean_absolute_error: 1.0326\n",
            "Epoch 114/500\n",
            "157/157 [==============================] - ETA: 0s - loss: 1.4424 - mean_absolute_error: 1.0043"
          ]
        },
        {
          "output_type": "stream",
          "name": "stderr",
          "text": [
            "WARNING:tensorflow:Can save best model only with val_accuracy available, skipping.\n"
          ]
        },
        {
          "output_type": "stream",
          "name": "stdout",
          "text": [
            "\b\b\b\b\b\b\b\b\b\b\b\b\b\b\b\b\b\b\b\b\b\b\b\b\b\b\b\b\b\b\b\b\b\b\b\b\b\b\b\b\b\b\b\b\b\b\b\b\b\b\b\b\b\b\b\b\b\b\b\b\b\b\b\b\b\b\b\b\b\b\b\b\b\b\b\b\b\b\b\b\b\b\b\b\b\b\b\b\b\b\b\b\b\b\b\r157/157 [==============================] - 2s 13ms/step - loss: 1.4424 - mean_absolute_error: 1.0043 - val_loss: 1.5033 - val_mean_absolute_error: 1.0290\n",
            "Epoch 115/500\n",
            "156/157 [============================>.] - ETA: 0s - loss: 1.4405 - mean_absolute_error: 1.0034"
          ]
        },
        {
          "output_type": "stream",
          "name": "stderr",
          "text": [
            "WARNING:tensorflow:Can save best model only with val_accuracy available, skipping.\n"
          ]
        },
        {
          "output_type": "stream",
          "name": "stdout",
          "text": [
            "\b\b\b\b\b\b\b\b\b\b\b\b\b\b\b\b\b\b\b\b\b\b\b\b\b\b\b\b\b\b\b\b\b\b\b\b\b\b\b\b\b\b\b\b\b\b\b\b\b\b\b\b\b\b\b\b\b\b\b\b\b\b\b\b\b\b\b\b\b\b\b\b\b\b\b\b\b\b\b\b\b\b\b\b\b\b\b\b\b\b\b\b\b\b\b\r157/157 [==============================] - 2s 15ms/step - loss: 1.4416 - mean_absolute_error: 1.0040 - val_loss: 1.5016 - val_mean_absolute_error: 1.0292\n",
            "Epoch 116/500\n",
            "153/157 [============================>.] - ETA: 0s - loss: 1.4034 - mean_absolute_error: 0.9804"
          ]
        },
        {
          "output_type": "stream",
          "name": "stderr",
          "text": [
            "WARNING:tensorflow:Can save best model only with val_accuracy available, skipping.\n"
          ]
        },
        {
          "output_type": "stream",
          "name": "stdout",
          "text": [
            "\b\b\b\b\b\b\b\b\b\b\b\b\b\b\b\b\b\b\b\b\b\b\b\b\b\b\b\b\b\b\b\b\b\b\b\b\b\b\b\b\b\b\b\b\b\b\b\b\b\b\b\b\b\b\b\b\b\b\b\b\b\b\b\b\b\b\b\b\b\b\b\b\b\b\b\b\b\b\b\b\b\b\b\b\b\b\b\b\b\b\b\b\b\b\b\r157/157 [==============================] - 2s 11ms/step - loss: 1.4060 - mean_absolute_error: 0.9819 - val_loss: 1.4461 - val_mean_absolute_error: 0.9950\n",
            "Epoch 117/500\n",
            "155/157 [============================>.] - ETA: 0s - loss: 1.4232 - mean_absolute_error: 0.9908"
          ]
        },
        {
          "output_type": "stream",
          "name": "stderr",
          "text": [
            "WARNING:tensorflow:Can save best model only with val_accuracy available, skipping.\n"
          ]
        },
        {
          "output_type": "stream",
          "name": "stdout",
          "text": [
            "\b\b\b\b\b\b\b\b\b\b\b\b\b\b\b\b\b\b\b\b\b\b\b\b\b\b\b\b\b\b\b\b\b\b\b\b\b\b\b\b\b\b\b\b\b\b\b\b\b\b\b\b\b\b\b\b\b\b\b\b\b\b\b\b\b\b\b\b\b\b\b\b\b\b\b\b\b\b\b\b\b\b\b\b\b\b\b\b\b\b\b\b\b\b\b\r157/157 [==============================] - 2s 15ms/step - loss: 1.4225 - mean_absolute_error: 0.9909 - val_loss: 1.4551 - val_mean_absolute_error: 1.0028\n",
            "Epoch 118/500\n",
            "154/157 [============================>.] - ETA: 0s - loss: 1.4161 - mean_absolute_error: 0.9879"
          ]
        },
        {
          "output_type": "stream",
          "name": "stderr",
          "text": [
            "WARNING:tensorflow:Can save best model only with val_accuracy available, skipping.\n"
          ]
        },
        {
          "output_type": "stream",
          "name": "stdout",
          "text": [
            "\b\b\b\b\b\b\b\b\b\b\b\b\b\b\b\b\b\b\b\b\b\b\b\b\b\b\b\b\b\b\b\b\b\b\b\b\b\b\b\b\b\b\b\b\b\b\b\b\b\b\b\b\b\b\b\b\b\b\b\b\b\b\b\b\b\b\b\b\b\b\b\b\b\b\b\b\b\b\b\b\b\b\b\b\b\b\b\b\b\b\b\b\b\b\b\r157/157 [==============================] - 2s 11ms/step - loss: 1.4194 - mean_absolute_error: 0.9896 - val_loss: 1.4583 - val_mean_absolute_error: 1.0040\n",
            "Epoch 119/500\n",
            "153/157 [============================>.] - ETA: 0s - loss: 1.4124 - mean_absolute_error: 0.9830"
          ]
        },
        {
          "output_type": "stream",
          "name": "stderr",
          "text": [
            "WARNING:tensorflow:Can save best model only with val_accuracy available, skipping.\n"
          ]
        },
        {
          "output_type": "stream",
          "name": "stdout",
          "text": [
            "\b\b\b\b\b\b\b\b\b\b\b\b\b\b\b\b\b\b\b\b\b\b\b\b\b\b\b\b\b\b\b\b\b\b\b\b\b\b\b\b\b\b\b\b\b\b\b\b\b\b\b\b\b\b\b\b\b\b\b\b\b\b\b\b\b\b\b\b\b\b\b\b\b\b\b\b\b\b\b\b\b\b\b\b\b\b\b\b\b\b\b\b\b\b\b\r157/157 [==============================] - 2s 10ms/step - loss: 1.4115 - mean_absolute_error: 0.9833 - val_loss: 1.4390 - val_mean_absolute_error: 0.9973\n",
            "Epoch 120/500\n",
            "155/157 [============================>.] - ETA: 0s - loss: 1.3947 - mean_absolute_error: 0.9746"
          ]
        },
        {
          "output_type": "stream",
          "name": "stderr",
          "text": [
            "WARNING:tensorflow:Can save best model only with val_accuracy available, skipping.\n"
          ]
        },
        {
          "output_type": "stream",
          "name": "stdout",
          "text": [
            "\b\b\b\b\b\b\b\b\b\b\b\b\b\b\b\b\b\b\b\b\b\b\b\b\b\b\b\b\b\b\b\b\b\b\b\b\b\b\b\b\b\b\b\b\b\b\b\b\b\b\b\b\b\b\b\b\b\b\b\b\b\b\b\b\b\b\b\b\b\b\b\b\b\b\b\b\b\b\b\b\b\b\b\b\b\b\b\b\b\b\b\b\b\b\b\r157/157 [==============================] - 3s 20ms/step - loss: 1.3935 - mean_absolute_error: 0.9747 - val_loss: 1.4523 - val_mean_absolute_error: 1.0008\n",
            "Epoch 121/500\n",
            "155/157 [============================>.] - ETA: 0s - loss: 1.4063 - mean_absolute_error: 0.9816"
          ]
        },
        {
          "output_type": "stream",
          "name": "stderr",
          "text": [
            "WARNING:tensorflow:Can save best model only with val_accuracy available, skipping.\n"
          ]
        },
        {
          "output_type": "stream",
          "name": "stdout",
          "text": [
            "\b\b\b\b\b\b\b\b\b\b\b\b\b\b\b\b\b\b\b\b\b\b\b\b\b\b\b\b\b\b\b\b\b\b\b\b\b\b\b\b\b\b\b\b\b\b\b\b\b\b\b\b\b\b\b\b\b\b\b\b\b\b\b\b\b\b\b\b\b\b\b\b\b\b\b\b\b\b\b\b\b\b\b\b\b\b\b\b\b\b\b\b\b\b\b\r157/157 [==============================] - 4s 25ms/step - loss: 1.4054 - mean_absolute_error: 0.9816 - val_loss: 1.4543 - val_mean_absolute_error: 0.9953\n",
            "Epoch 122/500\n",
            "153/157 [============================>.] - ETA: 0s - loss: 1.4040 - mean_absolute_error: 0.9841"
          ]
        },
        {
          "output_type": "stream",
          "name": "stderr",
          "text": [
            "WARNING:tensorflow:Can save best model only with val_accuracy available, skipping.\n"
          ]
        },
        {
          "output_type": "stream",
          "name": "stdout",
          "text": [
            "\b\b\b\b\b\b\b\b\b\b\b\b\b\b\b\b\b\b\b\b\b\b\b\b\b\b\b\b\b\b\b\b\b\b\b\b\b\b\b\b\b\b\b\b\b\b\b\b\b\b\b\b\b\b\b\b\b\b\b\b\b\b\b\b\b\b\b\b\b\b\b\b\b\b\b\b\b\b\b\b\b\b\b\b\b\b\b\b\b\b\b\b\b\b\b\r157/157 [==============================] - 2s 15ms/step - loss: 1.4045 - mean_absolute_error: 0.9847 - val_loss: 1.4581 - val_mean_absolute_error: 1.0015\n",
            "Epoch 123/500\n",
            "153/157 [============================>.] - ETA: 0s - loss: 1.4019 - mean_absolute_error: 0.9814"
          ]
        },
        {
          "output_type": "stream",
          "name": "stderr",
          "text": [
            "WARNING:tensorflow:Can save best model only with val_accuracy available, skipping.\n"
          ]
        },
        {
          "output_type": "stream",
          "name": "stdout",
          "text": [
            "\b\b\b\b\b\b\b\b\b\b\b\b\b\b\b\b\b\b\b\b\b\b\b\b\b\b\b\b\b\b\b\b\b\b\b\b\b\b\b\b\b\b\b\b\b\b\b\b\b\b\b\b\b\b\b\b\b\b\b\b\b\b\b\b\b\b\b\b\b\b\b\b\b\b\b\b\b\b\b\b\b\b\b\b\b\b\b\b\b\b\b\b\b\b\b\r157/157 [==============================] - 2s 11ms/step - loss: 1.4034 - mean_absolute_error: 0.9822 - val_loss: 1.4554 - val_mean_absolute_error: 0.9995\n",
            "Epoch 124/500\n",
            "156/157 [============================>.] - ETA: 0s - loss: 1.4160 - mean_absolute_error: 0.9863"
          ]
        },
        {
          "output_type": "stream",
          "name": "stderr",
          "text": [
            "WARNING:tensorflow:Can save best model only with val_accuracy available, skipping.\n"
          ]
        },
        {
          "output_type": "stream",
          "name": "stdout",
          "text": [
            "\b\b\b\b\b\b\b\b\b\b\b\b\b\b\b\b\b\b\b\b\b\b\b\b\b\b\b\b\b\b\b\b\b\b\b\b\b\b\b\b\b\b\b\b\b\b\b\b\b\b\b\b\b\b\b\b\b\b\b\b\b\b\b\b\b\b\b\b\b\b\b\b\b\b\b\b\b\b\b\b\b\b\b\b\b\b\b\b\b\b\b\b\b\b\b\r157/157 [==============================] - 2s 15ms/step - loss: 1.4172 - mean_absolute_error: 0.9868 - val_loss: 1.4619 - val_mean_absolute_error: 1.0017\n",
            "Epoch 125/500\n",
            "154/157 [============================>.] - ETA: 0s - loss: 1.4147 - mean_absolute_error: 0.9847"
          ]
        },
        {
          "output_type": "stream",
          "name": "stderr",
          "text": [
            "WARNING:tensorflow:Can save best model only with val_accuracy available, skipping.\n"
          ]
        },
        {
          "output_type": "stream",
          "name": "stdout",
          "text": [
            "\b\b\b\b\b\b\b\b\b\b\b\b\b\b\b\b\b\b\b\b\b\b\b\b\b\b\b\b\b\b\b\b\b\b\b\b\b\b\b\b\b\b\b\b\b\b\b\b\b\b\b\b\b\b\b\b\b\b\b\b\b\b\b\b\b\b\b\b\b\b\b\b\b\b\b\b\b\b\b\b\b\b\b\b\b\b\b\b\b\b\b\b\b\b\b\r157/157 [==============================] - 2s 13ms/step - loss: 1.4163 - mean_absolute_error: 0.9858 - val_loss: 1.4603 - val_mean_absolute_error: 1.0077\n",
            "Epoch 126/500\n",
            "157/157 [==============================] - ETA: 0s - loss: 1.4045 - mean_absolute_error: 0.9809"
          ]
        },
        {
          "output_type": "stream",
          "name": "stderr",
          "text": [
            "WARNING:tensorflow:Can save best model only with val_accuracy available, skipping.\n"
          ]
        },
        {
          "output_type": "stream",
          "name": "stdout",
          "text": [
            "\b\b\b\b\b\b\b\b\b\b\b\b\b\b\b\b\b\b\b\b\b\b\b\b\b\b\b\b\b\b\b\b\b\b\b\b\b\b\b\b\b\b\b\b\b\b\b\b\b\b\b\b\b\b\b\b\b\b\b\b\b\b\b\b\b\b\b\b\b\b\b\b\b\b\b\b\b\b\b\b\b\b\b\b\b\b\b\b\b\b\b\b\b\b\b\r157/157 [==============================] - 3s 16ms/step - loss: 1.4045 - mean_absolute_error: 0.9809 - val_loss: 1.4467 - val_mean_absolute_error: 0.9940\n",
            "Epoch 127/500\n",
            "157/157 [==============================] - ETA: 0s - loss: 1.3857 - mean_absolute_error: 0.9738"
          ]
        },
        {
          "output_type": "stream",
          "name": "stderr",
          "text": [
            "WARNING:tensorflow:Can save best model only with val_accuracy available, skipping.\n"
          ]
        },
        {
          "output_type": "stream",
          "name": "stdout",
          "text": [
            "\b\b\b\b\b\b\b\b\b\b\b\b\b\b\b\b\b\b\b\b\b\b\b\b\b\b\b\b\b\b\b\b\b\b\b\b\b\b\b\b\b\b\b\b\b\b\b\b\b\b\b\b\b\b\b\b\b\b\b\b\b\b\b\b\b\b\b\b\b\b\b\b\b\b\b\b\b\b\b\b\b\b\b\b\b\b\b\b\b\b\b\b\b\b\b\r157/157 [==============================] - 2s 11ms/step - loss: 1.3857 - mean_absolute_error: 0.9738 - val_loss: 1.4288 - val_mean_absolute_error: 0.9829\n",
            "Epoch 128/500\n",
            "155/157 [============================>.] - ETA: 0s - loss: 1.3814 - mean_absolute_error: 0.9681"
          ]
        },
        {
          "output_type": "stream",
          "name": "stderr",
          "text": [
            "WARNING:tensorflow:Can save best model only with val_accuracy available, skipping.\n"
          ]
        },
        {
          "output_type": "stream",
          "name": "stdout",
          "text": [
            "\b\b\b\b\b\b\b\b\b\b\b\b\b\b\b\b\b\b\b\b\b\b\b\b\b\b\b\b\b\b\b\b\b\b\b\b\b\b\b\b\b\b\b\b\b\b\b\b\b\b\b\b\b\b\b\b\b\b\b\b\b\b\b\b\b\b\b\b\b\b\b\b\b\b\b\b\b\b\b\b\b\b\b\b\b\b\b\b\b\b\b\b\b\b\b\r157/157 [==============================] - 2s 11ms/step - loss: 1.3810 - mean_absolute_error: 0.9682 - val_loss: 1.4087 - val_mean_absolute_error: 0.9789\n",
            "Epoch 129/500\n",
            "155/157 [============================>.] - ETA: 0s - loss: 1.3675 - mean_absolute_error: 0.9612"
          ]
        },
        {
          "output_type": "stream",
          "name": "stderr",
          "text": [
            "WARNING:tensorflow:Can save best model only with val_accuracy available, skipping.\n"
          ]
        },
        {
          "output_type": "stream",
          "name": "stdout",
          "text": [
            "\b\b\b\b\b\b\b\b\b\b\b\b\b\b\b\b\b\b\b\b\b\b\b\b\b\b\b\b\b\b\b\b\b\b\b\b\b\b\b\b\b\b\b\b\b\b\b\b\b\b\b\b\b\b\b\b\b\b\b\b\b\b\b\b\b\b\b\b\b\b\b\b\b\b\b\b\b\b\b\b\b\b\b\b\b\b\b\b\b\b\b\b\b\b\b\r157/157 [==============================] - 2s 11ms/step - loss: 1.3666 - mean_absolute_error: 0.9613 - val_loss: 1.3971 - val_mean_absolute_error: 0.9784\n",
            "Epoch 130/500\n",
            "155/157 [============================>.] - ETA: 0s - loss: 1.3470 - mean_absolute_error: 0.9559"
          ]
        },
        {
          "output_type": "stream",
          "name": "stderr",
          "text": [
            "WARNING:tensorflow:Can save best model only with val_accuracy available, skipping.\n"
          ]
        },
        {
          "output_type": "stream",
          "name": "stdout",
          "text": [
            "\b\b\b\b\b\b\b\b\b\b\b\b\b\b\b\b\b\b\b\b\b\b\b\b\b\b\b\b\b\b\b\b\b\b\b\b\b\b\b\b\b\b\b\b\b\b\b\b\b\b\b\b\b\b\b\b\b\b\b\b\b\b\b\b\b\b\b\b\b\b\b\b\b\b\b\b\b\b\b\b\b\b\b\b\b\b\b\b\b\b\b\b\b\b\b\r157/157 [==============================] - 2s 12ms/step - loss: 1.3465 - mean_absolute_error: 0.9559 - val_loss: 1.3965 - val_mean_absolute_error: 0.9729\n",
            "Epoch 131/500\n",
            "153/157 [============================>.] - ETA: 0s - loss: 1.3759 - mean_absolute_error: 0.9646"
          ]
        },
        {
          "output_type": "stream",
          "name": "stderr",
          "text": [
            "WARNING:tensorflow:Can save best model only with val_accuracy available, skipping.\n"
          ]
        },
        {
          "output_type": "stream",
          "name": "stdout",
          "text": [
            "\b\b\b\b\b\b\b\b\b\b\b\b\b\b\b\b\b\b\b\b\b\b\b\b\b\b\b\b\b\b\b\b\b\b\b\b\b\b\b\b\b\b\b\b\b\b\b\b\b\b\b\b\b\b\b\b\b\b\b\b\b\b\b\b\b\b\b\b\b\b\b\b\b\b\b\b\b\b\b\b\b\b\b\b\b\b\b\b\b\b\b\b\b\b\b\r157/157 [==============================] - 2s 11ms/step - loss: 1.3752 - mean_absolute_error: 0.9648 - val_loss: 1.4011 - val_mean_absolute_error: 0.9816\n",
            "Epoch 132/500\n",
            "155/157 [============================>.] - ETA: 0s - loss: 1.3502 - mean_absolute_error: 0.9572"
          ]
        },
        {
          "output_type": "stream",
          "name": "stderr",
          "text": [
            "WARNING:tensorflow:Can save best model only with val_accuracy available, skipping.\n"
          ]
        },
        {
          "output_type": "stream",
          "name": "stdout",
          "text": [
            "\b\b\b\b\b\b\b\b\b\b\b\b\b\b\b\b\b\b\b\b\b\b\b\b\b\b\b\b\b\b\b\b\b\b\b\b\b\b\b\b\b\b\b\b\b\b\b\b\b\b\b\b\b\b\b\b\b\b\b\b\b\b\b\b\b\b\b\b\b\b\b\b\b\b\b\b\b\b\b\b\b\b\b\b\b\b\b\b\b\b\b\b\b\b\b\r157/157 [==============================] - 2s 14ms/step - loss: 1.3485 - mean_absolute_error: 0.9570 - val_loss: 1.4015 - val_mean_absolute_error: 0.9720\n",
            "Epoch 133/500\n",
            "156/157 [============================>.] - ETA: 0s - loss: 1.3665 - mean_absolute_error: 0.9604"
          ]
        },
        {
          "output_type": "stream",
          "name": "stderr",
          "text": [
            "WARNING:tensorflow:Can save best model only with val_accuracy available, skipping.\n"
          ]
        },
        {
          "output_type": "stream",
          "name": "stdout",
          "text": [
            "\b\b\b\b\b\b\b\b\b\b\b\b\b\b\b\b\b\b\b\b\b\b\b\b\b\b\b\b\b\b\b\b\b\b\b\b\b\b\b\b\b\b\b\b\b\b\b\b\b\b\b\b\b\b\b\b\b\b\b\b\b\b\b\b\b\b\b\b\b\b\b\b\b\b\b\b\b\b\b\b\b\b\b\b\b\b\b\b\b\b\b\b\b\b\b\r157/157 [==============================] - 2s 16ms/step - loss: 1.3671 - mean_absolute_error: 0.9609 - val_loss: 1.3933 - val_mean_absolute_error: 0.9732\n",
            "Epoch 134/500\n",
            "155/157 [============================>.] - ETA: 0s - loss: 1.3447 - mean_absolute_error: 0.9482"
          ]
        },
        {
          "output_type": "stream",
          "name": "stderr",
          "text": [
            "WARNING:tensorflow:Can save best model only with val_accuracy available, skipping.\n"
          ]
        },
        {
          "output_type": "stream",
          "name": "stdout",
          "text": [
            "\b\b\b\b\b\b\b\b\b\b\b\b\b\b\b\b\b\b\b\b\b\b\b\b\b\b\b\b\b\b\b\b\b\b\b\b\b\b\b\b\b\b\b\b\b\b\b\b\b\b\b\b\b\b\b\b\b\b\b\b\b\b\b\b\b\b\b\b\b\b\b\b\b\b\b\b\b\b\b\b\b\b\b\b\b\b\b\b\b\b\b\b\b\b\b\r157/157 [==============================] - 2s 11ms/step - loss: 1.3429 - mean_absolute_error: 0.9480 - val_loss: 1.4241 - val_mean_absolute_error: 0.9799\n",
            "Epoch 135/500\n",
            "152/157 [============================>.] - ETA: 0s - loss: 1.3473 - mean_absolute_error: 0.9514"
          ]
        },
        {
          "output_type": "stream",
          "name": "stderr",
          "text": [
            "WARNING:tensorflow:Can save best model only with val_accuracy available, skipping.\n"
          ]
        },
        {
          "output_type": "stream",
          "name": "stdout",
          "text": [
            "\b\b\b\b\b\b\b\b\b\b\b\b\b\b\b\b\b\b\b\b\b\b\b\b\b\b\b\b\b\b\b\b\b\b\b\b\b\b\b\b\b\b\b\b\b\b\b\b\b\b\b\b\b\b\b\b\b\b\b\b\b\b\b\b\b\b\b\b\b\b\b\b\b\b\b\b\b\b\b\b\b\b\b\b\b\b\b\b\b\b\b\b\b\b\b\r157/157 [==============================] - 2s 11ms/step - loss: 1.3457 - mean_absolute_error: 0.9511 - val_loss: 1.4162 - val_mean_absolute_error: 0.9784\n",
            "Epoch 136/500\n",
            "153/157 [============================>.] - ETA: 0s - loss: 1.3230 - mean_absolute_error: 0.9432"
          ]
        },
        {
          "output_type": "stream",
          "name": "stderr",
          "text": [
            "WARNING:tensorflow:Can save best model only with val_accuracy available, skipping.\n"
          ]
        },
        {
          "output_type": "stream",
          "name": "stdout",
          "text": [
            "\b\b\b\b\b\b\b\b\b\b\b\b\b\b\b\b\b\b\b\b\b\b\b\b\b\b\b\b\b\b\b\b\b\b\b\b\b\b\b\b\b\b\b\b\b\b\b\b\b\b\b\b\b\b\b\b\b\b\b\b\b\b\b\b\b\b\b\b\b\b\b\b\b\b\b\b\b\b\b\b\b\b\b\b\b\b\b\b\b\b\b\b\b\b\b\r157/157 [==============================] - 2s 11ms/step - loss: 1.3247 - mean_absolute_error: 0.9445 - val_loss: 1.4219 - val_mean_absolute_error: 0.9756\n",
            "Epoch 137/500\n",
            "154/157 [============================>.] - ETA: 0s - loss: 1.3544 - mean_absolute_error: 0.9546"
          ]
        },
        {
          "output_type": "stream",
          "name": "stderr",
          "text": [
            "WARNING:tensorflow:Can save best model only with val_accuracy available, skipping.\n"
          ]
        },
        {
          "output_type": "stream",
          "name": "stdout",
          "text": [
            "\b\b\b\b\b\b\b\b\b\b\b\b\b\b\b\b\b\b\b\b\b\b\b\b\b\b\b\b\b\b\b\b\b\b\b\b\b\b\b\b\b\b\b\b\b\b\b\b\b\b\b\b\b\b\b\b\b\b\b\b\b\b\b\b\b\b\b\b\b\b\b\b\b\b\b\b\b\b\b\b\b\b\b\b\b\b\b\b\b\b\b\b\b\b\b\r157/157 [==============================] - 2s 11ms/step - loss: 1.3537 - mean_absolute_error: 0.9549 - val_loss: 1.4219 - val_mean_absolute_error: 0.9829\n",
            "Epoch 138/500\n",
            "156/157 [============================>.] - ETA: 0s - loss: 1.3452 - mean_absolute_error: 0.9501"
          ]
        },
        {
          "output_type": "stream",
          "name": "stderr",
          "text": [
            "WARNING:tensorflow:Can save best model only with val_accuracy available, skipping.\n"
          ]
        },
        {
          "output_type": "stream",
          "name": "stdout",
          "text": [
            "\b\b\b\b\b\b\b\b\b\b\b\b\b\b\b\b\b\b\b\b\b\b\b\b\b\b\b\b\b\b\b\b\b\b\b\b\b\b\b\b\b\b\b\b\b\b\b\b\b\b\b\b\b\b\b\b\b\b\b\b\b\b\b\b\b\b\b\b\b\b\b\b\b\b\b\b\b\b\b\b\b\b\b\b\b\b\b\b\b\b\b\b\b\b\b\r157/157 [==============================] - 2s 16ms/step - loss: 1.3465 - mean_absolute_error: 0.9507 - val_loss: 1.4393 - val_mean_absolute_error: 0.9886\n",
            "Epoch 139/500\n",
            "153/157 [============================>.] - ETA: 0s - loss: 1.3451 - mean_absolute_error: 0.9486"
          ]
        },
        {
          "output_type": "stream",
          "name": "stderr",
          "text": [
            "WARNING:tensorflow:Can save best model only with val_accuracy available, skipping.\n"
          ]
        },
        {
          "output_type": "stream",
          "name": "stdout",
          "text": [
            "\b\b\b\b\b\b\b\b\b\b\b\b\b\b\b\b\b\b\b\b\b\b\b\b\b\b\b\b\b\b\b\b\b\b\b\b\b\b\b\b\b\b\b\b\b\b\b\b\b\b\b\b\b\b\b\b\b\b\b\b\b\b\b\b\b\b\b\b\b\b\b\b\b\b\b\b\b\b\b\b\b\b\b\b\b\b\b\b\b\b\b\b\b\b\b\r157/157 [==============================] - 2s 14ms/step - loss: 1.3419 - mean_absolute_error: 0.9479 - val_loss: 1.4614 - val_mean_absolute_error: 0.9894\n",
            "Epoch 140/500\n",
            "154/157 [============================>.] - ETA: 0s - loss: 1.3606 - mean_absolute_error: 0.9538"
          ]
        },
        {
          "output_type": "stream",
          "name": "stderr",
          "text": [
            "WARNING:tensorflow:Can save best model only with val_accuracy available, skipping.\n"
          ]
        },
        {
          "output_type": "stream",
          "name": "stdout",
          "text": [
            "\b\b\b\b\b\b\b\b\b\b\b\b\b\b\b\b\b\b\b\b\b\b\b\b\b\b\b\b\b\b\b\b\b\b\b\b\b\b\b\b\b\b\b\b\b\b\b\b\b\b\b\b\b\b\b\b\b\b\b\b\b\b\b\b\b\b\b\b\b\b\b\b\b\b\b\b\b\b\b\b\b\b\b\b\b\b\b\b\b\b\b\b\b\b\b\r157/157 [==============================] - 2s 11ms/step - loss: 1.3583 - mean_absolute_error: 0.9535 - val_loss: 1.4522 - val_mean_absolute_error: 0.9935\n",
            "Epoch 141/500\n",
            "155/157 [============================>.] - ETA: 0s - loss: 1.3196 - mean_absolute_error: 0.9388"
          ]
        },
        {
          "output_type": "stream",
          "name": "stderr",
          "text": [
            "WARNING:tensorflow:Can save best model only with val_accuracy available, skipping.\n"
          ]
        },
        {
          "output_type": "stream",
          "name": "stdout",
          "text": [
            "\b\b\b\b\b\b\b\b\b\b\b\b\b\b\b\b\b\b\b\b\b\b\b\b\b\b\b\b\b\b\b\b\b\b\b\b\b\b\b\b\b\b\b\b\b\b\b\b\b\b\b\b\b\b\b\b\b\b\b\b\b\b\b\b\b\b\b\b\b\b\b\b\b\b\b\b\b\b\b\b\b\b\b\b\b\b\b\b\b\b\b\b\b\b\b\r157/157 [==============================] - 2s 11ms/step - loss: 1.3160 - mean_absolute_error: 0.9375 - val_loss: 1.4621 - val_mean_absolute_error: 0.9879\n",
            "Epoch 142/500\n",
            "156/157 [============================>.] - ETA: 0s - loss: 1.3188 - mean_absolute_error: 0.9356"
          ]
        },
        {
          "output_type": "stream",
          "name": "stderr",
          "text": [
            "WARNING:tensorflow:Can save best model only with val_accuracy available, skipping.\n"
          ]
        },
        {
          "output_type": "stream",
          "name": "stdout",
          "text": [
            "\b\b\b\b\b\b\b\b\b\b\b\b\b\b\b\b\b\b\b\b\b\b\b\b\b\b\b\b\b\b\b\b\b\b\b\b\b\b\b\b\b\b\b\b\b\b\b\b\b\b\b\b\b\b\b\b\b\b\b\b\b\b\b\b\b\b\b\b\b\b\b\b\b\b\b\b\b\b\b\b\b\b\b\b\b\b\b\b\b\b\b\b\b\b\b\r157/157 [==============================] - 2s 11ms/step - loss: 1.3195 - mean_absolute_error: 0.9358 - val_loss: 1.4458 - val_mean_absolute_error: 0.9853\n",
            "Epoch 143/500\n",
            "154/157 [============================>.] - ETA: 0s - loss: 1.3548 - mean_absolute_error: 0.9545"
          ]
        },
        {
          "output_type": "stream",
          "name": "stderr",
          "text": [
            "WARNING:tensorflow:Can save best model only with val_accuracy available, skipping.\n"
          ]
        },
        {
          "output_type": "stream",
          "name": "stdout",
          "text": [
            "\b\b\b\b\b\b\b\b\b\b\b\b\b\b\b\b\b\b\b\b\b\b\b\b\b\b\b\b\b\b\b\b\b\b\b\b\b\b\b\b\b\b\b\b\b\b\b\b\b\b\b\b\b\b\b\b\b\b\b\b\b\b\b\b\b\b\b\b\b\b\b\b\b\b\b\b\b\b\b\b\b\b\b\b\b\b\b\b\b\b\b\b\b\b\b\r157/157 [==============================] - 2s 11ms/step - loss: 1.3534 - mean_absolute_error: 0.9544 - val_loss: 1.4497 - val_mean_absolute_error: 0.9929\n",
            "Epoch 144/500\n",
            "155/157 [============================>.] - ETA: 0s - loss: 1.3327 - mean_absolute_error: 0.9405"
          ]
        },
        {
          "output_type": "stream",
          "name": "stderr",
          "text": [
            "WARNING:tensorflow:Can save best model only with val_accuracy available, skipping.\n"
          ]
        },
        {
          "output_type": "stream",
          "name": "stdout",
          "text": [
            "\b\b\b\b\b\b\b\b\b\b\b\b\b\b\b\b\b\b\b\b\b\b\b\b\b\b\b\b\b\b\b\b\b\b\b\b\b\b\b\b\b\b\b\b\b\b\b\b\b\b\b\b\b\b\b\b\b\b\b\b\b\b\b\b\b\b\b\b\b\b\b\b\b\b\b\b\b\b\b\b\b\b\b\b\b\b\b\b\b\b\b\b\b\b\b\r157/157 [==============================] - 2s 12ms/step - loss: 1.3304 - mean_absolute_error: 0.9400 - val_loss: 1.4465 - val_mean_absolute_error: 0.9902\n",
            "Epoch 145/500\n",
            "155/157 [============================>.] - ETA: 0s - loss: 1.3561 - mean_absolute_error: 0.9545"
          ]
        },
        {
          "output_type": "stream",
          "name": "stderr",
          "text": [
            "WARNING:tensorflow:Can save best model only with val_accuracy available, skipping.\n"
          ]
        },
        {
          "output_type": "stream",
          "name": "stdout",
          "text": [
            "\b\b\b\b\b\b\b\b\b\b\b\b\b\b\b\b\b\b\b\b\b\b\b\b\b\b\b\b\b\b\b\b\b\b\b\b\b\b\b\b\b\b\b\b\b\b\b\b\b\b\b\b\b\b\b\b\b\b\b\b\b\b\b\b\b\b\b\b\b\b\b\b\b\b\b\b\b\b\b\b\b\b\b\b\b\b\b\b\b\b\b\b\b\b\b\r157/157 [==============================] - 3s 16ms/step - loss: 1.3536 - mean_absolute_error: 0.9536 - val_loss: 1.4566 - val_mean_absolute_error: 0.9924\n",
            "Epoch 146/500\n",
            "157/157 [==============================] - ETA: 0s - loss: 1.3508 - mean_absolute_error: 0.9505"
          ]
        },
        {
          "output_type": "stream",
          "name": "stderr",
          "text": [
            "WARNING:tensorflow:Can save best model only with val_accuracy available, skipping.\n"
          ]
        },
        {
          "output_type": "stream",
          "name": "stdout",
          "text": [
            "\b\b\b\b\b\b\b\b\b\b\b\b\b\b\b\b\b\b\b\b\b\b\b\b\b\b\b\b\b\b\b\b\b\b\b\b\b\b\b\b\b\b\b\b\b\b\b\b\b\b\b\b\b\b\b\b\b\b\b\b\b\b\b\b\b\b\b\b\b\b\b\b\b\b\b\b\b\b\b\b\b\b\b\b\b\b\b\b\b\b\b\b\b\b\b\r157/157 [==============================] - 2s 15ms/step - loss: 1.3508 - mean_absolute_error: 0.9505 - val_loss: 1.4524 - val_mean_absolute_error: 0.9948\n",
            "Epoch 147/500\n",
            "157/157 [==============================] - ETA: 0s - loss: 1.3172 - mean_absolute_error: 0.9407"
          ]
        },
        {
          "output_type": "stream",
          "name": "stderr",
          "text": [
            "WARNING:tensorflow:Can save best model only with val_accuracy available, skipping.\n"
          ]
        },
        {
          "output_type": "stream",
          "name": "stdout",
          "text": [
            "\b\b\b\b\b\b\b\b\b\b\b\b\b\b\b\b\b\b\b\b\b\b\b\b\b\b\b\b\b\b\b\b\b\b\b\b\b\b\b\b\b\b\b\b\b\b\b\b\b\b\b\b\b\b\b\b\b\b\b\b\b\b\b\b\b\b\b\b\b\b\b\b\b\b\b\b\b\b\b\b\b\b\b\b\b\b\b\b\b\b\b\b\b\b\b\r157/157 [==============================] - 3s 17ms/step - loss: 1.3172 - mean_absolute_error: 0.9407 - val_loss: 1.4045 - val_mean_absolute_error: 0.9807\n",
            "Epoch 148/500\n",
            "154/157 [============================>.] - ETA: 0s - loss: 1.3189 - mean_absolute_error: 0.9448"
          ]
        },
        {
          "output_type": "stream",
          "name": "stderr",
          "text": [
            "WARNING:tensorflow:Can save best model only with val_accuracy available, skipping.\n"
          ]
        },
        {
          "output_type": "stream",
          "name": "stdout",
          "text": [
            "\b\b\b\b\b\b\b\b\b\b\b\b\b\b\b\b\b\b\b\b\b\b\b\b\b\b\b\b\b\b\b\b\b\b\b\b\b\b\b\b\b\b\b\b\b\b\b\b\b\b\b\b\b\b\b\b\b\b\b\b\b\b\b\b\b\b\b\b\b\b\b\b\b\b\b\b\b\b\b\b\b\b\b\b\b\b\b\b\b\b\b\b\b\b\b\r157/157 [==============================] - 2s 11ms/step - loss: 1.3192 - mean_absolute_error: 0.9456 - val_loss: 1.3130 - val_mean_absolute_error: 0.9416\n",
            "Epoch 149/500\n",
            "155/157 [============================>.] - ETA: 0s - loss: 1.2943 - mean_absolute_error: 0.9312"
          ]
        },
        {
          "output_type": "stream",
          "name": "stderr",
          "text": [
            "WARNING:tensorflow:Can save best model only with val_accuracy available, skipping.\n"
          ]
        },
        {
          "output_type": "stream",
          "name": "stdout",
          "text": [
            "\b\b\b\b\b\b\b\b\b\b\b\b\b\b\b\b\b\b\b\b\b\b\b\b\b\b\b\b\b\b\b\b\b\b\b\b\b\b\b\b\b\b\b\b\b\b\b\b\b\b\b\b\b\b\b\b\b\b\b\b\b\b\b\b\b\b\b\b\b\b\b\b\b\b\b\b\b\b\b\b\b\b\b\b\b\b\b\b\b\b\b\b\b\b\b\r157/157 [==============================] - 2s 13ms/step - loss: 1.2942 - mean_absolute_error: 0.9316 - val_loss: 1.3394 - val_mean_absolute_error: 0.9464\n",
            "Epoch 150/500\n",
            "155/157 [============================>.] - ETA: 0s - loss: 1.2873 - mean_absolute_error: 0.9286"
          ]
        },
        {
          "output_type": "stream",
          "name": "stderr",
          "text": [
            "WARNING:tensorflow:Can save best model only with val_accuracy available, skipping.\n"
          ]
        },
        {
          "output_type": "stream",
          "name": "stdout",
          "text": [
            "\b\b\b\b\b\b\b\b\b\b\b\b\b\b\b\b\b\b\b\b\b\b\b\b\b\b\b\b\b\b\b\b\b\b\b\b\b\b\b\b\b\b\b\b\b\b\b\b\b\b\b\b\b\b\b\b\b\b\b\b\b\b\b\b\b\b\b\b\b\b\b\b\b\b\b\b\b\b\b\b\b\b\b\b\b\b\b\b\b\b\b\b\b\b\b\r157/157 [==============================] - 3s 16ms/step - loss: 1.2840 - mean_absolute_error: 0.9276 - val_loss: 1.3461 - val_mean_absolute_error: 0.9405\n",
            "Epoch 151/500\n",
            "156/157 [============================>.] - ETA: 0s - loss: 1.2632 - mean_absolute_error: 0.9130"
          ]
        },
        {
          "output_type": "stream",
          "name": "stderr",
          "text": [
            "WARNING:tensorflow:Can save best model only with val_accuracy available, skipping.\n"
          ]
        },
        {
          "output_type": "stream",
          "name": "stdout",
          "text": [
            "\b\b\b\b\b\b\b\b\b\b\b\b\b\b\b\b\b\b\b\b\b\b\b\b\b\b\b\b\b\b\b\b\b\b\b\b\b\b\b\b\b\b\b\b\b\b\b\b\b\b\b\b\b\b\b\b\b\b\b\b\b\b\b\b\b\b\b\b\b\b\b\b\b\b\b\b\b\b\b\b\b\b\b\b\b\b\b\b\b\b\b\b\b\b\b\r157/157 [==============================] - 2s 14ms/step - loss: 1.2644 - mean_absolute_error: 0.9135 - val_loss: 1.3444 - val_mean_absolute_error: 0.9394\n",
            "Epoch 152/500\n",
            "157/157 [==============================] - ETA: 0s - loss: 1.5945 - mean_absolute_error: 1.0531"
          ]
        },
        {
          "output_type": "stream",
          "name": "stderr",
          "text": [
            "WARNING:tensorflow:Can save best model only with val_accuracy available, skipping.\n"
          ]
        },
        {
          "output_type": "stream",
          "name": "stdout",
          "text": [
            "\b\b\b\b\b\b\b\b\b\b\b\b\b\b\b\b\b\b\b\b\b\b\b\b\b\b\b\b\b\b\b\b\b\b\b\b\b\b\b\b\b\b\b\b\b\b\b\b\b\b\b\b\b\b\b\b\b\b\b\b\b\b\b\b\b\b\b\b\b\b\b\b\b\b\b\b\b\b\b\b\b\b\b\b\b\b\b\b\b\b\b\b\b\b\b\r157/157 [==============================] - 2s 15ms/step - loss: 1.5945 - mean_absolute_error: 1.0531 - val_loss: 1.7295 - val_mean_absolute_error: 1.1241\n",
            "Epoch 153/500\n",
            "152/157 [============================>.] - ETA: 0s - loss: 1.5076 - mean_absolute_error: 1.0351"
          ]
        },
        {
          "output_type": "stream",
          "name": "stderr",
          "text": [
            "WARNING:tensorflow:Can save best model only with val_accuracy available, skipping.\n"
          ]
        },
        {
          "output_type": "stream",
          "name": "stdout",
          "text": [
            "\b\b\b\b\b\b\b\b\b\b\b\b\b\b\b\b\b\b\b\b\b\b\b\b\b\b\b\b\b\b\b\b\b\b\b\b\b\b\b\b\b\b\b\b\b\b\b\b\b\b\b\b\b\b\b\b\b\b\b\b\b\b\b\b\b\b\b\b\b\b\b\b\b\b\b\b\b\b\b\b\b\b\b\b\b\b\b\b\b\b\b\b\b\b\b\r157/157 [==============================] - 2s 11ms/step - loss: 1.5115 - mean_absolute_error: 1.0362 - val_loss: 1.6270 - val_mean_absolute_error: 1.0709\n",
            "Epoch 154/500\n",
            "154/157 [============================>.] - ETA: 0s - loss: 1.4851 - mean_absolute_error: 1.0237"
          ]
        },
        {
          "output_type": "stream",
          "name": "stderr",
          "text": [
            "WARNING:tensorflow:Can save best model only with val_accuracy available, skipping.\n"
          ]
        },
        {
          "output_type": "stream",
          "name": "stdout",
          "text": [
            "\b\b\b\b\b\b\b\b\b\b\b\b\b\b\b\b\b\b\b\b\b\b\b\b\b\b\b\b\b\b\b\b\b\b\b\b\b\b\b\b\b\b\b\b\b\b\b\b\b\b\b\b\b\b\b\b\b\b\b\b\b\b\b\b\b\b\b\b\b\b\b\b\b\b\b\b\b\b\b\b\b\b\b\b\b\b\b\b\b\b\b\b\b\b\b\r157/157 [==============================] - 2s 13ms/step - loss: 1.4873 - mean_absolute_error: 1.0245 - val_loss: 1.5962 - val_mean_absolute_error: 1.0613\n",
            "Epoch 155/500\n",
            "153/157 [============================>.] - ETA: 0s - loss: 1.4883 - mean_absolute_error: 1.0244"
          ]
        },
        {
          "output_type": "stream",
          "name": "stderr",
          "text": [
            "WARNING:tensorflow:Can save best model only with val_accuracy available, skipping.\n"
          ]
        },
        {
          "output_type": "stream",
          "name": "stdout",
          "text": [
            "\b\b\b\b\b\b\b\b\b\b\b\b\b\b\b\b\b\b\b\b\b\b\b\b\b\b\b\b\b\b\b\b\b\b\b\b\b\b\b\b\b\b\b\b\b\b\b\b\b\b\b\b\b\b\b\b\b\b\b\b\b\b\b\b\b\b\b\b\b\b\b\b\b\b\b\b\b\b\b\b\b\b\b\b\b\b\b\b\b\b\b\b\b\b\b\r157/157 [==============================] - 2s 15ms/step - loss: 1.4881 - mean_absolute_error: 1.0243 - val_loss: 1.6008 - val_mean_absolute_error: 1.0645\n",
            "Epoch 156/500\n",
            "157/157 [==============================] - ETA: 0s - loss: 1.4779 - mean_absolute_error: 1.0211"
          ]
        },
        {
          "output_type": "stream",
          "name": "stderr",
          "text": [
            "WARNING:tensorflow:Can save best model only with val_accuracy available, skipping.\n"
          ]
        },
        {
          "output_type": "stream",
          "name": "stdout",
          "text": [
            "\b\b\b\b\b\b\b\b\b\b\b\b\b\b\b\b\b\b\b\b\b\b\b\b\b\b\b\b\b\b\b\b\b\b\b\b\b\b\b\b\b\b\b\b\b\b\b\b\b\b\b\b\b\b\b\b\b\b\b\b\b\b\b\b\b\b\b\b\b\b\b\b\b\b\b\b\b\b\b\b\b\b\b\b\b\b\b\b\b\b\b\b\b\b\b\r157/157 [==============================] - 2s 11ms/step - loss: 1.4779 - mean_absolute_error: 1.0211 - val_loss: 1.5908 - val_mean_absolute_error: 1.0628\n",
            "Epoch 157/500\n",
            "155/157 [============================>.] - ETA: 0s - loss: 1.4519 - mean_absolute_error: 0.9960"
          ]
        },
        {
          "output_type": "stream",
          "name": "stderr",
          "text": [
            "WARNING:tensorflow:Can save best model only with val_accuracy available, skipping.\n"
          ]
        },
        {
          "output_type": "stream",
          "name": "stdout",
          "text": [
            "\b\b\b\b\b\b\b\b\b\b\b\b\b\b\b\b\b\b\b\b\b\b\b\b\b\b\b\b\b\b\b\b\b\b\b\b\b\b\b\b\b\b\b\b\b\b\b\b\b\b\b\b\b\b\b\b\b\b\b\b\b\b\b\b\b\b\b\b\b\b\b\b\b\b\b\b\b\b\b\b\b\b\b\b\b\b\b\b\b\b\b\b\b\b\b\r157/157 [==============================] - 2s 11ms/step - loss: 1.4492 - mean_absolute_error: 0.9949 - val_loss: 1.4731 - val_mean_absolute_error: 0.9979\n",
            "Epoch 158/500\n",
            "153/157 [============================>.] - ETA: 0s - loss: 1.3335 - mean_absolute_error: 0.9475"
          ]
        },
        {
          "output_type": "stream",
          "name": "stderr",
          "text": [
            "WARNING:tensorflow:Can save best model only with val_accuracy available, skipping.\n"
          ]
        },
        {
          "output_type": "stream",
          "name": "stdout",
          "text": [
            "\b\b\b\b\b\b\b\b\b\b\b\b\b\b\b\b\b\b\b\b\b\b\b\b\b\b\b\b\b\b\b\b\b\b\b\b\b\b\b\b\b\b\b\b\b\b\b\b\b\b\b\b\b\b\b\b\b\b\b\b\b\b\b\b\b\b\b\b\b\b\b\b\b\b\b\b\b\b\b\b\b\b\b\b\b\b\b\b\b\b\b\b\b\b\b\r157/157 [==============================] - 2s 11ms/step - loss: 1.3294 - mean_absolute_error: 0.9463 - val_loss: 1.4854 - val_mean_absolute_error: 0.9934\n",
            "Epoch 159/500\n",
            "155/157 [============================>.] - ETA: 0s - loss: 1.3480 - mean_absolute_error: 0.9501"
          ]
        },
        {
          "output_type": "stream",
          "name": "stderr",
          "text": [
            "WARNING:tensorflow:Can save best model only with val_accuracy available, skipping.\n"
          ]
        },
        {
          "output_type": "stream",
          "name": "stdout",
          "text": [
            "\b\b\b\b\b\b\b\b\b\b\b\b\b\b\b\b\b\b\b\b\b\b\b\b\b\b\b\b\b\b\b\b\b\b\b\b\b\b\b\b\b\b\b\b\b\b\b\b\b\b\b\b\b\b\b\b\b\b\b\b\b\b\b\b\b\b\b\b\b\b\b\b\b\b\b\b\b\b\b\b\b\b\b\b\b\b\b\b\b\b\b\b\b\b\b\r157/157 [==============================] - 2s 11ms/step - loss: 1.3457 - mean_absolute_error: 0.9494 - val_loss: 1.4856 - val_mean_absolute_error: 0.9966\n",
            "Epoch 160/500\n",
            "154/157 [============================>.] - ETA: 0s - loss: 1.3647 - mean_absolute_error: 0.9547"
          ]
        },
        {
          "output_type": "stream",
          "name": "stderr",
          "text": [
            "WARNING:tensorflow:Can save best model only with val_accuracy available, skipping.\n"
          ]
        },
        {
          "output_type": "stream",
          "name": "stdout",
          "text": [
            "\b\b\b\b\b\b\b\b\b\b\b\b\b\b\b\b\b\b\b\b\b\b\b\b\b\b\b\b\b\b\b\b\b\b\b\b\b\b\b\b\b\b\b\b\b\b\b\b\b\b\b\b\b\b\b\b\b\b\b\b\b\b\b\b\b\b\b\b\b\b\b\b\b\b\b\b\b\b\b\b\b\b\b\b\b\b\b\b\b\b\b\b\b\b\b\r157/157 [==============================] - 2s 11ms/step - loss: 1.3651 - mean_absolute_error: 0.9557 - val_loss: 1.5683 - val_mean_absolute_error: 1.0398\n",
            "Epoch 161/500\n",
            "156/157 [============================>.] - ETA: 0s - loss: 1.4018 - mean_absolute_error: 0.9860"
          ]
        },
        {
          "output_type": "stream",
          "name": "stderr",
          "text": [
            "WARNING:tensorflow:Can save best model only with val_accuracy available, skipping.\n"
          ]
        },
        {
          "output_type": "stream",
          "name": "stdout",
          "text": [
            "\b\b\b\b\b\b\b\b\b\b\b\b\b\b\b\b\b\b\b\b\b\b\b\b\b\b\b\b\b\b\b\b\b\b\b\b\b\b\b\b\b\b\b\b\b\b\b\b\b\b\b\b\b\b\b\b\b\b\b\b\b\b\b\b\b\b\b\b\b\b\b\b\b\b\b\b\b\b\b\b\b\b\b\b\b\b\b\b\b\b\b\b\b\b\b\r157/157 [==============================] - 2s 16ms/step - loss: 1.4031 - mean_absolute_error: 0.9866 - val_loss: 1.4652 - val_mean_absolute_error: 1.0130\n",
            "Epoch 162/500\n",
            "153/157 [============================>.] - ETA: 0s - loss: 1.3665 - mean_absolute_error: 0.9632"
          ]
        },
        {
          "output_type": "stream",
          "name": "stderr",
          "text": [
            "WARNING:tensorflow:Can save best model only with val_accuracy available, skipping.\n"
          ]
        },
        {
          "output_type": "stream",
          "name": "stdout",
          "text": [
            "\b\b\b\b\b\b\b\b\b\b\b\b\b\b\b\b\b\b\b\b\b\b\b\b\b\b\b\b\b\b\b\b\b\b\b\b\b\b\b\b\b\b\b\b\b\b\b\b\b\b\b\b\b\b\b\b\b\b\b\b\b\b\b\b\b\b\b\b\b\b\b\b\b\b\b\b\b\b\b\b\b\b\b\b\b\b\b\b\b\b\b\b\b\b\b\r157/157 [==============================] - 2s 11ms/step - loss: 1.3674 - mean_absolute_error: 0.9642 - val_loss: 1.4380 - val_mean_absolute_error: 0.9971\n",
            "Epoch 163/500\n",
            "153/157 [============================>.] - ETA: 0s - loss: 1.3384 - mean_absolute_error: 0.9541"
          ]
        },
        {
          "output_type": "stream",
          "name": "stderr",
          "text": [
            "WARNING:tensorflow:Can save best model only with val_accuracy available, skipping.\n"
          ]
        },
        {
          "output_type": "stream",
          "name": "stdout",
          "text": [
            "\b\b\b\b\b\b\b\b\b\b\b\b\b\b\b\b\b\b\b\b\b\b\b\b\b\b\b\b\b\b\b\b\b\b\b\b\b\b\b\b\b\b\b\b\b\b\b\b\b\b\b\b\b\b\b\b\b\b\b\b\b\b\b\b\b\b\b\b\b\b\b\b\b\b\b\b\b\b\b\b\b\b\b\b\b\b\b\b\b\b\b\b\b\b\b\r157/157 [==============================] - 2s 11ms/step - loss: 1.3405 - mean_absolute_error: 0.9555 - val_loss: 1.4894 - val_mean_absolute_error: 1.0082\n",
            "Epoch 164/500\n",
            "155/157 [============================>.] - ETA: 0s - loss: 1.3879 - mean_absolute_error: 0.9753"
          ]
        },
        {
          "output_type": "stream",
          "name": "stderr",
          "text": [
            "WARNING:tensorflow:Can save best model only with val_accuracy available, skipping.\n"
          ]
        },
        {
          "output_type": "stream",
          "name": "stdout",
          "text": [
            "\b\b\b\b\b\b\b\b\b\b\b\b\b\b\b\b\b\b\b\b\b\b\b\b\b\b\b\b\b\b\b\b\b\b\b\b\b\b\b\b\b\b\b\b\b\b\b\b\b\b\b\b\b\b\b\b\b\b\b\b\b\b\b\b\b\b\b\b\b\b\b\b\b\b\b\b\b\b\b\b\b\b\b\b\b\b\b\b\b\b\b\b\b\b\b\r157/157 [==============================] - 2s 11ms/step - loss: 1.3869 - mean_absolute_error: 0.9752 - val_loss: 1.4562 - val_mean_absolute_error: 1.0008\n",
            "Epoch 165/500\n",
            "155/157 [============================>.] - ETA: 0s - loss: 1.3613 - mean_absolute_error: 0.9650"
          ]
        },
        {
          "output_type": "stream",
          "name": "stderr",
          "text": [
            "WARNING:tensorflow:Can save best model only with val_accuracy available, skipping.\n"
          ]
        },
        {
          "output_type": "stream",
          "name": "stdout",
          "text": [
            "\b\b\b\b\b\b\b\b\b\b\b\b\b\b\b\b\b\b\b\b\b\b\b\b\b\b\b\b\b\b\b\b\b\b\b\b\b\b\b\b\b\b\b\b\b\b\b\b\b\b\b\b\b\b\b\b\b\b\b\b\b\b\b\b\b\b\b\b\b\b\b\b\b\b\b\b\b\b\b\b\b\b\b\b\b\b\b\b\b\b\b\b\b\b\b\r157/157 [==============================] - 2s 11ms/step - loss: 1.3601 - mean_absolute_error: 0.9649 - val_loss: 1.4297 - val_mean_absolute_error: 0.9908\n",
            "Epoch 166/500\n",
            "157/157 [==============================] - ETA: 0s - loss: 1.3203 - mean_absolute_error: 0.9432"
          ]
        },
        {
          "output_type": "stream",
          "name": "stderr",
          "text": [
            "WARNING:tensorflow:Can save best model only with val_accuracy available, skipping.\n"
          ]
        },
        {
          "output_type": "stream",
          "name": "stdout",
          "text": [
            "\b\b\b\b\b\b\b\b\b\b\b\b\b\b\b\b\b\b\b\b\b\b\b\b\b\b\b\b\b\b\b\b\b\b\b\b\b\b\b\b\b\b\b\b\b\b\b\b\b\b\b\b\b\b\b\b\b\b\b\b\b\b\b\b\b\b\b\b\b\b\b\b\b\b\b\b\b\b\b\b\b\b\b\b\b\b\b\b\b\b\b\b\b\b\b\r157/157 [==============================] - 2s 11ms/step - loss: 1.3203 - mean_absolute_error: 0.9432 - val_loss: 1.3968 - val_mean_absolute_error: 0.9719\n",
            "Epoch 167/500\n",
            "156/157 [============================>.] - ETA: 0s - loss: 1.2950 - mean_absolute_error: 0.9284"
          ]
        },
        {
          "output_type": "stream",
          "name": "stderr",
          "text": [
            "WARNING:tensorflow:Can save best model only with val_accuracy available, skipping.\n"
          ]
        },
        {
          "output_type": "stream",
          "name": "stdout",
          "text": [
            "\b\b\b\b\b\b\b\b\b\b\b\b\b\b\b\b\b\b\b\b\b\b\b\b\b\b\b\b\b\b\b\b\b\b\b\b\b\b\b\b\b\b\b\b\b\b\b\b\b\b\b\b\b\b\b\b\b\b\b\b\b\b\b\b\b\b\b\b\b\b\b\b\b\b\b\b\b\b\b\b\b\b\b\b\b\b\b\b\b\b\b\b\b\b\b\r157/157 [==============================] - 3s 16ms/step - loss: 1.2966 - mean_absolute_error: 0.9289 - val_loss: 1.3930 - val_mean_absolute_error: 0.9675\n",
            "Epoch 168/500\n",
            "156/157 [============================>.] - ETA: 0s - loss: 1.3005 - mean_absolute_error: 0.9332"
          ]
        },
        {
          "output_type": "stream",
          "name": "stderr",
          "text": [
            "WARNING:tensorflow:Can save best model only with val_accuracy available, skipping.\n"
          ]
        },
        {
          "output_type": "stream",
          "name": "stdout",
          "text": [
            "\b\b\b\b\b\b\b\b\b\b\b\b\b\b\b\b\b\b\b\b\b\b\b\b\b\b\b\b\b\b\b\b\b\b\b\b\b\b\b\b\b\b\b\b\b\b\b\b\b\b\b\b\b\b\b\b\b\b\b\b\b\b\b\b\b\b\b\b\b\b\b\b\b\b\b\b\b\b\b\b\b\b\b\b\b\b\b\b\b\b\b\b\b\b\b\r157/157 [==============================] - 2s 14ms/step - loss: 1.3005 - mean_absolute_error: 0.9334 - val_loss: 1.3890 - val_mean_absolute_error: 0.9646\n",
            "Epoch 169/500\n",
            "153/157 [============================>.] - ETA: 0s - loss: 1.2991 - mean_absolute_error: 0.9359"
          ]
        },
        {
          "output_type": "stream",
          "name": "stderr",
          "text": [
            "WARNING:tensorflow:Can save best model only with val_accuracy available, skipping.\n"
          ]
        },
        {
          "output_type": "stream",
          "name": "stdout",
          "text": [
            "\b\b\b\b\b\b\b\b\b\b\b\b\b\b\b\b\b\b\b\b\b\b\b\b\b\b\b\b\b\b\b\b\b\b\b\b\b\b\b\b\b\b\b\b\b\b\b\b\b\b\b\b\b\b\b\b\b\b\b\b\b\b\b\b\b\b\b\b\b\b\b\b\b\b\b\b\b\b\b\b\b\b\b\b\b\b\b\b\b\b\b\b\b\b\b\r157/157 [==============================] - 2s 12ms/step - loss: 1.2976 - mean_absolute_error: 0.9360 - val_loss: 1.3798 - val_mean_absolute_error: 0.9605\n",
            "Epoch 170/500\n",
            "155/157 [============================>.] - ETA: 0s - loss: 1.3230 - mean_absolute_error: 0.9397"
          ]
        },
        {
          "output_type": "stream",
          "name": "stderr",
          "text": [
            "WARNING:tensorflow:Can save best model only with val_accuracy available, skipping.\n"
          ]
        },
        {
          "output_type": "stream",
          "name": "stdout",
          "text": [
            "\b\b\b\b\b\b\b\b\b\b\b\b\b\b\b\b\b\b\b\b\b\b\b\b\b\b\b\b\b\b\b\b\b\b\b\b\b\b\b\b\b\b\b\b\b\b\b\b\b\b\b\b\b\b\b\b\b\b\b\b\b\b\b\b\b\b\b\b\b\b\b\b\b\b\b\b\b\b\b\b\b\b\b\b\b\b\b\b\b\b\b\b\b\b\b\r157/157 [==============================] - 2s 11ms/step - loss: 1.3217 - mean_absolute_error: 0.9393 - val_loss: 1.3747 - val_mean_absolute_error: 0.9614\n",
            "Epoch 171/500\n",
            "157/157 [==============================] - ETA: 0s - loss: 1.3089 - mean_absolute_error: 0.9404"
          ]
        },
        {
          "output_type": "stream",
          "name": "stderr",
          "text": [
            "WARNING:tensorflow:Can save best model only with val_accuracy available, skipping.\n"
          ]
        },
        {
          "output_type": "stream",
          "name": "stdout",
          "text": [
            "\b\b\b\b\b\b\b\b\b\b\b\b\b\b\b\b\b\b\b\b\b\b\b\b\b\b\b\b\b\b\b\b\b\b\b\b\b\b\b\b\b\b\b\b\b\b\b\b\b\b\b\b\b\b\b\b\b\b\b\b\b\b\b\b\b\b\b\b\b\b\b\b\b\b\b\b\b\b\b\b\b\b\b\b\b\b\b\b\b\b\b\b\b\b\b\r157/157 [==============================] - 2s 13ms/step - loss: 1.3089 - mean_absolute_error: 0.9404 - val_loss: 1.3805 - val_mean_absolute_error: 0.9570\n",
            "Epoch 172/500\n",
            "156/157 [============================>.] - ETA: 0s - loss: 1.2871 - mean_absolute_error: 0.9269"
          ]
        },
        {
          "output_type": "stream",
          "name": "stderr",
          "text": [
            "WARNING:tensorflow:Can save best model only with val_accuracy available, skipping.\n"
          ]
        },
        {
          "output_type": "stream",
          "name": "stdout",
          "text": [
            "\b\b\b\b\b\b\b\b\b\b\b\b\b\b\b\b\b\b\b\b\b\b\b\b\b\b\b\b\b\b\b\b\b\b\b\b\b\b\b\b\b\b\b\b\b\b\b\b\b\b\b\b\b\b\b\b\b\b\b\b\b\b\b\b\b\b\b\b\b\b\b\b\b\b\b\b\b\b\b\b\b\b\b\b\b\b\b\b\b\b\b\b\b\b\b\r157/157 [==============================] - 2s 11ms/step - loss: 1.2873 - mean_absolute_error: 0.9272 - val_loss: 1.3790 - val_mean_absolute_error: 0.9558\n",
            "Epoch 173/500\n",
            " 60/157 [==========>...................] - ETA: 1s - loss: 1.3769 - mean_absolute_error: 0.9511"
          ]
        }
      ]
    },
    {
      "cell_type": "code",
      "source": [
        "next(iter(ds_train))"
      ],
      "metadata": {
        "colab": {
          "base_uri": "https://localhost:8080/"
        },
        "id": "wlmhYZDx1A2o",
        "outputId": "3c8ffad8-22bd-44d9-863a-6af3a106027a"
      },
      "execution_count": 21,
      "outputs": [
        {
          "output_type": "execute_result",
          "data": {
            "text/plain": [
              "(<tf.Tensor: shape=(32, 1), dtype=string, numpy=\n",
              " array([[b'tv not working and reception did nothing after being informed air con not working so room hotter than hell and view from window was a building site   location was good and room seemed a decent standard'],\n",
              "        [b'we were disappointed to find that the advertised amenities  such as the gym and pool  were closed during our stay  the elevator was slow and unreliable  the room had outdated decor and uncomfortable actresses  the staff appeared disinterested in providing good service'],\n",
              "        [b'there did appear to be some sort of problem with a fluctuating air conditioning system in the bedroom   friendlies and professionalism of all members of staff together with the cleanliness of the hotel while not forgetting the buffet full english breakfast'],\n",
              "        [b'checking was a little long winded with lots of questions to answer the cost of the hotel at     per night room only was excessive   the hotel was very modern and clean we booked a quadruple room for   adults   children which consisted of four single beds it was very spacious and clean although there was not enough coffee facilities provided for everyone when we asked for more they were provided quickly we did not have breakfast at the hotel as this was    pp'],\n",
              "        [b'the pool area was filthy and neglected  the water was cloudy  the pool chairs were covered in dirt and stains  and there was debris floating in the water  not exactly a relaxing swim'],\n",
              "        [b'i have never seen such a poorly maintained hotel in my life  from broken facets to feeling wallpaper  it was clear that this place was in desperate need of renovations  the lack of attention to detail was evident everywhere  including the dirty carpets and stained furniture  save yourself the disappointment and find somewhere else to stay'],\n",
              "        [b'the customer service was absmag  the staff were unfriendly and unhelpful  making me feel unwelcome  the check in process was slow and inefficient  i encountered several issues during my stay and felt that my concerns were not taken seriously  i would not recommend staying at this hotel'],\n",
              "        [b'the staff here ruined my experience in london completely they were rude dismissive and did not care for customer service whatsoever our shower had no running water so i called reception and they said maintenance would be there within an hour   hours later and they still did not call me back so i went to the lobby and asked what was going on because i needed to shower and leave the hotel for my flight and the lady at reception had not even called maintenance i asked if they could just give me another room i could shower in and she said she would ask and let me know within    minutes i waited in my room for another hour and she never got back to me eventually my friends and i could not wait any longer because we would have missed our flight so we did not shower and checked out and left when i came to check out the lady at reception asked so did you find a solution to the shower situation and i had no idea how to respond because not only did they not care to call maintenance but they could not even give me another room or even call me back to let me know what was going on the staff here are definitely incompetent and i would not recommend staying here unless it is only for a quick one night stay   the pictures on booking com were accurate the rooms were clean there is no a c but if you ask the hotel will provide you with a fan'],\n",
              "        [b'housekeeping was not the best and i had to get them to come and remake the bed in the evening   the location was perfect for my purpose of being in london breakfast was good but the staff should try a little harder to be more proficient in english'],\n",
              "        [b'location could have been a little bit better but this is very nit picking it was a couple of    m to the nearest you bahn hub   breakfast was very good and dinner even better not included staff was excellent and the hotel had that historic vienna feeling in the best possible way there is no doubt that this is where we will stay again if we visit vienna another time'],\n",
              "        [b'the room was in the wing which meant two lifts and an unexpected walk to get from reception the shower ran very cold for longer than you would expect to reception poor and wiki remarkably slow   the bed was comfortable and warm the location is ideal for both coach and train stations the underground and buses room clean and well fitted fair value for money'],\n",
              "        [b'the hotel room was in need of a coat of paint a serious bathroom upgrade   location was great that is about it on the plus side'],\n",
              "        [b'the bathtub had a couple of hair strands in it  the staff were very friendly the gentleman at converge gave me a free room upgrade the location is fantastic good value for money in affair'],\n",
              "        [b'the breakfast options were extremely limited and baseless  it was nothing more than a few stale pastries and lukewarm coffee  i expected more variety and quality for the price i paid'],\n",
              "        [b'rooms were tired and dated with a dangerous step out of the bath to the floor level upgraded to a superior view of the river however building works on the roof of the hotel below ruined the views air con for the room was also broken and room was very hot  location of hotel could not be beaten and the restaurant for breakfast was very good'],\n",
              "        [b'the cleanliness of the hotel was appalling  there were stains on the sheets  dust everywhere  and a strange smell lingering in the air  i could not wait to check out and find a place that actually priorities cleanliness'],\n",
              "        [b'expensive city although first time in euro zone for sometime  central for our needs in city lovely city and people'],\n",
              "        [b'our group had   rooms for a   night stay as soon as money was taken as we checked in they no longer cared rooms are a lot smaller than average no tv in room no fridge or hairdryer either i had to phone reception the first morning and ask where the hairdryer was was informed she would bring one up to me but this never happened i left the room    mins later no roof top terrace even thought the weather was    all weekend upon arrival i discovered menstrual stains on the duet on my bed did not go looking could see it from the desk asked housekeeping to change it which they did without a single apology on the saturday one room was not cleaned at all and on the sunday when we returned from our event at     pm housekeeping knocked on the door to clean the room with them in it one of the showers were cellotaped to stop it leaking and the restaurant felt more like a bar with a burger you could order with your drink if you faced apparently staff think it acceptable to lie to you as well the hairdryer issue included in this spoke to alex with a couple of issues on the saturday evening and he informed me they did not have a manager in and that they would not be in until after the bank holiday convenient as i have checked out by then he also said that it mentions on their website that the terrace would not be open however i cannot find any mention if it myself upon check out he informed me that he would emailed his manager who would get back to me today monday they did not   modern reception area interesting concept being on water we are happy to store our luggage before check in ad we arrived early and gave us a drinks token at the bar when we did check in ad they were training a new staff member and it took a little longer than usual'],\n",
              "        [b'toilet feature did not work properly in my room to in mirror had speakers that did not work properly at a certain volume quality of picture on main to was not as good as expected for that kind of room  all the staff are very friendly and welcoming felt valued as a guest like the rain shower everything felt well built free orange banana and apple in room everything felt of very high quality'],\n",
              "        [b'the noise it was extremely noisy in the morning from  am with the sound of sirens going to the nearby hospitals every   minutes in fact the standard twin was small and bathroom tiny   the location was good in that we could walk to a number of places'],\n",
              "        [b'the hotel claimed to have a free shuttle service  but when i called for pick up  they said it would take over an hour  i ended up having to hail a taxi instead'],\n",
              "        [b'when i was tired i could not work out how to turn the icon heating off as it was making a noise   the beds were very comfortable and the breakfast was nice i asked for a quiet room which is exactly what we got'],\n",
              "        [b'i did not like the review under mine in tripadvisor complaining about location did they not read the website the location is good only    mins on the train and you get a big room lots of parks and it is quiet their other complaint about smoking again they did not read their key card wallet look at what you buy and int be disappointed   i liked the temperature setting for the shower the bed was very very com breakfast was great and it had a live jazz band playing a great hotel'],\n",
              "        [b'the location was terrible  surrounded by noisy construction sites  we could not relax or enjoy our stay  would not recommend this hotel to anyone'],\n",
              "        [b'there were a few disappointing aspects firstly the view or lack there of the only view was of a wall of the back of a building a couple of metres away which actually made the room rather dark this was an unpleasant surprise as i would paid extra for a superior double presuming that would increase the chances of a better view and i had requested if possible a view upon booking secondly at breakfast there were a number of issues both days we had to wait a while to be seated as there was not enough room we were not told about breakfast finishing early on the sunday due to an event in the hotel lucky we arrived half an hour before breakfast was due to finish however it appeared the hotel staff were clearly prioritising the event over their clientele as staff cleared most of the pastries and all of the juices away half an hour before breakfast was due to finish in order to get ready for the event so we missed out on some items i noticed some dinners missed out on hot food altogether also getting a cup of coffee is quite difficult at breakfast time dirty coffee cups were also left in our room after the first day and the air conditioning did not seem to work well so there were a few singles which were disappointing for the price but we have great memories of our time here   ink hotel takes cool to a whole new level the whole hotel is so stylish and edgy all the staff be it the converge the bar staff or the cleaning are so amenable and helped us book excursions the rooms certainly have the wow factor the drinks at the bar are second to none the bar is certainly worth a visit even if you are not staying at the hotel'],\n",
              "        [b'the beds were incredibly uncomfortable  with lump actresses and flat pillow  the rooms lacked proper soundproofing  so we could hear every noise from the hallway  we regretted choosing this hotel for our vacation'],\n",
              "        [b'clearly advertised there is parking when you book this hotel this was the only reason i booked this place only to have travelled   and half miles to be told we would have to park on the street and pay for it tower rail in the room is scoring hot also says breakfast included if you are expecting a hot meal before you leave you will be disappointed as all there were was washed fruit cereal and crossings   had dinner on the evening there which was a good portion'],\n",
              "        [b'the room spelled like a mix of damp carpet and stale cigarettes  the bed was lump and the pillow were as flat as a pancake  i could not sleep all night due to the noise coming from the walls  the bathroom had a leaky facet and the towers were threadbare  overall  a disappointing stay'],\n",
              "        [b'breakfast was appalling for the price decent cafe right outside too beds went overly comfortable no to did not bother us really but even background noise while getting ready to go out is good rooms very copy bathrooms even cover  location right on doorstep of emirates cable cars for access to the o  stadium'],\n",
              "        [b'the room was infested with creepy rallies and the staff seemed indifferent to our concerns  the air conditioning was non existent  making our stay incredibly uncomfortable  save your money and avoid this hotel at all costs'],\n",
              "        [b'it arrived warm and had to be asked for twice after telling us it should be in the took  the hotel arranged some wine for our wedding anniversary'],\n",
              "        [b'there was nothing to not like it was all perfect   everything was perfect for our   night stay for our honeymoon and birthday weekend location was central to everything the extra nice touches in our room of wine and nobles was a lovely gesture also the free water bottles and complimentary coffee machine and nobles in lobby is a nice touch too hotel was spoilers and staff were excellent we had a great view over the park from our room too we would definitely recommend this hotel and would definitely return for a stay another time thank you club quarters for a lovely stay']],\n",
              "       dtype=object)>,\n",
              " <tf.Tensor: shape=(32,), dtype=int32, numpy=\n",
              " array([1, 0, 3, 2, 0, 0, 0, 1, 2, 4, 2, 1, 3, 0, 1, 0, 3, 1, 3, 1, 0, 3,\n",
              "        4, 0, 3, 0, 1, 0, 1, 0, 2, 4], dtype=int32)>)"
            ]
          },
          "metadata": {},
          "execution_count": 21
        }
      ]
    },
    {
      "cell_type": "code",
      "source": [
        "model.evaluate(ds_test)"
      ],
      "metadata": {
        "colab": {
          "base_uri": "https://localhost:8080/"
        },
        "id": "cwOehAb4tyUp",
        "outputId": "a714d49d-f607-4849-9346-e787f37f55aa"
      },
      "execution_count": 18,
      "outputs": [
        {
          "output_type": "stream",
          "name": "stdout",
          "text": [
            "32/32 [==============================] - 0s 7ms/step - loss: 2.0018 - mean_absolute_error: 1.2105\n"
          ]
        },
        {
          "output_type": "execute_result",
          "data": {
            "text/plain": [
              "[2.0017638206481934, 1.2105352878570557]"
            ]
          },
          "metadata": {},
          "execution_count": 18
        }
      ]
    },
    {
      "cell_type": "code",
      "source": [
        "# save the model\n",
        "#model.save(ROOT + 'data/models/lstm10.sav')"
      ],
      "metadata": {
        "id": "X6eL9JMjt8JH"
      },
      "execution_count": null,
      "outputs": []
    },
    {
      "cell_type": "code",
      "source": [],
      "metadata": {
        "id": "CuINhorVwSBD"
      },
      "execution_count": null,
      "outputs": []
    },
    {
      "cell_type": "code",
      "source": [
        "text = fix_shape('the best hotel i ever stayed at')\n",
        "model.predict(text)"
      ],
      "metadata": {
        "colab": {
          "base_uri": "https://localhost:8080/"
        },
        "id": "oiFUuHp7t8Wm",
        "outputId": "dd01c907-a9a4-4c39-a00e-880c45c38274"
      },
      "execution_count": 17,
      "outputs": [
        {
          "output_type": "stream",
          "name": "stdout",
          "text": [
            "1/1 [==============================] - 0s 395ms/step\n"
          ]
        },
        {
          "output_type": "execute_result",
          "data": {
            "text/plain": [
              "array([[1.9284965]], dtype=float32)"
            ]
          },
          "metadata": {},
          "execution_count": 17
        }
      ]
    },
    {
      "cell_type": "code",
      "source": [
        "text = '''\\\n",
        "the breakfast was excellent and the room very clean and spacious.\n",
        "the staff was very friendly.\n",
        "I can really recommend this place'''\n",
        "model.predict(fix_shape(text))"
      ],
      "metadata": {
        "colab": {
          "base_uri": "https://localhost:8080/"
        },
        "id": "ZhjT5c3BuAWg",
        "outputId": "1c50e1a1-fd35-4669-8054-478020a6b9a1"
      },
      "execution_count": 22,
      "outputs": [
        {
          "output_type": "stream",
          "name": "stdout",
          "text": [
            "1/1 [==============================] - 0s 40ms/step\n"
          ]
        },
        {
          "output_type": "execute_result",
          "data": {
            "text/plain": [
              "array([[3.2970164]], dtype=float32)"
            ]
          },
          "metadata": {},
          "execution_count": 22
        }
      ]
    },
    {
      "cell_type": "code",
      "source": [
        "text = '''\\\n",
        "the breakfast was excellent and the room very clean and spacious.\n",
        "the staff was very friendly.\n",
        "I can relly recommend this place'''\n",
        "model.predict(fix_shape(text))"
      ],
      "metadata": {
        "id": "8bcq7vj4uEXH"
      },
      "execution_count": null,
      "outputs": []
    },
    {
      "cell_type": "code",
      "source": [
        "text = '''\\\n",
        "the breakfast was ok, but nothing special.\n",
        "the staff was very friendly.\n",
        "But the room we small and not suitable for working'''\n",
        "model.predict(fix_shape(text))"
      ],
      "metadata": {
        "id": "1qYL5XXYuHKg"
      },
      "execution_count": null,
      "outputs": []
    },
    {
      "cell_type": "code",
      "source": [
        "text = '''\\\n",
        "the breakfast was ok, but nothing special.\n",
        "the staff was quite rude.\n",
        "And the room we small and not suitable for working'''\n",
        "model.predict(fix_shape(text))"
      ],
      "metadata": {
        "colab": {
          "base_uri": "https://localhost:8080/"
        },
        "id": "yDh1iPz1uMTV",
        "outputId": "a94d782e-c1d7-476d-e3dc-3f59e7046c40"
      },
      "execution_count": 23,
      "outputs": [
        {
          "output_type": "stream",
          "name": "stdout",
          "text": [
            "1/1 [==============================] - 0s 21ms/step\n"
          ]
        },
        {
          "output_type": "execute_result",
          "data": {
            "text/plain": [
              "array([[3.2970164]], dtype=float32)"
            ]
          },
          "metadata": {},
          "execution_count": 23
        }
      ]
    },
    {
      "cell_type": "code",
      "source": [
        "text = '''\\\n",
        "the breakfast was bad, only bread and coffe.\n",
        "Checkin took forever.\n",
        "No roomservice.\n",
        "The room we small and not suitable for working'''\n",
        "model.predict(fix_shape(text))"
      ],
      "metadata": {
        "colab": {
          "base_uri": "https://localhost:8080/"
        },
        "id": "PUYC7U55uNG-",
        "outputId": "2e453949-b5b3-4df3-a01a-c357a54a1052"
      },
      "execution_count": 24,
      "outputs": [
        {
          "output_type": "stream",
          "name": "stdout",
          "text": [
            "1/1 [==============================] - 0s 36ms/step\n"
          ]
        },
        {
          "output_type": "execute_result",
          "data": {
            "text/plain": [
              "array([[1.7132279]], dtype=float32)"
            ]
          },
          "metadata": {},
          "execution_count": 24
        }
      ]
    },
    {
      "cell_type": "code",
      "source": [],
      "metadata": {
        "id": "LuBoQBj42MOR"
      },
      "execution_count": null,
      "outputs": []
    }
  ]
}