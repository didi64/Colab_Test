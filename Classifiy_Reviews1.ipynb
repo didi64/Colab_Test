{
  "nbformat": 4,
  "nbformat_minor": 0,
  "metadata": {
    "colab": {
      "provenance": [],
      "authorship_tag": "ABX9TyOYGvXaMwdilKU6i6lN2kjc",
      "include_colab_link": true
    },
    "kernelspec": {
      "name": "python3",
      "display_name": "Python 3"
    },
    "language_info": {
      "name": "python"
    }
  },
  "cells": [
    {
      "cell_type": "markdown",
      "metadata": {
        "id": "view-in-github",
        "colab_type": "text"
      },
      "source": [
        "<a href=\"https://colab.research.google.com/github/didi64/Colab_Test/blob/main/Classifiy_Reviews1.ipynb\" target=\"_parent\"><img src=\"https://colab.research.google.com/assets/colab-badge.svg\" alt=\"Open In Colab\"/></a>"
      ]
    },
    {
      "cell_type": "code",
      "source": [
        "import os, sys\n",
        "from google.colab import drive\n",
        "ROOT = '/content/drive/MyDrive/CAS_Gregi/'\n",
        "IMPORT_PATH_SYMLINK = {'link': '/content/modules', 'target': ROOT + 'CO_modules'}\n",
        "\n",
        "drive.mount('/content/drive', force_remount=False)\n",
        "if not os.path.exists(IMPORT_PATH_SYMLINK['link']):\n",
        "    os.symlink(IMPORT_PATH_SYMLINK['target'], IMPORT_PATH_SYMLINK['link'])\n",
        "if IMPORT_PATH_SYMLINK['link'] not in sys.path:\n",
        "    sys.path.insert(0, IMPORT_PATH_SYMLINK['link'])"
      ],
      "metadata": {
        "colab": {
          "base_uri": "https://localhost:8080/"
        },
        "id": "JjMSKd9t6_Zt",
        "outputId": "13df0d53-ec8a-4921-d3f9-f3c9eed26d45"
      },
      "execution_count": 3,
      "outputs": [
        {
          "output_type": "stream",
          "name": "stdout",
          "text": [
            "Drive already mounted at /content/drive; to attempt to forcibly remount, call drive.mount(\"/content/drive\", force_remount=True).\n"
          ]
        }
      ]
    },
    {
      "cell_type": "code",
      "source": [
        "%env NLTK_DATA={IMPORT_PATH_SYMLINK['link']}\n",
        "!pip install --target={IMPORT_PATH_SYMLINK['link']} contractions\n",
        "!python -m textblob.download_corpora\n",
        "!pip install --target={IMPORT_PATH_SYMLINK['link']} autocorrect"
      ],
      "metadata": {
        "id": "qSecUzjX5o1z"
      },
      "execution_count": null,
      "outputs": []
    },
    {
      "cell_type": "code",
      "source": [
        "import pickle\n",
        "import random\n",
        "\n",
        "def get_train_test(seed = 42):\n",
        "    '''returns two dicts train, test\n",
        "       both dicts have keys [1,2,3,4,5]\n",
        "       train[i] is a list of reviews with score i\n",
        "    '''\n",
        "    random.seed(seed)\n",
        "    #root = '/content/drive/My Drive/CAS_Gregi/'\n",
        "\n",
        "\n",
        "    with open(ROOT + 'data/reviews_with_GPT_scores_dict.pkl','rb') as f:\n",
        "        review_dict = pickle.load(f)\n",
        "\n",
        "    with open(ROOT + 'data/bad_reviews_2000_tuples.pkl','rb') as f:\n",
        "        bad_reviews = pickle.load(f)\n",
        "\n",
        "    for review, score in bad_reviews:\n",
        "        review_dict[int(score)].append(review)\n",
        "\n",
        "    idx = list(range(1200))\n",
        "    random.shuffle(idx)\n",
        "\n",
        "\n",
        "    train_reviews = {k: [v[i] for i in idx[:1000]] for k,v in review_dict.items()}\n",
        "    test_reviews  = {k: [v[i] for i in idx[1000:]] for k,v in review_dict.items()}\n",
        "\n",
        "    return train_reviews, test_reviews"
      ],
      "metadata": {
        "id": "-emV-8yLdmvi"
      },
      "execution_count": 7,
      "outputs": []
    },
    {
      "cell_type": "code",
      "source": [
        "data_train, data_test = get_train_test()"
      ],
      "metadata": {
        "id": "-qbyfE_gfanP"
      },
      "execution_count": 8,
      "outputs": []
    },
    {
      "cell_type": "code",
      "source": [
        "data_test[1][0]"
      ],
      "metadata": {
        "colab": {
          "base_uri": "https://localhost:8080/",
          "height": 52
        },
        "id": "UgSQ3LHkgFnS",
        "outputId": "7a7e3542-8745-4b7e-fc99-3d7fa606e11b"
      },
      "execution_count": 9,
      "outputs": [
        {
          "output_type": "execute_result",
          "data": {
            "text/plain": [
              "'The staff was incredibly rude and unhelpful. They seemed annoyed by any questions or requests, and made me feel like I was inconveniencing them.\\n'"
            ],
            "application/vnd.google.colaboratory.intrinsic+json": {
              "type": "string"
            }
          },
          "metadata": {},
          "execution_count": 9
        }
      ]
    },
    {
      "cell_type": "code",
      "source": [
        "import contractions\n",
        "for x,y in contractions.contractions_dict.items():\n",
        "    x =x.replace(\"'\", ' ')\n",
        "    contractions.add(x, y)"
      ],
      "metadata": {
        "id": "sxGSWzUUgKEy"
      },
      "execution_count": 6,
      "outputs": []
    },
    {
      "cell_type": "code",
      "source": [
        "from autocorrect import Speller\n",
        "spell = Speller(lang='en')"
      ],
      "metadata": {
        "id": "bozOCBpyQD40"
      },
      "execution_count": 7,
      "outputs": []
    },
    {
      "cell_type": "code",
      "source": [
        "from textblob import TextBlob\n",
        "import re\n",
        "import string"
      ],
      "metadata": {
        "id": "-whRjI5nhd0d"
      },
      "execution_count": 8,
      "outputs": []
    },
    {
      "cell_type": "code",
      "source": [
        "PUNCT = re.compile(r'[{}\\d_\\n]'.format(re.escape(string.punctuation)))\n",
        "\n",
        "def tag_and_normalize(text, cond = lambda x: True, stopwords = ()):\n",
        "    '''returns normalized text\n",
        "      - removes contractions,\n",
        "      - removes punctuation and numbers and _\n",
        "      - spellchecks the word\n",
        "      - lemmatazies the word depending on its part of speech\n",
        "        for all words with a tag so that cond(tag) is True\n",
        "\n",
        "      cond: function f(tag) -> bool\n",
        "    '''\n",
        "    # tagged words\n",
        "    words = []\n",
        "    tt = {'J': 'a', 'R': 'a', 'V':'v', 'N': 'n'}\n",
        "\n",
        "    text = contractions.fix(text)\n",
        "    text = PUNCT.sub(' ', text)\n",
        "    tb = TextBlob(text).lower().correct()\n",
        "\n",
        "    for word, tag in tb.tags:\n",
        "        if word in  stopwords:\n",
        "            continue\n",
        "\n",
        "\n",
        "        # only keek adj, adv, and past participes like broken,\n",
        "        # advertized, cleaned,... or gerund, i.e. smelling, working, bothering,...\n",
        "        if cond(tag):\n",
        "            word = word.lemmatize(tt.get(tag[0]))\n",
        "            words.append((word, tag))\n",
        "\n",
        "\n",
        "    return words\n",
        "\n",
        "\n",
        "def normalize(text):\n",
        "    text = contractions.fix(text)\n",
        "    text = PUNCT.sub(' ', text)\n",
        "    # tb = TextBlob(text).lower().correct()\n",
        "    # tb.raw\n",
        "    #text = spell(text)\n",
        "    #return TextBlob(text).lower().correct().raw\n",
        "    return spell(text)\n",
        "\n",
        "def clean_reviews(review_dict):\n",
        "    data_ = {k:[normalize(x) for x in v] for k,v in review_dict.items()}\n",
        "    data  = {k:[x.lower().strip() for x in v] for k,v in data_t.items()}\n",
        "    return data"
      ],
      "metadata": {
        "id": "yPcHAWgkhe8E"
      },
      "execution_count": 9,
      "outputs": []
    },
    {
      "cell_type": "code",
      "source": [
        "res = []\n",
        "cond = lambda tag: tag[0] in 'JR' or  tag in ('VBN', 'VBG')\n",
        "for review in data_test[1][:10]:\n",
        "    res.append(tag_and_normalize(review, cond = cond))\n",
        "\n",
        "# res"
      ],
      "metadata": {
        "id": "Xdlbmkv_h8gd"
      },
      "execution_count": 16,
      "outputs": []
    },
    {
      "cell_type": "code",
      "source": [
        "normalize('got? no wi fi or wifi')"
      ],
      "metadata": {
        "colab": {
          "base_uri": "https://localhost:8080/",
          "height": 35
        },
        "id": "_NDMDXGdhTw2",
        "outputId": "fae1f842-2d25-44e5-d22d-66fa95f09ed3"
      },
      "execution_count": 63,
      "outputs": [
        {
          "output_type": "execute_result",
          "data": {
            "text/plain": [
              "'got  no wi fi or wifi'"
            ],
            "application/vnd.google.colaboratory.intrinsic+json": {
              "type": "string"
            }
          },
          "metadata": {},
          "execution_count": 63
        }
      ]
    },
    {
      "cell_type": "code",
      "source": [
        "res[3][1]"
      ],
      "metadata": {
        "colab": {
          "base_uri": "https://localhost:8080/"
        },
        "id": "hGudiuKima1P",
        "outputId": "373eb95a-1dc9-4635-a22f-fb643973198e"
      },
      "execution_count": 18,
      "outputs": [
        {
          "output_type": "execute_result",
          "data": {
            "text/plain": [
              "('desirable', 'JJ')"
            ]
          },
          "metadata": {},
          "execution_count": 18
        }
      ]
    },
    {
      "cell_type": "code",
      "source": [
        "data_train_clean, data_test_clean = [clean_reviews(r) for r in (data_train, data_test)]"
      ],
      "metadata": {
        "id": "R-GTKzc_4e6Y"
      },
      "execution_count": null,
      "outputs": []
    },
    {
      "cell_type": "code",
      "source": [
        "train_test = (data_train_clean, data_test_clean)"
      ],
      "metadata": {
        "id": "JRGpXtWbc0pa"
      },
      "execution_count": 73,
      "outputs": []
    },
    {
      "cell_type": "code",
      "source": [
        "#  with open(ROOT + 'data/hotelreviews_cleaned_train_test_spell.pkl','wb') as f:\n",
        "#     pickle.dump(train_test,f)"
      ],
      "metadata": {
        "id": "ZBs9ZhFDPAGP"
      },
      "execution_count": 74,
      "outputs": []
    },
    {
      "cell_type": "code",
      "source": [
        "with open(ROOT + 'data/hotelreviews_cleaned_train_test_spell.pkl','rb') as f:\n",
        "    train_test = pickle.load(f)"
      ],
      "metadata": {
        "id": "Yw_kn_VGeEcS"
      },
      "execution_count": 75,
      "outputs": []
    },
    {
      "cell_type": "code",
      "source": [
        "from functools import reduce\n",
        "all_reviews = reduce(lambda x,y: x + y, [[(r, k) for d in train_test for k,v in d.items() for r in v]])"
      ],
      "metadata": {
        "id": "rUKIH8rpeuFA"
      },
      "execution_count": 76,
      "outputs": []
    },
    {
      "cell_type": "code",
      "source": [
        "all_reviews[4100:4102]"
      ],
      "metadata": {
        "colab": {
          "base_uri": "https://localhost:8080/"
        },
        "id": "rlm2YU6Uf2TR",
        "outputId": "90abdc86-d778-4ef4-c7ac-ddc569c4c0bb"
      },
      "execution_count": 77,
      "outputs": [
        {
          "output_type": "execute_result",
          "data": {
            "text/plain": [
              "[('the wi fi was practically non existent  trying to connect to the internet was a constant struggle  which was incredibly frustrating in today s connected world',\n",
              "  1),\n",
              " ('the entire hotel spelled like mold  and our room was no exception  the shower had poor water pressure  and the temperature kept fluctuating between scaling hot and freezing cold  the staff seemed indifferent to our complaints  definitely not what we expected',\n",
              "  1)]"
            ]
          },
          "metadata": {},
          "execution_count": 77
        }
      ]
    },
    {
      "cell_type": "code",
      "source": [
        "TextBlob(' got not wi fi').correct()"
      ],
      "metadata": {
        "colab": {
          "base_uri": "https://localhost:8080/"
        },
        "id": "TNkuc_GAf6Tr",
        "outputId": "b8d077b4-260c-4ba1-f9b4-d6a3f1e319ac"
      },
      "execution_count": 59,
      "outputs": [
        {
          "output_type": "execute_result",
          "data": {
            "text/plain": [
              "TextBlob(\" got not i i\")"
            ]
          },
          "metadata": {},
          "execution_count": 59
        }
      ]
    },
    {
      "cell_type": "code",
      "source": [],
      "metadata": {
        "id": "6Z5QLSORiBV1"
      },
      "execution_count": null,
      "outputs": []
    },
    {
      "cell_type": "code",
      "source": [
        "import matplotlib.pyplot as plt\n",
        "plt.style.use('ggplot')\n",
        "\n",
        "counts = sorted([len(review[0].split()) for review in all_reviews])\n",
        "plt.hist(counts, bins = 15, rwidth = 0.8)\n",
        "plt.title('Reviewlengths', fontsize=18)\n",
        "plt.xlabel('Reviewlength in words', fontsize=14)\n",
        "plt.ylabel('Reviews', fontsize=14)\n",
        "\n"
      ],
      "metadata": {
        "colab": {
          "base_uri": "https://localhost:8080/",
          "height": 499
        },
        "id": "rUFUXBlMgg9B",
        "outputId": "aaa2f7c2-d1f1-4c68-c021-3cb91c85faa7"
      },
      "execution_count": 79,
      "outputs": [
        {
          "output_type": "execute_result",
          "data": {
            "text/plain": [
              "Text(0, 0.5, 'Reviews')"
            ]
          },
          "metadata": {},
          "execution_count": 79
        },
        {
          "output_type": "display_data",
          "data": {
            "text/plain": [
              "<Figure size 640x480 with 1 Axes>"
            ],
            "image/png": "[encoded data removed]"
          },
          "metadata": {}
        }
      ]
    },
    {
      "cell_type": "code",
      "source": [],
      "metadata": {
        "id": "7JVeQMR8lIZw"
      },
      "execution_count": null,
      "outputs": []
    }
  ]
}