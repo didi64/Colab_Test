{
  "nbformat": 4,
  "nbformat_minor": 0,
  "metadata": {
    "colab": {
      "provenance": [],
      "authorship_tag": "ABX9TyMv1p8z3EhE5mpXluTwFA47",
      "include_colab_link": true
    },
    "kernelspec": {
      "name": "python3",
      "display_name": "Python 3"
    },
    "language_info": {
      "name": "python"
    }
  },
  "cells": [
    {
      "cell_type": "markdown",
      "metadata": {
        "id": "view-in-github",
        "colab_type": "text"
      },
      "source": [
        "<a href=\"https://colab.research.google.com/github/didi64/Colab_Test/blob/main/Classifiy_Reviews1.ipynb\" target=\"_parent\"><img src=\"https://colab.research.google.com/assets/colab-badge.svg\" alt=\"Open In Colab\"/></a>"
      ]
    },
    {
      "cell_type": "code",
      "execution_count": 3,
      "metadata": {
        "colab": {
          "base_uri": "https://localhost:8080/"
        },
        "id": "jd5MzPmpdbjL",
        "outputId": "156d2277-8929-4a9b-9a83-77d65ade1f8f"
      },
      "outputs": [
        {
          "output_type": "stream",
          "name": "stdout",
          "text": [
            "Mounted at /content/drive\n"
          ]
        }
      ],
      "source": [
        "import os, sys\n",
        "from google.colab import drive\n",
        "ROOT = '/content/drive/My Drive/CAS_Gregi/'\n",
        "drive.mount('/content/drive', force_remount=True)\n",
        "\n",
        "nb_path = '/content/notebooks'\n",
        "os.symlink(ROOT + 'CO_modules', nb_path)\n",
        "sys.path.insert(0,nb_path)\n"
      ]
    },
    {
      "cell_type": "code",
      "source": [
        "%env NLTK_DATA=$nb_path\n",
        "!pip install --target=$nb_path contractions\n",
        "!python -m textblob.download_corpora"
      ],
      "metadata": {
        "id": "z44PIdnGFDqB"
      },
      "execution_count": null,
      "outputs": []
    },
    {
      "cell_type": "code",
      "source": [
        "!pip install --target=$nb_path autocorrect"
      ],
      "metadata": {
        "id": "91V-VorxQUd8"
      },
      "execution_count": null,
      "outputs": []
    },
    {
      "cell_type": "code",
      "source": [
        "import pickle\n",
        "import random\n",
        "\n",
        "def get_train_test(seed = 42):\n",
        "    '''returns two dicts train, test\n",
        "       both dicts have keys [1,2,3,4,5]\n",
        "       train[i] is a list of reviews with score i\n",
        "    '''\n",
        "    random.seed(seed)\n",
        "    #root = '/content/drive/My Drive/CAS_Gregi/'\n",
        "\n",
        "\n",
        "    with open(ROOT + 'data/reviews_with_GPT_scores_dict.pkl','rb') as f:\n",
        "        review_dict = pickle.load(f)\n",
        "\n",
        "    with open(ROOT + 'data/bad_reviews_2000_tuples.pkl','rb') as f:\n",
        "        bad_reviews = pickle.load(f)\n",
        "\n",
        "    for review, score in bad_reviews:\n",
        "        review_dict[int(score)].append(review)\n",
        "\n",
        "    idx = list(range(1200))\n",
        "    random.shuffle(idx)\n",
        "\n",
        "\n",
        "    train_reviews = {k: [v[i] for i in idx[:1000]] for k,v in review_dict.items()}\n",
        "    test_reviews  = {k: [v[i] for i in idx[1000:]] for k,v in review_dict.items()}\n",
        "\n",
        "    return train_reviews, test_reviews"
      ],
      "metadata": {
        "id": "-emV-8yLdmvi"
      },
      "execution_count": 7,
      "outputs": []
    },
    {
      "cell_type": "code",
      "source": [
        "data_train, data_test = get_train_test()"
      ],
      "metadata": {
        "id": "-qbyfE_gfanP"
      },
      "execution_count": 8,
      "outputs": []
    },
    {
      "cell_type": "code",
      "source": [
        "data_test[1][0]"
      ],
      "metadata": {
        "colab": {
          "base_uri": "https://localhost:8080/",
          "height": 52
        },
        "id": "UgSQ3LHkgFnS",
        "outputId": "7a7e3542-8745-4b7e-fc99-3d7fa606e11b"
      },
      "execution_count": 9,
      "outputs": [
        {
          "output_type": "execute_result",
          "data": {
            "text/plain": [
              "'The staff was incredibly rude and unhelpful. They seemed annoyed by any questions or requests, and made me feel like I was inconveniencing them.\\n'"
            ],
            "application/vnd.google.colaboratory.intrinsic+json": {
              "type": "string"
            }
          },
          "metadata": {},
          "execution_count": 9
        }
      ]
    },
    {
      "cell_type": "code",
      "source": [
        "import contractions\n",
        "for x,y in contractions.contractions_dict.items():\n",
        "    x =x.replace(\"'\", ' ')\n",
        "    contractions.add(x, y)"
      ],
      "metadata": {
        "id": "sxGSWzUUgKEy"
      },
      "execution_count": 10,
      "outputs": []
    },
    {
      "cell_type": "code",
      "source": [
        "from autocorrect import Speller\n",
        "spell = Speller(lang='en')"
      ],
      "metadata": {
        "id": "bozOCBpyQD40"
      },
      "execution_count": 33,
      "outputs": []
    },
    {
      "cell_type": "code",
      "source": [
        "from textblob import TextBlob\n",
        "import re\n",
        "import string"
      ],
      "metadata": {
        "id": "-whRjI5nhd0d"
      },
      "execution_count": 11,
      "outputs": []
    },
    {
      "cell_type": "code",
      "source": [
        "PUNCT = re.compile(r'[{}\\d_\\n]'.format(re.escape(string.punctuation)))\n",
        "\n",
        "def tag_and_normalize(text, cond = lambda x: True, stopwords = ()):\n",
        "    '''returns normalized text\n",
        "      - removes contractions,\n",
        "      - removes punctuation and numbers and _\n",
        "      - spellchecks the word\n",
        "      - lemmatazies the word depending on its part of speech\n",
        "        for all words with a tag so that cond(tag) is True\n",
        "\n",
        "      cond: function f(tag) -> bool\n",
        "    '''\n",
        "    # tagged words\n",
        "    words = []\n",
        "    tt = {'J': 'a', 'R': 'a', 'V':'v', 'N': 'n'}\n",
        "\n",
        "    text = contractions.fix(text)\n",
        "    text = PUNCT.sub(' ', text)\n",
        "    tb = TextBlob(text).lower().correct()\n",
        "\n",
        "    for word, tag in tb.tags:\n",
        "        if word in  stopwords:\n",
        "            continue\n",
        "\n",
        "\n",
        "        # only keek adj, adv, and past participes like broken,\n",
        "        # advertized, cleaned,... or gerund, i.e. smelling, working, bothering,...\n",
        "        if cond(tag):\n",
        "            word = word.lemmatize(tt.get(tag[0]))\n",
        "            words.append((word, tag))\n",
        "\n",
        "\n",
        "    return words\n",
        "\n",
        "\n",
        "def normalize(text, counter = 0):\n",
        "    counter +=1\n",
        "    if counter % 100 = 0:\n",
        "        print(i, end =', ')\n",
        "    text = contractions.fix(text)\n",
        "    text = PUNCT.sub(' ', text)\n",
        "    # tb = TextBlob(text).lower().correct()\n",
        "    # tb.raw\n",
        "    #text = spell(text)\n",
        "    return TextBlob(text).lower().correct().raw"
      ],
      "metadata": {
        "id": "yPcHAWgkhe8E"
      },
      "execution_count": 40,
      "outputs": []
    },
    {
      "cell_type": "code",
      "source": [
        "res = []\n",
        "cond = lambda tag: tag[0] in 'JR' or  tag in ('VBN', 'VBG')\n",
        "for review in data_test[1][:10]:\n",
        "    res.append(tag_and_normalize(review, cond = cond))"
      ],
      "metadata": {
        "id": "Xdlbmkv_h8gd"
      },
      "execution_count": 16,
      "outputs": []
    },
    {
      "cell_type": "code",
      "source": [
        "res[3][1]"
      ],
      "metadata": {
        "colab": {
          "base_uri": "https://localhost:8080/"
        },
        "id": "hGudiuKima1P",
        "outputId": "373eb95a-1dc9-4635-a22f-fb643973198e"
      },
      "execution_count": 18,
      "outputs": [
        {
          "output_type": "execute_result",
          "data": {
            "text/plain": [
              "('desirable', 'JJ')"
            ]
          },
          "metadata": {},
          "execution_count": 18
        }
      ]
    },
    {
      "cell_type": "code",
      "source": [
        "data_test_clean = {k:[normalize(x) for x in v] for k,v in data_test.items()}"
      ],
      "metadata": {
        "id": "jQ9u_KDkLqoe"
      },
      "execution_count": 43,
      "outputs": []
    },
    {
      "cell_type": "code",
      "source": [
        "data_train_clean = {k:[normalize(x) for x in v] for k,v in data_train.items()}"
      ],
      "metadata": {
        "id": "ZLCGq0PyVyO3"
      },
      "execution_count": 45,
      "outputs": []
    },
    {
      "cell_type": "code",
      "source": [
        "train_test = (data_train_clean, data_test_clean)"
      ],
      "metadata": {
        "id": "JRGpXtWbc0pa"
      },
      "execution_count": 46,
      "outputs": []
    },
    {
      "cell_type": "code",
      "source": [
        " with open(ROOT + 'data/hotelreviews_cleaned_train_test.pkl','wb') as f:\n",
        "    pickle.dump(train_test,f)"
      ],
      "metadata": {
        "id": "ZBs9ZhFDPAGP"
      },
      "execution_count": 50,
      "outputs": []
    },
    {
      "cell_type": "code",
      "source": [],
      "metadata": {
        "id": "Yw_kn_VGeEcS"
      },
      "execution_count": null,
      "outputs": []
    }
  ]
}