{
  "nbformat": 4,
  "nbformat_minor": 0,
  "metadata": {
    "colab": {
      "provenance": [],
      "authorship_tag": "ABX9TyPsH7I55WP9Q9RlB/yCaBuP",
      "include_colab_link": true
    },
    "kernelspec": {
      "name": "python3",
      "display_name": "Python 3"
    },
    "language_info": {
      "name": "python"
    },
    "widgets": {
      "application/vnd.jupyter.widget-state+json": {
        "2bfd7499fbf741809e72dce238ed0e94": {
          "model_module": "jupyter-matplotlib",
          "model_name": "MPLCanvasModel",
          "model_module_version": "^0.11",
          "state": {
            "_cursor": "default",
            "_data_url": "data:image/png;base64,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",
            "_dom_classes": [],
            "_figure_label": "Figure 1",
            "_image_mode": "diff",
            "_message": "x=1.025 y=0.548",
            "_model_module": "jupyter-matplotlib",
            "_model_module_version": "^0.11",
            "_model_name": "MPLCanvasModel",
            "_rubberband_height": 0,
            "_rubberband_width": 0,
            "_rubberband_x": 0,
            "_rubberband_y": 0,
            "_size": [
              640,
              480
            ],
            "_view_count": null,
            "_view_module": "jupyter-matplotlib",
            "_view_module_version": "^0.11",
            "_view_name": "MPLCanvasView",
            "capture_scroll": false,
            "footer_visible": true,
            "header_visible": true,
            "layout": "IPY_MODEL_25abd53c96044482973ba096bac84c65",
            "pan_zoom_throttle": 33,
            "resizable": true,
            "toolbar": "IPY_MODEL_ad3894fe44224d20b121dba6db3045d9",
            "toolbar_position": "left",
            "toolbar_visible": "fade-in-fade-out"
          }
        },
        "25abd53c96044482973ba096bac84c65": {
          "model_module": "@jupyter-widgets/base",
          "model_name": "LayoutModel",
          "model_module_version": "1.2.0",
          "state": {
            "_model_module": "@jupyter-widgets/base",
            "_model_module_version": "1.2.0",
            "_model_name": "LayoutModel",
            "_view_count": null,
            "_view_module": "@jupyter-widgets/base",
            "_view_module_version": "1.2.0",
            "_view_name": "LayoutView",
            "align_content": null,
            "align_items": null,
            "align_self": null,
            "border": null,
            "bottom": null,
            "display": null,
            "flex": null,
            "flex_flow": null,
            "grid_area": null,
            "grid_auto_columns": null,
            "grid_auto_flow": null,
            "grid_auto_rows": null,
            "grid_column": null,
            "grid_gap": null,
            "grid_row": null,
            "grid_template_areas": null,
            "grid_template_columns": null,
            "grid_template_rows": null,
            "height": null,
            "justify_content": null,
            "justify_items": null,
            "left": null,
            "margin": null,
            "max_height": null,
            "max_width": null,
            "min_height": null,
            "min_width": null,
            "object_fit": null,
            "object_position": null,
            "order": null,
            "overflow": null,
            "overflow_x": null,
            "overflow_y": null,
            "padding": null,
            "right": null,
            "top": null,
            "visibility": null,
            "width": null
          }
        },
        "ad3894fe44224d20b121dba6db3045d9": {
          "model_module": "jupyter-matplotlib",
          "model_name": "ToolbarModel",
          "model_module_version": "^0.11",
          "state": {
            "_current_action": "",
            "_dom_classes": [],
            "_model_module": "jupyter-matplotlib",
            "_model_module_version": "^0.11",
            "_model_name": "ToolbarModel",
            "_view_count": null,
            "_view_module": "jupyter-matplotlib",
            "_view_module_version": "^0.11",
            "_view_name": "ToolbarView",
            "button_style": "",
            "collapsed": true,
            "layout": "IPY_MODEL_6d16145df613456ca4fb387ea95917ba",
            "orientation": "vertical",
            "toolitems": [
              [
                "Home",
                "Reset original view",
                "home",
                "home"
              ],
              [
                "Back",
                "Back to previous view",
                "arrow-left",
                "back"
              ],
              [
                "Forward",
                "Forward to next view",
                "arrow-right",
                "forward"
              ],
              [
                "Pan",
                "Left button pans, Right button zooms\nx/y fixes axis, CTRL fixes aspect",
                "arrows",
                "pan"
              ],
              [
                "Zoom",
                "Zoom to rectangle\nx/y fixes axis",
                "square-o",
                "zoom"
              ],
              [
                "Download",
                "Download plot",
                "floppy-o",
                "save_figure"
              ]
            ]
          }
        },
        "6d16145df613456ca4fb387ea95917ba": {
          "model_module": "@jupyter-widgets/base",
          "model_name": "LayoutModel",
          "model_module_version": "1.2.0",
          "state": {
            "_model_module": "@jupyter-widgets/base",
            "_model_module_version": "1.2.0",
            "_model_name": "LayoutModel",
            "_view_count": null,
            "_view_module": "@jupyter-widgets/base",
            "_view_module_version": "1.2.0",
            "_view_name": "LayoutView",
            "align_content": null,
            "align_items": null,
            "align_self": null,
            "border": null,
            "bottom": null,
            "display": null,
            "flex": null,
            "flex_flow": null,
            "grid_area": null,
            "grid_auto_columns": null,
            "grid_auto_flow": null,
            "grid_auto_rows": null,
            "grid_column": null,
            "grid_gap": null,
            "grid_row": null,
            "grid_template_areas": null,
            "grid_template_columns": null,
            "grid_template_rows": null,
            "height": null,
            "justify_content": null,
            "justify_items": null,
            "left": null,
            "margin": null,
            "max_height": null,
            "max_width": null,
            "min_height": null,
            "min_width": null,
            "object_fit": null,
            "object_position": null,
            "order": null,
            "overflow": null,
            "overflow_x": null,
            "overflow_y": null,
            "padding": null,
            "right": null,
            "top": null,
            "visibility": null,
            "width": null
          }
        }
      }
    }
  },
  "cells": [
    {
      "cell_type": "markdown",
      "metadata": {
        "id": "view-in-github",
        "colab_type": "text"
      },
      "source": [
        "<a href=\"https://colab.research.google.com/github/didi64/Colab_Test/blob/main/plt_interactive.ipynb\" target=\"_parent\"><img src=\"https://colab.research.google.com/assets/colab-badge.svg\" alt=\"Open In Colab\"/></a>"
      ]
    },
    {
      "cell_type": "code",
      "source": [
        "!pip install mplcursors"
      ],
      "metadata": {
        "id": "N3qS3UHatSaJ"
      },
      "execution_count": null,
      "outputs": []
    },
    {
      "cell_type": "code",
      "source": [
        "!pip install ipympl"
      ],
      "metadata": {
        "id": "GCNMXiz8rz3a"
      },
      "execution_count": null,
      "outputs": []
    },
    {
      "cell_type": "code",
      "source": [
        "import numpy as np\n",
        "import matplotlib.pyplot as plt\n",
        "import mplcursors\n",
        "\n",
        "\n",
        "# Generate random data\n",
        "x = np.random.rand(100)\n",
        "y = np.random.rand(100)\n",
        "\n"
      ],
      "metadata": {
        "id": "-jVhbFuBtSzO"
      },
      "execution_count": 1,
      "outputs": []
    },
    {
      "cell_type": "code",
      "source": [
        "# seems required\n",
        "from google.colab import output\n",
        "output.enable_custom_widget_manager()"
      ],
      "metadata": {
        "id": "jQ61_bSnrben"
      },
      "execution_count": 2,
      "outputs": []
    },
    {
      "cell_type": "code",
      "source": [
        "def onmouseover(sel):\n",
        "    pt = (sel.target[0], sel.target[1])\n",
        "    idx = sel.index\n",
        "    sel.annotation.set_text(str(idx))"
      ],
      "metadata": {
        "id": "yE9AQrt5sycZ"
      },
      "execution_count": 3,
      "outputs": []
    },
    {
      "cell_type": "code",
      "source": [
        "%matplotlib widget\n",
        "# Create a scatter plot\n",
        "scatter = plt.scatter(x, y)\n",
        "\n",
        "# Make the plot interactive\n",
        "\n",
        "# works but is super slow\n",
        "crs = mplcursors.cursor(scatter, hover=True)\n",
        "crs.connect(\"add\", onmouseover) #\n",
        "\n",
        "plt.show()\n"
      ],
      "metadata": {
        "id": "JH5HJc4Ntbg-",
        "colab": {
          "base_uri": "https://localhost:8080/",
          "height": 569,
          "referenced_widgets": [
            "2bfd7499fbf741809e72dce238ed0e94",
            "25abd53c96044482973ba096bac84c65",
            "ad3894fe44224d20b121dba6db3045d9",
            "6d16145df613456ca4fb387ea95917ba"
          ]
        },
        "outputId": "0035b3cd-1d7d-4b25-9fa9-a27e8d50808d"
      },
      "execution_count": 5,
      "outputs": [
        {
          "output_type": "display_data",
          "data": {
            "text/plain": [
              "Canvas(toolbar=Toolbar(toolitems=[('Home', 'Reset original view', 'home', 'home'), ('Back', 'Back to previous …"
            ],
            "image/png": "[encoded data removed]",
            "text/html": [
              "\n",
              "            <div style=\"display: inline-block;\">\n",
              "                <div class=\"jupyter-widgets widget-label\" style=\"text-align: center;\">\n",
              "                    Figure\n",
              "                </div>\n",
              "                <img src='data:image/png;base64,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' width=640.0/>\n",
              "            </div>\n",
              "        "
            ],
            "application/vnd.jupyter.widget-view+json": {
              "version_major": 2,
              "version_minor": 0,
              "model_id": "2bfd7499fbf741809e72dce238ed0e94"
            }
          },
          "metadata": {
            "application/vnd.jupyter.widget-view+json": {
              "colab": {
                "custom_widget_manager": {
                  "url": "https://ssl.gstatic.com/colaboratory-static/widgets/colab-cdn-widget-manager/b3e629b1971e1542/manager.min.js"
                }
              }
            }
          }
        }
      ]
    },
    {
      "cell_type": "code",
      "source": [],
      "metadata": {
        "id": "fGNzcB0SwF1H"
      },
      "execution_count": null,
      "outputs": []
    }
  ]
}