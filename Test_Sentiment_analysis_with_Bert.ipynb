{
  "nbformat": 4,
  "nbformat_minor": 0,
  "metadata": {
    "colab": {
      "provenance": [],
      "authorship_tag": "ABX9TyMHuOiI3VF3piuRwgttP5iJ",
      "include_colab_link": true
    },
    "kernelspec": {
      "name": "python3",
      "display_name": "Python 3"
    },
    "language_info": {
      "name": "python"
    }
  },
  "cells": [
    {
      "cell_type": "markdown",
      "metadata": {
        "id": "view-in-github",
        "colab_type": "text"
      },
      "source": [
        "<a href=\"https://colab.research.google.com/github/didi64/Colab_Test/blob/main/Test_Sentiment_analysis_with_Bert.ipynb\" target=\"_parent\"><img src=\"https://colab.research.google.com/assets/colab-badge.svg\" alt=\"Open In Colab\"/></a>"
      ]
    },
    {
      "cell_type": "markdown",
      "source": [
        "### Exercise 1\n",
        "Consider only reviews, where\n",
        "- the positive and negative part consists of at least 10 words,\n",
        "- the reviewer's nationality is  'United Kingdom',\n",
        "- the hotel has atleast 300 reviews.\n",
        "\n",
        "Select n random reviews from each hotel and write  these reviews to a file."
      ],
      "metadata": {
        "id": "VPLM9mqjreHa"
      }
    },
    {
      "cell_type": "code",
      "source": [
        "import pandas as pd\n",
        "import csv\n",
        "from google.colab import drive\n",
        "drive.mount('/content/drive', force_remount=True)\n",
        "SEED = 123"
      ],
      "metadata": {
        "colab": {
          "base_uri": "https://localhost:8080/"
        },
        "id": "qUMBPHHZrmtg",
        "outputId": "f4ed999f-247c-4295-ee5d-6202c2451abe"
      },
      "execution_count": null,
      "outputs": [
        {
          "output_type": "stream",
          "name": "stdout",
          "text": [
            "Mounted at /content/drive\n"
          ]
        }
      ]
    },
    {
      "cell_type": "code",
      "source": [
        "root = '/content/drive/My Drive/CAS_Gregi/'\n",
        "fn = root + 'data/Hotel_Reviews.csv'\n",
        "df = pd.read_csv(fn)\n",
        "df.columns"
      ],
      "metadata": {
        "colab": {
          "base_uri": "https://localhost:8080/"
        },
        "id": "aRc9QT0grsGz",
        "outputId": "ec2fab3d-5082-4f20-b261-0e32615d3a16"
      },
      "execution_count": null,
      "outputs": [
        {
          "output_type": "execute_result",
          "data": {
            "text/plain": [
              "Index(['Hotel_Address', 'Additional_Number_of_Scoring', 'Review_Date',\n",
              "       'Average_Score', 'Hotel_Name', 'Reviewer_Nationality',\n",
              "       'Negative_Review', 'Review_Total_Negative_Word_Counts',\n",
              "       'Total_Number_of_Reviews', 'Positive_Review',\n",
              "       'Review_Total_Positive_Word_Counts',\n",
              "       'Total_Number_of_Reviews_Reviewer_Has_Given', 'Reviewer_Score', 'Tags',\n",
              "       'days_since_review', 'lat', 'lng'],\n",
              "      dtype='object')"
            ]
          },
          "metadata": {},
          "execution_count": 7
        }
      ]
    },
    {
      "cell_type": "code",
      "source": [
        "def get_selection(df, reviewer_nationality = 'United Kingdom', min_review_len = 10, min_n_review = 300):\n",
        "    '''returns a df with reviews where\n",
        "        - the positive and negative part consists of at least min_review_len words,\n",
        "        - the reviewer's nationality is  reviewer_nationality,\n",
        "        - the hotel has atleast min_n_review reviews.\n",
        "\n",
        "       result is a df, sorted by the added col  'Total_Reviews_for_Hotel'\n",
        "    '''\n",
        "    # cols that are returned\n",
        "    cols = ['Hotel_Name', 'Negative_Review', 'Positive_Review', 'Reviewer_Score']\n",
        "\n",
        "    cond1 = df['Reviewer_Nationality'].str.contains('United Kingdom', case = False)\n",
        "    cond2 = df['Review_Total_Negative_Word_Counts'] > min_review_len\n",
        "    cond3 = df['Review_Total_Positive_Word_Counts'] > min_review_len\n",
        "\n",
        "    pre_selection = df[cond1 & cond2 & cond3]\n",
        "    pre_selection._is_copy = None # to avoid false SettingWithCopyWarning\n",
        "\n",
        "    pre_selection['Total_Reviews_for_Hotel'] = pre_selection.groupby('Hotel_Name')['Hotel_Name'].transform('size')\n",
        "    selection = pre_selection[pre_selection['Total_Reviews_for_Hotel'] >= min_n_review]\\\n",
        "                .sort_values('Total_Reviews_for_Hotel', ascending=False)\n",
        "\n",
        "    return selection[cols]\n",
        "\n",
        "def get_random_reviews(selection, n = 10, seed = SEED):\n",
        "    '''returns n random reviews from each hotel as list of lists'''\n",
        "\n",
        "    reviews = [list(selection.columns)]\n",
        "\n",
        "    hotels = set(selection['Hotel_Name'])\n",
        "\n",
        "    for hotel in  hotels:\n",
        "        df_hotel = selection[selection['Hotel_Name'] ==  hotel]\n",
        "        df_reviews = df_hotel.sample(n=n, random_state = seed)\n",
        "        reviews.extend(df_reviews.values.tolist())\n",
        "\n",
        "    return reviews\n",
        "\n",
        "def reviews2csv(reviews, fn):\n",
        "    with open(fn, mode = 'w', newline = '') as f:\n",
        "        writer = csv.writer(f, delimiter = ',', quotechar = '\"', quoting = csv.QUOTE_MINIMAL)\n",
        "        for row in reviews:\n",
        "            writer.writerow(row)"
      ],
      "metadata": {
        "id": "HkWET6TishJi"
      },
      "execution_count": null,
      "outputs": []
    },
    {
      "cell_type": "code",
      "source": [
        "fn = root + 'data/some_reviews.csv'\n",
        "cols = ['Hotel_Name', 'Reviewer_Nationality', 'Negative_Review',\n",
        "          'Review_Total_Negative_Word_Counts', 'Positive_Review',\n",
        "          'Review_Total_Positive_Word_Counts','Reviewer_Score']\n",
        "\n",
        "selection = get_selection(df[cols])\n",
        "reviews = get_random_reviews(selection, n = 10)\n",
        "reviews2csv(reviews, fn)"
      ],
      "metadata": {
        "id": "QZH--XJUtlj6"
      },
      "execution_count": null,
      "outputs": []
    },
    {
      "cell_type": "code",
      "source": [
        "df1 =   pd.read_csv(fn)\n",
        "df1.head()"
      ],
      "metadata": {
        "id": "TrFdM02xuFZ2"
      },
      "execution_count": null,
      "outputs": []
    },
    {
      "cell_type": "code",
      "source": [],
      "metadata": {
        "id": "NZ2M_DiJuLTz"
      },
      "execution_count": null,
      "outputs": []
    }
  ]
}